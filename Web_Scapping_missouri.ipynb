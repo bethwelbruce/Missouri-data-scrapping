{
 "cells": [
  {
   "cell_type": "code",
   "execution_count": 119,
   "id": "b00c3677",
   "metadata": {},
   "outputs": [],
   "source": [
    "from urllib.request import urlopen\n",
    "import requests \n",
    "from bs4 import BeautifulSoup as BS\n",
    "import re\n",
    "import pandas as pd\n",
    "import numpy as np\n",
    "from collections import defaultdict\n",
    "import seaborn as sns\n"
   ]
  },
  {
   "cell_type": "code",
   "execution_count": 120,
   "id": "12a4ff24",
   "metadata": {},
   "outputs": [],
   "source": [
    "req_headers = {\n",
    "    'accept': '*/*',\n",
    "    'accept-encoding': 'gzip, deflate, br',\n",
    "    'accept-language': 'en-US,en;q=0.8',\n",
    "    'upgrade-insecure-requests': '1',\n",
    "    'authority': 'www.redfin.com',\n",
    "    'user-agent': 'Mozilla/5.0 (Macintosh; Intel Mac OS X 10_15_7) AppleWebKit/537.36 (KHTML, like Gecko) Chrome/105.0.0.0 Safari/537.36',\n",
    "    'cookie': 'RF_BROWSER_ID=L60AjcauTBebcYlIR2U4kw; RF_BID_UPDATED=1; G_ENABLED_IDPS=google; RF_VISITED=true; searchMode=1; sortOrder=1; sortOption=special_blend; collapsedMapView=1; unifiedLastSearch=name%3DSan%2520Jose%26subName%3DSan%2520Jose%252C%2520CA%252C%2520USA%26url%3D%252Fcity%252F17420%252FCA%252FSan-Jose%26id%3D2_17420%26type%3D2%26unifiedSearchType%3D2%26isSavedSearch%3D%26countryCode%3DUS; RF_MARKET=sanfrancisco; RF_BUSINESS_MARKET=2; userPreferences=parcels%3Dtrue%26schools%3Dfalse%26mapStyle%3Ds%26statistics%3Dtrue%26agcTooltip%3Dfalse%26agentReset%3Dfalse%26ldpRegister%3Dfalse%26afCard%3D2%26schoolType%3D0%26lastSeenLdp%3DnoSharedSearchCookie%26viewedSwipeableHomeCardsDate%3D1663615482894; RF_HOT_MARKET=%7B%22lastPromptedDate%22%3A1663622678439%2C%22expiration%22%3A1664160906220%2C%22promptedTimes%22%3A2%7D; RF_UNBLOCK_ID=AkKegX94; RF_CORVAIR_LAST_VERSION=437.1.0; RF_LAST_NAV=1; g_state={\"i_p\":1664477071453,\"i_l\":3}; FEED_TIMESTAMP=1663872301375; RF_LAST_SEARCHED_CITY=San%20Jose; RF_LISTING_VIEWS=157190844.156904928.156448970.157168473.157119319.153865147.156376334.157161427.157135189.157099478.156597405.156758795.157151930; RF_LAST_DP_SERVICE_REGION=482; RF_LDP_VIEWS_FOR_PROMPT=%7B%22viewsData%22%3A%7B%2209-18-2022%22%3A%7B%22156376334%22%3A2%2C%22156597405%22%3A1%2C%22156758795%22%3A1%2C%22157099478%22%3A1%2C%22157135189%22%3A1%2C%22157151930%22%3A1%2C%22157161427%22%3A3%7D%2C%2209-19-2022%22%3A%7B%22153865147%22%3A1%2C%22157119319%22%3A2%2C%22157168473%22%3A1%7D%2C%2209-20-2022%22%3A%7B%22156448970%22%3A1%2C%22156904928%22%3A1%7D%2C%2209-22-2022%22%3A%7B%22157190844%22%3A2%7D%7D%2C%22expiration%22%3A%222024-09-17T20%3A50%3A26.681Z%22%2C%22totalPromptedLdps%22%3A0%7D; AKA_A2=A; ak_bmsc=9FF122CA17FE1E89A4458C649939DF87~000000000000000000000000000000~YAAQnfEPFxH1VD+DAQAAoVfmZxHPjQWmo2t3O/XTqvZ/1SVHhr+yFLW5o0kAXot+yWYoruCrNpO3ccw5Bx/zungOUzZKcpBy1KVuHH+X484s3BoEKaMoE1BDQycWtMLopRe9kHeTaDkbosq6n2f08nxVacsMWMb+km4w8n0rWNpp5WYqxpJ4vwkgE+uAGoK2TcrprnZqO78lvCJHf97qwokJsjnMnQ59AsrzYktY7KcMvfaM2g3jh9uXhOKM5qlJeqqd+djVlMbQXzUnXt0RQ0AsIbrKpm3nPgT8Cvv4Yd0NGt7RM4M2tanq5vUjJIyvLX6XYURZGxl+QKV59gOi3mLen6e7T+LT58mkciEPt/jdXMn8c9qrDltYRZsQs99CudJdOzsfUWsiQaE=; audS=t; FEED_COUNT=%5B%229%22%2C%22f%22%5D; RF_BROWSER_CAPABILITIES=%7B%22screen-size%22%3A3%2C%22events-touch%22%3Afalse%2C%22ios-app-store%22%3Afalse%2C%22google-play-store%22%3Afalse%2C%22ios-web-view%22%3Afalse%2C%22android-web-view%22%3Afalse%7D; bm_mi=4159B310D72863C613F00E892833EFE6~YAAQnfEPF533VD+DAQAAsX3mZxFRqu7J+Yy1t52a26eVRiEDcZ1/wHmcZEsRYuhhMhPzyZBcTtSqQ+kf4ul+LqLPAVqrMD5SrZDjpwpgFb/sMJKATQqf7eE2co+Iqlt8tAZmrvLxVRttLgjMY69wkhZh3TJQBAIp5ps6k4aN7XvPWcm2VdnEA73z0Qh4DIINJ7N50EwvX0kPDWujY3EziiW313Z/P7aeXgjQfMeX5RN+lvPOnb+57eiNUPFuDpofVMAmk3Y7UO0iF762Nq2mvY1CleGGBPqmAi5XcPxO6fD3vPk6Zw2wLT/ii9nR3g==~1; bm_sv=D3347A4C765D52735869E81D6328C1D9~YAAQnfEPF573VD+DAQAAsX3mZxE41YEsMfn7RBl/6FsepnyqN8/sn0Fg9ZwhL+Ii8SxmSJvDzuHByr/PtoyiEdHTjhT3rhXN85jdDoyu7w12HoC2jUF25Sqm3JYGk7eoCs4XP0ibWuXPgf0XCzV8XYYjh3re9aITggLT3PjWu0spjSJH+MeykR3Z+2/B/THfZF6iistglIH0pgVSaQKogvcEeYphrRM6hncmdDEDBX26V5+DjewBumdroAtAACl8~1',\n",
    "    'referer': 'https://www.redfin.com/',\n",
    "    'sec-ch-ua': '\"Google Chrome\";v=\"105\", \"Not)A;Brand\";v=\"8\", \"Chromium\";v=\"105\"',\n",
    "    'sec-ch-ua-mobile': '?0',\n",
    "    'sec-ch-ua-platform': '\"macOS\"',\n",
    "    'sec-fetch-dest': 'empty',\n",
    "    'sec-fetch-mode': 'cors',\n",
    "    'sec-fetch-site': 'same-origin'\n",
    "}"
   ]
  },
  {
   "cell_type": "code",
   "execution_count": 121,
   "id": "ec137619",
   "metadata": {},
   "outputs": [],
   "source": [
    "url = \"https://www.redfin.com/state/Missouri\"\n",
    "r = requests.Session().get(url, headers=req_headers)\n",
    "soup = BS(r.content, 'html.parser')"
   ]
  },
  {
   "cell_type": "code",
   "execution_count": 122,
   "id": "e460ade6",
   "metadata": {},
   "outputs": [
    {
     "data": {
      "text/plain": [
       "['/',\n",
       " '/houses-near-me',\n",
       " '/rentals',\n",
       " '/myredfin/agent',\n",
       " '/feed',\n",
       " '/myredfin/favorites',\n",
       " '/premier',\n",
       " '/sell-a-home/address?inquirySource=285',\n",
       " '/rentals/list-my-home-for-rent',\n",
       " 'https://redfin.onelink.me/iy7h/jj3daydf',\n",
       " '/',\n",
       " '/myredfin/saved-searches',\n",
       " '/why-sell',\n",
       " '/myredfin/owner-dashboard',\n",
       " '/myredfin/openhouses',\n",
       " '/myredfin/tours',\n",
       " '/mortgage-menu',\n",
       " '/careers/real-estate',\n",
       " '/myredfin/notification-settings',\n",
       " 'tel:1-844-759-7732',\n",
       " 'tel:1-844-759-7732',\n",
       " '/houses-near-me',\n",
       " '/houses-near-me',\n",
       " '/condos-near-me',\n",
       " '/land-near-me',\n",
       " '/open-houses-near-me',\n",
       " '/why-buy',\n",
       " '/premier',\n",
       " '/how-much-house-can-i-afford',\n",
       " '/guides/buy',\n",
       " '/buy-a-home/openbook',\n",
       " '/buy-a-home/classes-and-events',\n",
       " '/us-housing-market',\n",
       " '/rentals',\n",
       " '/rentals/list-my-home-for-rent',\n",
       " '/city/17420/CA/San-Jose/rental-market',\n",
       " '/news/rental-tracker/',\n",
       " '/how-much-rent-can-i-afford',\n",
       " '/guides/renting-vs-buying-a-house',\n",
       " '/guides/first-time-renters-guide',\n",
       " '/why-sell?inquirySource=484',\n",
       " '/what-is-my-home-worth',\n",
       " '/what-is-my-home-worth',\n",
       " '/why-sell?inquirySource=484',\n",
       " '/premier?inquirySource=515',\n",
       " '/sell-a-home/address?inquirySource=484',\n",
       " '/real-estate-agents?nav=sell',\n",
       " '/guides/sell/resources',\n",
       " '/sell-a-home/home-sale-proceeds-calculator',\n",
       " '/sell-a-home/openbook',\n",
       " '/us-home-trends',\n",
       " '/premier',\n",
       " '/mortgage-get-pre-approved?context=82',\n",
       " '/mortgage-get-pre-approved?context=82',\n",
       " '/todays-mortgage-rates',\n",
       " '/mortgage-calculator',\n",
       " '/mortgage?loan_attr=redfin_site_nav_menu',\n",
       " '/real-estate-agents',\n",
       " '/real-estate-agents',\n",
       " '/careers/real-estate',\n",
       " '/partner',\n",
       " '/guides/agent-resources',\n",
       " '/feed',\n",
       " '/state/Missouri/housing-market',\n",
       " 'https://www.redfin.com/city/35751/MO/Kansas-City',\n",
       " 'https://www.redfin.com/city/35751/MO/Kansas-City',\n",
       " 'https://www.redfin.com/city/16661/MO/St-Louis',\n",
       " 'https://www.redfin.com/city/16661/MO/St-Louis',\n",
       " 'https://www.redfin.com/city/10535/MO/Lee-s-Summit',\n",
       " 'https://www.redfin.com/city/10535/MO/Lee-s-Summit',\n",
       " 'https://www.redfin.com/city/16428/MO/St-Charles',\n",
       " 'https://www.redfin.com/city/16428/MO/St-Charles',\n",
       " 'https://www.redfin.com/city/3544/MO/Chesterfield',\n",
       " 'https://www.redfin.com/city/3544/MO/Chesterfield',\n",
       " 'https://www.redfin.com/city/9905/MO/Kirkwood',\n",
       " 'https://www.redfin.com/city/9905/MO/Kirkwood',\n",
       " 'https://www.redfin.com/city/843/MO/Ballwin',\n",
       " 'https://www.redfin.com/city/843/MO/Ballwin',\n",
       " 'https://www.redfin.com/city/14004/MO/O-Fallon',\n",
       " 'https://www.redfin.com/city/14004/MO/O-Fallon',\n",
       " '/city/35751/MO/Kansas-City',\n",
       " '/city/16661/MO/St-Louis',\n",
       " '/city/10535/MO/Lee-s-Summit',\n",
       " '/city/16428/MO/St-Charles',\n",
       " '/city/3544/MO/Chesterfield',\n",
       " '/city/9905/MO/Kirkwood',\n",
       " '/city/843/MO/Ballwin',\n",
       " '/city/14004/MO/O-Fallon',\n",
       " '/city/1743/MO/Blue-Springs',\n",
       " '/city/8906/MO/Independence',\n",
       " '/city/17886/MO/Springfield',\n",
       " '/city/19712/MO/Webster-Groves',\n",
       " '/city/16702/MO/St-Peters',\n",
       " '/city/4058/MO/Columbia',\n",
       " '/city/20054/MO/Wildwood',\n",
       " '/city/3780/MO/Clayton',\n",
       " '/city/2056/MO/Branson',\n",
       " '/city/10699/MO/Liberty',\n",
       " '/city/10092/MO/Ladue',\n",
       " '/city/4488/MO/Creve-Coeur',\n",
       " 'https://www.redfin.com/county/1695/MO/St-Louis-County',\n",
       " 'https://www.redfin.com/county/1695/MO/St-Louis-County',\n",
       " 'https://www.redfin.com/county/1691/MO/St-Charles-County',\n",
       " 'https://www.redfin.com/county/1691/MO/St-Charles-County',\n",
       " 'https://www.redfin.com/county/1649/MO/Jefferson-County',\n",
       " 'https://www.redfin.com/county/1649/MO/Jefferson-County',\n",
       " 'https://www.redfin.com/county/1647/MO/Jackson-County',\n",
       " 'https://www.redfin.com/county/1647/MO/Jackson-County',\n",
       " 'https://www.redfin.com/county/1623/MO/Clay-County',\n",
       " 'https://www.redfin.com/county/1623/MO/Clay-County',\n",
       " 'https://www.redfin.com/county/1635/MO/Franklin-County',\n",
       " 'https://www.redfin.com/county/1635/MO/Franklin-County',\n",
       " 'https://www.redfin.com/county/1682/MO/Platte-County',\n",
       " 'https://www.redfin.com/county/1682/MO/Platte-County',\n",
       " 'https://www.redfin.com/county/1656/MO/Lincoln-County',\n",
       " 'https://www.redfin.com/county/1656/MO/Lincoln-County',\n",
       " 'https://www.redfin.com/county/1618/MO/Cass-County',\n",
       " 'https://www.redfin.com/county/1618/MO/Cass-County',\n",
       " 'https://www.redfin.com/county/1708/MO/Warren-County',\n",
       " 'https://www.redfin.com/county/1708/MO/Warren-County',\n",
       " 'https://www.redfin.com/county/1627/MO/Crawford-County',\n",
       " 'https://www.redfin.com/county/1627/MO/Crawford-County',\n",
       " 'https://www.redfin.com/county/1714/MO/St-Louis-City',\n",
       " 'https://www.redfin.com/county/1714/MO/St-Louis-City',\n",
       " 'https://www.redfin.com/county/1650/MO/Johnson-County',\n",
       " 'https://www.redfin.com/county/1650/MO/Johnson-County',\n",
       " 'https://www.redfin.com/county/1638/MO/Greene-County',\n",
       " 'https://www.redfin.com/county/1638/MO/Greene-County',\n",
       " 'https://www.redfin.com/county/1610/MO/Buchanan-County',\n",
       " 'https://www.redfin.com/county/1610/MO/Buchanan-County',\n",
       " 'https://www.redfin.com',\n",
       " 'https://www.redfin.com/state/Missouri',\n",
       " '/state/Missouri/apartments-for-rent',\n",
       " '/state/Missouri/houses-for-rent',\n",
       " '/state/Missouri/cheap-homes',\n",
       " '/state/Missouri/single-story',\n",
       " '/state/Missouri/land',\n",
       " '/state/Missouri/vintage',\n",
       " '/state/Missouri/new-listings',\n",
       " '/state/Missouri/pools',\n",
       " '/state/Missouri/new-homes',\n",
       " '/state/Missouri/luxury-homes',\n",
       " '/state/Missouri/waterfront',\n",
       " '/state/Missouri/condos',\n",
       " '/state/Missouri/multi-family-homes-for-sale',\n",
       " '/state/Missouri/fixer-upper',\n",
       " '/state/Missouri/townhouses',\n",
       " '/state/Missouri/open-houses',\n",
       " '/houses-near-me',\n",
       " '/land-near-me',\n",
       " '/open-houses-near-me',\n",
       " '/condos-near-me',\n",
       " '/realtors-near-me',\n",
       " 'https://www.facebook.com/redfin',\n",
       " 'https://twitter.com/Redfin',\n",
       " 'https://www.pinterest.com/redfin/',\n",
       " 'https://www.instagram.com/redfinrealestate/',\n",
       " 'https://www.redfin.ca',\n",
       " '/about/terms-of-use',\n",
       " '/about/privacy-policy',\n",
       " '/about/privacy/cookie',\n",
       " 'https://redfin.widen.net/s/c2njc52hnk/redfin_new-york-standardized-operating-procedures',\n",
       " 'https://ssl.cdn-redfin.com/v500.2.0/images/nm-licenses/redfin_new_mexico_licenses.pdf',\n",
       " 'https://ssl.cdn-redfin.com/v500.2.0/images/about/ibs-statement/texas.pdf',\n",
       " 'https://www.trec.texas.gov/forms/consumer-protection-notice',\n",
       " 'tel:1-844-759-7732',\n",
       " '/about/terms-of-use#Equal_Housing_Opportunity',\n",
       " '/about/fair-housing-policy',\n",
       " 'https://www.dos.ny.gov/licensing/docs/FairHousingNotice_new.pdf']"
      ]
     },
     "execution_count": 122,
     "metadata": {},
     "output_type": "execute_result"
    }
   ],
   "source": [
    "all_urls = [a['href'] for a in soup('a')  if a.has_attr('href')]\n",
    "all_urls"
   ]
  },
  {
   "cell_type": "code",
   "execution_count": 123,
   "id": "b13f2191",
   "metadata": {},
   "outputs": [
    {
     "data": {
      "text/plain": [
       "['https://www.redfin.com/county/1691/MO/St-Charles-County',\n",
       " 'https://www.redfin.com/county/1623/MO/Clay-County',\n",
       " 'https://www.redfin.com/county/1610/MO/Buchanan-County',\n",
       " 'https://www.redfin.com/county/1708/MO/Warren-County',\n",
       " 'https://www.redfin.com/county/1627/MO/Crawford-County',\n",
       " 'https://www.redfin.com/county/1714/MO/St-Louis-City',\n",
       " 'https://www.redfin.com/county/1649/MO/Jefferson-County',\n",
       " 'https://www.redfin.com/county/1682/MO/Platte-County',\n",
       " 'https://www.redfin.com/county/1656/MO/Lincoln-County',\n",
       " 'https://www.redfin.com/county/1635/MO/Franklin-County',\n",
       " 'https://www.redfin.com/county/1647/MO/Jackson-County',\n",
       " 'https://www.redfin.com/county/1695/MO/St-Louis-County',\n",
       " 'https://www.redfin.com/county/1638/MO/Greene-County',\n",
       " 'https://www.redfin.com/county/1618/MO/Cass-County',\n",
       " 'https://www.redfin.com/county/1650/MO/Johnson-County']"
      ]
     },
     "execution_count": 123,
     "metadata": {},
     "output_type": "execute_result"
    }
   ],
   "source": [
    "regex = r\"https://www.redfin.com/county/?\"\n",
    "good_urls = [url for url in all_urls if re.match(regex, url)]\n",
    "good_urls = list(set(good_urls))\n",
    "good_urls"
   ]
  },
  {
   "cell_type": "code",
   "execution_count": 124,
   "id": "0f95ddff",
   "metadata": {},
   "outputs": [
    {
     "data": {
      "text/plain": [
       "['https://www.redfin.com/county/1691/MO/St-Charles-County',\n",
       " 'https://www.redfin.com/county/1623/MO/Clay-County',\n",
       " 'https://www.redfin.com/county/1610/MO/Buchanan-County',\n",
       " 'https://www.redfin.com/county/1708/MO/Warren-County',\n",
       " 'https://www.redfin.com/county/1627/MO/Crawford-County',\n",
       " 'https://www.redfin.com/county/1714/MO/St-Louis-City',\n",
       " 'https://www.redfin.com/county/1649/MO/Jefferson-County',\n",
       " 'https://www.redfin.com/county/1682/MO/Platte-County',\n",
       " 'https://www.redfin.com/county/1656/MO/Lincoln-County',\n",
       " 'https://www.redfin.com/county/1635/MO/Franklin-County',\n",
       " 'https://www.redfin.com/county/1647/MO/Jackson-County',\n",
       " 'https://www.redfin.com/county/1695/MO/St-Louis-County',\n",
       " 'https://www.redfin.com/county/1638/MO/Greene-County',\n",
       " 'https://www.redfin.com/county/1618/MO/Cass-County',\n",
       " 'https://www.redfin.com/county/1650/MO/Johnson-County']"
      ]
     },
     "execution_count": 124,
     "metadata": {},
     "output_type": "execute_result"
    }
   ],
   "source": [
    "missouri_county_list = []\n",
    "missouri_counties = [\"St-Charles-County\",\"Clay-County\",\"Buchanan-County\",\"Warren-County\",\"Crawford-County\",\"St-Louis-City\",\"Jefferson-County\",\"Platte-County\",\"Lincoln-County\",\n",
    "                    \"Franklin-County\",\"Jackson-County\",\"St-Louis-County\",\"Greene-County\",\"Cass-County\",\"Johnson-County\"]\n",
    "for url in good_urls:\n",
    "    if url.split(\"/\")[6] in missouri_counties:\n",
    "        missouri_county_list.append(url)\n",
    "missouri_county_list"
   ]
  },
  {
   "cell_type": "code",
   "execution_count": 125,
   "id": "b4a797b0",
   "metadata": {},
   "outputs": [
    {
     "name": "stdout",
     "output_type": "stream",
     "text": [
      "210\n",
      "['https://www.redfin.com/county/1691/MO/St-Charles-County', 'https://www.redfin.com/county/1691/MO/St-Charles-County/page-2', 'https://www.redfin.com/county/1691/MO/St-Charles-County/page-3', 'https://www.redfin.com/county/1691/MO/St-Charles-County/page-4', 'https://www.redfin.com/county/1691/MO/St-Charles-County/page-5', 'https://www.redfin.com/county/1691/MO/St-Charles-County/page-6', 'https://www.redfin.com/county/1691/MO/St-Charles-County/page-7', 'https://www.redfin.com/county/1691/MO/St-Charles-County/page-8', 'https://www.redfin.com/county/1691/MO/St-Charles-County/page-9', 'https://www.redfin.com/county/1691/MO/St-Charles-County/page-10', 'https://www.redfin.com/county/1691/MO/St-Charles-County/page-11', 'https://www.redfin.com/county/1691/MO/St-Charles-County/page-12', 'https://www.redfin.com/county/1691/MO/St-Charles-County/page-13', 'https://www.redfin.com/county/1691/MO/St-Charles-County/page-14', 'https://www.redfin.com/county/1623/MO/Clay-County', 'https://www.redfin.com/county/1623/MO/Clay-County/page-2', 'https://www.redfin.com/county/1623/MO/Clay-County/page-3', 'https://www.redfin.com/county/1623/MO/Clay-County/page-4', 'https://www.redfin.com/county/1623/MO/Clay-County/page-5', 'https://www.redfin.com/county/1623/MO/Clay-County/page-6', 'https://www.redfin.com/county/1623/MO/Clay-County/page-7', 'https://www.redfin.com/county/1623/MO/Clay-County/page-8', 'https://www.redfin.com/county/1623/MO/Clay-County/page-9', 'https://www.redfin.com/county/1623/MO/Clay-County/page-10', 'https://www.redfin.com/county/1623/MO/Clay-County/page-11', 'https://www.redfin.com/county/1623/MO/Clay-County/page-12', 'https://www.redfin.com/county/1623/MO/Clay-County/page-13', 'https://www.redfin.com/county/1623/MO/Clay-County/page-14', 'https://www.redfin.com/county/1610/MO/Buchanan-County', 'https://www.redfin.com/county/1610/MO/Buchanan-County/page-2', 'https://www.redfin.com/county/1610/MO/Buchanan-County/page-3', 'https://www.redfin.com/county/1610/MO/Buchanan-County/page-4', 'https://www.redfin.com/county/1610/MO/Buchanan-County/page-5', 'https://www.redfin.com/county/1610/MO/Buchanan-County/page-6', 'https://www.redfin.com/county/1610/MO/Buchanan-County/page-7', 'https://www.redfin.com/county/1610/MO/Buchanan-County/page-8', 'https://www.redfin.com/county/1610/MO/Buchanan-County/page-9', 'https://www.redfin.com/county/1610/MO/Buchanan-County/page-10', 'https://www.redfin.com/county/1610/MO/Buchanan-County/page-11', 'https://www.redfin.com/county/1610/MO/Buchanan-County/page-12', 'https://www.redfin.com/county/1610/MO/Buchanan-County/page-13', 'https://www.redfin.com/county/1610/MO/Buchanan-County/page-14', 'https://www.redfin.com/county/1708/MO/Warren-County', 'https://www.redfin.com/county/1708/MO/Warren-County/page-2', 'https://www.redfin.com/county/1708/MO/Warren-County/page-3', 'https://www.redfin.com/county/1708/MO/Warren-County/page-4', 'https://www.redfin.com/county/1708/MO/Warren-County/page-5', 'https://www.redfin.com/county/1708/MO/Warren-County/page-6', 'https://www.redfin.com/county/1708/MO/Warren-County/page-7', 'https://www.redfin.com/county/1708/MO/Warren-County/page-8', 'https://www.redfin.com/county/1708/MO/Warren-County/page-9', 'https://www.redfin.com/county/1708/MO/Warren-County/page-10', 'https://www.redfin.com/county/1708/MO/Warren-County/page-11', 'https://www.redfin.com/county/1708/MO/Warren-County/page-12', 'https://www.redfin.com/county/1708/MO/Warren-County/page-13', 'https://www.redfin.com/county/1708/MO/Warren-County/page-14', 'https://www.redfin.com/county/1627/MO/Crawford-County', 'https://www.redfin.com/county/1627/MO/Crawford-County/page-2', 'https://www.redfin.com/county/1627/MO/Crawford-County/page-3', 'https://www.redfin.com/county/1627/MO/Crawford-County/page-4', 'https://www.redfin.com/county/1627/MO/Crawford-County/page-5', 'https://www.redfin.com/county/1627/MO/Crawford-County/page-6', 'https://www.redfin.com/county/1627/MO/Crawford-County/page-7', 'https://www.redfin.com/county/1627/MO/Crawford-County/page-8', 'https://www.redfin.com/county/1627/MO/Crawford-County/page-9', 'https://www.redfin.com/county/1627/MO/Crawford-County/page-10', 'https://www.redfin.com/county/1627/MO/Crawford-County/page-11', 'https://www.redfin.com/county/1627/MO/Crawford-County/page-12', 'https://www.redfin.com/county/1627/MO/Crawford-County/page-13', 'https://www.redfin.com/county/1627/MO/Crawford-County/page-14', 'https://www.redfin.com/county/1714/MO/St-Louis-City', 'https://www.redfin.com/county/1714/MO/St-Louis-City/page-2', 'https://www.redfin.com/county/1714/MO/St-Louis-City/page-3', 'https://www.redfin.com/county/1714/MO/St-Louis-City/page-4', 'https://www.redfin.com/county/1714/MO/St-Louis-City/page-5', 'https://www.redfin.com/county/1714/MO/St-Louis-City/page-6', 'https://www.redfin.com/county/1714/MO/St-Louis-City/page-7', 'https://www.redfin.com/county/1714/MO/St-Louis-City/page-8', 'https://www.redfin.com/county/1714/MO/St-Louis-City/page-9', 'https://www.redfin.com/county/1714/MO/St-Louis-City/page-10', 'https://www.redfin.com/county/1714/MO/St-Louis-City/page-11', 'https://www.redfin.com/county/1714/MO/St-Louis-City/page-12', 'https://www.redfin.com/county/1714/MO/St-Louis-City/page-13', 'https://www.redfin.com/county/1714/MO/St-Louis-City/page-14', 'https://www.redfin.com/county/1649/MO/Jefferson-County', 'https://www.redfin.com/county/1649/MO/Jefferson-County/page-2', 'https://www.redfin.com/county/1649/MO/Jefferson-County/page-3', 'https://www.redfin.com/county/1649/MO/Jefferson-County/page-4', 'https://www.redfin.com/county/1649/MO/Jefferson-County/page-5', 'https://www.redfin.com/county/1649/MO/Jefferson-County/page-6', 'https://www.redfin.com/county/1649/MO/Jefferson-County/page-7', 'https://www.redfin.com/county/1649/MO/Jefferson-County/page-8', 'https://www.redfin.com/county/1649/MO/Jefferson-County/page-9', 'https://www.redfin.com/county/1649/MO/Jefferson-County/page-10', 'https://www.redfin.com/county/1649/MO/Jefferson-County/page-11', 'https://www.redfin.com/county/1649/MO/Jefferson-County/page-12', 'https://www.redfin.com/county/1649/MO/Jefferson-County/page-13', 'https://www.redfin.com/county/1649/MO/Jefferson-County/page-14', 'https://www.redfin.com/county/1682/MO/Platte-County', 'https://www.redfin.com/county/1682/MO/Platte-County/page-2', 'https://www.redfin.com/county/1682/MO/Platte-County/page-3', 'https://www.redfin.com/county/1682/MO/Platte-County/page-4', 'https://www.redfin.com/county/1682/MO/Platte-County/page-5', 'https://www.redfin.com/county/1682/MO/Platte-County/page-6', 'https://www.redfin.com/county/1682/MO/Platte-County/page-7', 'https://www.redfin.com/county/1682/MO/Platte-County/page-8', 'https://www.redfin.com/county/1682/MO/Platte-County/page-9', 'https://www.redfin.com/county/1682/MO/Platte-County/page-10', 'https://www.redfin.com/county/1682/MO/Platte-County/page-11', 'https://www.redfin.com/county/1682/MO/Platte-County/page-12', 'https://www.redfin.com/county/1682/MO/Platte-County/page-13', 'https://www.redfin.com/county/1682/MO/Platte-County/page-14', 'https://www.redfin.com/county/1656/MO/Lincoln-County', 'https://www.redfin.com/county/1656/MO/Lincoln-County/page-2', 'https://www.redfin.com/county/1656/MO/Lincoln-County/page-3', 'https://www.redfin.com/county/1656/MO/Lincoln-County/page-4', 'https://www.redfin.com/county/1656/MO/Lincoln-County/page-5', 'https://www.redfin.com/county/1656/MO/Lincoln-County/page-6', 'https://www.redfin.com/county/1656/MO/Lincoln-County/page-7', 'https://www.redfin.com/county/1656/MO/Lincoln-County/page-8', 'https://www.redfin.com/county/1656/MO/Lincoln-County/page-9', 'https://www.redfin.com/county/1656/MO/Lincoln-County/page-10', 'https://www.redfin.com/county/1656/MO/Lincoln-County/page-11', 'https://www.redfin.com/county/1656/MO/Lincoln-County/page-12', 'https://www.redfin.com/county/1656/MO/Lincoln-County/page-13', 'https://www.redfin.com/county/1656/MO/Lincoln-County/page-14', 'https://www.redfin.com/county/1635/MO/Franklin-County', 'https://www.redfin.com/county/1635/MO/Franklin-County/page-2', 'https://www.redfin.com/county/1635/MO/Franklin-County/page-3', 'https://www.redfin.com/county/1635/MO/Franklin-County/page-4', 'https://www.redfin.com/county/1635/MO/Franklin-County/page-5', 'https://www.redfin.com/county/1635/MO/Franklin-County/page-6', 'https://www.redfin.com/county/1635/MO/Franklin-County/page-7', 'https://www.redfin.com/county/1635/MO/Franklin-County/page-8', 'https://www.redfin.com/county/1635/MO/Franklin-County/page-9', 'https://www.redfin.com/county/1635/MO/Franklin-County/page-10', 'https://www.redfin.com/county/1635/MO/Franklin-County/page-11', 'https://www.redfin.com/county/1635/MO/Franklin-County/page-12', 'https://www.redfin.com/county/1635/MO/Franklin-County/page-13', 'https://www.redfin.com/county/1635/MO/Franklin-County/page-14', 'https://www.redfin.com/county/1647/MO/Jackson-County', 'https://www.redfin.com/county/1647/MO/Jackson-County/page-2', 'https://www.redfin.com/county/1647/MO/Jackson-County/page-3', 'https://www.redfin.com/county/1647/MO/Jackson-County/page-4', 'https://www.redfin.com/county/1647/MO/Jackson-County/page-5', 'https://www.redfin.com/county/1647/MO/Jackson-County/page-6', 'https://www.redfin.com/county/1647/MO/Jackson-County/page-7', 'https://www.redfin.com/county/1647/MO/Jackson-County/page-8', 'https://www.redfin.com/county/1647/MO/Jackson-County/page-9', 'https://www.redfin.com/county/1647/MO/Jackson-County/page-10', 'https://www.redfin.com/county/1647/MO/Jackson-County/page-11', 'https://www.redfin.com/county/1647/MO/Jackson-County/page-12', 'https://www.redfin.com/county/1647/MO/Jackson-County/page-13', 'https://www.redfin.com/county/1647/MO/Jackson-County/page-14', 'https://www.redfin.com/county/1695/MO/St-Louis-County', 'https://www.redfin.com/county/1695/MO/St-Louis-County/page-2', 'https://www.redfin.com/county/1695/MO/St-Louis-County/page-3', 'https://www.redfin.com/county/1695/MO/St-Louis-County/page-4', 'https://www.redfin.com/county/1695/MO/St-Louis-County/page-5', 'https://www.redfin.com/county/1695/MO/St-Louis-County/page-6', 'https://www.redfin.com/county/1695/MO/St-Louis-County/page-7', 'https://www.redfin.com/county/1695/MO/St-Louis-County/page-8', 'https://www.redfin.com/county/1695/MO/St-Louis-County/page-9', 'https://www.redfin.com/county/1695/MO/St-Louis-County/page-10', 'https://www.redfin.com/county/1695/MO/St-Louis-County/page-11', 'https://www.redfin.com/county/1695/MO/St-Louis-County/page-12', 'https://www.redfin.com/county/1695/MO/St-Louis-County/page-13', 'https://www.redfin.com/county/1695/MO/St-Louis-County/page-14', 'https://www.redfin.com/county/1638/MO/Greene-County', 'https://www.redfin.com/county/1638/MO/Greene-County/page-2', 'https://www.redfin.com/county/1638/MO/Greene-County/page-3', 'https://www.redfin.com/county/1638/MO/Greene-County/page-4', 'https://www.redfin.com/county/1638/MO/Greene-County/page-5', 'https://www.redfin.com/county/1638/MO/Greene-County/page-6', 'https://www.redfin.com/county/1638/MO/Greene-County/page-7', 'https://www.redfin.com/county/1638/MO/Greene-County/page-8', 'https://www.redfin.com/county/1638/MO/Greene-County/page-9', 'https://www.redfin.com/county/1638/MO/Greene-County/page-10', 'https://www.redfin.com/county/1638/MO/Greene-County/page-11', 'https://www.redfin.com/county/1638/MO/Greene-County/page-12', 'https://www.redfin.com/county/1638/MO/Greene-County/page-13', 'https://www.redfin.com/county/1638/MO/Greene-County/page-14', 'https://www.redfin.com/county/1618/MO/Cass-County', 'https://www.redfin.com/county/1618/MO/Cass-County/page-2', 'https://www.redfin.com/county/1618/MO/Cass-County/page-3', 'https://www.redfin.com/county/1618/MO/Cass-County/page-4', 'https://www.redfin.com/county/1618/MO/Cass-County/page-5', 'https://www.redfin.com/county/1618/MO/Cass-County/page-6', 'https://www.redfin.com/county/1618/MO/Cass-County/page-7', 'https://www.redfin.com/county/1618/MO/Cass-County/page-8', 'https://www.redfin.com/county/1618/MO/Cass-County/page-9', 'https://www.redfin.com/county/1618/MO/Cass-County/page-10', 'https://www.redfin.com/county/1618/MO/Cass-County/page-11', 'https://www.redfin.com/county/1618/MO/Cass-County/page-12', 'https://www.redfin.com/county/1618/MO/Cass-County/page-13', 'https://www.redfin.com/county/1618/MO/Cass-County/page-14', 'https://www.redfin.com/county/1650/MO/Johnson-County', 'https://www.redfin.com/county/1650/MO/Johnson-County/page-2', 'https://www.redfin.com/county/1650/MO/Johnson-County/page-3', 'https://www.redfin.com/county/1650/MO/Johnson-County/page-4', 'https://www.redfin.com/county/1650/MO/Johnson-County/page-5', 'https://www.redfin.com/county/1650/MO/Johnson-County/page-6', 'https://www.redfin.com/county/1650/MO/Johnson-County/page-7', 'https://www.redfin.com/county/1650/MO/Johnson-County/page-8', 'https://www.redfin.com/county/1650/MO/Johnson-County/page-9', 'https://www.redfin.com/county/1650/MO/Johnson-County/page-10', 'https://www.redfin.com/county/1650/MO/Johnson-County/page-11', 'https://www.redfin.com/county/1650/MO/Johnson-County/page-12', 'https://www.redfin.com/county/1650/MO/Johnson-County/page-13', 'https://www.redfin.com/county/1650/MO/Johnson-County/page-14']\n"
     ]
    }
   ],
   "source": [
    "missouri_county_page_links =[]\n",
    "for c_l in missouri_county_list:\n",
    "    missouri_county_page_links.append(c_l)\n",
    "    for i in range(2,15):\n",
    "        missouri_county_page_links.append(c_l+'/page-'+str(i))\n",
    "print(len(missouri_county_page_links))        \n",
    "print(missouri_county_page_links)  "
   ]
  },
  {
   "cell_type": "code",
   "execution_count": 126,
   "id": "16e92ad0",
   "metadata": {},
   "outputs": [],
   "source": [
    "#!pip install html5lib"
   ]
  },
  {
   "cell_type": "code",
   "execution_count": 127,
   "id": "94afa6cf",
   "metadata": {},
   "outputs": [],
   "source": [
    "#!pip install lxml"
   ]
  },
  {
   "cell_type": "code",
   "execution_count": 128,
   "id": "be8f7a72",
   "metadata": {},
   "outputs": [
    {
     "name": "stdout",
     "output_type": "stream",
     "text": [
      "15\n",
      "defaultdict(<class 'set'>, {'St-Charles-County': {'https://www.redfin.com/MO/Saint-Charles/1148-Hall-St-63301/home/103350593', 'https://www.redfin.com/MO/Wentzville/402-Prairie-Creek-Dr-63385/home/103254091', 'https://www.redfin.com/MO/Saint-Peters/12-Michelle-Ln-63376/home/79930902', 'https://www.redfin.com/MO/Wentzville/2-W-Maple-St-63385/home/103344856', 'https://www.redfin.com/MO/O-Fallon/1917-Royal-Heir-Dr-63366/home/103276282', 'https://www.redfin.com/MO/Wentzville/509-Stonewolf-Creek-Dr-63385/home/168933360', 'https://www.redfin.com/MO/Saint-Peters/Harvest-Dr-63304/home/103334049', 'https://www.redfin.com/MO/Wentzville/334-Valley-Bluff-Dr-63385/home/188515629', 'https://www.redfin.com/MO/Wentzville/220-Bluegrass-Pasture-CT-63385/home/183669318', 'https://www.redfin.com/MO/Foristell/1639-Sneak-Rd-63348/home/180935739', 'https://www.redfin.com/MO/Wentzville/105-Brickyard-Pond-CT-63385/home/183669262', 'https://www.redfin.com/MO/Saint-Charles/525-Rebecca-Dr-63301/home/103345979', 'https://www.redfin.com/MO/O-Fallon/233-Kerry-Downs-Dr-63368/home/187914901', 'https://www.redfin.com/MO/Wentzville/907-Guthrie-Rd-63385/home/188088885', 'https://www.redfin.com/MO/Wentzville/523-Sunshine-Brook-Dr-63385/home/103251181', 'https://www.redfin.com/MO/Weldon-Spring/801-Kipling-Way-63304/unit-F/home/103313731', 'https://www.redfin.com/MO/Lake-St-Louis/2-Nottingham-at-Hawk-RDG-Unknown/home/187968999', 'https://www.redfin.com/MO/Saint-Charles/3954-Millers-Xing-63304/home/103302809', 'https://www.redfin.com/MO/Lake-Saint-Louis/342-Myna-Dr-63367/home/143242999', 'https://www.redfin.com/MO/O-Fallon/701-Clover-Ln-63366/home/103342595', 'https://www.redfin.com/MO/Saint-Charles/1670-Chapman-Ct-63303/home/103294514', 'https://www.redfin.com/MO/Saint-Charles/512-Jefferson-St-63301/home/103349059', 'https://www.redfin.com/MO/Wentzville/1010-Highland-Estates-Dr-63385/home/103329552', 'https://www.redfin.com/MO/Josephville/2201-Wilmes-Rd-63385/home/183688560', 'https://www.redfin.com/MO/Saint-Peters/761-Sugar-Glen-Dr-63376/unit-5/home/103293446', 'https://www.redfin.com/MO/Saint-Charles/3245-S-Mester-St-63301/home/62758114', 'https://www.redfin.com/MO/Saint-Charles/420-Quentin-Dr-63301/home/103345791', 'https://www.redfin.com/MO/Wentzville/40-Silo-Summit-Ct-63385/home/187851937', 'https://www.redfin.com/MO/Wentzville/147-Hockman-Dr-63385/home/62730406', 'https://www.redfin.com/MO/Wentzville/2-Aspen-Creek-Dr-63385/home/169899341', 'https://www.redfin.com/MO/O-Fallon/132-Cobble-Rd-63366/home/168292637', 'https://www.redfin.com/MO/Saint-Peters/35-Oak-Bend-Ln-63376/home/103270301', 'https://www.redfin.com/MO/Saint-Charles/623-N-6th-St-63301/home/103349347', 'https://www.redfin.com/MO/Lake-St-Louis/2-Hawk-Ridge-Trl-Unknown/home/188030666', 'https://www.redfin.com/MO/Dardenne-Prairie/2721-Bellflower-Ct-63368/home/103280963', 'https://www.redfin.com/MO/Saint-Charles/3240-River-Breeze-Ct-63301/home/180234538', 'https://www.redfin.com/MO/Wentzville/414-Andrew-Joseph-Dr-Unknown/home/188372320', 'https://www.redfin.com/MO/Wentzville/5033-Joshua-Dr-63385/home/103336377', 'https://www.redfin.com/MO/Lake-Saint-Louis/1-Provence-Dr-63367/home/103320522', 'https://www.redfin.com/MO/O-Fallon/Chesapeake-Harvest-Unknown/home/188833411', 'https://www.redfin.com/MO/Saint-Peters/149-Old-Buggy-Ct-63304/unit-B/home/103297657', 'https://www.redfin.com/MO/Wentzville/18-Silver-Birch-Ct-63385/home/103318973', 'https://www.redfin.com/MO/Saint-Charles/1003-Wedgewood-Dr-63303/home/103313291', 'https://www.redfin.com/MO/Saint-Charles/3129-Fox-Hill-Rd-63301/home/103322968', 'https://www.redfin.com/MO/Saint-Peters/340-Cambridgeshire-Ct-63376/home/108603532', 'https://www.redfin.com/MO/Lake-Saint-Louis/24-Lantern-Ln-63367/home/103315147', 'https://www.redfin.com/MO/Foristell/2-Cook-Farm-Dr-63348/home/188034629', 'https://www.redfin.com/MO/Saint-Peters/4031-Treeshadow-Dr-63376/home/103283626', 'https://www.redfin.com/MO/O-Fallon/113-Royal-Inverness-Pkwy-63368/home/175816749', 'https://www.redfin.com/MO/Josephville/2311-Wilmes-Rd-63385/home/175545788', 'https://www.redfin.com/MO/Saint-Charles/52-Hunting-Manor-Dr-63303/home/103245127', 'https://www.redfin.com/MO/Portage-des-Sioux/1735-4th-St-63373/home/103322629', 'https://www.redfin.com/MO/St-Charles/162-Southern-Oaks-Dr-63303/home/188593804', 'https://www.redfin.com/MO/Saint-Charles/2421-Rhone-Pkwy-63301/home/147232300', 'https://www.redfin.com/MO/O-Fallon/1549-Hunters-Meadow-Dr-63366/home/103244513', 'https://www.redfin.com/MO/Saint-Peters/117-Rhythm-Point-Dr-63376/home/174466068', 'https://www.redfin.com/MO/Saint-Charles/617-N-6th-St-63301/home/103349341', 'https://www.redfin.com/MO/Saint-Charles/1-Stoneway-Ct-63303/home/103314065', 'https://www.redfin.com/MO/Foristell/3261-Wild-Horse-Dr-63348/home/103313580', 'https://www.redfin.com/MO/St-Peters/1013-Quail-Grove-Circle-lot-4-63366/home/184794353', 'https://www.redfin.com/MO/Wentzville/212-Hartford-Glen-Ct-63385/home/103255844', 'https://www.redfin.com/MO/Lake-St-Louis/2403-Savoy-Dr-63367/home/188059627', 'https://www.redfin.com/MO/St-Peters/1033-Quail-Grove-Circle-lot-8-63366/home/184794780', 'https://www.redfin.com/MO/Wentzville/134-Prairie-Wind-Dr-63385/home/181322307', 'https://www.redfin.com/MO/Defiance/903-Matson-Hill-Rd-63341/home/103265081', 'https://www.redfin.com/MO/Saint-Peters/1615-Claydell-Dr-63376/unit-20/home/103292805', 'https://www.redfin.com/MO/Saint-Charles/7-Glenview-Dr-63304/home/103290540', 'https://www.redfin.com/MO/Lake-Saint-Louis/321-Old-Forester-Dr-63367/home/147231424', 'https://www.redfin.com/MO/Dardenne-Prairie/1036-Dardenne-Woods-Dr-63368/home/62769422', 'https://www.redfin.com/MO/St-Charles/375-Kreder-Ridge-Cir-63304/home/181501395', 'https://www.redfin.com/MO/Saint-Charles/2004-Dyess-St-63301/home/172786411', 'https://www.redfin.com/MO/O-Fallon/4200-Spring-River-Dr-63368/home/103262993', 'https://www.redfin.com/MO/O-Fallon/Rosemont-Harvest-Unknown/home/188831265', 'https://www.redfin.com/MO/Wentzville/Tbb-Savannah-saxony-RDG-Unknown/home/188635189', 'https://www.redfin.com/MO/Saint-Charles/100-Dornoch-Dr-63301/home/62688950', 'https://www.redfin.com/MO/O-Fallon/2-Challenger-Ct-63366/home/181308554', 'https://www.redfin.com/MO/Saint-Charles/318-N-Benton-Ave-63301/home/62749127', 'https://www.redfin.com/MO/Lake-Saint-Louis/564-Oak-Hill-Dr-63367/home/103315966', 'https://www.redfin.com/MO/Saint-Charles/2660-Upper-Bottom-Loop-Rd-63303/home/103307878', 'https://www.redfin.com/MO/O-Fallon/6-Challenger-Ct-63366/home/181308556', 'https://www.redfin.com/MO/O-Fallon/100-Royal-Inverness-Pkwy-63368/home/173022241', 'https://www.redfin.com/MO/O-Fallon/609-Grey-Mountain-Dr-63368/home/103341164', 'https://www.redfin.com/MO/Defiance/1389-Lakeway-Dr-63341/home/79774568', 'https://www.redfin.com/MO/Wentzville/104-Timber-Trace-Xing-63385/home/103249206', 'https://www.redfin.com/MO/Saint-Charles/3136-Pirogue-Way-63301/home/103262269', 'https://www.redfin.com/MO/Saint-Peters/210-Sugar-Lake-Dr-63376/unit-62NDFL/home/103293586', 'https://www.redfin.com/MO/Wentzville/604-Birdnest-Walk-63385/home/188754826', 'https://www.redfin.com/MO/St-Peters/1005-Quail-Grove-Circle-lot-2-63366/home/184794204', 'https://www.redfin.com/MO/Wentzville/450-Sweetgrass-Dr-63385/home/188756968', 'https://www.redfin.com/MO/Saint-Peters/30-Oak-Bend-Ln-63376/home/103270311', 'https://www.redfin.com/MO/Wentzville/1008-Crystal-Creek-Pkwy-63385/home/172779761', 'https://www.redfin.com/MO/Saint-Peters/792-Estes-Park-Dr-63376/home/79930787', 'https://www.redfin.com/MO/O-Fallon/871-Hardcastle-Dr-63366/home/103269024', 'https://www.redfin.com/MO/Lake-St-Louis/135-Creek-Haven-Ct-63367/home/188755524', 'https://www.redfin.com/MO/Saint-Charles/16-Rio-Vista-Dr-63303/home/91496913', 'https://www.redfin.com/MO/Wentzville/30-Meyer-Oaks-Ct-63385/home/103247061', 'https://www.redfin.com/MO/Saint-Peters/785-Bear-Mountain-Dr-63376/home/103272385', 'https://www.redfin.com/MO/Saint-Charles/3133-Sussex-Dr-63301/home/103346592', 'https://www.redfin.com/MO/Lake-St-Louis/113-Lemans-Ct-63367/home/187360188', 'https://www.redfin.com/MO/Cottleville/1262-Harmony-Lake-Dr-63376/home/103257467', 'https://www.redfin.com/MO/O-Fallon/810-Levin-Dr-63366/home/103267383', 'https://www.redfin.com/MO/Augusta/5619-5th-St-63332/home/178645656', 'https://www.redfin.com/MO/Wentzville/230-Huntsdale-Dr-63385/home/62703104', 'https://www.redfin.com/MO/Saint-Charles/14-Boenker-Ct-63301/home/64123040', 'https://www.redfin.com/MO/Marthasville/130-Borgmann-Rd-63357/home/188590699', 'https://www.redfin.com/MO/O-Fallon/35-N-Meadow-Dr-63366/home/103318403', 'https://www.redfin.com/MO/Wentzville/201-Holt-Farm-Lot-21-63385/home/185092434', 'https://www.redfin.com/MO/Saint-Charles/6144-New-Town-Dr-63301/home/143243182', 'https://www.redfin.com/MO/Saint-Peters/14-Oak-Terrace-Dr-63376/home/103270549', 'https://www.redfin.com/MO/O-Fallon/Caledonia-Dr-63368/home/147231537', 'https://www.redfin.com/MO/Lake-Saint-Louis/719-Autumnwood-Forest-Dr-63367/home/103248086', 'https://www.redfin.com/MO/St-Charles/1430-Heritage-Lndg-63303/unit-302/home/182651084', 'https://www.redfin.com/MO/O-Fallon/1533-Misty-River-Dr-63366/home/172768953', 'https://www.redfin.com/MO/Wentzville/404-Carrollton-Dr-63385/home/103246785', 'https://www.redfin.com/MO/Foristell/396-Westwood-Trl-63348/home/103302282', 'https://www.redfin.com/MO/Saint-Charles/11-Saint-Anthony-Ct-63301/home/103347685', 'https://www.redfin.com/MO/Dardenne-Prairie/109-Snake-River-Dr-63368/home/103241528', 'https://www.redfin.com/MO/Wentzville/366-Huntleigh-PKWY-63385/home/187340485', 'https://www.redfin.com/MO/Saint-Charles/2425-W-Clay-St-63301/home/103348771', 'https://www.redfin.com/MO/Saint-Charles/901-S-6th-St-63301/home/62722076', 'https://www.redfin.com/MO/Dardenne-Prairie/17-Twin-Creek-Ct-63368/home/103241427', 'https://www.redfin.com/MO/Saint-Charles/232-Wayfair-Lndg-63301/home/181325673', 'https://www.redfin.com/MO/Wentzville/209-Bluegrass-Pasture-CT-63385/home/183669261', 'https://www.redfin.com/MO/Saint-Charles/3-Denbrook-Ter-63301/home/181327865', 'https://www.redfin.com/MO/Saint-Charles/428-Chelsea-Way-Dr-63304/home/103312056', 'https://www.redfin.com/MO/Dardenne-Prairie/7777-Boatside-Dr-63368/home/103338583', 'https://www.redfin.com/MO/Lake-Saint-Louis/336-Pointe-Loma-Blvd-63367/home/103260940', 'https://www.redfin.com/MO/Foristell/502-Fennel-Ct-63348/home/103314338', 'https://www.redfin.com/MO/St-Peters/691-Boca-Raton-Dr-63376/home/182626558', 'https://www.redfin.com/MO/Saint-Charles/196-Tiber-Way-63301/home/172786350', 'https://www.redfin.com/MO/Saint-Peters/2230-Highland-Hill-Dr-63376/unit-A/home/103277996', 'https://www.redfin.com/MO/Wentzville/Hepperman-Rd-63385/home/168662429', 'https://www.redfin.com/MO/O-Fallon/Build-New-Sunbury-caledonia-Unknown/home/188190940', 'https://www.redfin.com/MO/Foristell/802-Colony-Ridge-Ct-63348/home/187920510', 'https://www.redfin.com/MO/Wentzville/1620-Springmill-Dr-63385/home/103264756', 'https://www.redfin.com/MO/Saint-Charles/6-Hill-Pointe-Ct-63303/home/103334245', 'https://www.redfin.com/MO/O-Fallon/147-Columbia-Meadows-Ln-63366/home/187927890', 'https://www.redfin.com/MO/Foristell/1634-High-Sierra-Dr-63348/home/103313542', 'https://www.redfin.com/MO/O-Fallon/1-River-s-Edge-63366/home/179226488', 'https://www.redfin.com/MO/Saint-Charles/625-Saint-Jovite-St-63304/home/103290500', 'https://www.redfin.com/MO/Saint-Peters/505-Hidden-Lake-Dr-63304/home/103291214', 'https://www.redfin.com/MO/Saint-Charles/6140-New-Town-Dr-63301/home/143243180', 'https://www.redfin.com/MO/O-Fallon/711-Longhorn-Dr-63368/home/103283468', 'https://www.redfin.com/MO/Wentzville/Bridgeport-Harvest-63385/home/188754944', 'https://www.redfin.com/MO/O-Fallon/Sierra-Harvest-Unknown/home/188800990', 'https://www.redfin.com/MO/St-Charles/890-Palisades-Cir-63301/home/188755345', 'https://www.redfin.com/MO/Wentzville/2962-Hwy-Z-63385/home/148669152', 'https://www.redfin.com/MO/Wentzville/1343-Forest-Way-63385/home/103243476', 'https://www.redfin.com/MO/Saint-Peters/73-Stoll-Ln-63376/home/103279695', 'https://www.redfin.com/MO/Saint-Peters/104-Country-Trace-Ct-63304/unit-1B/home/103297889', 'https://www.redfin.com/MO/Saint-Charles/906-Pine-St-63301/home/78188979', 'https://www.redfin.com/MO/Saint-Charles/3236-Silvertrail-Dr-63301/home/103323986', 'https://www.redfin.com/MO/Saint-Charles/1397-Timothy-Ridge-Dr-63304/home/62728379', 'https://www.redfin.com/MO/Saint-Charles/29-Lakemont-Dr-63304/home/79930035', 'https://www.redfin.com/MO/Wentzville/Davenport-Harvest-63385/home/188831020', 'https://www.redfin.com/MO/Saint-Charles/323-Wayfair-Lndg-63301/home/181325580', 'https://www.redfin.com/MO/Wentzville/101-Brickyard-Pond-CT-63385/home/183669203', 'https://www.redfin.com/MO/Lake-Saint-Louis/4131-Welsh-Dr-63367/home/103260153', 'https://www.redfin.com/MO/Wentzville/3252-Green-Trails-Ct-63385/home/103321354', 'https://www.redfin.com/MO/Wentzville/100-Brickyard-Pond-CT-63385/home/183669259', 'https://www.redfin.com/MO/Wentzville/10-Maple-Ridge-Ct-63385/home/184201337', 'https://www.redfin.com/MO/Dardenne-Prairie/1433-Kearney-Dr-63368/home/62755395', 'https://www.redfin.com/MO/St-Charles/2629-Hampton-Rd-63303/home/188843874', 'https://www.redfin.com/MO/Wentzville/436-Jockeys-Run-63385/home/108952991', 'https://www.redfin.com/MO/St-Peters/1025-Quail-Grove-Circle-lot-7-63366/home/184794739', 'https://www.redfin.com/MO/Lake-Saint-Louis/78-Rue-Grand-Dr-63367/home/103320499', 'https://www.redfin.com/MO/Wentzville/536-Crystal-Stream-Dr-63385/home/108603434', 'https://www.redfin.com/MO/St-Peters/1001-Quail-Grove-Circle-lot-1-63366/home/184793521', 'https://www.redfin.com/MO/O-Fallon/3040-Matteson-Blvd-63366/home/143230175', 'https://www.redfin.com/MO/Wildwood/707-Wild-Horse-Valley-Rd-63005/home/93485766', 'https://www.redfin.com/MO/Wentzville/245-John-Charles-Dr-63385/home/188675186', 'https://www.redfin.com/MO/Wentzville/338-Rustic-Oaks-Dr-63385/home/103334563', 'https://www.redfin.com/MO/Lake-Saint-Louis/103-Sommerset-Ct-63367/home/187917817', 'https://www.redfin.com/MO/O-Fallon/204-Discovery-Meadows-Pl-63366/home/187927900', 'https://www.redfin.com/MO/Wentzville/4575-Holt-Rd-63385/home/103302307', 'https://www.redfin.com/MO/Saint-Charles/4244-Weatherton-Pl-63304/home/103306032', 'https://www.redfin.com/MO/Wentzville/1702-Koala-Dr-63385/home/103314525', 'https://www.redfin.com/MO/Wentzville/325-Cedar-Ln-63385/home/103344503', 'https://www.redfin.com/MO/Saint-Charles/224-Shelburne-Dr-63301/home/103329155', 'https://www.redfin.com/MO/Saint-Charles/904-Gustane-Dr-63301/home/103351138', 'https://www.redfin.com/MO/Saint-Charles/490-Old-Friedens-Rd-63303/home/147230406', 'https://www.redfin.com/MO/Foristell/110-Stone-Canyon-Blvd-63348/home/188166262', 'https://www.redfin.com/MO/O-Fallon/912-Memsie-Park-Ct-63368/home/181324685', 'https://www.redfin.com/MO/Lake-St-Louis/2-Hickory-at-Hawk-Ridge-ESTS-Unknown/home/187968952', 'https://www.redfin.com/MO/Saint-Peters/1432-Summergate-Pkwy-63303/unit-K/home/62739194', 'https://www.redfin.com/MO/Saint-Peters/42-Babler-Wood-Ct-63304/home/103291348', 'https://www.redfin.com/MO/Saint-Peters/18-Hunting-Creek-Rd-63376/home/103270208', 'https://www.redfin.com/MO/St-Peters/1009-Quail-Grove-Circle-lot-3-63366/home/184794285', 'https://www.redfin.com/MO/O-Fallon/5-Challenger-Ct-63366/home/181308558', 'https://www.redfin.com/MO/Saint-Charles/216-Freehold-Rock-Way-63301/home/147232085', 'https://www.redfin.com/MO/Saint-Charles/409-Monitor-Way-63303/home/103295210', 'https://www.redfin.com/MO/St-Charles/36-Cedar-Grove-Ct-63304/home/188101464', 'https://www.redfin.com/MO/Wentzville/2-Westhaven-Blvd-63385/home/187966239', 'https://www.redfin.com/MO/Saint-Peters/28-Asherton-Dr-63376/home/103305974', 'https://www.redfin.com/MO/Saint-Peters/4-Pilot-Hill-Ct-63376/home/103277280', 'https://www.redfin.com/MO/Saint-Charles/614-Hickory-Dale-Dr-63304/home/103333608', 'https://www.redfin.com/MO/Saint-Peters/400-Wyatt-Dr-63376/home/103288133', 'https://www.redfin.com/MO/O-Fallon/2716-Post-Meadows-Dr-63368/home/103318684', 'https://www.redfin.com/MO/O-Fallon/19-Schoen-Morgen-Dr-63366/home/103268262', 'https://www.redfin.com/MO/Saint-Charles/4300-Austin-Pass-Ct-63304/home/103240997', 'https://www.redfin.com/MO/Saint-Peters/927-Penny-Ln-63376/home/103242990', 'https://www.redfin.com/MO/Foristell/3-Cook-Farm-Dr-63348/home/184242861', 'https://www.redfin.com/MO/O-Fallon/22-Country-Life-Dr-63366/home/103341925', 'https://www.redfin.com/MO/Saint-Charles/35-Woodmere-Cir-63303/home/62739189', 'https://www.redfin.com/MO/Dardenne-Prairie/28-Wild-Ginger-Ct-63368/home/103343271', 'https://www.redfin.com/MO/Wentzville/443-Sweetgrass-Dr-63385/home/188756902', 'https://www.redfin.com/MO/Saint-Charles/49-Marie-Dr-63301/home/103345777', 'https://www.redfin.com/MO/Saint-Charles/71-Shirecreek-Ct-63303/home/103292480', 'https://www.redfin.com/MO/Foristell/503-Founders-Way-63348/home/187920481', 'https://www.redfin.com/MO/Foristell/1580-Madre-Dr-63348/home/103313519', 'https://www.redfin.com/MO/Wentzville/2-Royal-II-at-Westhaven-Unknown/home/187966238', 'https://www.redfin.com/MO/Saint-Peters/610-Avondale-Dr-63376/home/103276544', 'https://www.redfin.com/MO/Wentzville/910-Mule-Creek-Dr-63385/home/143242432', 'https://www.redfin.com/MO/Saint-Peters/1387-Southgate-Dr-63304/home/103297513', 'https://www.redfin.com/MO/Saint-Charles/2214-N-Village-Dr-63303/home/103313360', 'https://www.redfin.com/MO/O-Fallon/110-Dardenne-Place-Dr-63368/home/181323425', 'https://www.redfin.com/MO/O-Fallon/35-Piepers-Glen-Ct-63366/unit-26A/home/103336897', 'https://www.redfin.com/MO/Saint-Charles/5021-Saturday-St-63301/home/168309780', 'https://www.redfin.com/MO/Saint-Charles/601-Avon-Pl-63303/home/103308044', 'https://www.redfin.com/MO/Dardenne-Prairie/1511-Langrove-Dr-63368/home/103317781', 'https://www.redfin.com/MO/Lake-Saint-Louis/1608-Lake-Knoll-Dr-63367/unit-1A/home/103317861', 'https://www.redfin.com/MO/O-Fallon/684-Zumwalt-Xing-63366/home/103277144', 'https://www.redfin.com/MO/Wentzville/817-Whisper-Creek-Ct-63385/home/103243708', 'https://www.redfin.com/MO/Weldon-Spring/94-Gillette-Circle-Pass-63304/home/103308992', 'https://www.redfin.com/MO/St-Charles/1440-Heritage-Lndg-63303/unit-308/home/182648497', 'https://www.redfin.com/MO/Lake-Saint-Louis/929-Ampere-Pl-63367/home/103316143', 'https://www.redfin.com/MO/O-Fallon/220-Glasgow-Green-Dr-63368/home/187918081', 'https://www.redfin.com/MO/Saint-Charles/2752-McClay-Rd-63303/home/172774702', 'https://www.redfin.com/MO/O-Fallon/965-Stonecastle-Dr-63366/home/103256737', 'https://www.redfin.com/MO/Wentzville/2-Berwick-at-Westhaven-63385/home/187966317', 'https://www.redfin.com/MO/Saint-Peters/501-Oxborough-Ct-63376/home/62731803', 'https://www.redfin.com/MO/Lake-Saint-Louis/2240-Hawks-Landing-Dr-63367/unit-G/home/103243649', 'https://www.redfin.com/MO/O-Fallon/222-Fox-Haven-Ct-63368/home/103251508', 'https://www.redfin.com/MO/Wentzville/143-Old-Williamsburg-Pkwy-63385/home/103331028', 'https://www.redfin.com/MO/Foristell/534-Woods-Creek-Dr-63348/home/103297996', 'https://www.redfin.com/MO/Wentzville/119-Albany-Manor-Dr-63385/home/62753242', 'https://www.redfin.com/MO/Lake-St-Louis/109-Creek-Haven-Ct-63367/home/188756960', 'https://www.redfin.com/MO/O-Fallon/3200-Spring-Creek-Ln-63368/home/103257899', 'https://www.redfin.com/MO/St-Peters/1-Rochester-Kreder-Farms-63303/home/188640724', 'https://www.redfin.com/MO/Saint-Charles/415-N-4th-St-63301/home/103340030', 'https://www.redfin.com/MO/O-Fallon/620-Grey-Mountain-Dr-63368/home/64825768', 'https://www.redfin.com/MO/Saint-Peters/7-Wood-Ct-63376/home/65868553', 'https://www.redfin.com/MO/O-Fallon/130-Salfen-Farm-Ct-63368/home/182481622', 'https://www.redfin.com/MO/Wentzville/600-Wilmer-Meadow-Dr-63385/home/103263442', 'https://www.redfin.com/MO/O-Fallon/325-Dalriada-Blvd-63368/home/187918353', 'https://www.redfin.com/MO/Saint-Peters/406-S-Church-St-63376/unit-214/home/103248315', 'https://www.redfin.com/MO/Wentzville/400-Sherwood-Oaks-Ct-63385/home/103246949', 'https://www.redfin.com/MO/Saint-Charles/3597-S-New-Town-Ave-63301/home/103248525', 'https://www.redfin.com/MO/Lake-St-Louis/103-Creek-Haven-Ct-63367/home/188756980', 'https://www.redfin.com/MO/Saint-Charles/251-Crestfield-Ct-63301/home/187918753', 'https://www.redfin.com/MO/Wentzville/2722-Defender-Dr-63385/home/103253951', 'https://www.redfin.com/MO/Saint-Charles/101-Winterbrooke-Ct-63304/home/168661745', 'https://www.redfin.com/MO/Wentzville/4-Liberty-Grove-Ct-63385/home/64357409', 'https://www.redfin.com/MO/Wentzville/552-Great-Oaks-Meadow-Dr-63385/home/103334646', 'https://www.redfin.com/MO/St-Peters/128-Country-Trace-Ct-63304/home/188698369', 'https://www.redfin.com/MO/O-Fallon/4300-Spring-Creek-Ln-63368/home/64095550', 'https://www.redfin.com/MO/St-Peters/1017-Quail-Grove-Circle-lot-5-63366/home/184794497', 'https://www.redfin.com/MO/Lake-Saint-Louis/3-Lemans-Pl-63367/home/103319540', 'https://www.redfin.com/MO/Wentzville/5039-Joshua-Dr-63385/home/103336381', 'https://www.redfin.com/MO/Weldon-Spring/250-Greenburn-Dr-63304/home/188812419', 'https://www.redfin.com/MO/Saint-Peters/511-Roaring-Fork-Ct-63376/home/143242333', 'https://www.redfin.com/MO/Lake-St-Louis/133-Creek-Haven-Ct-63367/home/188755548', 'https://www.redfin.com/MO/Saint-Charles/3188-Calhoun-Dr-63301/home/103254485', 'https://www.redfin.com/MO/Wentzville/224-Bluegrass-Pasture-CT-63385/home/183669316', 'https://www.redfin.com/MO/Lake-St-Louis/740-Lake-Saint-Louis-Blvd-63367/home/188242341', 'https://www.redfin.com/MO/Weldon-Spring/204-Greenburn-Dr-63304/home/182661418', 'https://www.redfin.com/MO/Saint-Charles/430-Summer-Glen-Ln-63301/home/175818873', 'https://www.redfin.com/MO/Lake-Saint-Louis/2626-Braemar-Pkwy-63367/home/103320373', 'https://www.redfin.com/MO/O-Fallon/523-Ironwood-Dr-63368/home/103331683', 'https://www.redfin.com/MO/Wentzville/1318-Forest-Way-63385/home/62724099', 'https://www.redfin.com/MO/O-Fallon/609-Peace-Dr-63366/home/103268191', 'https://www.redfin.com/MO/Saint-Peters/411-S-Church-St-63376/home/103343385', 'https://www.redfin.com/MO/Saint-Charles/280-Letham-Ct-63301/home/62754763', 'https://www.redfin.com/MO/Wentzville/3876-Bedford-Pointe-Dr-63385/home/103243745', 'https://www.redfin.com/MO/O-Fallon/205-E-Elm-St-63366/home/187919039', 'https://www.redfin.com/MO/Saint-Charles/2014-Avignon-Ct-63303/unit-A/home/103306587', 'https://www.redfin.com/MO/Saint-Charles/3506-Truman-Terrace-Dr-63301/unit-56/home/103329304', 'https://www.redfin.com/MO/Wentzville/10-Hoffman-Hills-Dr-63385/home/62775858', 'https://www.redfin.com/MO/Saint-Charles/1009-Gardenbridge-Pl-63303/home/103256282', 'https://www.redfin.com/MO/Saint-Charles/2-Towers-Ln-63304/home/103298204', 'https://www.redfin.com/MO/Saint-Charles/5561-Meadowgreen-Ct-63304/home/103309128', 'https://www.redfin.com/MO/St-Peters/9129-Camino-TRL-63304/home/187620019', 'https://www.redfin.com/MO/Saint-Peters/752-Sugar-Glen-Dr-63376/unit-4/home/103293268', 'https://www.redfin.com/MO/Wentzville/205-Bluegrass-Pasture-CT-63385/home/183669258', 'https://www.redfin.com/MO/Wentzville/100-Point-Hill-Ct-63385/home/186312382', 'https://www.redfin.com/MO/O-Fallon/44-Homeplate-Ct-63366/home/62757455', 'https://www.redfin.com/MO/St-Charles/1634-Forest-Hills-Dr-63303/home/182653392', 'https://www.redfin.com/MO/Lake-Saint-Louis/1736-Briarmanor-Dr-63367/home/103256086', 'https://www.redfin.com/MO/Wentzville/Sierra-Universal-Design-RNCH-63385/home/188834219', 'https://www.redfin.com/MO/Wentzville/106-Timber-Trace-Xing-63385/home/103249205', 'https://www.redfin.com/MO/O-Fallon/149-Columbia-Meadows-Ln-63366/home/187927888', 'https://www.redfin.com/MO/O-Fallon/125-Sunset-Villa-Ct-63366/home/103251190', 'https://www.redfin.com/MO/Josephville/2277-Wilmes-Rd-63385/home/183688624', 'https://www.redfin.com/MO/O-Fallon/2006-White-Branch-Dr-63366/home/181307753', 'https://www.redfin.com/MO/Wentzville/914-Pittsburg-Landing-Dr-63385/home/78188291', 'https://www.redfin.com/MO/O-Fallon/6344-Sprucefield-Dr-63368/home/103284055', 'https://www.redfin.com/MO/Saint-Peters/106-Bruns-Place-Ct-63376/home/103290373', 'https://www.redfin.com/MO/Saint-Peters/404-Rose-Hill-West-Ct-63376/home/103273539', 'https://www.redfin.com/MO/O-Fallon/419-Dames-Park-Dr-63366/home/188755246', 'https://www.redfin.com/MO/Wentzville/202-Limerick-Ave-63385/home/95455297', 'https://www.redfin.com/MO/O-Fallon/6407-High-Meadow-Dr-63368/home/103276440', 'https://www.redfin.com/MO/Wentzville/175-Saxony-Ridge-CT-Unknown/home/188673243', 'https://www.redfin.com/MO/O-Fallon/19-Creek-Branch-Ct-63368/home/95543189', 'https://www.redfin.com/MO/O-Fallon/302-Birmingham-Dr-63366/home/103343075', 'https://www.redfin.com/MO/Saint-Charles/38-Windcastle-Dr-63304/home/103309223', 'https://www.redfin.com/MO/O-Fallon/Amberleigh-Dr-63385/home/184436595', 'https://www.redfin.com/MO/Saint-Charles/303-Summer-Glen-Ln-63301/home/181325716', 'https://www.redfin.com/MO/Saint-Charles/Undisclosed-address-63301/home/103340105', 'https://www.redfin.com/MO/Saint-Charles/N-9th-St-63301/home/103346346', 'https://www.redfin.com/MO/Saint-Peters/311-Madeira-Ct-63376/home/62710436', 'https://www.redfin.com/MO/Wentzville/1-Auden-Hollow-Ln-63385/home/188098815', 'https://www.redfin.com/MO/Saint-Charles/1709-Elm-St-63301/home/103339571', 'https://www.redfin.com/MO/O-Fallon/202-Newal-Way-63368/unit-175-602/home/188590183', 'https://www.redfin.com/MO/Lake-Saint-Louis/214-Randlin-Dr-63367/home/181194840', 'https://www.redfin.com/MO/Saint-Charles/4125-Providence-Dr-63304/home/103306074', 'https://www.redfin.com/MO/Saint-Charles/23-Sturbridge-Ct-63303/home/109608114', 'https://www.redfin.com/MO/Saint-Charles/220-Le-Beau-Ln-63303/home/103245019', 'https://www.redfin.com/MO/O-Fallon/Windsor-Harvest-Unknown/home/188833385', 'https://www.redfin.com/MO/O-Fallon/2023-White-Branch-Dr-63366/home/181307789', 'https://www.redfin.com/MO/Saint-Charles/3675-Hempstead-St-63301/home/103252000', 'https://www.redfin.com/MO/Saint-Charles/3329-Cottonwood-Dr-63301/home/103322812', 'https://www.redfin.com/MO/O-Fallon/203-Discovery-Meadows-Pl-63366/home/187927895', 'https://www.redfin.com/MO/Saint-Charles/313-Wildberry-Ln-63304/home/103311206', 'https://www.redfin.com/MO/Lake-St-Louis/12-Catamaran-Dr-63367/home/182679685', 'https://www.redfin.com/MO/Foristell/2032-Highway-N-63348/home/103335911', 'https://www.redfin.com/MO/O-Fallon/139-Cardow-Dr-63368/home/188706469', 'https://www.redfin.com/MO/Weldon-Spring/697-Claremoor-Pass-63304/home/62715199', 'https://www.redfin.com/MO/Josephville/2301-Wilmes-Rd-63385/home/183688648', 'https://www.redfin.com/MO/Augusta/300-Femme-Osage-Valley-Ln-63332/home/147614245', 'https://www.redfin.com/MO/Wentzville/6023-Blake-Thomas-Dr-63385/home/80135544', 'https://www.redfin.com/MO/Dardenne-Prairie/4-Brave-Frontier-Ct-63368/home/62727568', 'https://www.redfin.com/MO/O-Fallon/140-Royal-Troon-Dr-63368/home/187914833', 'https://www.redfin.com/MO/Weldon-Spring/873-Hemingway-Ln-63304/unit-S/home/97595906', 'https://www.redfin.com/MO/Cottleville/Saint-Charles-St-63304/home/188134164', 'https://www.redfin.com/MO/Augusta/145-Coyote-Crest-Ln-63332/home/103259108', 'https://www.redfin.com/MO/Foristell/1-Cypress-ests-Schaper-Farms-Unknown/home/187473055', 'https://www.redfin.com/MO/O-Fallon/917-Mountain-Brook-Ct-63366/home/103255732', 'https://www.redfin.com/MO/Foristell/2290-Oberhelman-Rd-63348/home/103302357', 'https://www.redfin.com/MO/Augusta/5593-Chestnut-St-63332/home/103265466', 'https://www.redfin.com/MO/Saint-Charles/2241-Hackmann-Rd-63303/home/103288315', 'https://www.redfin.com/MO/Saint-Peters/674-Summer-Winds-Ln-63376/unit-D/home/103273042', 'https://www.redfin.com/MO/St-Charles/824-N-2nd-St-63301/home/188369567', 'https://www.redfin.com/MO/Saint-Peters/28-Jamestown-Dr-63376/home/103343514', 'https://www.redfin.com/MO/O-Fallon/166-Riverdale-Woods-Cir-63366/home/103254740', 'https://www.redfin.com/MO/Lake-St-Louis/87-Rue-De-Paix-Dr-63367/home/182625057', 'https://www.redfin.com/MO/Wentzville/1229-Grand-Canyon-Dr-63385/home/62706473', 'https://www.redfin.com/MO/St-Charles/1440-Heritage-Unknown/unit-306/home/188492964', 'https://www.redfin.com/MO/Wentzville/221-Bluegrass-Pasture-CT-63385/home/183669317', 'https://www.redfin.com/MO/Saint-Charles/714-N-Benton-Ave-63301/home/62752510', 'https://www.redfin.com/MO/Saint-Charles/9-Ridgeview-Ct-63301/home/103340241'}, 'Clay-County': {'https://www.redfin.com/MO/Kansas-City/9808-N-Laurel-Ave-64157/home/175222902', 'https://www.redfin.com/MO/Liberty/1101-Ridgeway-Dr-64068/home/78229983', 'https://www.redfin.com/MO/Kansas-City/8820-N-Crescent-Ave-64157/home/144026211', 'https://www.redfin.com/MO/Smithville/401-Liberty-St-64089/home/78236892', 'https://www.redfin.com/MO/Liberty/2165-Black-Walnut-Dr-64068/home/187650008', 'https://www.redfin.com/MO/Kansas-City/8934-N-Lewis-Ave-64157/home/78250482', 'https://www.redfin.com/MO/Kansas-City/9855-NE-105th-St-64157/home/182379997', 'https://www.redfin.com/MO/Kansas-City/1911-NE-114th-St-64155/home/144025817', 'https://www.redfin.com/MO/Kansas-City/11026-N-Ditman-Ave-64157/home/78238814', 'https://www.redfin.com/MO/Kansas-City/9600-N-Evanston-Ct-64157/home/78233938', 'https://www.redfin.com/MO/Kearney/2001-Foxtail-Pt-64060/home/174978534', 'https://www.redfin.com/MO/Kansas-City/526-NW-110th-St-64155/home/188597543', 'https://www.redfin.com/MO/Kansas-City/3643-NE-91st-Ter-64156/home/188638800', 'https://www.redfin.com/MO/Kansas-City/9114-N-Bales-Ave-64156/home/187201005', 'https://www.redfin.com/MO/Smithville/402-5th-St-64089/home/78220071', 'https://www.redfin.com/MO/Kansas-City/665-NE-65th-Ter-64118/home/182379357', 'https://www.redfin.com/MO/Kansas-City/8129-N-Farley-Ave-64158/home/110236613', 'https://www.redfin.com/MO/Kansas-City/4142-N-Chelsea-Ave-64117/home/78264471', 'https://www.redfin.com/MO/Smithville/100-Creek-Valley-Ter-64089/home/78267235', 'https://www.redfin.com/MO/Gladstone/405-NW-65th-St-64118/home/78240638', 'https://www.redfin.com/MO/Kansas-City/3712-NE-84th-Ter-64156/home/102862859', 'https://www.redfin.com/MO/Smithville/821-92-Hwy-64089/home/78252995', 'https://www.redfin.com/MO/Smithville/317-E-Meadow-St-64089/home/179130527', 'https://www.redfin.com/MO/Kansas-City/237-E-Longfellow-St-64119/home/78261553', 'https://www.redfin.com/MO/Kansas-City/9187-N-Chestnut-Ave-64156/home/187551120', 'https://www.redfin.com/MO/Excelsior-Springs/132-S-Myrtle-St-64024/home/78256139', 'https://www.redfin.com/MO/Kansas-City/9120-N-Bales-Ave-64156/home/187202034', 'https://www.redfin.com/MO/Liberty/1054-Fir-Ln-64068/home/182381558', 'https://www.redfin.com/MO/Excelsior-Springs/2312-Rhonda-Rd-64024/home/78269974', 'https://www.redfin.com/MO/Kansas-City/4909-NE-88th-St-64156/home/175225164', 'https://www.redfin.com/MO/Kansas-City/9838-NE-104th-Ter-64157/home/182379999', 'https://www.redfin.com/MO/Excelsior-Springs/605-Sagamore-Rd-64024/home/78256000', 'https://www.redfin.com/MO/Kearney/2350-Fishing-Ln-64060/home/178998429', 'https://www.redfin.com/MO/Kearney/608-E-11th-St-64060/home/188826182', 'https://www.redfin.com/MO/Kansas-City/400-NE-97th-Ter-64155/home/78270727', 'https://www.redfin.com/MO/Kansas-City/1326-NE-122nd-St-64165/home/188538954', 'https://www.redfin.com/MO/Excelsior-Springs/271-Rock-Bridge-Pkwy-64024/home/78234909', 'https://www.redfin.com/MO/Kansas-City/614-NE-39th-Ter-64116/home/78215479', 'https://www.redfin.com/MO/Excelsior-Springs/Lot-2-Wornall-Rd-64024/home/175059087', 'https://www.redfin.com/MO/Liberty/2145-Hay-Market-Ct-64068/home/175226157', 'https://www.redfin.com/MO/Kansas-City/8541-NE-91st-Ter-64157/home/78266836', 'https://www.redfin.com/MO/Kansas-City/8345-N-Highland-Ave-64118/home/78272826', 'https://www.redfin.com/MO/Kansas-City/1501-NE-114th-St-64155/home/106415076', 'https://www.redfin.com/MO/Kansas-City/8800-N-Elmwood-Ave-64156/home/187711030', 'https://www.redfin.com/MO/Kansas-City/8625-NE-110th-Ter-64157/home/78255391', 'https://www.redfin.com/MO/Holt/15611-NE-179th-St-64048/home/78220959', 'https://www.redfin.com/MO/Kansas-City/5814-NE-Gunn-Ave-64119/home/78245354', 'https://www.redfin.com/MO/Kansas-City/5210-N-Manchester-Ave-64119/home/78213591', 'https://www.redfin.com/MO/Kearney/2121-Crooked-Creek-Dr-64060/home/175223034', 'https://www.redfin.com/MO/Kansas-City/2924-NE-39th-St-64117/home/78232215', 'https://www.redfin.com/MO/Liberty/126-S-Fairview-Ave-64068/home/78214026', 'https://www.redfin.com/MO/Kansas-City/10223-N-Oakland-Ave-64157/home/178541286', 'https://www.redfin.com/MO/Kearney/2105-Greenfield-Ct-64060/home/142991400', 'https://www.redfin.com/MO/Kansas-City/8912-NE-118th-Ct-64157/home/188590345', 'https://www.redfin.com/MO/Excelsior-Springs/113-Waller-Ave-64024/home/102857474', 'https://www.redfin.com/MO/Kansas-City/10518-N-Hawthorne-Ave-64157/home/182380006', 'https://www.redfin.com/MO/Liberty/582-Richfield-Rd-64068/home/78262739', 'https://www.redfin.com/MO/Smithville/18301-Rock-Creek-Dr-64089/home/78218668', 'https://www.redfin.com/MO/Kansas-City/3940-N-Kensington-Ave-64117/home/78264964', 'https://www.redfin.com/MO/Kansas-City/4842-N-Wheeling-Ave-64119/home/78213138', 'https://www.redfin.com/MO/Liberty/11001-Firefly-Ln-64068/home/106415771', 'https://www.redfin.com/MO/Kansas-City/4404-N-Jackson-Ave-64117/home/106414015', 'https://www.redfin.com/MO/Kansas-City/5116-NE-46th-Ter-64117/home/78248514', 'https://www.redfin.com/MO/Kansas-City/1315-NE-106th-Ter-64155/home/78251127', 'https://www.redfin.com/MO/Kansas-City/3611-NE-81st-St-64119/home/78232845', 'https://www.redfin.com/MO/Smithville/17708-Grey-Hawke-Rdg-64089/home/78268402', 'https://www.redfin.com/MO/Kansas-City/10333-N-Corrington-Ave-64156/home/188710390', 'https://www.redfin.com/MO/Kansas-City/5119-N-Winchester-Ave-64119/home/102846194', 'https://www.redfin.com/MO/Kansas-City/9810-N-Laurel-Ave-64157/home/175222903', 'https://www.redfin.com/MO/Smithville/17901-Grey-Hawke-Rdg-64089/home/78235561', 'https://www.redfin.com/MO/Kansas-City/4543-N-Bennington-Ave-64117/home/78264650', 'https://www.redfin.com/MO/Kansas-City/1035-NW-70th-Ct-64118/home/78240873', 'https://www.redfin.com/MO/Smithville/18810-County-Rd-W-64089/home/78237031', 'https://www.redfin.com/MO/Kansas-City/2001-NE-101st-Ct-64155/home/78217705', 'https://www.redfin.com/MO/Kearney/2100-Foxtail-Dr-64060/home/172072563', 'https://www.redfin.com/MO/Kearney/2005-Foxtail-Pt-64060/home/174978452', 'https://www.redfin.com/MO/Liberty/1209-Wellington-Way-64068/home/78260337', 'https://www.redfin.com/MO/Kansas-City/3407-NE-102nd-St-64155/home/181507153', 'https://www.redfin.com/MO/Kansas-City/6529-NE-54th-St-64119/home/78245469', 'https://www.redfin.com/MO/Kansas-City/10337-N-Corrington-Ave-64156/home/188710055', 'https://www.redfin.com/MO/Kansas-City/1101-NW-94th-Ter-64155/home/175223695', 'https://www.redfin.com/MO/Kansas-City/4605-NE-88th-St-64156/home/175225177', 'https://www.redfin.com/MO/Kansas-City/7804-N-Lister-Ave-64119/home/103207508', 'https://www.redfin.com/MO/Smithville/3-Stonebridge-Ln-64089/home/176077855', 'https://www.redfin.com/MO/Kansas-City/9938-N-Cherry-Dr-64155/home/78254961', 'https://www.redfin.com/MO/Kansas-City/1123-NW-106th-St-64155/home/187523763', 'https://www.redfin.com/MO/Kearney/22217-Ne-164th-St-64060/home/78221388', 'https://www.redfin.com/MO/Kansas-City/4805-NE-105th-St-64156/home/175222456', 'https://www.redfin.com/MO/Kearney/16605-NE-116th-St-64060/home/78255221', 'https://www.redfin.com/MO/Liberty/1826-Red-Orchard-Dr-64068/home/175226121', 'https://www.redfin.com/MO/Kansas-City/119-NE-Evansdale-Rd-64116/home/78231499', 'https://www.redfin.com/MO/Excelsior-Springs/812-Meservey-Ave-64024/home/78223801', 'https://www.redfin.com/MO/Kansas-City/3718-N-Garfield-Ave-64116/home/78247772', 'https://www.redfin.com/MO/Kearney/11414-Switchgrass-St-64060/home/175026268', 'https://www.redfin.com/MO/Kearney/2401-Larkspur-Ln-64060/home/182380143', 'https://www.redfin.com/MO/Kansas-City/11131-N-Euclid-Ave-64155/home/144025909', 'https://www.redfin.com/MO/Kansas-City/7238-N-Myrtle-Ave-64119/home/78210810', 'https://www.redfin.com/MO/Kansas-City/4601-N-Brighton-Ave-64117/home/176719361', 'https://www.redfin.com/MO/Liberty/295-Fawn-Ln-64068/home/168611163', 'https://www.redfin.com/MO/Kearney/Trct-8-Watson-Dr-64060/home/171421308', 'https://www.redfin.com/MO/Kansas-City/501-Northeast-Dr-64118/home/78274767', 'https://www.redfin.com/MO/Kansas-City/4421-NE-67th-St-64119/home/78235985', 'https://www.redfin.com/MO/Kearney/Tract2-Watson-PKWY-Unknown/home/188432935', 'https://www.redfin.com/MO/Kansas-City/4145-NE-63rd-Ter-64119/home/78211886', 'https://www.redfin.com/MO/Kansas-City/11019-N-Wyandotte-St-64155/home/102863066', 'https://www.redfin.com/MO/Pleasant-Valley/8820-Timber-Creek-Ln-64068/home/78235385', 'https://www.redfin.com/MO/Liberty/952-Ellis-St-64068/home/102878807', 'https://www.redfin.com/MO/Kansas-City/4761-NE-Winn-Rd-64117/home/105299163', 'https://www.redfin.com/MO/Kansas-City/6141-N-Chelsea-Ave-64119/home/172555473', 'https://www.redfin.com/MO/Kansas-City/11112-N-Jefferson-St-64155/home/78268520', 'https://www.redfin.com/MO/Kansas-City/812-NW-94th-Ter-64155/home/175223763', 'https://www.redfin.com/MO/Kansas-City/9031-N-Lane-Ave-64157/home/78210578', 'https://www.redfin.com/MO/Kansas-City/8148-NE-50th-St-64119/home/78229781', 'https://www.redfin.com/MO/Holt/Tract-3-Nation-Rd-64048/home/188691025', 'https://www.redfin.com/MO/Kansas-City/9199-N-Chestnut-Ave-64156/home/187551078', 'https://www.redfin.com/MO/Kansas-City/3408-NE-43rd-St-64117/home/78232193', 'https://www.redfin.com/MO/Kearney/318-Old-Trail-Run-64060/home/142992834', 'https://www.redfin.com/MO/Kansas-City/10341-N-Corrington-Ave-64156/home/188229105', 'https://www.redfin.com/MO/Kansas-City/4426-N-Topping-Ave-64117/home/78232565', 'https://www.redfin.com/MO/Kearney/1010-E-16th-St-64060/home/78249934', 'https://www.redfin.com/MO/Smithville/201-E-Pope-Ln-64089/home/78220085', 'https://www.redfin.com/MO/Kansas-City/1909-NE-51st-Ter-64118/home/78242967', 'https://www.redfin.com/MO/Kansas-City/1207-NE-80th-Ter-64118/home/78257062', 'https://www.redfin.com/MO/Smithville/606-E-Summit-St-64089/home/78218857', 'https://www.redfin.com/MO/Gladstone/3505-NE-62nd-Ter-64119/home/78228349', 'https://www.redfin.com/MO/Kansas-City/5308-N-Michigan-Ave-64118/home/102867003', 'https://www.redfin.com/MO/Smithville/502-E-Seventh-ST-64089/home/187545702', 'https://www.redfin.com/MO/Kansas-City/4827-NE-47th-Ter-64117/home/78248214', 'https://www.redfin.com/MO/Kansas-City/10238-N-Kansas-Ave-64155/home/102877297', 'https://www.redfin.com/MO/Kansas-City/6812-N-Bellefontaine-Ave-64119/home/78243576', 'https://www.redfin.com/MO/Liberty/1196-Lake-Rd-64068/home/102850453', 'https://www.redfin.com/MO/Kearney/2006-Greenfield-Mews-64060/home/78219543', 'https://www.redfin.com/MO/Kearney/ETrct7-Watson-Dr-64060/home/172558642', 'https://www.redfin.com/MO/Kansas-City/9182-N-Montgall-Ave-64156/home/187553427', 'https://www.redfin.com/MO/Excelsior-Springs/12409-Morgan-St-64024/home/78216940', 'https://www.redfin.com/MO/Kearney/2103-Hollow-Log-Dr-64060/home/175223084', 'https://www.redfin.com/MO/Holt/Tract-4-Nation-Rd-64048/home/188691024', 'https://www.redfin.com/MO/Kansas-City/6145-N-Chelsea-Ave-64119/home/172555471', 'https://www.redfin.com/MO/Kansas-City/1001-NE-115th-St-64155/home/78254624', 'https://www.redfin.com/MO/Smithville/2002-NE-196th-Pl-64089/home/102875364', 'https://www.redfin.com/MO/Kearney/2300-Larkspur-Ln-64060/home/182380123', 'https://www.redfin.com/MO/Kansas-City/314-NE-102nd-Ter-64155/home/185389610', 'https://www.redfin.com/MO/Kearney/408-Crestridge-Dr-64060/home/78251366', 'https://www.redfin.com/MO/Excelsior-Springs/1306-Kristie-Cir-64024/home/106413814', 'https://www.redfin.com/MO/Kansas-City/219-Briar-Ln-64119/home/78213155', 'https://www.redfin.com/MO/Kearney/15605-Ne-140th-Ter-64060/home/78222625', 'https://www.redfin.com/MO/Kansas-City/10401-N-Main-St-64155/home/78222492', 'https://www.redfin.com/MO/Kansas-City/435-NW-78th-Ter-64118/home/78256726', 'https://www.redfin.com/MO/Liberty/14521-State-Highway-A-64068/home/187207227', 'https://www.redfin.com/MO/Kansas-City/3534-NE-49th-Ter-64119/home/78245645', 'https://www.redfin.com/MO/Smithville/305-Maple-Ave-64089/home/78269119', 'https://www.redfin.com/MO/Excelsior-Springs/206-S-Kansas-City-Ave-64024/home/78240100', 'https://www.redfin.com/MO/Liberty/1210-Chestnut-Ct-64068/home/110236408', 'https://www.redfin.com/MO/Kearney/16614-NE-121st-Ter-64060/home/78271662', 'https://www.redfin.com/MO/Kansas-City/5036-NE-57th-St-64119/home/76977202', 'https://www.redfin.com/MO/Kearney/907-Meadowbrook-Dr-64060/home/182380124', 'https://www.redfin.com/MO/Kansas-City/9614-NE-97th-St-64157/home/102872013', 'https://www.redfin.com/MO/Smithville/902-Ash-Dr-64089/home/102853131', 'https://www.redfin.com/MO/Kansas-City/8704-Ne-87th-St-64157/home/78235858', 'https://www.redfin.com/MO/Holt/17410-Plattsburg-Rd-64048/home/181086277', 'https://www.redfin.com/MO/Kansas-City/6416-N-Cypress-Ave-64119/home/78216717', 'https://www.redfin.com/MO/Kearney/907-Maple-St-64060/home/78221543', 'https://www.redfin.com/MO/Kansas-City/8912-NE-Sammy-Ln-64155/home/106414421', 'https://www.redfin.com/MO/Kearney/Trct11-Watson-Dr-64060/home/172558607', 'https://www.redfin.com/MO/Kansas-City/7240-N-Askew-Ave-64119/home/78210865', 'https://www.redfin.com/MO/Kearney/Trac12-Watson-Dr-64060/home/172559593', 'https://www.redfin.com/MO/Kansas-City/522-NW-110th-St-64155/home/188591193', 'https://www.redfin.com/MO/Kansas-City/6761-N-Askew-Cir-64119/home/102845080', 'https://www.redfin.com/MO/Kearney/2003-Foxtail-Pt-64060/home/174978479', 'https://www.redfin.com/MO/Kearney/2304-Larkspur-Ln-64060/home/182380121', 'https://www.redfin.com/MO/Kearney/13303-Kelli-Dr-64060/home/103212736', 'https://www.redfin.com/MO/Kansas-City/713-White-Oak-Ln-64116/home/78267518', 'https://www.redfin.com/MO/Kansas-City/8510-NE-99th-St-64157/home/102854403', 'https://www.redfin.com/MO/Gladstone/401-NW-55th-Ter-64118/home/78258256', 'https://www.redfin.com/MO/Kansas-City/8725-N-Cypress-Ct-64156/home/175225159', 'https://www.redfin.com/MO/Kansas-City/4801-NE-105th-St-64156/home/175222457', 'https://www.redfin.com/MO/Holt/Tract-1-Nation-Rd-64048/home/188691023', 'https://www.redfin.com/MO/Kansas-City/9211-N-Overton-Ave-64157/home/109008986', 'https://www.redfin.com/MO/Kansas-City/5112-NE-60th-Ter-64119/home/78244973', 'https://www.redfin.com/MO/Excelsior-Springs/106-E-Forrest-Ln-64024/home/106415211', 'https://www.redfin.com/MO/Kansas-City/8901-N-Brighton-Ave-64156/home/186898536', 'https://www.redfin.com/MO/Kearney/727-Southbrook-Pkwy-64060/home/78221340', 'https://www.redfin.com/MO/Kearney/2048-Foxtail-Dr-64060/home/174978463', 'https://www.redfin.com/MO/Smithville/Lot-2-64089/home/188536727', 'https://www.redfin.com/MO/Kansas-City/5502-N-Poe-St-64119/home/78229255', 'https://www.redfin.com/MO/Kansas-City/10618-N-Mulberry-St-64155/home/182379477', 'https://www.redfin.com/MO/Liberty/208-Laura-St-64068/home/78262497', 'https://www.redfin.com/MO/Kearney/14615-Hills-Rd-64060/home/78253315', 'https://www.redfin.com/MO/Kansas-City/8707-NE-Shoal-Creek-Valley-Dr-64157/home/175225402', 'https://www.redfin.com/MO/Excelsior-Springs/911-Dunbar-St-64024/home/78240083', 'https://www.redfin.com/MO/Kansas-City/7419-N-Chas-Dr-64158/home/102861783', 'https://www.redfin.com/MO/Liberty/419-Lakeside-Dr-64068/home/78246634', 'https://www.redfin.com/MO/Kansas-City/1911-NE-100th-Ter-64155/home/103353074', 'https://www.redfin.com/MO/Excelsior-Springs/419-Old-Orchard-St-64024/home/78239756', 'https://www.redfin.com/MO/Kansas-City/2113-E-26th-Ave-64116/home/78247853', 'https://www.redfin.com/MO/Kansas-City/4704-NE-90th-Ter-64156/home/188102775', 'https://www.redfin.com/MO/Excelsior-Springs/Prospect-St-64024/home/78223679', 'https://www.redfin.com/MO/Kansas-City/8413-NE-104th-Ter-64157/home/175222723', 'https://www.redfin.com/MO/Smithville/521-Cape-Cod-Ct-64089/home/78236234', 'https://www.redfin.com/MO/Kansas-City/10204-N-Bales-Ave-64156/home/187454342', 'https://www.redfin.com/MO/Kansas-City/8823-N-Grand-Ave-64155/home/78256508', 'https://www.redfin.com/MO/Kearney/2303-Larkspur-Ln-64060/home/182380135', 'https://www.redfin.com/MO/Kansas-City/7305-NE-84th-Ct-64157/home/78265705', 'https://www.redfin.com/MO/Kansas-City/4520-N-Mulberry-Dr-64116/home/101773179', 'https://www.redfin.com/MO/Kansas-City/9704-N-Ditzler-Ct-64157/home/78218014', 'https://www.redfin.com/MO/Kansas-City/5232-N-Cambridge-Ave-64119/home/78229507', 'https://www.redfin.com/MO/Excelsior-Springs/2001-Brookeside-Cir-64024/home/78234897', 'https://www.redfin.com/MO/Kearney/Tract4-Watson-Dr-64060/home/171421251', 'https://www.redfin.com/MO/Kansas-City/8109-N-Farley-Ave-64158/home/110236519', 'https://www.redfin.com/MO/Kansas-City/406-NW-71st-Ter-64118/home/78275135', 'https://www.redfin.com/MO/Excelsior-Springs/920-Tracy-Ave-64024/home/78270296', 'https://www.redfin.com/MO/Kansas-City/5732-NE-Detroit-Ave-64119/home/78228782', 'https://www.redfin.com/MO/Smithville/Lot-1-64089/home/188536664', 'https://www.redfin.com/MO/Smithville/204-W-Meadow-St-64089/home/78220235', 'https://www.redfin.com/MO/Kansas-City/10320-N-Corrington-Ave-64156/home/188241551', 'https://www.redfin.com/MO/Excelsior-Springs/818-Dogwood-St-64024/home/102858833', 'https://www.redfin.com/MO/Kansas-City/9301-NE-98th-Ter-64157/home/175222910', 'https://www.redfin.com/MO/Kansas-City/7825-NE-51st-Ter-64119/home/78261900', 'https://www.redfin.com/MO/Kansas-City/3408-NE-68th-Ter-64119/home/78227155', 'https://www.redfin.com/MO/Excelsior-Springs/12416-Adam-St-64024/home/173949895', 'https://www.redfin.com/MO/Kansas-City/11811-N-Manning-Ave-64157/home/188158490', 'https://www.redfin.com/MO/Excelsior-Springs/251-Rock-Bridge-Pkwy-64024/home/78267385', 'https://www.redfin.com/MO/Kansas-City/4409-N-Charlotte-St-64116/home/78263497', 'https://www.redfin.com/MO/Kansas-City/4245-N-Chelsea-Ave-64117/home/78216430', 'https://www.redfin.com/MO/Kansas-City/4808-NE-73rd-St-64119/home/78251468', 'https://www.redfin.com/MO/Gladstone/71-The-Woodlands-64119/home/78244432', 'https://www.redfin.com/MO/Kearney/2211-Blue-Bell-Ter-64060/home/102856305', 'https://www.redfin.com/MO/Kearney/400-Anthony-Cir-64060/home/106413781', 'https://www.redfin.com/MO/Kansas-City/405-NW-Briarcliff-Pkwy-64116/home/78247197', 'https://www.redfin.com/MO/Kansas-City/4917-NE-105th-St-64156/home/175222469', 'https://www.redfin.com/MO/Kansas-City/8020-N-Drury-Ave-64119/unit-1D/home/85968757', 'https://www.redfin.com/MO/Kansas-City/4410-NE-103rd-Ter-64156/home/102849793', 'https://www.redfin.com/MO/Smithville/409-Street-64089/home/188135437', 'https://www.redfin.com/MO/Trimble/305-N-169-Hwy-64492/home/78268650', 'https://www.redfin.com/MO/Smithville/Lot-3-F-Hwy-64089/home/188536732', 'https://www.redfin.com/MO/Excelsior-Springs/525-Benton-Ave-64024/home/102847174', 'https://www.redfin.com/MO/Kansas-City/2817-NE-102nd-St-64155/home/182379786', 'https://www.redfin.com/MO/Kansas-City/9024-N-Manning-Ave-64157/home/78259210', 'https://www.redfin.com/MO/Liberty/1031-Jasmine-Dr-64068/home/182381495', 'https://www.redfin.com/MO/Smithville/Whb-Rd-64089/home/180670623', 'https://www.redfin.com/MO/Smithville/Unknown-64089/home/175681860', 'https://www.redfin.com/MO/Kansas-City/8811-NE-73rd-Ter-64158/home/78211731', 'https://www.redfin.com/MO/Kansas-City/4443-N-Cypress-Ave-64117/home/188239889', 'https://www.redfin.com/MO/Liberty/1812-Homestead-Dr-64068/home/184926879', 'https://www.redfin.com/MO/Kansas-City/8816-N-Elmwood-Ave-64156/home/175225134', 'https://www.redfin.com/MO/Kansas-City/5108-NE-45th-St-64117/home/78215908', 'https://www.redfin.com/MO/Kansas-City/6125-N-Lister-Ct-64119/home/78251431', 'https://www.redfin.com/MO/Kearney/Tract3-Watson-Dr-64060/home/172558591', 'https://www.redfin.com/MO/Smithville/401-Lake-Meadows-Dr-64089/home/78234013', 'https://www.redfin.com/MO/Smithville/601-Woodland-St-64089/home/182378985', 'https://www.redfin.com/MO/Kansas-City/4429-NE-67th-St-64119/home/78219530', 'https://www.redfin.com/MO/Kansas-City/8000-NE-120th-St-64167/home/78218793', 'https://www.redfin.com/MO/Kansas-City/Nw-Englewood-Rd-64118/home/78241999', 'https://www.redfin.com/MO/Kansas-City/7925-NE-54th-St-64119/home/78262013', 'https://www.redfin.com/MO/Liberty/607-Camelot-Dr-64068/home/102843485', 'https://www.redfin.com/MO/Kansas-City/4415-NE-63rd-St-64119/home/114565015', 'https://www.redfin.com/MO/Kansas-City/9118-N-Bales-Ave-64156/home/187200378', 'https://www.redfin.com/MO/Holt/Tract-2-Nation-Rd-64048/home/188691026', 'https://www.redfin.com/MO/Kansas-City/4808-NE-102-St-64156/home/175222530', 'https://www.redfin.com/MO/Kansas-City/10001-N-Euclid-Ave-64155/home/103458314', 'https://www.redfin.com/MO/Kansas-City/8812-N-Lister-Ct-64156/home/175225121', 'https://www.redfin.com/MO/Kansas-City/10607-N-Michigan-Ave-64155/home/78234685', 'https://www.redfin.com/MO/Kansas-City/11115-N-Skiles-Ave-64157/home/78217737', 'https://www.redfin.com/MO/Liberty/1725-Bluebell-Ave-64068/home/78233511', 'https://www.redfin.com/MO/Kansas-City/4842-N-White-Ave-64119/home/102871294', 'https://www.redfin.com/MO/Excelsior-Springs/12502-Adam-St-64024/home/78249492', 'https://www.redfin.com/MO/Kearney/213-Old-Trail-Run-64060/home/78217864', 'https://www.redfin.com/MO/Kansas-City/2809-NE-64th-St-64119/home/78228453', 'https://www.redfin.com/MO/Liberty/708-White-Oak-Ln-64068/home/78263013', 'https://www.redfin.com/MO/Kansas-City/9841-NE-104th-Ter-64157/home/182379993', 'https://www.redfin.com/MO/Liberty/14725-Missouri-Route-A-64068/home/78265205', 'https://www.redfin.com/MO/Kansas-City/17-NE-90th-Ter-64155/home/78256441', 'https://www.redfin.com/MO/Liberty/1319-Willow-Wood-Ln-64068/home/78259450', 'https://www.redfin.com/MO/Kansas-City/7116-NE-46th-St-64117/home/78265131', 'https://www.redfin.com/MO/Liberty/12510-Northern-Ave-64068/home/106415430', 'https://www.redfin.com/MO/Kansas-City/11721-N-Lane-Ave-64157/home/188158564', 'https://www.redfin.com/MO/Liberty/1204-Goldenrain-Tree-Cir-64068/home/78263139', 'https://www.redfin.com/MO/Kansas-City/6045-N-Colorado-Ave-64119/home/78212478', 'https://www.redfin.com/MO/Kansas-City/4815-NE-46th-Ter-64117/home/78248175', 'https://www.redfin.com/MO/Kansas-City/3640-NE-91st-Ter-64156/home/187672197', 'https://www.redfin.com/MO/Kansas-City/6215-N-Harrison-St-64118/home/78225818', 'https://www.redfin.com/MO/Kansas-City/4412-N-Mulberry-Dr-64116/home/78247605', 'https://www.redfin.com/MO/Kansas-City/10325-N-Corrington-Ave-64156/home/188711400', 'https://www.redfin.com/MO/Liberty/511-Amhurst-St-64068/home/78217508', 'https://www.redfin.com/MO/Kansas-City/4011-NE-Antioch-Rd-64117/home/78264588', 'https://www.redfin.com/MO/Kansas-City/10901-N-Oxford-Ave-64157/home/78271503', 'https://www.redfin.com/MO/Holt/17912-Plattsburg-Rd-64048/home/78220831', 'https://www.redfin.com/MO/Smithville/7607-NE-168th-St-64089/home/78232868', 'https://www.redfin.com/MO/Kansas-City/6819-NE-113th-Ter-64156/home/102851685', 'https://www.redfin.com/MO/Kansas-City/9804-N-Laurel-Ave-64157/home/175222901', 'https://www.redfin.com/MO/Liberty/431-Kings-Rdg-64068/home/78227094', 'https://www.redfin.com/MO/Liberty/1101-Wellington-Way-64068/home/102854813', 'https://www.redfin.com/MO/Excelsior-Springs/117-Ridgeway-Dr-64024/home/76821078', 'https://www.redfin.com/MO/Gladstone/304-NE-65th-St-64118/home/78226052', 'https://www.redfin.com/MO/Excelsior-Springs/TBD-Clark-RD-64024/home/188775340', 'https://www.redfin.com/MO/Gladstone/6006-N-Howard-Ave-64118/home/78226380', 'https://www.redfin.com/MO/Kansas-City/8900-NE-118th-Ct-64157/home/188158649', 'https://www.redfin.com/MO/Kansas-City/8100-NE-50th-St-64119/home/78245772', 'https://www.redfin.com/MO/Kansas-City/7937-NE-80th-Ter-64158/home/78235760', 'https://www.redfin.com/MO/Excelsior-Springs/12806-McCleary-Rd-64024/home/78239996', 'https://www.redfin.com/MO/Pleasant-Valley/8816-Timber-Creek-Ln-64068/home/106415912', 'https://www.redfin.com/MO/Kansas-City/7806-NE-106th-Pl-64157/home/187199147', 'https://www.redfin.com/MO/Excelsior-Springs/831-Saint-Louis-Ave-64024/home/78272242', 'https://www.redfin.com/MO/Liberty/2161-Black-Walnut-Dr-64068/home/188862467', 'https://www.redfin.com/MO/Kansas-City/10427-N-Wallace-Ave-64157/home/175222708', 'https://www.redfin.com/MO/Kansas-City/1221-E-22nd-Ave-64116/home/78247833', 'https://www.redfin.com/MO/Smithville/269-N-Bridge-St-64089/home/78236650', 'https://www.redfin.com/MO/Kansas-City/8864-N-Poplar-Ave-64156/home/182380757', 'https://www.redfin.com/MO/Lawson/16623-Salem-Rd-64062/home/188003113', 'https://www.redfin.com/MO/Kansas-City/3648-NE-91st-Ter-64155/home/188638787', 'https://www.redfin.com/MO/Kansas-City/12213-N-Virginia-Ave-64165/home/171653436', 'https://www.redfin.com/MO/Kansas-City/4821-N-White-Ave-64119/home/85968784', 'https://www.redfin.com/MO/Kansas-City/5101-N-Jefferson-St-64118/home/78225998', 'https://www.redfin.com/MO/Liberty/412-Ellas-Way-64068/home/182381409', 'https://www.redfin.com/MO/Kansas-City/6205-N-Chelsea-Ave-64119/home/172555474', 'https://www.redfin.com/MO/Kearney/Tract6-Watson-Dr-64060/home/171421252', 'https://www.redfin.com/MO/Gladstone/1304-NE-56th-Ter-64118/home/78274662', 'https://www.redfin.com/MO/Excelsior-Springs/240-Rock-Bridge-Pkwy-64024/home/78234899', 'https://www.redfin.com/MO/Kansas-City/9736-N-Laurel-Ave-64157/home/175222900', 'https://www.redfin.com/MO/Kansas-City/8509-N-Kensington-Ave-64156/home/168268748', 'https://www.redfin.com/MO/Kansas-City/8600-NE-87th-St-64157/home/188732738', 'https://www.redfin.com/MO/Kansas-City/5240-N-Baltimore-Ave-64118/home/78259086', 'https://www.redfin.com/MO/Kansas-City/9101-NE-97th-St-64157/home/78250571', 'https://www.redfin.com/MO/Kearney/13203-Oakbrook-Ct-64060/home/144026080', 'https://www.redfin.com/MO/Kansas-City/634-NE-100th-St-64155/home/110236707', 'https://www.redfin.com/MO/Kearney/1722-Cambridge-Cir-64060/home/78265635', 'https://www.redfin.com/MO/Kansas-City/1105-NW-94th-Ter-64155/home/175223696', 'https://www.redfin.com/MO/Kansas-City/5400-NE-92nd-St-64156/home/78266529', 'https://www.redfin.com/MO/Kansas-City/7623-N-Lawn-Ave-64119/home/78251919', 'https://www.redfin.com/MO/Kansas-City/9004-NE-111th-Pl-64157/home/172072507', 'https://www.redfin.com/MO/Kansas-City/7616-N-Donnelly-Ave-64158/home/175225681', 'https://www.redfin.com/MO/Liberty/987-Sherman-Dr-64068/home/78250608', 'https://www.redfin.com/MO/Kansas-City/8627-NE-72nd-Ter-64158/home/78244004', 'https://www.redfin.com/MO/Excelsior-Springs/727-Old-Orchard-St-64024/home/78239926', 'https://www.redfin.com/MO/Kearney/610-E-11th-St-64060/home/188826263', 'https://www.redfin.com/MO/Kansas-City/5310-NE-Barnes-Ave-64119/home/78212798', 'https://www.redfin.com/MO/Kansas-City/3644-NE-91st-Ter-64156/home/188638801', 'https://www.redfin.com/MO/Kansas-City/15-NE-90th-Ter-64155/home/78256440', 'https://www.redfin.com/MO/Kansas-City/5846-N-Spruce-Ave-64119/home/102862289', 'https://www.redfin.com/MO/Excelsior-Springs/2206-Corbin-Ct-64024/home/172072644', 'https://www.redfin.com/MO/Kearney/2106-Victory-Ln-64060/home/102871259', 'https://www.redfin.com/MO/Kearney/400-Lee-Dr-64060/home/78233538', 'https://www.redfin.com/MO/Kearney/2102-Foxtail-Dr-64060/home/103211818', 'https://www.redfin.com/MO/Kansas-City/1918-NE-111th-Ct-64155/home/144025900', 'https://www.redfin.com/MO/Kansas-City/10200-N-Bales-Ave-64155/home/182379801', 'https://www.redfin.com/MO/Smithville/319-E-Meadow-St-64089/home/179130658', 'https://www.redfin.com/MO/Pleasant-Valley/8825-Timber-Creek-Ln-64068/home/78218860', 'https://www.redfin.com/MO/Kearney/WTrct7-Watson-Dr-64060/home/172558611', 'https://www.redfin.com/MO/Kansas-City/8920-N-Walnut-St-64155/home/78224384', 'https://www.redfin.com/MO/Kansas-City/9427-N-Ditzler-Ave-64157/home/78217282'}, 'Buchanan-County': {'https://www.redfin.com/MO/Saint-Joseph/2713-Meadow-Ridge-Dr-64504/home/162706007', 'https://www.redfin.com/MO/Saint-Joseph/6804-Ollmeda-St-64504/home/77760665', 'https://www.redfin.com/MO/Saint-Joseph/1113-N-18th-St-64501/home/77746800', 'https://www.redfin.com/MO/Saint-Joseph/2702-North-Pass-64503/home/77769956', 'https://www.redfin.com/MO/Saint-Joseph/4631-Gene-Field-Rd-64506/home/77749776', 'https://www.redfin.com/MO/Saint-Joseph/213-Harvard-St-64504/home/77771863', 'https://www.redfin.com/MO/Saint-Joseph/2631-Jules-St-64501/home/77761403', 'https://www.redfin.com/MO/Saint-Joseph/1419-Penn-St-64503/home/177149784', 'https://www.redfin.com/MO/Saint-Joseph/4215-S-169-Hwy-64503/home/162718182', 'https://www.redfin.com/MO/Saint-Joseph/18-Bear-Cir-64506/home/77756954', 'https://www.redfin.com/MO/Saint-Joseph/2308-Jules-St-64501/home/77761339', 'https://www.redfin.com/MO/Saint-Joseph/4113-Hidden-Valley-Dr-64506/home/162744747', 'https://www.redfin.com/MO/Saint-Joseph/2424-Duncan-St-64507/home/77767225', 'https://www.redfin.com/MO/St-Joseph/3336-Pear-St-64503/home/188826030', 'https://www.redfin.com/MO/Saint-Joseph/2220-Lafayette-St-64507/home/77765714', 'https://www.redfin.com/MO/St-Joseph/00-Lot-1-N-169-HWY-64506/home/186429421', 'https://www.redfin.com/MO/Saint-Joseph/326-Ozark-St-64504/home/77755843', 'https://www.redfin.com/MO/Saint-Joseph/2206-Sterling-St-64503/home/162750851', 'https://www.redfin.com/MO/Saint-Joseph/1702-Main-St-64505/home/77753924', 'https://www.redfin.com/MO/Saint-Joseph/36-S-Carriage-Dr-64506/home/77745751', 'https://www.redfin.com/MO/Saint-Joseph/3213-Messanie-St-64501/home/77762858', 'https://www.redfin.com/MO/Saint-Joseph/4732-Woodland-Ct-64505/home/177845048', 'https://www.redfin.com/MO/Saint-Joseph/1903-Berkshire-Dr-64506/home/77757481', 'https://www.redfin.com/MO/St-Joseph/Huntoon-Rd-64505/home/162698981', 'https://www.redfin.com/MO/Saint-Joseph/2202-Buckingham-St-64506/home/77757179', 'https://www.redfin.com/MO/St-Joseph/3800-Beck-Rd-64506/home/177007316', 'https://www.redfin.com/MO/Saint-Joseph/4301-N-169-Hwy-64506/home/162698223', 'https://www.redfin.com/MO/Saint-Joseph/6514-S-14th-St-64504/home/77756482', 'https://www.redfin.com/MO/Saint-Joseph/4704-Donnelly-Dr-64506/home/77749566', 'https://www.redfin.com/MO/Dearborn/18801-14th-Rd-SE-64439/home/172537934', 'https://www.redfin.com/MO/Saint-Joseph/1322-Olive-St-64503/home/77754084', 'https://www.redfin.com/MO/Saint-Joseph/608-E-Colorado-Ave-64504/home/77760948', 'https://www.redfin.com/MO/Dearborn/105-Troutman-Cir-64439/home/186021519', 'https://www.redfin.com/MO/Saint-Joseph/708-N-10th-St-64501/home/77763919', 'https://www.redfin.com/MO/St-Joseph/1525-N-2nd-St-64505/home/188239770', 'https://www.redfin.com/MO/Saint-Joseph/2918-N-10th-St-64505/home/77747318', 'https://www.redfin.com/MO/Saint-Joseph/1828-Lovers-Ln-64505/home/77758760', 'https://www.redfin.com/MO/St-Joseph/428-N-21st-St-64501/home/77753508', 'https://www.redfin.com/MO/Saint-Joseph/1409-Olive-St-64503/home/162749419', 'https://www.redfin.com/MO/Saint-Joseph/2730-S-22nd-St-64503/home/77754868', 'https://www.redfin.com/MO/Saint-Joseph/513-Fleeman-St-64504/home/77771769', 'https://www.redfin.com/MO/Saint-Joseph/2601-Duncan-St-64507/home/77766981', 'https://www.redfin.com/MO/St-Joseph/N-Woodbine-Rd-64506/home/179308763', 'https://www.redfin.com/MO/Saint-Joseph/4703-Crystal-Dr-64503/home/77755640', 'https://www.redfin.com/MO/Saint-Joseph/602-Jules-St-64501/home/77747622', 'https://www.redfin.com/MO/Gower/9997-SE-State-Route-Dd-64454/home/185974549', 'https://www.redfin.com/MO/St-Joseph/5322-SE-Riverside-Ter-64507/home/180564018', 'https://www.redfin.com/MO/St-Joseph/66-Empire-Ln-64503/home/186229285', 'https://www.redfin.com/MO/Saint-Joseph/1421-Penn-St-64503/home/77766270', 'https://www.redfin.com/MO/Saint-Joseph/1404-Sylvanie-St-64501/home/77760028', 'https://www.redfin.com/MO/Saint-Joseph/601-W-Stonecrest-Cir-64506/home/77757923', 'https://www.redfin.com/MO/Saint-Joseph/3105-Pear-St-64503/home/162717269', 'https://www.redfin.com/MO/Saint-Joseph/2711-Meadow-Ridge-Dr-64504/home/162706009', 'https://www.redfin.com/MO/St-Joseph/712-714-714-1-2-Powell-St-64501/home/188158621', 'https://www.redfin.com/MO/Saint-Joseph/5409-Greencrest-Rd-64505/home/77752268', 'https://www.redfin.com/MO/Saint-Joseph/2715-Faraon-St-64501/home/77761238', 'https://www.redfin.com/MO/St-Joseph/4608-Rock-Springs-Rd-64505/home/188174221', 'https://www.redfin.com/MO/Saint-Joseph/2701-Meadow-Ridge-Dr-64504/home/162730535', 'https://www.redfin.com/MO/Saint-Joseph/2820-Clay-St-64501/home/77762033', 'https://www.redfin.com/MO/Saint-Joseph/2403-Woodridge-Ct-64506/home/77757223', 'https://www.redfin.com/MO/Rushville/804-Valley-St-64484/home/77773285', 'https://www.redfin.com/MO/Saint-Joseph/3910-Faraon-St-64506/home/77757612', 'https://www.redfin.com/MO/Saint-Joseph/4911-N-Creekwood-Dr-64507/home/187479101', 'https://www.redfin.com/MO/St-Joseph/5810-Diagonal-Ave-64504/home/185159955', 'https://www.redfin.com/MO/Saint-Joseph/2006-Fountain-Creek-Dr-64504/home/162718799', 'https://www.redfin.com/MO/Saint-Joseph/5920-S-22nd-St-64503/home/77769909', 'https://www.redfin.com/MO/Gower/9994-SE-State-Route-Dd-64454/home/185984044', 'https://www.redfin.com/MO/Saint-Joseph/1307-N-13th-St-64501/home/77763511', 'https://www.redfin.com/MO/Saint-Joseph/5506-Long-View-Dr-64503/home/77755327', 'https://www.redfin.com/MO/Saint-Joseph/2405-Lafayette-St-64507/home/77754682', 'https://www.redfin.com/MO/Saint-Joseph/919-Mason-Rd-64504/home/77771722', 'https://www.redfin.com/MO/Saint-Joseph/4117-Autumn-Ridge-Ct-64505/home/170243303', 'https://www.redfin.com/MO/Saint-Joseph/6607-Ridgeway-St-64504/home/162752075', 'https://www.redfin.com/MO/Saint-Joseph/403-S-Belt-Hwy-64506/home/162700063', 'https://www.redfin.com/MO/Saint-Joseph/2204-Sterling-St-64503/home/162705413', 'https://www.redfin.com/MO/Saint-Joseph/2910-Jules-St-64501/home/77762518', 'https://www.redfin.com/MO/Saint-Joseph/404-Massachusetts-St-64504/home/77770488', 'https://www.redfin.com/MO/Saint-Joseph/2838-Messanie-St-64501/home/77765104', 'https://www.redfin.com/MO/Dearborn/103-Troutman-CIR-64439/home/186240398', 'https://www.redfin.com/MO/Easton/12911-Spring-Holler-SE-64443/home/187398889', 'https://www.redfin.com/MO/Saint-Joseph/2704-Meadow-Ridge-Dr-64504/home/162718816', 'https://www.redfin.com/MO/Agency/5100-SE-Pigeon-Hill-Rd-64401/home/186153364', 'https://www.redfin.com/MO/Saint-Joseph/2601-Patee-St-64507/home/77754265', 'https://www.redfin.com/MO/Marion-Township/Spring-Holler-SE-64443/home/174245562', 'https://www.redfin.com/MO/Saint-Joseph/322-E-Highland-Ave-64505/home/77747226', 'https://www.redfin.com/MO/Saint-Joseph/521-S-6th-St-64501/home/162727259', 'https://www.redfin.com/MO/Gower/9991-SE-State-Route-Dd-64454/home/185974034', 'https://www.redfin.com/MO/Saint-Joseph/4219-Greystone-Dr-64505/home/170243136', 'https://www.redfin.com/MO/Saint-Joseph/2215-Agency-Rd-64503/home/77748134', 'https://www.redfin.com/MO/Saint-Joseph/6623-Carnegie-St-64504/home/77771326', 'https://www.redfin.com/MO/St-Joseph/1509-W-Broadway-St-64505/home/171169465', 'https://www.redfin.com/MO/Saint-Joseph/1605-S-13th-St-64503/home/77754422', 'https://www.redfin.com/MO/Saint-Joseph/5314-Pryor-Ave-64504/home/77761078', 'https://www.redfin.com/MO/Saint-Joseph/3137-Hawthorne-Dr-64501/home/77762172', 'https://www.redfin.com/MO/Saint-Joseph/423-N-Noyes-Blvd-64501/home/77762047', 'https://www.redfin.com/MO/Rushville/808-Valley-St-64484/home/77773288', 'https://www.redfin.com/MO/Saint-Joseph/2848-Patee-St-64507/home/77765569', 'https://www.redfin.com/MO/Saint-Joseph/5606-Osage-Dr-64503/home/77769311', 'https://www.redfin.com/MO/Saint-Joseph/4731-Woodland-Ct-64505/home/177845200', 'https://www.redfin.com/MO/Saint-Joseph/2401-Lafayette-St-64507/home/77754702', 'https://www.redfin.com/MO/Saint-Joseph/1502-Harmon-St-64504/home/77769898', 'https://www.redfin.com/MO/Saint-Joseph/2018-N-16th-St-64505/home/77758776', 'https://www.redfin.com/MO/Saint-Joseph/1330-Buchanan-Ave-64501/home/77753342', 'https://www.redfin.com/MO/Saint-Joseph/806-S-15th-St-64501/home/77766564', 'https://www.redfin.com/MO/Saint-Joseph/1805-Pacific-St-64503/home/77766744', 'https://www.redfin.com/MO/Saint-Joseph/2702-Seneca-St-64507/home/77754206', 'https://www.redfin.com/MO/Saint-Joseph/635-N-22nd-St-64506/home/77759675', 'https://www.redfin.com/MO/St-Joseph/8750-Missouri-6-64507/home/184440226', 'https://www.redfin.com/MO/Saint-Joseph/817-S-16th-St-64501/home/77766538', 'https://www.redfin.com/MO/Saint-Joseph/4027-Pickett-Rd-64503/home/162738645', 'https://www.redfin.com/MO/Saint-Joseph/2315-Felix-St-64501/home/77761676', 'https://www.redfin.com/MO/Saint-Joseph/2509-Glenn-St-64503/home/77749068', 'https://www.redfin.com/MO/Saint-Joseph/513-E-Colorado-Ave-64504/home/77760700', 'https://www.redfin.com/MO/Saint-Joseph/410-Woodcrest-Dr-64506/home/77757823', 'https://www.redfin.com/MO/Saint-Joseph/6506-Lake-Ave-64504/home/162730903', 'https://www.redfin.com/MO/Saint-Joseph/2910-Karnes-Rd-64506/home/103767415', 'https://www.redfin.com/MO/Saint-Joseph/4409-Orchard-Rd-64505/home/77752502', 'https://www.redfin.com/MO/Saint-Joseph/417-N-16th-St-64501/home/77753374', 'https://www.redfin.com/MO/Saint-Joseph/1615-Clifford-St-64505/home/77752380', 'https://www.redfin.com/MO/Saint-Joseph/3510-Seneca-St-64507/home/77764863', 'https://www.redfin.com/MO/Saint-Joseph/418-S-10-St-64501/home/77747602', 'https://www.redfin.com/MO/Saint-Joseph/1812-S-22nd-St-64507/home/77766681', 'https://www.redfin.com/MO/Saint-Joseph/428-Haeberle-St-64504/home/77771913', 'https://www.redfin.com/MO/Saint-Joseph/4503-Valley-Ln-64503/home/77760284', 'https://www.redfin.com/MO/Saint-Joseph/4002-E-Haverill-Dr-64506/home/77751022', 'https://www.redfin.com/MO/Saint-Joseph/930-Sunset-Dr-64503/home/77764187', 'https://www.redfin.com/MO/Saint-Joseph/6641-Washington-St-64504/home/77771513', 'https://www.redfin.com/MO/Saint-Joseph/315-W-Chestnut-St-64505/home/77763386', 'https://www.redfin.com/MO/Gower/13291-SE-Mount-Moriah-Rd-64454/home/173254567', 'https://www.redfin.com/MO/St-Joseph/00-Lot-2-N-169-HWY-64506/home/186465396', 'https://www.redfin.com/MO/Saint-Joseph/5917-Corporate-Dr-64507/home/162720149', 'https://www.redfin.com/MO/Saint-Joseph/S-14th-St-64504/home/77769712', 'https://www.redfin.com/MO/Saint-Joseph/4730-Woodland-Ct-64505/home/177845486', 'https://www.redfin.com/MO/Saint-Joseph/3103-Cook-Rd-64506/home/162724105', 'https://www.redfin.com/MO/Saint-Joseph/816-S-20th-St-64507/home/77766063', 'https://www.redfin.com/MO/Saint-Joseph/1806-N-Woodbine-Rd-64506/home/162699924', 'https://www.redfin.com/MO/Gower/9992-SE-State-Route-Dd-64454/home/185974284', 'https://www.redfin.com/MO/St-Joseph/4708-Woodland-Shores-DR-64505/home/177843905', 'https://www.redfin.com/MO/St-Joseph/5421-N-Pointe-Rd-64506/home/173251323', 'https://www.redfin.com/MO/Saint-Joseph/722-Mount-Mora-Rd-64501/home/77747594', 'https://www.redfin.com/MO/Saint-Joseph/4308-N-Devonshire-Dr-64506/home/77746016', 'https://www.redfin.com/MO/Saint-Joseph/2709-Jersey-St-64505/home/77752299', 'https://www.redfin.com/MO/Saint-Joseph/2429-S-14-St-64503/home/162704685', 'https://www.redfin.com/MO/Saint-Joseph/1811-Pacific-St-64503/home/77766741', 'https://www.redfin.com/MO/Saint-Joseph/1421-S-18th-St-64507/home/77766389', 'https://www.redfin.com/MO/Saint-Joseph/312-N-20th-St-64501/home/77753186', 'https://www.redfin.com/MO/Saint-Joseph/1123-Prospect-Ave-64501/home/77763775', 'https://www.redfin.com/MO/Agency/Se-State-Route-H-64401/home/162707089', 'https://www.redfin.com/MO/Saint-Joseph/2305-Bent-Tree-Ct-64506/home/77757273', 'https://www.redfin.com/MO/Saint-Joseph/5837-King-Hill-Ave-64504/home/77771868', 'https://www.redfin.com/MO/Saint-Joseph/3809-Saint-Joseph-Ave-64505/home/77751678', 'https://www.redfin.com/MO/Saint-Joseph/2908-Pear-St-64503/home/162738942', 'https://www.redfin.com/MO/Saint-Joseph/2330-S-12th-St-64503/home/77764535', 'https://www.redfin.com/MO/Saint-Joseph/211-N-21st-St-64501/home/77753166', 'https://www.redfin.com/MO/Saint-Joseph/2834-Blackwell-Rd-64506/home/77745958', 'https://www.redfin.com/MO/Saint-Joseph/5201-University-Ave-64503/home/162729612', 'https://www.redfin.com/MO/St-Joseph/2310-Alabama-St-64504/home/173252098', 'https://www.redfin.com/MO/Saint-Joseph/205-E-Vassar-St-64504/home/77771972', 'https://www.redfin.com/MO/Saint-Joseph/2703-Penn-St-64507/home/77754216', 'https://www.redfin.com/MO/Saint-Joseph/6550-SE-Dakota-Trl-64507/home/77772104', 'https://www.redfin.com/MO/Saint-Joseph/4002-Greywood-Ln-64505/home/170243192', 'https://www.redfin.com/MO/Saint-Joseph/3202-34th-Ter-64503/home/77768126', 'https://www.redfin.com/MO/Saint-Joseph/2811-S-19th-St-64503/home/77759960', 'https://www.redfin.com/MO/Saint-Joseph/1906-Eugene-Field-Ave-64505/home/77758745', 'https://www.redfin.com/MO/Saint-Joseph/1118-Lafayette-St-64503/home/77754540', 'https://www.redfin.com/MO/Saint-Joseph/2211-Pike-St-64503/home/162729636', 'https://www.redfin.com/MO/Saint-Joseph/10304-SW-State-Route-JJ-64504/home/77772713', 'https://www.redfin.com/MO/Saint-Joseph/2203-Vories-St-64507/home/77748199', 'https://www.redfin.com/MO/Saint-Joseph/826-S-14th-St-64501/home/183351169', 'https://www.redfin.com/MO/Saint-Joseph/5004-Mulberry-Ter-64506/home/162700150', 'https://www.redfin.com/MO/Saint-Joseph/707-N-12th-St-64501/home/77763192', 'https://www.redfin.com/MO/Saint-Joseph/622-Hamburg-St-64505/home/77747407', 'https://www.redfin.com/MO/Saint-Joseph/18-E-Hyde-Park-Ave-64504/home/77755714', 'https://www.redfin.com/MO/Saint-Joseph/4400-Stonebridge-Dr-W-64505/home/170243240', 'https://www.redfin.com/MO/Saint-Joseph/2707-Coop-Dr-64506/home/168236171', 'https://www.redfin.com/MO/St-Joseph/3500-Waterworks-Rd-64505/home/181158289', 'https://www.redfin.com/MO/Easton/10510-Missouri-6-64443/home/173256134', 'https://www.redfin.com/MO/Saint-Joseph/2718-S-24th-St-64503/home/77767444', 'https://www.redfin.com/MO/Saint-Joseph/2845-Mitchell-Ave-64507/home/77765216', 'https://www.redfin.com/MO/Saint-Joseph/4406-W-Haverill-Dr-64506/home/77745675', 'https://www.redfin.com/MO/Saint-Joseph/2417-Big-Pine-Dr-64503/home/77748115', 'https://www.redfin.com/MO/Saint-Joseph/3004-Seneca-St-64507/home/77765346', 'https://www.redfin.com/MO/Saint-Joseph/1720-Dewey-Ave-64505/home/77753917', 'https://www.redfin.com/MO/Saint-Joseph/2710-Excello-Dr-64503/home/77769973', 'https://www.redfin.com/MO/Saint-Joseph/N-Village-Dr-64506/home/76642736', 'https://www.redfin.com/MO/Saint-Joseph/S-4th-St-64504/home/162751679', 'https://www.redfin.com/MO/Agency/11120-State-Route-HWY-E-64401/home/187683913', 'https://www.redfin.com/MO/Saint-Joseph/10367-SW-Bluff-Rd-64504/home/77773075', 'https://www.redfin.com/MO/Saint-Joseph/7930-SE-State-Route-FF-64507/home/77772289', 'https://www.redfin.com/MO/Saint-Joseph/1319-Garfield-Ave-64503/home/77764203', 'https://www.redfin.com/MO/Saint-Joseph/1216-Ashland-Ave-64506/home/77759462', 'https://www.redfin.com/MO/St-Joseph/4411-Rochester-Rd-64506/home/180568987', 'https://www.redfin.com/MO/Saint-Joseph/426-N-16th-St-64501/home/77753381', 'https://www.redfin.com/MO/Rushville/18870-M-HWY-64484/home/187369526', 'https://www.redfin.com/MO/Saint-Joseph/1621-S-9th-St-64503/home/77754394', 'https://www.redfin.com/MO/Saint-Joseph/714-S-Woodbine-Rd-64507/home/77768242', 'https://www.redfin.com/MO/St-Joseph/10620-SE-32nd-Rd-64507/home/173256718', 'https://www.redfin.com/MO/Saint-Joseph/4734-Woodland-Ct-64505/home/177844875', 'https://www.redfin.com/MO/Saint-Joseph/2802-Frederick-Ave-64506/home/77761824', 'https://www.redfin.com/MO/Saint-Joseph/3535-Scott-St-64507/home/77754473', 'https://www.redfin.com/MO/St-Joseph/Highway-169-64506/home/182377636', 'https://www.redfin.com/MO/Saint-Joseph/1107-Powell-St-64501/home/77763155', 'https://www.redfin.com/MO/Saint-Joseph/712-Francis-St-64501/unit-A/home/77747606', 'https://www.redfin.com/MO/Saint-Joseph/5106-Amazonia-Rd-64505/home/77751318', 'https://www.redfin.com/MO/Saint-Joseph/1005-W-Valley-St-64504/home/77770844', 'https://www.redfin.com/MO/Gower/9996-SE-State-Route-Dd-64454/home/185986119', 'https://www.redfin.com/MO/St-Joseph/Weisenborn-Rd-64507/home/185556914', 'https://www.redfin.com/MO/Saint-Joseph/3734-Charles-St-64506/home/162711362', 'https://www.redfin.com/MO/Saint-Joseph/2102-N-31st-Ter-64506/home/77758053', 'https://www.redfin.com/MO/Saint-Joseph/3106-N-39th-Ter-64506/home/162723719', 'https://www.redfin.com/MO/Saint-Joseph/3109-Pickett-Rd-64503/home/77767912', 'https://www.redfin.com/MO/Saint-Joseph/3001-Felix-St-64501/home/77762034', 'https://www.redfin.com/MO/Saint-Joseph/4904-Stonebridge-Dr-E-64505/home/183350616', 'https://www.redfin.com/MO/Saint-Joseph/3040-Edmond-St-64501/home/77762288', 'https://www.redfin.com/MO/Saint-Joseph/4733-Woodland-Ct-64505/home/177844948', 'https://www.redfin.com/MO/Saint-Joseph/1225-5th-Ave-64505/home/77758691', 'https://www.redfin.com/MO/Dearborn/106-Troutman-Cir-64439/home/186240479', 'https://www.redfin.com/MO/Saint-Joseph/2310-Charles-St-64501/home/77761698'}, 'Warren-County': {'https://www.redfin.com/MO/Owensville/18704-State-Hwy-O-65066/home/181960654', 'https://www.redfin.com/MO/Warrenton/Warrenton/Westbrook/home/188405492', 'https://www.redfin.com/MO/Jonesburg/29035-State-Highway-Y-63351/home/76647309', 'https://www.redfin.com/MO/Marthasville/14-Hunters-Ridge-63357/home/181267809', 'https://www.redfin.com/MO/Wright-City/Laurel-Iii-alder-Creek-Unknown/home/188637039', 'https://www.redfin.com/MO/Pinckney-Township/S-Farms-Rd-63383/home/80204644', 'https://www.redfin.com/MO/Lake-Sherwood/1606-Marion-Dr-63357/home/76649453', 'https://www.redfin.com/MO/Warren-County/1541-King-Arthur-Dr-65041/home/62706464', 'https://www.redfin.com/MO/Foristell/Foristell/Barkley/home/188377971', 'https://www.redfin.com/MO/Foristell/Foristell/Rochester/home/188376574', 'https://www.redfin.com/MO/New-Florence/38-Lake-Shore-Dr-N-63363/home/76647437', 'https://www.redfin.com/MO/Marthasville/Pinckney-Bottom-Rd-63357/home/76658623', 'https://www.redfin.com/MO/Innsbrook/134-Geneva-Cove-Dr-63390/home/76655918', 'https://www.redfin.com/MO/North-Elkhorn-Township/8-Marks-Crossing-Cir-63383/home/178316338', 'https://www.redfin.com/MO/Truesdale/Truesdale/Maple/home/188380603', 'https://www.redfin.com/MO/Marthasville/501-E-North-St-63357/home/76653216', 'https://www.redfin.com/MO/Wright-City/0-State-Highway-J-63390/home/186364475', 'https://www.redfin.com/MO/Marthasville/172-S-Kings-Rd-63357/home/76648900', 'https://www.redfin.com/MO/Marthasville/28-Denby-Ln-63357/home/76648551', 'https://www.redfin.com/MO/Marthasville/629-E-Gray-Friar-Dr-63357/home/76652744', 'https://www.redfin.com/MO/Warrenton/904-Clara-Ave-63383/home/76646457', 'https://www.redfin.com/MO/Truesdale/Truesdale/Aspen-II/home/188416457', 'https://www.redfin.com/MO/Marthasville/1585-S-Lake-Sherwood-Dr-63357/home/76649469', 'https://www.redfin.com/MO/Innsbrook/2468-Alpine-Cove-Dr-63390/home/180095146', 'https://www.redfin.com/MO/Warrenton/Warrenton/Savoy/home/188421891', 'https://www.redfin.com/MO/Wright-City/1-Merlot-CT-Unknown/home/186073081', 'https://www.redfin.com/MO/Warrenton/17-Hases-Lair-Lot-Unknown/home/178316349', 'https://www.redfin.com/MO/Marthasville/485-S-Lake-Sherwood-Dr-63357/home/76657471', 'https://www.redfin.com/MO/New-Florence/15-Deer-Run-Trl-63363/home/76652990', 'https://www.redfin.com/MO/Wright-City/1659-Highway-F-Dr-63390/home/76655387', 'https://www.redfin.com/MO/Marthasville/1645-King-Arthur-Dr-63357/home/76657081', 'https://www.redfin.com/MO/Marthasville/1093-Forest-Ct-63357/home/76656237', 'https://www.redfin.com/MO/Warrenton/22254-Powerline-Rd-63383/home/76642201', 'https://www.redfin.com/MO/Wright-City/1190-Turnberry-Dr-63390/home/76655364', 'https://www.redfin.com/MO/Warrenton/29565-Deerfield-Ln-63383/home/187499920', 'https://www.redfin.com/MO/Wright-City/2282-Alpine-Point-Dr-63390/home/76654626', 'https://www.redfin.com/MO/Wright-City/Acorn-alder-Creek-Unknown/home/188636983', 'https://www.redfin.com/MO/Truesdale/Truesdale/Aspen/home/188415594', 'https://www.redfin.com/MO/Wright-City/18473-N-Service-Road-Fka-2085-W-63390/home/76640233', 'https://www.redfin.com/MO/Wright-City/Wright-City/Sydney/home/188385801', 'https://www.redfin.com/MO/Marthasville/1357-S-Lake-Sherwood-Dr-63357/home/76657365', 'https://www.redfin.com/MO/Innsbrook/933-Woodlake-Dr-63390/home/76655003', 'https://www.redfin.com/MO/Warrenton/417-Timber-Dr-63383/home/179298799', 'https://www.redfin.com/MO/Warrenton/Schuetzenground-Rd-63383/home/76641835', 'https://www.redfin.com/MO/Innsbrook/2206-Alpine-Nook-Dr-63390/home/76655125', 'https://www.redfin.com/MO/Truesdale/Truesdale/Sterling/home/188400144', 'https://www.redfin.com/MO/Foristell/Oak-St-63348/home/76643327', 'https://www.redfin.com/MO/Marthasville/2051-Armor-Ct-63357/home/76649130', 'https://www.redfin.com/MO/Innsbrook/2537-Alpine-Woods-Dr-63390/home/176479653', 'https://www.redfin.com/MO/Warrenton/Rural-63383/home/76647303', 'https://www.redfin.com/MO/Marthasville/639-Sir-Richard-Dr-63357/home/76652733', 'https://www.redfin.com/MO/Wright-City/Wright-City/Linden/home/188663525', 'https://www.redfin.com/MO/Wright-City/Wright-City/Laurel-III/home/188665917', 'https://www.redfin.com/MO/Marthasville/319-Nottingham-Dr-63357/home/76648568', 'https://www.redfin.com/MO/Hickory-Grove-Township/Cotton-Rd-63348/unit-3AC/home/187347962', 'https://www.redfin.com/MO/Warrenton/34-Hwy-W-Unknown/home/185312679', 'https://www.redfin.com/MO/Marthasville/1243-Robin-Hood-Dr-63357/home/76657426', 'https://www.redfin.com/MO/Wright-City/Wright-City/The-Blossom/home/188661495', 'https://www.redfin.com/MO/Marthasville/10501-Cletus-Ln-63357/home/76658263', 'https://www.redfin.com/MO/Marthasville/1090-Forest-Way-63357/home/76656199', 'https://www.redfin.com/MO/Foristell/2898-Old-Ct-63348/home/183955924', 'https://www.redfin.com/MO/Marthasville/0-Devils-Boot-63357/home/173922200', 'https://www.redfin.com/MO/Marthasville/69-N-Lake-Sherwood-Dr-63357/home/76648683', 'https://www.redfin.com/MO/Warrenton/9-Hillside-MNR-Unknown/home/171970965', 'https://www.redfin.com/MO/Marthasville/107-N-Three-St-63357/home/76653494', 'https://www.redfin.com/MO/Marthasville/1020-Lancaster-Way-63357/home/76656703', 'https://www.redfin.com/MO/Warrenton/415-S-Morgan-63383/home/76647026', 'https://www.redfin.com/MO/Innsbrook/2807-Tyrol-Ridge-Dr-63390/home/187696694', 'https://www.redfin.com/MO/Marthasville/320-Timber-Ridge-Dr-63357/home/76649597', 'https://www.redfin.com/MO/Marthasville/753-York-Rd-63357/home/76656620', 'https://www.redfin.com/MO/Charrette-Township/2249-Jesters-Dr-63357/home/185982989', 'https://www.redfin.com/MO/Warrenton/603-W-Booneslick-Rd-63383/home/76647107', 'https://www.redfin.com/MO/Warrenton/23721-Green-Mdws-63383/home/76654725', 'https://www.redfin.com/MO/Innsbrook/445-Foxfire-Crossing-Dr-63390/home/76655480', 'https://www.redfin.com/MO/Wright-City/Wright-City/Rockport/home/188394508', 'https://www.redfin.com/MO/North-Elkhorn-Township/Garland-Woods-Dr-63383/home/62779159', 'https://www.redfin.com/MO/Warrenton/1839-Prince-John-Ct-63383/home/76656318', 'https://www.redfin.com/MO/Warrenton/1-Walnut-Hollow-Dr-63390/home/187851891', 'https://www.redfin.com/MO/Marthasville/1024-Lancaster-Way-63357/home/76656707', 'https://www.redfin.com/MO/Hickory-Grove-Township/10577-Village-Ln-63348/home/184619396', 'https://www.redfin.com/MO/Foristell/Foristell/Hartford/home/188410070', 'https://www.redfin.com/MO/Hickory-Grove-Township/Springview-Estates-Dr-63357/home/187348019', 'https://www.redfin.com/MO/Marthasville/1660-King-Arthur-Dr-63357/home/76649448', 'https://www.redfin.com/MO/Warrenton/Warrenton/Sienna/home/188401327', 'https://www.redfin.com/MO/Lake-Sherwood/11-Nottingham-Ct-63357/home/186073072', 'https://www.redfin.com/MO/Warrenton/2226-N-State-Highway-47-63383/home/76649978', 'https://www.redfin.com/MO/Truesdale/Truesdale/Homes-Available-Soon/home/188418807', 'https://www.redfin.com/MO/Marthasville/1850-Prince-John-Ct-63357/home/76656367', 'https://www.redfin.com/MO/Wright-City/16183-NW-Service-RD-63390/home/173203287', 'https://www.redfin.com/MO/Marthasville/1319-Little-John-Dr-63357/home/181251832', 'https://www.redfin.com/MO/Marthasville/1930-N-Lake-Sherwood-Dr-63357/home/76656970', 'https://www.redfin.com/MO/Marthasville/1494-S-Lake-Sherwood-Dr-63357/home/76648767', 'https://www.redfin.com/MO/Foristell/Oak-St-63348/home/76645995', 'https://www.redfin.com/MO/Wright-City/Spruce-alder-Creek-Unknown/home/188637139', 'https://www.redfin.com/MO/Wright-City/Wright-City/The-Holly/home/188665878', 'https://www.redfin.com/MO/South-Elkhorn-Township/Trower-Oaks-Trl-63390/home/145992788', 'https://www.redfin.com/MO/Wright-City/2467-Alpine-Lake-Dr-63390/home/187229761', 'https://www.redfin.com/MO/Truesdale/Truesdale/Ashford/home/188401627', 'https://www.redfin.com/MO/Marthasville/2382-Archers-Dr-63357/home/76649574', 'https://www.redfin.com/MO/Wright-City/14959-Star-Lake-Dr-63390/home/188603184', 'https://www.redfin.com/MO/Wright-City/13140-State-Highway-M-63390/home/76640455', 'https://www.redfin.com/MO/Foristell/Foristell/Sienna/home/188385296', 'https://www.redfin.com/MO/Marthasville/1751-Arrow-Ct-63357/home/185983249', 'https://www.redfin.com/MO/Marthasville/Alan-Dr-63357/home/100814301', 'https://www.redfin.com/MO/Marthasville/1910-N-Lake-Sherwood-Dr-63357/home/76656734', 'https://www.redfin.com/MO/Warrenton/412-N-State-Highway-47-63383/home/76650509', 'https://www.redfin.com/MO/Warrenton/27490-Lee-Ct-63383/home/62714511', 'https://www.redfin.com/MO/Warrenton/Warrenton/Barkley/home/188380232', 'https://www.redfin.com/MO/Lake-Sherwood/135-N-Kings-Rd-63357/home/76648723', 'https://www.redfin.com/MO/Wright-City/Holly-alder-Creek-Unknown/home/188637137', 'https://www.redfin.com/MO/Marthasville/1543-Kings-CT-63357/home/174129211', 'https://www.redfin.com/MO/Foristell/10962-S-Providence-DR-Unknown/home/187345318', 'https://www.redfin.com/MO/Wright-City/312-Stonewall-Ave-63390/home/188177306', 'https://www.redfin.com/MO/Foristell/Oak-St-63348/home/76643354', 'https://www.redfin.com/MO/Wright-City/14381-E-Lane-Fka-105-63390/home/76641904', 'https://www.redfin.com/MO/Marthasville/Alan-Dr-63357/unit-7A/home/113846744', 'https://www.redfin.com/MO/Wright-City/Magnolia-alder-Creek-Unknown/home/188637053', 'https://www.redfin.com/MO/Truesdale/Truesdale/Royal-II/home/188390374', 'https://www.redfin.com/MO/Marthasville/2039-Heather-Dr-63357/home/76649126', 'https://www.redfin.com/MO/Warrenton/1-Tbb-Wood-at-Park-HLS-Unknown/home/188602849', 'https://www.redfin.com/MO/Warrenton/14-Hickory-Lick-Rd-Unknown/home/185834580', 'https://www.redfin.com/MO/Wright-City/318-Stonewall-Ave-63390/home/188176915', 'https://www.redfin.com/MO/Wright-City/Wright-City/Stockton/home/188394436', 'https://www.redfin.com/MO/Wright-City/Wright-City/Rochester/home/188402431', 'https://www.redfin.com/MO/Warrenton/1301-N-Hwy-47-63383/home/174752816', 'https://www.redfin.com/MO/Warrenton/1025-Cambden-Yard-Dr-63383/home/76641433', 'https://www.redfin.com/MO/Lake-Sherwood/684-E-Gray-Friar-63357/home/169404102', 'https://www.redfin.com/MO/New-Florence/29853-Pinnacle-Lake-Rd-63363/home/76647472', 'https://www.redfin.com/MO/Warrenton/21277-Golden-Oaks-Rd-63383/home/186227356', 'https://www.redfin.com/MO/Charrette-Township/23480-Fawn-Trl-63383/home/185803929', 'https://www.redfin.com/MO/Warrenton/Warrenton/Rockport/home/188394594', 'https://www.redfin.com/MO/Warrenton/Warren-Ave-63383/home/175451159', 'https://www.redfin.com/MO/Wright-City/2717-Frieden-Pass-Dr-63390/home/187858223', 'https://www.redfin.com/MO/Wright-City/22597-S-Stracks-Church-Rd-63390/home/76649237', 'https://www.redfin.com/MO/Marthasville/449-Marina-Dr-63357/home/76648883', 'https://www.redfin.com/MO/Warrenton/15-Hickory-Lick-Rd-63383/home/100777565', 'https://www.redfin.com/MO/Lake-Sherwood/1054-Lancaster-Way-63357/home/76656182', 'https://www.redfin.com/MO/Warrenton/608-State-Hwy-47-63383/home/180051822', 'https://www.redfin.com/MO/Foristell/Oak-St-63348/home/76643356', 'https://www.redfin.com/MO/Foristell/11801-Vohsen-Ln-63348/home/187332328', 'https://www.redfin.com/MO/Warrenton/Warrenton/Rochester/home/188401749', 'https://www.redfin.com/MO/Hermann/1-Mesa-Oaks-65041/home/76645544', 'https://www.redfin.com/MO/Foristell/10515-Juniper-Ct-63348/home/62746041', 'https://www.redfin.com/MO/Marthasville/185-Gainsborough-Dr-63357/home/76648541', 'https://www.redfin.com/MO/Marthasville/1514-S-Lake-Sherwood-Dr-63357/home/76656849', 'https://www.redfin.com/MO/Wright-City/15301-Cox-Rd-63390/home/76642131', 'https://www.redfin.com/MO/Foristell/510-Oak-Ave-63348/home/76643372', 'https://www.redfin.com/MO/Warrenton/423-Timber-Dr-63383/home/179298800', 'https://www.redfin.com/MO/Warrenton/27254-N-Hearth-Vlg-63383/home/76653586', 'https://www.redfin.com/MO/Warrenton/Hwy-Aa-85-Acres-Unknown/home/173655632', 'https://www.redfin.com/MO/Wright-City/Lilac-alder-Creek-Unknown/home/188637068', 'https://www.redfin.com/MO/Warrenton/34201-Krp-Farm-Rd-63383/home/175035678', 'https://www.redfin.com/MO/North-Elkhorn-Township/Shelton-Rd-63383/home/188833412', 'https://www.redfin.com/MO/Foristell/10438-Ponderosa-Dr-63348/home/174147751', 'https://www.redfin.com/MO/Hickory-Grove-Township/Abrolat-Rd-63390/home/113741834', 'https://www.redfin.com/MO/Warrenton/State-Highway-B-63383/home/174752703', 'https://www.redfin.com/MO/Wright-City/Sequoia-alder-CRK-Unknown/home/188637114', 'https://www.redfin.com/MO/Warrenton/5-Fairlane-Cir-63383/home/76650004', 'https://www.redfin.com/MO/Warrenton/1-Country-Ln-63383/home/76646375', 'https://www.redfin.com/MO/Wright-City/Wright-City/Westbrook/home/188407659', 'https://www.redfin.com/MO/Foristell/31923-Post-Oak-Ct-63348/unit-1123/home/76639195', 'https://www.redfin.com/MO/Truxton/Mary-St-63381/home/76642456', 'https://www.redfin.com/MO/Warrenton/1-Rochester-Pinckney-RDG-Unknown/home/187600496', 'https://www.redfin.com/MO/Marthasville/717-Hearthstone-Dr-63357/home/76652674', 'https://www.redfin.com/MO/Wright-City/566-Aspen-View-Dr-63390/home/76648101', 'https://www.redfin.com/MO/Wright-City/110-Quail-Creek-Dr-63390/home/76640021', 'https://www.redfin.com/MO/Warrenton/22804-Hawk-Ridge-Rd-63383/home/76653616', 'https://www.redfin.com/MO/Innsbrook/2453-Alpine-Peak-Dr-63390/home/180794348', 'https://www.redfin.com/MO/Wright-City/Wright-City/Acorn/home/188665921', 'https://www.redfin.com/MO/Wright-City/Wright-City/Sequoia/home/188665945', 'https://www.redfin.com/MO/Wright-City/41-Roelker-Rd-63390/home/186209456', 'https://www.redfin.com/MO/Foristell/Oak-St-63348/home/76643329', 'https://www.redfin.com/MO/Warrenton/8-Huntington-Hills-Rd-63383/home/147925012', 'https://www.redfin.com/MO/Warrenton/26871-Pendleton-Lost-Creek-Rd-63383/home/76652472', 'https://www.redfin.com/MO/Marthasville/0-Hwy-D-63357/home/185953239', 'https://www.redfin.com/MO/Innsbrook/2547-Alpine-Woods-Dr-63390/home/146787325', 'https://www.redfin.com/MO/Wright-City/Wright-City/Magnolia/home/188663198', 'https://www.redfin.com/MO/Wright-City/11-Forest-Lake-Dr-63390/home/76643773', 'https://www.redfin.com/MO/Warrenton/2304-Donna-Maria-Dr-63383/home/182913351', 'https://www.redfin.com/MO/Warrenton/Warrenton/Hartford/home/188398919', 'https://www.redfin.com/MO/Warrenton/1-Westbrook-63383/home/187851912', 'https://www.redfin.com/MO/Innsbrook/2362-Alpine-Lake-Dr-63390/home/76654293', 'https://www.redfin.com/MO/Marthasville/1521-S-Lake-Sherwood-Dr-63357/home/76657195', 'https://www.redfin.com/MO/Warrenton/Warrenton/Canterbury/home/188409499', 'https://www.redfin.com/MO/Warrenton/Warrenton/Tremont/home/188415465', 'https://www.redfin.com/MO/Marthasville/15-Hunters-Ridge-63357/home/181267919', 'https://www.redfin.com/MO/Innsbrook/1108-Lake-Charrette-Dr-63390/home/184772509', 'https://www.redfin.com/MO/Warrenton/1-Cedar-at-Park-HLS-Unknown/home/188602848', 'https://www.redfin.com/MO/Wright-City/Wright-City/Hickory/home/188663196', 'https://www.redfin.com/MO/Wright-City/Wright-City/Sienna/home/188394852', 'https://www.redfin.com/MO/Lake-Sherwood/1294-Robin-Hood-Dr-63357/home/76656771', 'https://www.redfin.com/MO/North-Elkhorn-Township/22-Marks-Crossing-Cir-63383/home/178316318', 'https://www.redfin.com/MO/Foristell/Foristell/Rockport/home/188424908', 'https://www.redfin.com/MO/Warrenton/21346-Quail-Rdg-63383/home/76641687', 'https://www.redfin.com/MO/Marthasville/468-Greenwood-Ln-63357/home/76656959', 'https://www.redfin.com/MO/Wright-City/95-Geneva-View-Dr-63390/home/76648287', 'https://www.redfin.com/MO/Wright-City/Ash-alder-Creek-Unknown/home/188637113', 'https://www.redfin.com/MO/Foristell/1-Hartford-Providence-ESTS-Unknown/home/185652516', 'https://www.redfin.com/MO/Marthasville/1344-Gainsborough-Ct-63357/home/76656852', 'https://www.redfin.com/MO/Warren-County/1656-King-Arthur-Dr-63357/home/76657102', 'https://www.redfin.com/MO/Marthasville/180-S-Kings-Rd-63357/home/76652715', 'https://www.redfin.com/MO/Marthasville/8-Nottingham-Ct-63357/home/76656887', 'https://www.redfin.com/MO/Marthasville/1441-N-Lake-Sherwood-Dr-63357/home/76648559', 'https://www.redfin.com/MO/Innsbrook/Linden-Crossing-Dr-63390/home/188637038', 'https://www.redfin.com/MO/Warrenton/36-Hwy-Aa-Unknown/home/173178351', 'https://www.redfin.com/MO/Warrenton/26452-Lee-Ct-63383/home/76652933', 'https://www.redfin.com/MO/Wright-City/16958-N-Lohman-Rd-63390/home/76640142', 'https://www.redfin.com/MO/New-Florence/119-Skyline-Dr-63363/home/76652928', 'https://www.redfin.com/MO/Wright-City/27255-Blattner-Meadows-Ct-63390/home/76644505', 'https://www.redfin.com/MO/Wright-City/Wright-City/Hawthorn/home/188662300', 'https://www.redfin.com/MO/Marthasville/2127-Heather-Dr-63357/home/76657387', 'https://www.redfin.com/MO/Wentzville/1329-Little-John-Dr-63385/home/76656868', 'https://www.redfin.com/MO/Warrenton/18800-Fremont-TRL-Unknown/home/181026972', 'https://www.redfin.com/MO/Wright-City/Hickory-alder-Creek-Unknown/home/188637088', 'https://www.redfin.com/MO/Foristell/Foristell/Canterbury/home/188379420', 'https://www.redfin.com/MO/Warrenton/2308-Donna-Maria-Dr-63383/home/182913339', 'https://www.redfin.com/MO/Wright-City/105-W-2nd-St-S-63390/home/76646011', 'https://www.redfin.com/MO/Warrenton/26380-Pebble-Creek-Dr-63383/home/76647156', 'https://www.redfin.com/MO/Marthasville/2369-Doe-Run-Dr-63357/home/76649631', 'https://www.redfin.com/MO/Wright-City/29514-Walnut-Valley-Ln-63390/home/188599996', 'https://www.redfin.com/MO/Marthasville/17-Hunters-Ridge-63357/home/181267808', 'https://www.redfin.com/MO/Wright-City/Wright-City/The-Spruce/home/188662299', 'https://www.redfin.com/MO/Lake-Sherwood/1627-King-Arthur-Dr-63357/home/76649411', 'https://www.redfin.com/MO/Wright-City/Wright-City/The-Lilac/home/188662211', 'https://www.redfin.com/MO/Wright-City/949-Audubon-Oaks-Dr-63390/home/76654880', 'https://www.redfin.com/MO/Wright-City/S-Stracks-Church-Rd-63390/home/76642156', 'https://www.redfin.com/MO/Marthasville/881-N-Lake-Sherwood-Dr-63357/home/76648949', 'https://www.redfin.com/MO/Marthasville/1282-Robin-Hood-Dr-63357/home/76656794', 'https://www.redfin.com/MO/Foristell/Foristell/Savoy/home/188379945', 'https://www.redfin.com/MO/Wright-City/212-Trotters-Point-Dr-63390/home/76644668', 'https://www.redfin.com/MO/Marthasville/20550-Oak-Haven-LN-63357/home/185879718', 'https://www.redfin.com/MO/Wright-City/Wright-City/Lincoln/home/188419416', 'https://www.redfin.com/MO/Warrenton/19022-Pinckney-Manor-CT-Unknown/unit-110/home/181633073', 'https://www.redfin.com/MO/Foristell/Foristell/Westbrook/home/188396419', 'https://www.redfin.com/MO/Foristell/Oak-St-63348/home/76643328', 'https://www.redfin.com/MO/Foristell/Foristell/Tremont/home/188423109', 'https://www.redfin.com/MO/Marthasville/1081-Forest-Ct-63357/home/76656246', 'https://www.redfin.com/MO/Marthasville/1124-Sword-Ct-63357/home/76656332', 'https://www.redfin.com/MO/Marthasville/1381-Lake-Sherwood-Dr-63357/home/185533296', 'https://www.redfin.com/MO/Lake-Sherwood/1774-S-Lake-Sherwood-Dr-63357/home/76649075', 'https://www.redfin.com/MO/Warrenton/1-Sydney-Walnut-HOLW-Unknown/home/187981913', 'https://www.redfin.com/MO/Warrenton/1-Oak-at-Park-HLS-Unknown/home/188602847', 'https://www.redfin.com/MO/Truxton/24675-Pin-Oak-Rd-63381/home/76642166', 'https://www.redfin.com/MO/Wright-City/Hawthorn-alder-Creek-Unknown/home/188637052', 'https://www.redfin.com/MO/Wright-City/16710-N-Service-Rd-63390/home/76640658', 'https://www.redfin.com/MO/Hickory-Grove-Township/Polston-Ln-63357/home/173427197', 'https://www.redfin.com/MO/Innsbrook/2808-Tyrol-Ridge-Dr-63390/home/185334355', 'https://www.redfin.com/MO/Truesdale/Truesdale/Berwick/home/188415276', 'https://www.redfin.com/MO/Wright-City/Blossom-alder-Creek-Unknown/home/188637089', 'https://www.redfin.com/MO/Marthasville/2050-Heather-Dr-63357/home/76649131', 'https://www.redfin.com/MO/Marthasville/17069-State-Highway-O-63357/home/187669166', 'https://www.redfin.com/MO/Wright-City/Wright-City/Laurel-II/home/188665923', 'https://www.redfin.com/MO/Marthasville/Parcel-11280000010000000-63357/home/174369906', 'https://www.redfin.com/MO/Warrenton/1-Hartford-Pinckney-RDG-Unknown/home/186073103', 'https://www.redfin.com/MO/Marthasville/1463-S-Lake-Sherwood-Dr-63357/home/76649049', 'https://www.redfin.com/MO/Marthasville/107-N-Kings-Rd-63357/home/76648671', 'https://www.redfin.com/MO/Innsbrook/1202-Whitetail-Point-Dr-63390/home/182665321', 'https://www.redfin.com/MO/Wright-City/Laurel-Ii-alder-Creek-Unknown/home/188636950', 'https://www.redfin.com/MO/Wright-City/Wright-City/The-Ash/home/188662263', 'https://www.redfin.com/MO/Wright-City/209-N-Service-Rd-63390/home/174751946', 'https://www.redfin.com/MO/Warrenton/1-Lincoln-Ct-63383/home/188033965', 'https://www.redfin.com/MO/Warrenton/Oak-St-63383/home/76645996', 'https://www.redfin.com/MO/Innsbrook/2697-Tyrolean-Way-Dr-63390/home/188229539', 'https://www.redfin.com/MO/Foristell/Oak-St-63348/home/76643352', 'https://www.redfin.com/MO/Lake-Sherwood/1341-Gainsborough-Ct-63357/home/76656872', 'https://www.redfin.com/MO/North-Elkhorn-Township/23-Marks-Crossing-Cir-63383/home/178316282', 'https://www.redfin.com/MO/Wright-City/313-Veterans-Memorial-Pkwy-63390/home/76643770', 'https://www.redfin.com/MO/Wright-City/Wright-City/Savoy/home/188402628'}, 'Crawford-County': {'https://www.redfin.com/MO/Oak-Hill/Kerick-Ln-65441/home/180890274', 'https://www.redfin.com/MO/Davisville/503-Crooked-Tower-Rd-65456/home/77814822', 'https://www.redfin.com/MO/Cuba/822-Beamer-Ln-65453/home/77817972', 'https://www.redfin.com/MO/Bourbon/969-Marlette-Dr-65441/home/67252392', 'https://www.redfin.com/MO/Cuba/7690-Highway-F-65453/home/77811099', 'https://www.redfin.com/MO/Bourbon/1322-Harrison-Farm-Ln-65441/home/183622789', 'https://www.redfin.com/MO/Cuba/11-McLeod-St-65453/home/77815382', 'https://www.redfin.com/MO/Cuba/1035-White-Hawk-Dr-65453/home/77810986', 'https://www.redfin.com/MO/Cuba/619-Locust-St-65453/home/77815481', 'https://www.redfin.com/MO/Sullivan/610-Hughes-Ford-Rd-63080/home/77809972', 'https://www.redfin.com/MO/Steelville/122-Robin-Hill-Dr-65565/home/180700300', 'https://www.redfin.com/MO/Steelville/1-Cedar-Ford-RD-65565/home/185937480', 'https://www.redfin.com/MO/Steelville/2-Cedar-Ford-RD-65565/home/185937481', 'https://www.redfin.com/MO/Cuba/49-Erin-Rd-65453/home/77818074', 'https://www.redfin.com/MO/Cuba/1106-W-End-Dr-65453/home/77815358', 'https://www.redfin.com/MO/Bourbon/2550-Christy-Mine-Rd-65441/home/77816251', 'https://www.redfin.com/MO/Cherryville/45-Highway-49-65446/home/77819003', 'https://www.redfin.com/MO/Cuba/77-Indian-Hills-Dr-65453/home/77813625', 'https://www.redfin.com/MO/Cuba/Fleenor-Rd-65453/home/77808118', 'https://www.redfin.com/MO/Bourbon/Forest-Hill-Rd-65441/home/77808765', 'https://www.redfin.com/MO/Bourbon/1054-Chestnut-St-65441/home/77807127', 'https://www.redfin.com/MO/Leasburg/5870-Old-66-65535/home/77811959', 'https://www.redfin.com/MO/Sullivan/2-Bradford-Dr-63080/home/185964959', 'https://www.redfin.com/MO/Cuba/Enterprise-Dr-65453/home/77815685', 'https://www.redfin.com/MO/Cuba/348-N-Hickory-St-65453/home/77813416', 'https://www.redfin.com/MO/Cuba/81-Pilkenton-Ln-65453/home/77807957', 'https://www.redfin.com/MO/Steelville/Undisclosed-address-65565/home/188197879', 'https://www.redfin.com/MO/Cuba/5975-Jakes-Prairie-Rd-65453/home/77811133', 'https://www.redfin.com/MO/Steelville/304-S-3rd-St-65565/home/187624362', 'https://www.redfin.com/MO/Cuba/862-Lakeshore-Dr-65453/home/77810953', 'https://www.redfin.com/MO/Steelville/306-W-Keysville-St-65565/home/188197808', 'https://www.redfin.com/MO/Steelville/191-Czar-Tower-Rd-65565/home/187230917', 'https://www.redfin.com/MO/Cuba/174-Trainer-Rd-65453/home/77812600', 'https://www.redfin.com/MO/Bourbon/0-Butler-Pond-Rd-65441/home/183821269', 'https://www.redfin.com/MO/Cuba/Parkdale-St-65453/home/77815516', 'https://www.redfin.com/MO/Steelville/Valley-View-Dr-65565/home/77809224', 'https://www.redfin.com/MO/Cuba/9-McLeod-St-65453/unit-A/home/186019519', 'https://www.redfin.com/MO/Steelville/4-Cedar-Ford-RD-65565/home/185937487', 'https://www.redfin.com/MO/Steelville/305-Frisco-St-65565/home/77817467', 'https://www.redfin.com/MO/Cuba/82-Idlewild-Rd-65453/home/77808888', 'https://www.redfin.com/MO/Saint-James/22164-State-Route-KK-65559/home/77834533', 'https://www.redfin.com/MO/Cuba/88-Four-Mile-Rd-65453/home/77811288', 'https://www.redfin.com/MO/Cuba/0-Trainer-Rd-65453/home/188101562', 'https://www.redfin.com/MO/Cuba/0-Thurman-Lake-RD-65453/home/173900043', 'https://www.redfin.com/MO/Cuba/610-Forest-Ave-65453/home/62732977', 'https://www.redfin.com/MO/Bourbon/3066-Argo-Rd-65441/home/77810611', 'https://www.redfin.com/MO/Bourbon/164-Hickory-St-65441/home/77812931', 'https://www.redfin.com/MO/Cuba/Alex-undeveloped-AVE-Unknown/home/188744063', 'https://www.redfin.com/MO/Sullivan/4-Bradford-Dr-63080/home/185964899', 'https://www.redfin.com/MO/Steelville/17319-Missouri-19-65565/home/187653247', 'https://www.redfin.com/MO/Steelville/302-Grand-Ave-65565/home/77814308', 'https://www.redfin.com/MO/Sullivan/7-Bradford-Dr-63080/home/185964883', 'https://www.redfin.com/MO/Cuba/5750-Highway-19-65453/home/77812570', 'https://www.redfin.com/MO/Sullivan/0-Ira-Bland-63080/unit-None/home/186022628', 'https://www.redfin.com/MO/Sullivan/1-Bradford-Dr-63080/home/185964748', 'https://www.redfin.com/MO/Cuba/8342-Highway-P-65453/home/77810528', 'https://www.redfin.com/MO/Cuba/2140-Lone-Wolf-Dr-65453/home/188775342', 'https://www.redfin.com/MO/Steelville/37-Highway-TT-65565/home/62712631', 'https://www.redfin.com/MO/Cuba/498-Cunningham-Rd-65453/home/77808979', 'https://www.redfin.com/MO/Leasburg/1894-Davis-Valley-Rd-65535/home/77813932', 'https://www.redfin.com/MO/Sullivan/6-Bradford-Dr-63080/home/185964882', 'https://www.redfin.com/MO/Steelville/Hwy-T-65565/home/77808868', 'https://www.redfin.com/MO/Steelville/127-Kehner-Rd-65565/home/77814578', 'https://www.redfin.com/MO/Steelville/53-Sanke-Rd-65565/home/77814700', 'https://www.redfin.com/MO/Cuba/1134-Pawnee-Dr-65453/home/77811711', 'https://www.redfin.com/MO/Bourbon/2570-Christy-Mine-Rd-65441/home/168147104', 'https://www.redfin.com/MO/Cuba/101-Woodbury-Rd-65453/home/77811739', 'https://www.redfin.com/MO/Cuba/Ozark-Dr-65453/home/77808057', 'https://www.redfin.com/MO/Sullivan/Pond-St-63080/home/77810153', 'https://www.redfin.com/MO/Sullivan/105-Grand-Oaks-Est-63080/home/77810207', 'https://www.redfin.com/MO/Steelville/19935-Hwy-19-65565/home/187454823', 'https://www.redfin.com/MO/Steelville/221-Highway-E-65565/home/77816914', 'https://www.redfin.com/MO/Cuba/80-2nd-St-65453/home/77815989', 'https://www.redfin.com/MO/Steelville/380-Long-Spring-Rd-65565/home/77814992', 'https://www.redfin.com/MO/Cuba/214-Highway-O-Unknown/home/185297345', 'https://www.redfin.com/MO/Steelville/141-W-Hickory-Ridge-Rd-65565/home/77809125', 'https://www.redfin.com/MO/Cuba/1146-Pawnee-Dr-65453/home/77811722', 'https://www.redfin.com/MO/Steelville/309-Bowers-Rd-65565/home/77818438', 'https://www.redfin.com/MO/Cuba/2000-Lakeshore-Dr-65453/home/77811480', 'https://www.redfin.com/MO/Steelville/11-Cedar-Ford-RD-65565/home/185937478', 'https://www.redfin.com/MO/Cuba/1281-Witzke-Rd-65453/home/62673757', 'https://www.redfin.com/MO/Bourbon/Christy-Mine-Rd-65441/home/77816232', 'https://www.redfin.com/MO/Bourbon/1025-Pinoak-Ln-65441/home/62685256', 'https://www.redfin.com/MO/Steelville/3426-Highway-T-65565/home/187522941', 'https://www.redfin.com/MO/Bourbon/35-Eagle-Ln-65441/home/77811879', 'https://www.redfin.com/MO/Bourbon/389-Butler-Pond-Rd-65441/home/169972814', 'https://www.redfin.com/MO/Cuba/605-S-Hickory-St-65453/home/77815806', 'https://www.redfin.com/MO/Steelville/6-Cedar-Ford-RD-65565/home/185937514', 'https://www.redfin.com/MO/Sullivan/83-Highway-WW-63080/home/77812735', 'https://www.redfin.com/MO/Bourbon/216-Red-Fox-Dr-65441/home/62736563'}, 'St-Louis-City': {'https://www.redfin.com/MO/Saint-Louis/4643-Loughborough-Ave-63116/home/93759211', 'https://www.redfin.com/MO/Saint-Louis/3844-Ohio-Ave-63118/home/93696291', 'https://www.redfin.com/MO/Saint-Louis/4354-Taft-Ave-63116/home/62768104', 'https://www.redfin.com/MO/Saint-Louis/1927-Arlington-Ave-63112/home/93738834', 'https://www.redfin.com/MO/Saint-Louis/4470-Osceola-St-63116/home/93764647', 'https://www.redfin.com/MO/Saint-Louis/3920-Ashland-Ave-63107/home/93753719', 'https://www.redfin.com/MO/Saint-Louis/3618-Arsenal-St-63116/home/93699876', 'https://www.redfin.com/MO/Saint-Louis/4244-Iowa-Ave-63111/home/93705517', 'https://www.redfin.com/MO/Saint-Louis/210-N-17th-St-63103/unit-511/home/93681104', 'https://www.redfin.com/MO/Saint-Louis/8460-Lowell-St-63147/home/93776011', 'https://www.redfin.com/MO/Saint-Louis/4333-Fyler-Ave-63116/home/93751419', 'https://www.redfin.com/MO/Saint-Louis/5205-Emerson-Ave-63120/home/93765007', 'https://www.redfin.com/MO/Saint-Louis/1330-Hughes-Pl-63110/home/93726300', 'https://www.redfin.com/MO/Saint-Louis/4134-Oregon-Ave-63118/home/93705084', 'https://www.redfin.com/MO/Saint-Louis/5934-Pamplin-Ave-63147/home/93770557', 'https://www.redfin.com/MO/Saint-Louis/3814-Illinois-Ave-63118/home/93696832', 'https://www.redfin.com/MO/Saint-Louis/4422-Michigan-Ave-63111/home/93706148', 'https://www.redfin.com/MO/Saint-Louis/5077-Emerson-Ave-63120/home/93751888', 'https://www.redfin.com/MO/Saint-Louis/5421-Eichelberger-St-63109/home/93767714', 'https://www.redfin.com/MO/Saint-Louis/3942-Winnebago-St-63116/home/93748871', 'https://www.redfin.com/MO/Saint-Louis/3325-Lawn-Ave-63139/home/93777163', 'https://www.redfin.com/MO/Saint-Louis/901-Washington-Ave-63101/unit-508/home/93674993', 'https://www.redfin.com/MO/Saint-Louis/2114-Forest-Ave-63139/home/93740997', 'https://www.redfin.com/MO/Saint-Louis/2919-Harper-St-63107/home/93698836', 'https://www.redfin.com/MO/St-Louis/7401-S-Broadway-63111/home/93786365', 'https://www.redfin.com/MO/Saint-Louis/3437-Michigan-Ave-63118/home/93695065', 'https://www.redfin.com/MO/Saint-Louis/3218-Halliday-Ave-63118/home/93692535', 'https://www.redfin.com/MO/Saint-Louis/1116-Riverview-Blvd-63147/home/93760727', 'https://www.redfin.com/MO/Saint-Louis/4115-Westminster-Pl-63108/home/93786763', 'https://www.redfin.com/MO/Saint-Louis/4529-Saint-Louis-Ave-63115/home/93718288', 'https://www.redfin.com/MO/St-Louis/5560-Waterman-Blvd-63112/unit-1E/home/178263390', 'https://www.redfin.com/MO/Saint-Louis/4440-Lindell-Blvd-63108/unit-801/home/93724852', 'https://www.redfin.com/MO/Saint-Louis/3229-Portis-Ave-63116/home/93756455', 'https://www.redfin.com/MO/Saint-Louis/7131-Sutherland-Ave-63109/home/93749222', 'https://www.redfin.com/MO/Saint-Louis/2438-Lemp-Ave-63104/home/67258076', 'https://www.redfin.com/MO/Saint-Louis/3420-Michigan-Ave-63118/home/93694921', 'https://www.redfin.com/MO/Saint-Louis/5726-W-Park-Ave-63110/home/93680758', 'https://www.redfin.com/MO/Saint-Louis/4121-Wyoming-St-63116/home/93729883', 'https://www.redfin.com/MO/Saint-Louis/4374-Chouteau-Ave-63110/home/93751342', 'https://www.redfin.com/MO/Saint-Louis/3223-Taft-Ave-63111/home/93706216', 'https://www.redfin.com/MO/Saint-Louis/3339-Ellendale-Ave-63143/home/93681147', 'https://www.redfin.com/MO/Saint-Louis/835-McLaran-Ave-63147/home/93754442', 'https://www.redfin.com/MO/Saint-Louis/4151-Fairview-Ave-63116/home/62728599', 'https://www.redfin.com/MO/Saint-Louis/2715-Osage-St-63118/home/93704334', 'https://www.redfin.com/MO/St-Louis/2323-Locust-St-63103/unit-309/home/188524050', 'https://www.redfin.com/MO/Saint-Louis/1826-Oregon-Ave-63104/home/93690107', 'https://www.redfin.com/MO/Saint-Louis/5050-Terry-Ave-63115/home/93737460', 'https://www.redfin.com/MO/Saint-Louis/4220-Dressell-Ave-63120/home/93768459', 'https://www.redfin.com/MO/Saint-Louis/4922-Schollmeyer-Ave-63109/home/93764514', 'https://www.redfin.com/MO/Saint-Louis/2917-Mount-Pleasant-St-63111/home/93706563', 'https://www.redfin.com/MO/Saint-Louis/3022-Wyoming-St-63118/home/93693610', 'https://www.redfin.com/MO/Saint-Louis/210-N-17th-St-63103/unit-1012/home/93680932', 'https://www.redfin.com/MO/Saint-Louis/8520-Pennsylvania-Ave-63111/home/93711614', 'https://www.redfin.com/MO/Saint-Louis/4649-Cote-Brilliante-Ave-63113/home/93736773', 'https://www.redfin.com/MO/Saint-Louis/5648-Walsh-St-63109/home/62728772', 'https://www.redfin.com/MO/Saint-Louis/2031-Schaeffer-Pl-63139/home/93741329', 'https://www.redfin.com/MO/Saint-Louis/3261-Jasper-Park-63139/home/93742965', 'https://www.redfin.com/MO/Saint-Louis/4142-Taft-Ave-63116/home/93761044', 'https://www.redfin.com/MO/Saint-Louis/2132-Allen-Ave-63104/home/93690607', 'https://www.redfin.com/MO/Saint-Louis/3657-Pennsylvania-Ave-63118/home/62774193', 'https://www.redfin.com/MO/Saint-Louis/4501-Lindell-Blvd-63108/unit-8J/home/62759051', 'https://www.redfin.com/MO/Saint-Louis/2354-S-10th-St-63104/unit-R/home/93686097', 'https://www.redfin.com/MO/Saint-Louis/4110-Red-Bud-Ave-63115/home/93734363', 'https://www.redfin.com/MO/Saint-Louis/4997-Quincy-St-63109/home/93766049', 'https://www.redfin.com/MO/Saint-Louis/3131-Oregon-Ave-63118/home/93692935', 'https://www.redfin.com/MO/Saint-Louis/7617-Ivory-Ave-63111/home/93673560', 'https://www.redfin.com/MO/Saint-Louis/6412-Winona-Ave-63109/home/93779306', 'https://www.redfin.com/MO/St-Louis/1520-Washington-Ave-63103/unit-622/home/160327214', 'https://www.redfin.com/MO/Saint-Louis/Undisclosed-address-63118/home/93695329', 'https://www.redfin.com/MO/Saint-Louis/4511-Minnesota-Ave-63111/home/93706261', 'https://www.redfin.com/MO/Saint-Louis/3538-Wisconsin-Ave-63118/home/93694497', 'https://www.redfin.com/MO/Saint-Louis/4344-Itaska-St-63116/home/62726498', 'https://www.redfin.com/MO/Saint-Louis/919-Pendleton-Ave-63108/home/93739849', 'https://www.redfin.com/MO/Saint-Louis/210-N-17th-St-63103/unit-903/home/93681017', 'https://www.redfin.com/MO/Saint-Louis/3225-Michigan-Ave-63118/unit-27/home/93693508', 'https://www.redfin.com/MO/Saint-Louis/1326-Hughes-Pl-63110/home/93726299', 'https://www.redfin.com/MO/Saint-Louis/4669-Allemania-St-63116/home/93776458', 'https://www.redfin.com/MO/Saint-Louis/5204-Ridge-Ave-63113/home/93721317', 'https://www.redfin.com/MO/St-Louis/3-Cabanne-Ave-63112/home/188838508', 'https://www.redfin.com/MO/Saint-Louis/3646-Hartford-St-63116/home/62758849', 'https://www.redfin.com/MO/Saint-Louis/5825-Sutherland-Ave-63109/home/62768327', 'https://www.redfin.com/MO/Saint-Louis/2704-Stoddard-St-63106/home/93686858', 'https://www.redfin.com/MO/Saint-Louis/546-Davis-St-63111/home/93711473', 'https://www.redfin.com/MO/Saint-Louis/5330-Pershing-Ave-63112/unit-503/home/93673603', 'https://www.redfin.com/MO/Saint-Louis/4955-Alcott-Ave-63120/home/93756764', 'https://www.redfin.com/MO/Saint-Louis/3431-Park-Ave-63104/home/62697578', 'https://www.redfin.com/MO/Saint-Louis/5755-Itaska-St-63109/home/93767932', 'https://www.redfin.com/MO/Saint-Louis/3515-Minnesota-Ave-63118/home/93694926', 'https://www.redfin.com/MO/Saint-Louis/4461-Dewey-Ave-63116/home/93730857', 'https://www.redfin.com/MO/Saint-Louis/2713-Meramec-St-63118/home/93705068', 'https://www.redfin.com/MO/Saint-Louis/6423-Odell-St-63139/home/93744970', 'https://www.redfin.com/MO/Saint-Louis/3304-Ohio-Ave-63118/home/93694287', 'https://www.redfin.com/MO/Saint-Louis/1202-Sidney-St-63104/home/62757286', 'https://www.redfin.com/MO/Saint-Louis/7124-Idaho-Ave-63111/home/93710281', 'https://www.redfin.com/MO/Arnold/Lisa-63010/home/187524170', 'https://www.redfin.com/MO/Saint-Louis/3516-Nebraska-Ave-63118/home/86086996', 'https://www.redfin.com/MO/Saint-Louis/3141-Clifton-Ave-63139/home/93775896', 'https://www.redfin.com/MO/Saint-Louis/4209-Olive-St-63108/home/181867038', 'https://www.redfin.com/MO/Saint-Louis/4343-Hunt-Ave-63110/home/93726066', 'https://www.redfin.com/MO/Saint-Louis/4213-Olive-St-63108/home/103203066', 'https://www.redfin.com/MO/Saint-Louis/5526-Beacon-Ave-63120/home/93762872', 'https://www.redfin.com/MO/St-Louis/215-N-Sarah-St-63108/unit-6/home/188852606', 'https://www.redfin.com/MO/Saint-Louis/6260-Westway-Pl-63109/home/93783541', 'https://www.redfin.com/MO/St-Louis/1342-Hughes-Pl-63110/home/187672879', 'https://www.redfin.com/MO/Saint-Louis/2648-California-Ave-63118/home/93699469', 'https://www.redfin.com/MO/Saint-Louis/3940-Page-Blvd-63113/home/93719706', 'https://www.redfin.com/MO/Saint-Louis/6818-Magnolia-Ave-63143/home/93743738', 'https://www.redfin.com/MO/Saint-Louis/6338-Oleatha-Ave-63139/home/93775361', 'https://www.redfin.com/MO/Saint-Louis/3340-Missouri-Ave-63118/home/93693907', 'https://www.redfin.com/MO/Saint-Louis/5324-Wabada-Ave-63112/home/93738692', 'https://www.redfin.com/MO/Saint-Louis/1511-Locust-St-63103/unit-205/home/62700574', 'https://www.redfin.com/MO/Saint-Louis/3306-S-9th-St-63118/home/109007348', 'https://www.redfin.com/MO/Saint-Louis/5271-Alcott-Ave-63120/home/93765030', 'https://www.redfin.com/MO/Saint-Louis/7308-Michigan-Ave-63111/home/93710755', 'https://www.redfin.com/MO/Saint-Louis/4544-Newberry-Ter-63113/home/93739429', 'https://www.redfin.com/MO/Saint-Louis/4501-Lindell-Blvd-63108/unit-3C/home/93724573', 'https://www.redfin.com/MO/Saint-Louis/314-Clara-Ave-63112/unit-32N/home/63846537', 'https://www.redfin.com/MO/Saint-Louis/2030-Ann-Ave-63104/home/93691276', 'https://www.redfin.com/MO/Saint-Louis/3807-Burgen-Ave-63116/home/93781499', 'https://www.redfin.com/MO/Saint-Louis/3408-Miami-St-63118/home/93695212', 'https://www.redfin.com/MO/Saint-Louis/5133-Cates-Ave-63108/home/93744782', 'https://www.redfin.com/MO/Saint-Louis/3018-E-Norwood-Dr-63115/home/93737645', 'https://www.redfin.com/MO/Saint-Louis/4537-San-Francisco-Ave-63115/home/93734311', 'https://www.redfin.com/MO/Saint-Louis/3400-Lawn-Ave-63139/home/93777238', 'https://www.redfin.com/MO/Saint-Louis/4308-Grace-Ave-63116/home/93705866', 'https://www.redfin.com/MO/Saint-Louis/301-Dover-St-63111/home/93708345', 'https://www.redfin.com/MO/Saint-Louis/2037-Ann-Ave-63104/home/93690468', 'https://www.redfin.com/MO/Saint-Louis/4073-Schiller-Pl-63116/home/93770299', 'https://www.redfin.com/MO/Saint-Louis/5112-N-Kingshighway-Blvd-63115/home/93765230', 'https://www.redfin.com/MO/Saint-Louis/2004-Agnes-St-63107/home/93688770', 'https://www.redfin.com/MO/Saint-Louis/4256-Lindell-Blvd-63108/unit-C/home/93725396', 'https://www.redfin.com/MO/Saint-Louis/4214-Norfolk-Ave-63110/home/93725925', 'https://www.redfin.com/MO/Saint-Louis/4008-Dryden-Ave-63115/home/93767306', 'https://www.redfin.com/MO/Saint-Louis/4564-Emerson-Ave-63120/home/93764396', 'https://www.redfin.com/MO/Saint-Louis/6060-Sutherland-Ave-63109/home/93782422', 'https://www.redfin.com/MO/Saint-Louis/4008-Garfield-Ave-63113/home/93716875', 'https://www.redfin.com/MO/Saint-Louis/6126-Washington-Blvd-63112/unit-101/home/93676461', 'https://www.redfin.com/MO/Saint-Louis/2611-Caroline-St-63104/home/93697531', 'https://www.redfin.com/MO/Saint-Louis/2215-Keokuk-St-63118/home/93696824', 'https://www.redfin.com/MO/Saint-Louis/5508-Beacon-Ave-63120/home/93762873', 'https://www.redfin.com/MO/Saint-Louis/5502-Beacon-Ave-63120/home/93762835', 'https://www.redfin.com/MO/Saint-Louis/5112-Bischoff-Ave-63110/home/93769319', 'https://www.redfin.com/MO/Saint-Louis/8905-Goodfellow-Blvd-63147/home/93778690', 'https://www.redfin.com/MO/Saint-Louis/3889-Hartford-St-63116/home/93728378', 'https://www.redfin.com/MO/Saint-Louis/3027-Magnolia-Ave-63118/home/93699656', 'https://www.redfin.com/MO/Saint-Louis/2531-Semple-Ave-63112/home/93738909', 'https://www.redfin.com/MO/Saint-Louis/5754-Highland-Ave-63112/home/93753901', 'https://www.redfin.com/MO/Saint-Louis/4223-Norfolk-Ave-63110/home/93726020', 'https://www.redfin.com/MO/Saint-Louis/4418-Michigan-Ave-63111/home/93706147', 'https://www.redfin.com/MO/Saint-Louis/4711-Cupples-Pl-63113/home/93736424', 'https://www.redfin.com/MO/Saint-Louis/4242-Harris-Ave-63115/home/93745843', 'https://www.redfin.com/MO/Saint-Louis/4466-W-Pine-Blvd-63108/unit-8G/home/62725012', 'https://www.redfin.com/MO/Saint-Louis/5741-Walsh-St-63109/home/93768215', 'https://www.redfin.com/MO/Saint-Louis/1226-Temple-Pl-63112/home/93722494', 'https://www.redfin.com/MO/Saint-Louis/5722-Milentz-Ave-63109/home/93771391', 'https://www.redfin.com/MO/Saint-Louis/3438-Gasconade-St-63118/home/93705705', 'https://www.redfin.com/MO/Saint-Louis/5615-Itaska-St-63109/home/93767900', 'https://www.redfin.com/MO/Saint-Louis/1184-Riverview-Blvd-63147/home/93760571', 'https://www.redfin.com/MO/Saint-Louis/2817-Dalton-Ave-63139/home/93726692', 'https://www.redfin.com/MO/Saint-Louis/6927-Sutherland-Ave-63109/home/181867591', 'https://www.redfin.com/MO/Saint-Louis/5501-Davison-Ave-63120/home/93762864', 'https://www.redfin.com/MO/Saint-Louis/3935-Keokuk-St-63116/home/93730153', 'https://www.redfin.com/MO/Saint-Louis/4510-Laclede-Ave-63108/home/93680772', 'https://www.redfin.com/MO/Saint-Louis/1308-Laurel-St-63112/home/93723000', 'https://www.redfin.com/MO/Saint-Louis/1827-Cambridge-Ln-63147/home/93781607', 'https://www.redfin.com/MO/Saint-Louis/5316-Pershing-Ave-63112/unit-312/home/93723587', 'https://www.redfin.com/MO/Saint-Louis/2144-Knox-Ave-63139/home/93761539', 'https://www.redfin.com/MO/Saint-Louis/4216-Norfolk-Ave-63110/home/93725920', 'https://www.redfin.com/MO/Saint-Louis/2747-Bacon-St-63106/home/93677945', 'https://www.redfin.com/MO/Saint-Louis/6936-Hi-View-Ave-63109/home/93781240', 'https://www.redfin.com/MO/Saint-Louis/3210-Chippewa-St-63118/home/93695832', 'https://www.redfin.com/MO/Saint-Louis/4362-Cook-Ave-63113/home/93739593', 'https://www.redfin.com/MO/Saint-Louis/Undisclosed-address-63115/home/93768741', 'https://www.redfin.com/MO/Saint-Louis/703-N-13th-St-63103/unit-207/home/69078605', 'https://www.redfin.com/MO/Saint-Louis/4533-S-Grand-Blvd-63111/home/93706375', 'https://www.redfin.com/MO/Saint-Louis/3953-Cottage-Ave-63113/home/93716696', 'https://www.redfin.com/MO/Saint-Louis/3611-Wabash-Ave-63109/home/93747969', 'https://www.redfin.com/MO/Saint-Louis/5231-Ridge-Ave-63113/home/93721447', 'https://www.redfin.com/MO/Saint-Louis/4936-Labadie-Ave-63115/home/93755819', 'https://www.redfin.com/MO/Saint-Louis/629-Bates-St-63111/home/88617784', 'https://www.redfin.com/MO/Saint-Louis/4375-Laclede-Ave-63108/unit-A/home/93725185', 'https://www.redfin.com/MO/Saint-Louis/507-N-13th-St-63103/unit-607/home/62746105', 'https://www.redfin.com/MO/Saint-Louis/5417-Walsh-St-63109/home/93766678', 'https://www.redfin.com/MO/Saint-Louis/2528-California-Ave-63104/home/93699947', 'https://www.redfin.com/MO/Saint-Louis/2345-Michigan-Ave-63104/home/93691897', 'https://www.redfin.com/MO/Saint-Louis/1635-Washington-Ave-63103/unit-912/home/93676039', 'https://www.redfin.com/MO/Saint-Louis/5142-Northland-Ave-63113/home/93737859', 'https://www.redfin.com/MO/Saint-Louis/915-Olive-St-63101/unit-1113/home/93679332', 'https://www.redfin.com/MO/Saint-Louis/4144-Beethoven-Ave-63116/home/62696111', 'https://www.redfin.com/MO/Saint-Louis/3337-Vista-Ave-63104/home/93700938', 'https://www.redfin.com/MO/Saint-Louis/4339-Bingham-Ave-63116/home/93771892', 'https://www.redfin.com/MO/Saint-Louis/4718-S-Compton-Ave-63111/home/93706989', 'https://www.redfin.com/MO/Saint-Louis/5957-Wabada-Ave-63112/home/93748234', 'https://www.redfin.com/MO/Saint-Louis/4466-W-Pine-Blvd-63108/unit-23G/home/87952882', 'https://www.redfin.com/MO/Saint-Louis/4549-Westminster-Pl-63108/home/93739874', 'https://www.redfin.com/MO/Saint-Louis/4647-Dahlia-Ave-63116/home/93757985', 'https://www.redfin.com/MO/Saint-Louis/4571-Arco-Ave-63110/home/93749293', 'https://www.redfin.com/MO/Saint-Louis/6822-Virginia-Ave-63111/home/93710539', 'https://www.redfin.com/MO/Saint-Louis/6551-Hancock-Ave-63139/home/93743272', 'https://www.redfin.com/MO/Saint-Louis/4887-Calvin-Ave-63115/home/93733028', 'https://www.redfin.com/MO/Saint-Louis/4930-Botanical-Ave-63110/home/93744339', 'https://www.redfin.com/MO/Saint-Louis/4118-Beethoven-Ave-63116/home/93757810', 'https://www.redfin.com/MO/Saint-Louis/5239-Nottingham-Ave-63109/home/93753504', 'https://www.redfin.com/MO/Saint-Louis/6121-Adkins-Ave-63116/home/93776762', 'https://www.redfin.com/MO/Saint-Louis/Undisclosed-address-63111/home/93707643', 'https://www.redfin.com/MO/Saint-Louis/5304-Nottingham-Ave-63109/home/93755144', 'https://www.redfin.com/MO/Saint-Louis/3740-Texas-Ave-63118/home/93696622', 'https://www.redfin.com/MO/Saint-Louis/5006-Louisiana-Ave-63111/home/62716529', 'https://www.redfin.com/MO/Saint-Louis/3627-Virginia-Ave-63118/home/93695633', 'https://www.redfin.com/MO/Saint-Louis/2725-Coleman-St-63106/home/103202845', 'https://www.redfin.com/MO/Saint-Louis/4254-California-Ave-63111/home/93705484', 'https://www.redfin.com/MO/Saint-Louis/4001-Saint-Ferdinand-Ave-63113/home/93716583', 'https://www.redfin.com/MO/Saint-Louis/4634-Leduc-St-63113/home/93736770', 'https://www.redfin.com/MO/Saint-Louis/3337-Michigan-Ave-63118/home/93693546', 'https://www.redfin.com/MO/Saint-Louis/4422-S-Spring-Ave-63116/home/93730878', 'https://www.redfin.com/MO/Saint-Louis/1601-Washington-Ave-63103/unit-406/home/93672539', 'https://www.redfin.com/MO/Saint-Louis/5875-Lotus-Ave-63112/home/93748269', 'https://www.redfin.com/MO/Saint-Louis/4509-Alaska-Ave-63111/home/93706284', 'https://www.redfin.com/MO/Saint-Louis/4212-Norfolk-Ave-63110/home/93725924', 'https://www.redfin.com/MO/Saint-Louis/3137-Nebraska-Ave-63118/home/62753070', 'https://www.redfin.com/MO/Saint-Louis/3213-Mount-Pleasant-St-63111/home/93706332', 'https://www.redfin.com/MO/Saint-Louis/1511-Locust-St-63103/unit-609/home/93673023', 'https://www.redfin.com/MO/Saint-Louis/3902-Louisiana-Ave-63118/home/93704690', 'https://www.redfin.com/MO/Saint-Louis/3841-Juniata-St-63116/home/77520287', 'https://www.redfin.com/MO/Saint-Louis/2214-Indiana-Ave-63104/home/160543095', 'https://www.redfin.com/MO/Saint-Louis/3927-Gravois-Ave-63116/home/93749004', 'https://www.redfin.com/MO/Saint-Louis/3438-Russell-Blvd-63104/unit-501/home/93690989', 'https://www.redfin.com/MO/Saint-Louis/5054-Fyler-Ave-63139/home/93777184', 'https://www.redfin.com/MO/Saint-Louis/3831-Morganford-Rd-63116/home/93771911', 'https://www.redfin.com/MO/Saint-Louis/2825-McNair-Ave-63118/home/93691649', 'https://www.redfin.com/MO/Saint-Louis/3401-Alberta-St-63118/home/93704836', 'https://www.redfin.com/MO/Saint-Louis/7719-Minnesota-Ave-63111/home/93711110', 'https://www.redfin.com/MO/Saint-Louis/5523-Gresham-Ave-63109/home/93776587', 'https://www.redfin.com/MO/Saint-Louis/4044-Shreve-Ave-63115/home/93733579', 'https://www.redfin.com/MO/Saint-Louis/6319-Saloma-Ave-63136/home/93778236', 'https://www.redfin.com/MO/Saint-Louis/5919-Sherry-Ave-63136/home/93758734', 'https://www.redfin.com/MO/Saint-Louis/4211-Athlone-Ave-63115/home/93714377', 'https://www.redfin.com/MO/Saint-Louis/6814-Pennsylvania-Ave-63111/home/93710149', 'https://www.redfin.com/MO/Saint-Louis/6112-Leona-St-63116/home/93782061', 'https://www.redfin.com/MO/Saint-Louis/3670-Finney-Ave-63113/home/93717967', 'https://www.redfin.com/MO/Saint-Louis/3169-Oregon-Ave-63118/home/93692956', 'https://www.redfin.com/MO/Saint-Louis/3508-Minnesota-Ave-63118/home/93694964', 'https://www.redfin.com/MO/Saint-Louis/5473-Enright-Ave-63112/home/93761761', 'https://www.redfin.com/MO/Saint-Louis/2927-California-Ave-63118/home/93699214', 'https://www.redfin.com/MO/Saint-Louis/3334-Minnesota-Ave-63118/home/93693631', 'https://www.redfin.com/MO/Saint-Louis/1209-Park-Ave-63104/home/143285750', 'https://www.redfin.com/MO/Saint-Louis/4100-Forest-Park-Ave-63108/unit-514/home/76495039', 'https://www.redfin.com/MO/Saint-Louis/2139-Sidney-St-63104/home/103204375', 'https://www.redfin.com/MO/Saint-Louis/5917-Mimika-Ave-63147/home/93768922', 'https://www.redfin.com/MO/Saint-Louis/1611-Locust-St-63103/unit-204/home/93672972', 'https://www.redfin.com/MO/Saint-Louis/2748-Rutger-St-63104/home/93697602', 'https://www.redfin.com/MO/Saint-Louis/5620-Clemens-Ave-63112/home/93680644', 'https://www.redfin.com/MO/Saint-Louis/3429-Michigan-Ave-63118/home/93695066', 'https://www.redfin.com/MO/Saint-Louis/20-N-Kingshighway-Blvd-63108/unit-1AS/home/93672254', 'https://www.redfin.com/MO/Saint-Louis/8104-Marla-Ct-63125/home/88356660', 'https://www.redfin.com/MO/St-Louis/1043-S-Taylor-Ave-63110/home/171367803', 'https://www.redfin.com/MO/Saint-Louis/3639-Winnebago-St-63116/home/93695580', 'https://www.redfin.com/MO/Saint-Louis/6159-Marwinette-Ave-63116/home/93782080', 'https://www.redfin.com/MO/Saint-Louis/2614-Bennett-Ct-63139/home/62732436', 'https://www.redfin.com/MO/Saint-Louis/6743-W-Park-Ave-63139/home/93765752', 'https://www.redfin.com/MO/Saint-Louis/8214-Pelham-Ave-63147/home/62765519', 'https://www.redfin.com/MO/Saint-Louis/5809-Pershing-Ave-63112/home/93762478', 'https://www.redfin.com/MO/Saint-Louis/2400-S-18th-St-63104/home/93686661', 'https://www.redfin.com/MO/Saint-Louis/4334-Arco-Ave-63110/home/93750873', 'https://www.redfin.com/MO/Saint-Louis/3244-Henrietta-St-63104/home/93684671', 'https://www.redfin.com/MO/St-Louis/2-Cabanne-Ave-63112/home/188838474', 'https://www.redfin.com/MO/Saint-Louis/3616-Osceola-St-63116/home/93706464', 'https://www.redfin.com/MO/Saint-Louis/3323-Osage-St-63118/home/93704685', 'https://www.redfin.com/MO/Saint-Louis/1136-Washington-Ave-63101/unit-512/home/93677673', 'https://www.redfin.com/MO/Saint-Louis/5067-Washington-Pl-63108/home/93749535', 'https://www.redfin.com/MO/Saint-Louis/7056-Bancroft-Ave-63109/home/93774584', 'https://www.redfin.com/MO/Saint-Louis/1063-Riverview-Blvd-63147/home/93782211', 'https://www.redfin.com/MO/Saint-Louis/6731-Bradley-Ave-63139/home/93742012', 'https://www.redfin.com/MO/Saint-Louis/5345-Pattison-Ave-63110/home/93726497', 'https://www.redfin.com/MO/Saint-Louis/5233-Creighton-Dr-63123/home/93783028', 'https://www.redfin.com/MO/Saint-Louis/3833-Bowen-St-63116/home/93773622', 'https://www.redfin.com/MO/Saint-Louis/2710-Keokuk-St-63118/home/93704287', 'https://www.redfin.com/MO/Saint-Louis/4446-Norfolk-Ave-63110/home/181866757', 'https://www.redfin.com/MO/Saint-Louis/3204-Mount-Pleasant-St-63111/home/93706697', 'https://www.redfin.com/MO/St-Louis/5854-Maple-Ave-63112/unit-2/home/188847149', 'https://www.redfin.com/MO/Saint-Louis/4426-Taft-Ave-63116/home/93764658', 'https://www.redfin.com/MO/Saint-Louis/4529-Tennessee-Ave-63111/home/93706475', 'https://www.redfin.com/MO/Saint-Louis/5458-Delor-St-63109/home/93766764', 'https://www.redfin.com/MO/Saint-Louis/4115-N-Florissant-Ave-63107/home/93703109', 'https://www.redfin.com/MO/Saint-Louis/4803-Hammett-Pl-63113/home/93736720', 'https://www.redfin.com/MO/St-Louis/3343-Louisiana-Ave-63118/home/188696344', 'https://www.redfin.com/MO/Saint-Louis/5220-Wabada-Ave-63113/home/62773869', 'https://www.redfin.com/MO/Saint-Louis/5625-Finkman-St-63109/home/93777521', 'https://www.redfin.com/MO/Saint-Louis/3819-Shenandoah-Ave-63110/home/93700172', 'https://www.redfin.com/MO/Saint-Louis/3511-Itaska-St-63111/home/93707166', 'https://www.redfin.com/MO/Saint-Louis/3011-Iowa-Ave-63118/home/93699318', 'https://www.redfin.com/MO/Saint-Louis/5065-Kensington-Ave-63108/home/62771973', 'https://www.redfin.com/MO/Saint-Louis/4159-Burgen-Ave-63116/home/93762000', 'https://www.redfin.com/MO/Saint-Louis/4440-Lindell-Blvd-63108/unit-802/home/93724859', 'https://www.redfin.com/MO/Saint-Louis/5132-Lexington-Ave-63115/home/93774707', 'https://www.redfin.com/MO/Saint-Louis/4029-N-22nd-St-63107/home/93702508', 'https://www.redfin.com/MO/Saint-Louis/3857-Labadie-Ave-63107/home/93715928', 'https://www.redfin.com/MO/Saint-Louis/4417-N-20th-St-63107/home/93703168', 'https://www.redfin.com/MO/Saint-Louis/3733-Minnesota-Ave-63118/home/88838206', 'https://www.redfin.com/MO/Saint-Louis/7727-Vermont-Ave-63111/home/93711035', 'https://www.redfin.com/MO/Saint-Louis/Undisclosed-address-63110/home/93747337', 'https://www.redfin.com/MO/Saint-Louis/3813-Folsom-Ave-63110/home/93747376', 'https://www.redfin.com/MO/Saint-Louis/4328-N-Newstead-Ave-63115/home/93714322', 'https://www.redfin.com/MO/Saint-Louis/4465-W-Pine-Blvd-63108/unit-15/home/93724915', 'https://www.redfin.com/MO/Saint-Louis/3614-Iowa-Ave-63118/home/93696177', 'https://www.redfin.com/MO/Saint-Louis/1188-Riverview-Blvd-63147/home/62720018', 'https://www.redfin.com/MO/Saint-Louis/5242-Greer-Ave-63115/home/92931867', 'https://www.redfin.com/MO/Saint-Louis/1601-Washington-Ave-63103/unit-308/home/93672900', 'https://www.redfin.com/MO/Saint-Louis/215-N-Sarah-St-63108/unit-8/home/181866738', 'https://www.redfin.com/MO/Saint-Louis/3800-Wilmington-Ave-63116/home/93773616', 'https://www.redfin.com/MO/Saint-Louis/523-Wilmington-Ave-63111/home/93708776', 'https://www.redfin.com/MO/Saint-Louis/2712-Potomac-St-63118/home/93694721', 'https://www.redfin.com/MO/Saint-Louis/6835-Marquette-Ave-63139/home/93743427', 'https://www.redfin.com/MO/Saint-Louis/1437-Belt-Ave-63112/home/93684114', 'https://www.redfin.com/MO/Saint-Louis/2852-Arsenal-St-63118/home/93692948', 'https://www.redfin.com/MO/Saint-Louis/3710-Bamberger-Ave-63116/home/93766213', 'https://www.redfin.com/MO/Saint-Louis/4940-Shaw-Ave-63110/home/93728125', 'https://www.redfin.com/MO/Saint-Louis/5120-Maple-Ave-63113/home/93752359', 'https://www.redfin.com/MO/Saint-Louis/5970-Astra-Ave-63147/home/93770367', 'https://www.redfin.com/MO/Saint-Louis/8-Willmore-Rd-63109/home/93782666', 'https://www.redfin.com/MO/Saint-Louis/5465-Gilmore-Ave-63120/home/93752207', 'https://www.redfin.com/MO/Saint-Louis/1440-S-18th-St-63104/home/93689711', 'https://www.redfin.com/MO/Saint-Louis/4558-Newport-Ave-63116/home/93756032', 'https://www.redfin.com/MO/Saint-Louis/5019-Genevieve-Ave-63120/home/93757601', 'https://www.redfin.com/MO/Saint-Louis/6259-Goener-Ave-63116/home/93756549', 'https://www.redfin.com/MO/Saint-Louis/721-N-17th-St-63103/unit-502/home/93674934', 'https://www.redfin.com/MO/Saint-Louis/5609-Chamberlain-Ave-63112/home/93722397', 'https://www.redfin.com/MO/Saint-Louis/210-N-17th-St-63103/unit-1410/home/93680873', 'https://www.redfin.com/MO/Saint-Louis/4992-Tholozan-Ave-63109/home/93776204', 'https://www.redfin.com/MO/Saint-Louis/4557-Flad-Ave-63110/home/93684558', 'https://www.redfin.com/MO/Saint-Louis/4042-Quincy-St-63116/home/93777716', 'https://www.redfin.com/MO/Saint-Louis/614-Fremont-Ave-63147/home/93766302', 'https://www.redfin.com/MO/Saint-Louis/2715-Salena-St-63118/home/93697758', 'https://www.redfin.com/MO/Saint-Louis/2620-Sidney-St-63104/home/93699374', 'https://www.redfin.com/MO/Saint-Louis/1601-Menard-St-63104/unit-12/home/93685282', 'https://www.redfin.com/MO/Saint-Louis/3843-S-Compton-Ave-63118/home/93695813', 'https://www.redfin.com/MO/Saint-Louis/6425-Kinsey-Pl-63109/home/93782766', 'https://www.redfin.com/MO/Saint-Louis/4323-Westminster-Pl-63108/unit-1E/home/163739085', 'https://www.redfin.com/MO/Saint-Louis/3835-Juniata-St-63116/home/93728408', 'https://www.redfin.com/MO/Saint-Louis/4027-Cleveland-Ave-63110/home/93746572', 'https://www.redfin.com/MO/Saint-Louis/5227-Ridge-Ave-63113/home/93721448', 'https://www.redfin.com/MO/Saint-Louis/4138-Clara-Pl-63115/home/93732504', 'https://www.redfin.com/MO/Saint-Louis/5738-Delor-St-63109/home/93768122', 'https://www.redfin.com/MO/Saint-Louis/3754-Taft-Ave-63116/home/93767553', 'https://www.redfin.com/MO/Saint-Louis/5511-Neosho-St-63109/home/93765108', 'https://www.redfin.com/MO/Saint-Louis/5535-Waterman-Blvd-63112/unit-3S/home/62748641', 'https://www.redfin.com/MO/Saint-Louis/4056-Cottage-Ave-63113/home/93716595', 'https://www.redfin.com/MO/Saint-Louis/5239-Cote-Brilliante-Ave-63113/home/93738178', 'https://www.redfin.com/MO/Saint-Louis/6023-Pernod-Ave-63139/home/93775601', 'https://www.redfin.com/MO/Saint-Louis/6252-Famous-Ave-63139/home/93741468'}, 'Jefferson-County': {'https://www.redfin.com/MO/Hillsboro/9419-Sassafras-Dr-63050/home/186216122', 'https://www.redfin.com/MO/Arnold/3436-Rockwood-Forest-Ct-63010/home/79993806', 'https://www.redfin.com/MO/Arnold/1304-Rockwood-Forest-Dr-63010/home/79993813', 'https://www.redfin.com/MO/De-Soto/14200-Catawba-Dr-63020/home/162790038', 'https://www.redfin.com/MO/Barnhart/1702-Primrose-Ln-63012/home/79992190', 'https://www.redfin.com/MO/Festus/2010-Rock-N-Horse-Farms-Dr-63028/home/80016494', 'https://www.redfin.com/MO/Festus/1521-US-Highway-61-63028/home/80016113', 'https://www.redfin.com/MO/Eureka/206-Hickory-Ln-63025/home/79981959', 'https://www.redfin.com/MO/Dittmer/Ridge-Rd-63023/home/101811746', 'https://www.redfin.com/MO/De-Soto/517-S-2nd-St-63020/home/62717141', 'https://www.redfin.com/MO/Dittmer/Highland-Unknown/home/187761028', 'https://www.redfin.com/MO/Eureka/2-Berwick-at-Fox-RUN-Unknown/home/186487359', 'https://www.redfin.com/MO/De-Soto/2312-Parthenon-Dr-63020/home/188867209', 'https://www.redfin.com/MO/High-Ridge/1616-Creightonwood-Ct-63049/home/62777737', 'https://www.redfin.com/MO/Barnhart/1729-Springbrook-Dr-63012/home/170451445', 'https://www.redfin.com/MO/House-Springs/6226-Janea-Moor-63051/home/173387033', 'https://www.redfin.com/MO/Dittmer/8672-Ridge-Rd-63023/home/162735166', 'https://www.redfin.com/MO/Barnhart/1660-Old-State-Road-M-63012/home/187608023', 'https://www.redfin.com/MO/Arnold/2905-Strawberry-Ridge-Dr-63010/home/173648160', 'https://www.redfin.com/MO/Imperial/3521-Imperial-Hills-Dr-63052/home/79990979', 'https://www.redfin.com/MO/House-Springs/5609-Bear-Ridge-Dr-63051/home/188162858', 'https://www.redfin.com/MO/Hillsboro/9647-Persimmon-Point-Dr-63050/home/79956048', 'https://www.redfin.com/MO/Hillsboro/5300-Glade-Chapel-Rd-63050/home/79955087', 'https://www.redfin.com/MO/House-Springs/4121-Erin-Mdw-63051/home/162769055', 'https://www.redfin.com/MO/Central-Township/Timber-Hill-Dr-63050/home/187852805', 'https://www.redfin.com/MO/De-Soto/Moulton-St-63020/home/147007436', 'https://www.redfin.com/MO/Pacific/2336-S-Lakeshore-Dr-63069/home/79983240', 'https://www.redfin.com/MO/House-Springs/Holly-Pl-63051/home/148028983', 'https://www.redfin.com/MO/Crystal-City/500-8th-St-63019/home/80013447', 'https://www.redfin.com/MO/Eureka/208-Willow-Ridge-Ct-63025/home/170450553', 'https://www.redfin.com/MO/De-Soto/0-Independence-Ave-63020/home/188040129', 'https://www.redfin.com/MO/Cedar-Hill/1-Spring-Mill-VLY-63016/home/173387117', 'https://www.redfin.com/MO/Fenton/898-Caleb-Xing-63026/home/145683915', 'https://www.redfin.com/MO/Hillsboro/9694-Magnolia-Dr-63050/home/162731506', 'https://www.redfin.com/MO/Hillsboro/6145-Jefferson-Davis-Dr-63050/home/162734479', 'https://www.redfin.com/MO/Cedar-Hill/7315-Lakeshore-Dr-63016/home/62736891', 'https://www.redfin.com/MO/Imperial-Township/Imperial-Dr-63052/home/182666256', 'https://www.redfin.com/MO/Festus/10445-Green-Hills-Ln-63028/home/80002555', 'https://www.redfin.com/MO/Festus/1903-Hawk-Pointe-Dr-63028/home/80025555', 'https://www.redfin.com/MO/Festus/12786-Carla-Ln-63028/home/79960854', 'https://www.redfin.com/MO/Eureka/2-Berwick-at-Polo-Grounds-Unknown/home/187665407', 'https://www.redfin.com/MO/Eureka/2358-Windswept-Farms-Dr-63025/home/176547530', 'https://www.redfin.com/MO/Central-Township/Lakeview-Dr-63050/home/188234372', 'https://www.redfin.com/MO/House-Springs/Byrnesville-Rd-63051/home/187965304', 'https://www.redfin.com/MO/House-Springs/234-Autumn-Winds-Trl-63051/home/80024458', 'https://www.redfin.com/MO/Barnhart/2242-Valleyview-Dr-63012/home/176548536', 'https://www.redfin.com/MO/Arnold/1847-Lone-Pine-Dr-63010/home/79963180', 'https://www.redfin.com/MO/Fenton/894-Caleb-Xing-63026/home/162793102', 'https://www.redfin.com/MO/Festus/707-Warne-St-63028/home/80014046', 'https://www.redfin.com/MO/Hillsboro/818-Hawks-Circle-Dr-63050/home/79960952', 'https://www.redfin.com/MO/De-Soto/50-Monte-Rosa-Dr-63020/home/80022478', 'https://www.redfin.com/MO/Cedar-Hill/6041-Cedar-Glen-Dr-63016/home/79986687', 'https://www.redfin.com/MO/Festus/4329-Helterbrand-Rd-63028/home/80012587', 'https://www.redfin.com/MO/Arnold/187-Juanita-Ln-63010/home/62764355', 'https://www.redfin.com/MO/House-Springs/5919-Brookside-Pl-63051/home/162794709', 'https://www.redfin.com/MO/Eureka/726-Crested-Point-Dr-63025/home/176547636', 'https://www.redfin.com/MO/Imperial/1015-Cantebury-Cir-63052/home/79996784', 'https://www.redfin.com/MO/Byrnes-Mill/Upper-Byrnes-Mill-Rd-63051/home/186220429', 'https://www.redfin.com/MO/High-Ridge/2495-Little-Antire-Rd-63049/home/79978597', 'https://www.redfin.com/MO/Hillsboro/20-Sumter-Dr-63050/home/105599714', 'https://www.redfin.com/MO/High-Ridge/Whippoorwill-Hill-Dr-63049/home/144349616', 'https://www.redfin.com/MO/Eureka/3303-Byrnes-Mill-Rd-63025/home/178365583', 'https://www.redfin.com/MO/Arnold/808-Green-Apple-Ct-63010/home/79994434', 'https://www.redfin.com/MO/Festus/25409-Buck-Creek-Rd-63028/home/80011732', 'https://www.redfin.com/MO/Hillsboro/443-Brookside-Ln-63050/home/63689135', 'https://www.redfin.com/MO/Hillsboro/6187-S-Lakeshore-Dr-63050/home/80004059', 'https://www.redfin.com/MO/Festus/1949-Burley-Rd-63028/home/63734530', 'https://www.redfin.com/MO/Herculaneum/409-Real-Ct-63048/home/80025401', 'https://www.redfin.com/MO/Arnold/B-St-63010/home/187665135', 'https://www.redfin.com/MO/Hillsboro/9618-Greenview-Ct-63050/home/162731723', 'https://www.redfin.com/MO/Imperial/5105-Paul-Mountain-Dr-63052/home/79976838', 'https://www.redfin.com/MO/Byrnes-Mill/3279-Echo-Lake-Dr-63025/home/144623451', 'https://www.redfin.com/MO/De-Soto/12225-Peter-Moore-Ln-63020/home/80010489', 'https://www.redfin.com/MO/Imperial/2543-Lombard-Ln-63052/home/79989258', 'https://www.redfin.com/MO/Hillsboro/4734-Liberty-School-Rd-63050/unit-4/home/174762179', 'https://www.redfin.com/MO/Meramec/9-Old-Logging-Rd-63025/unit-9/home/146263261', 'https://www.redfin.com/MO/De-Soto/Kenneth-St-63020/home/160277459', 'https://www.redfin.com/MO/LA-BARQUE-CRK/11-Dakota-Hills-Dr-63069/home/172526327', 'https://www.redfin.com/MO/DeSoto/Summer-Set-Section-6-Lot-85-63020/home/184740780', 'https://www.redfin.com/MO/Arnold/2136-Christy-Dr-63010/home/79963719', 'https://www.redfin.com/MO/Pevely/1147-Stone-Henge-Ct-63070/home/187527345', 'https://www.redfin.com/MO/De-Soto/63-Deloris-Dr-63020/home/188599865', 'https://www.redfin.com/MO/De-Soto/0-Highway-67-RD-63020/home/187383759', 'https://www.redfin.com/MO/High-Ridge/5021-Oak-Bluff-Dr-63049/home/79977384', 'https://www.redfin.com/MO/High-Ridge/4669-Brennan-Woods-Dr-63049/home/79971923', 'https://www.redfin.com/MO/Eureka/14-Stoney-Creek-Ln-63025/home/79983008', 'https://www.redfin.com/MO/De-Soto/4613-Dylan-Dr-63020/home/173650490', 'https://www.redfin.com/MO/Hillsboro/4498-Liberty-RDG-63050/home/187607195', 'https://www.redfin.com/MO/De-Soto/Lake-St-63020/home/113354378', 'https://www.redfin.com/MO/Hillsboro/6213-S-Lakeshore-Dr-63050/home/62693396', 'https://www.redfin.com/MO/Barnhart/3800-Wedde-Rd-63012/home/162671011', 'https://www.redfin.com/MO/Festus/4-Seclusion-Woods-63028/home/80016229', 'https://www.redfin.com/MO/De-Soto/2261-W-Tomahawk-Trl-63020/home/162756593', 'https://www.redfin.com/MO/DeSoto/2276-W-Tomahawk-Trl-63020/home/80019246', 'https://www.redfin.com/MO/House-Springs/7344-Rovin-Acres-63051/home/162708350', 'https://www.redfin.com/MO/Imperial/5024-Circle-Dr-63052/home/62737020', 'https://www.redfin.com/MO/Hillsboro/9441-E-Vista-Dr-63050/home/80004835', 'https://www.redfin.com/MO/Festus/12422-State-Road-CC-63028/home/80012302', 'https://www.redfin.com/MO/De-Soto/3941-Zell-Cir-63020/home/188608858', 'https://www.redfin.com/MO/High-Ridge/3113-Jewel-Ct-63049/home/79980539', 'https://www.redfin.com/MO/Eureka/2-Nottingham-at-Polo-Grounds-Unknown/home/187664985', 'https://www.redfin.com/MO/Meramec/2-Polo-Grounds-Dr-63025/home/188227667', 'https://www.redfin.com/MO/Pevely/424-Trinity-Rdg-63070/home/108560178', 'https://www.redfin.com/MO/Eureka/2-Aspen-at-Fox-RUN-Unknown/home/186487371', 'https://www.redfin.com/MO/Pacific/1633-Timber-Bluff-Trl-63069/home/162707107', 'https://www.redfin.com/MO/Dittmer/9145-Ridge-Rd-63023/home/187606044', 'https://www.redfin.com/MO/House-Springs/4813-Miller-Rd-63051/home/188210242', 'https://www.redfin.com/MO/Arnold/Iron-Mountain-Blf-63010/home/187340238', 'https://www.redfin.com/MO/House-Springs/Deer-Ridge-Trl-63051/home/188059477', 'https://www.redfin.com/MO/High-Ridge/Burian-Ct-63049/home/112922840', 'https://www.redfin.com/MO/Festus/12817-State-Road-CC-63028/home/80012836', 'https://www.redfin.com/MO/High-Ridge/2356-Spyglass-Summit-Ct-63049/home/79973002', 'https://www.redfin.com/MO/High-Ridge/1800-Hillsboro-Valley-Park-Rd-63049/home/186888926', 'https://www.redfin.com/MO/Arnold/1980-Valmont-Dr-63010/home/79975212', 'https://www.redfin.com/MO/Hillsboro/1367-Brickyard-Rd-63050/home/188729046', 'https://www.redfin.com/MO/Imperial/4333-E-Swaller-Rd-63052/home/79976738', 'https://www.redfin.com/MO/High-Ridge/2135-Linnus-Dr-63049/home/188697163', 'https://www.redfin.com/MO/House-Springs/Lot-35-Heather-63051/home/174997609', 'https://www.redfin.com/MO/Fenton/736-Konert-Xing-63026/home/186426117', 'https://www.redfin.com/MO/De-Soto/Highway-E-63020/home/178689256', 'https://www.redfin.com/MO/Festus/1108-Ann-St-63028/home/80013566', 'https://www.redfin.com/MO/De-Soto/3251-Fountain-City-Rd-63020/home/78989499', 'https://www.redfin.com/MO/Eureka/2503-Windswept-Farms-Dr-63025/home/170450484', 'https://www.redfin.com/MO/Eureka/2-Hickory-at-Polo-Grounds-Unknown/home/187665050', 'https://www.redfin.com/MO/Eureka/2-Royal-II-at-Polo-Grounds-Unknown/home/187665432', 'https://www.redfin.com/MO/Eureka/2-Royal-II-at-Fox-RUN-Unknown/home/186487240', 'https://www.redfin.com/MO/Cedar-Hill/8450-High-St-63016/home/79984727', 'https://www.redfin.com/MO/Eureka/518-Old-Logging-Rd-63025/home/162657637', 'https://www.redfin.com/MO/Eureka/408-Rolling-Meadow-Dr-63025/home/176547450', 'https://www.redfin.com/MO/De-Soto/207-W-Lakeshore-Dr-63020/home/112779476', 'https://www.redfin.com/MO/Hillsboro/10521-Acorn-Dr-63050/home/162828398', 'https://www.redfin.com/MO/De-Soto/413-E-Main-St-63020/home/80021214', 'https://www.redfin.com/MO/Imperial-Township/3197-White-Pine-Dr-63052/home/186158966', 'https://www.redfin.com/MO/Hillsboro/5050-Glory-Rdg-63050/home/176549935', 'https://www.redfin.com/MO/Dittmer/0-Scenic-View-Dr-63023/home/187532553', 'https://www.redfin.com/MO/Herculaneum/1041-Stonewick-Ct-63048/home/79960321', 'https://www.redfin.com/MO/Byrnes-Mill/5-Broken-Arrow-Ct-63025/home/62777530', 'https://www.redfin.com/MO/Festus/2243-Henson-Farm-Rd-63028/home/80017253', 'https://www.redfin.com/MO/Byrnes-Mill/3-Broken-Arrow-Ct-63025/home/62777541', 'https://www.redfin.com/MO/De-Soto/522-Boyd-St-63020/home/80020738', 'https://www.redfin.com/MO/Imperial/912-Guenzler-Dr-63052/home/79996582', 'https://www.redfin.com/MO/Pevely/2229-School-Dr-63070/home/80001464', 'https://www.redfin.com/MO/Arnold/5231-Jimmy-Dr-63010/home/79976567', 'https://www.redfin.com/MO/House-Springs/9-Lambrich-Ln-63051/home/187451727', 'https://www.redfin.com/MO/Barnhart/7594-US-Highway-61-67-63012/home/79998651', 'https://www.redfin.com/MO/Festus/1100-Airport-Rd-63028/home/188000562', 'https://www.redfin.com/MO/Hillsboro/3644-Crestview-Dr-63050/home/80002468', 'https://www.redfin.com/MO/High-Ridge/0-Spavale-DR-63025/home/167904595', 'https://www.redfin.com/MO/De-Soto/422-N-2nd-St-63020/home/62717398', 'https://www.redfin.com/MO/Pacific/3125-Saddle-Valley-Ln-63069/home/79962393', 'https://www.redfin.com/MO/House-Springs/5613-Bear-Ridge-Dr-63051/home/188035479', 'https://www.redfin.com/MO/Festus/816-Valentine-St-63028/home/80014840', 'https://www.redfin.com/MO/De-Soto/Bogy-St-63020/home/68534298', 'https://www.redfin.com/MO/High-Ridge/2545-Somerville-Dr-63049/home/79979638', 'https://www.redfin.com/MO/Pevely/549-Jackson-Way-63070/home/80025276', 'https://www.redfin.com/MO/De-Soto/1603-Hickory-Lndg-63020/home/79958989', 'https://www.redfin.com/MO/Festus/State-Road-CC-Unknown/home/160599470', 'https://www.redfin.com/MO/De-Soto/7622-Old-State-Rd-H-63020/home/80007908', 'https://www.redfin.com/MO/Festus/730-Caldwell-St-63028/home/173440898', 'https://www.redfin.com/MO/DeSoto/678-Summer-Set-Section-6-Lot-678-63020/home/184740778', 'https://www.redfin.com/MO/De-Soto/4019-Harmony-Hls-63020/home/79959265', 'https://www.redfin.com/MO/Barnhart/2790-Marble-Springs-Rd-63012/home/80000674', 'https://www.redfin.com/MO/De-Soto/2268-Reising-Rd-63020/home/80018926', 'https://www.redfin.com/MO/Hillsboro/63-Ridgewood-Dr-63050/home/80008276', 'https://www.redfin.com/MO/Crystal-City/1207-Kenner-St-63019/home/80013204', 'https://www.redfin.com/MO/High-Ridge/1686-Irish-Sea-63049/home/79977814', 'https://www.redfin.com/MO/Eureka/2394-Windswept-Farms-Dr-63025/home/170450419', 'https://www.redfin.com/MO/De-Soto/128-E-Pratt-St-63020/home/80021219', 'https://www.redfin.com/MO/Imperial/2963-Sierra-View-Ct-63052/home/176547103', 'https://www.redfin.com/MO/Meramec/59-Bluffs-Dr-63025/unit-59/home/174161788', 'https://www.redfin.com/MO/Plattin-Township/N-Rock-Horse-Farms-Dr-63028/home/172044472', 'https://www.redfin.com/MO/De-Soto/Stone-House-Rd-63020/home/113854248', 'https://www.redfin.com/MO/Arnold/879-Hyde-Park-Dr-63010/home/79964156', 'https://www.redfin.com/MO/House-Springs/0-Spring-Mill-VLY-63051/home/173387246', 'https://www.redfin.com/MO/Hillsboro/9718-Raintree-Village-Dr-63050/unit-3D/home/80005521', 'https://www.redfin.com/MO/Fletcher/13549-Cedar-Hollow-Rd-63030/home/80023239', 'https://www.redfin.com/MO/Cedar-Hill/9616-Wine-Creek-Rd-63016/home/79985205', 'https://www.redfin.com/MO/De-Soto/3340-Stone-House-Rd-63020/home/186920444', 'https://www.redfin.com/MO/Hillsboro/5-Vicksburg-Dr-63050/home/162674605', 'https://www.redfin.com/MO/Festus/537-Maple-St-63028/home/79960768', 'https://www.redfin.com/MO/Festus/1611-Crystal-Heights-Rd-63028/home/80000543', 'https://www.redfin.com/MO/Pevely/911-Foster-Ct-63070/home/79958149', 'https://www.redfin.com/MO/House-Springs/4212-Hickory-Ln-63051/home/79982035', 'https://www.redfin.com/MO/Arnold/2205-Crystal-View-Ln-63010/home/187646725', 'https://www.redfin.com/MO/Fenton/1254-Patrick-Dr-63026/home/79971418', 'https://www.redfin.com/MO/Herculaneum/1218-Austin-Dr-63048/home/147899456', 'https://www.redfin.com/MO/Byrnes-Mill/Lower-Byrnes-Mill-Rd-63051/home/180100732', 'https://www.redfin.com/MO/Crystal-City/910-N-Taylor-Ave-63019/home/80013096', 'https://www.redfin.com/MO/Hillsboro/5944-Whippoorwill-Dr-63050/home/188755535', 'https://www.redfin.com/MO/De-Soto/803-Stewart-St-63020/home/80021648', 'https://www.redfin.com/MO/Hillsboro/9000-Grab-Ln-63050/home/80001089', 'https://www.redfin.com/MO/Rock-Township/Stacey-Ln-63026/home/181077371', 'https://www.redfin.com/MO/De-Soto/12923-Morgan-View-Rd-63020/home/162807719', 'https://www.redfin.com/MO/Pevely/634-Alsace-Dr-63070/home/79085388', 'https://www.redfin.com/MO/Festus/4100-Plass-Rd-63028/home/80002746', 'https://www.redfin.com/MO/DeSoto/0-Summer-Set-Dr-63020/home/178315518', 'https://www.redfin.com/MO/Imperial/2092-Miller-Rd-63052/home/79989367', 'https://www.redfin.com/MO/DeSoto/1808-Greg-DR-63020/home/186251545', 'https://www.redfin.com/MO/De-Soto/5-Independence-Ave-63020/home/80022608', 'https://www.redfin.com/MO/Pacific/1444-Riverwood-Dr-63069/home/162659489', 'https://www.redfin.com/MO/Pacific/3880-Timberstone-Trl-63069/home/79982802', 'https://www.redfin.com/MO/Arnold/1520-White-Dawn-Ct-63010/home/79974784', 'https://www.redfin.com/MO/Barnhart/4748-Rainbow-Dr-63012/home/79993597', 'https://www.redfin.com/MO/Crystal-City/809-Burgess-Ave-63019/home/80013060', 'https://www.redfin.com/MO/Festus/218-S-4th-St-63028/home/80015806', 'https://www.redfin.com/MO/De-Soto/3964-Fountain-City-Rd-63020/home/79058693', 'https://www.redfin.com/MO/Crystal-City/21-Riverbluff-Dr-63019/home/79999877', 'https://www.redfin.com/MO/De-Soto/55-Deloris-Dr-63020/home/188599844', 'https://www.redfin.com/MO/Crystal-City/215-Jefferson-Ave-63019/home/80013847', 'https://www.redfin.com/MO/Arnold/1425-Laverne-Dr-63010/home/79967558', 'https://www.redfin.com/MO/Hillsboro/10216-Lake-Ridge-Dr-63050/home/144083134', 'https://www.redfin.com/MO/Arnold/2276-Piper-Dr-63010/home/79964670', 'https://www.redfin.com/MO/Barnhart/6632-Chasteen-Ln-63012/unit-6632-6634/home/187766405', 'https://www.redfin.com/MO/Hillsboro/9654-W-Vista-Dr-63050/home/62698350', 'https://www.redfin.com/MO/Cedar-Hill/8023-Lakeshore-Dr-63016/home/79988087', 'https://www.redfin.com/MO/DeSoto/2280-W-Tomahawk-Trl-63020/home/80019248', 'https://www.redfin.com/MO/Festus/3846-US-Highway-61-63028/home/80016646', 'https://www.redfin.com/MO/De-Soto/4110-Frissell-Rd-63020/home/80020021', 'https://www.redfin.com/MO/De-Soto/4827-Victoria-Rd-63020/home/80009331', 'https://www.redfin.com/MO/Bonne-Terre/4631-Recar-Trl-63628/home/80023464', 'https://www.redfin.com/MO/Arnold/Red-Diamond-Ct-63010/home/187340458', 'https://www.redfin.com/MO/House-Springs/4401-Hillcrest-Dr-63051/home/167846098', 'https://www.redfin.com/MO/High-Ridge/2029-Ridgedale-Dr-63049/home/79978180', 'https://www.redfin.com/MO/Imperial/5521-Oakcrest-Dr-63052/home/79996014', 'https://www.redfin.com/MO/Byrnes-Mill/3252-Echo-Lake-Dr-63025/home/62777486', 'https://www.redfin.com/MO/Dittmer/8900-Barrett-Dr-63023/home/162675168', 'https://www.redfin.com/MO/Imperial/08-1-0-02-0-0-001-025-01-Unknown/home/188030488', 'https://www.redfin.com/MO/De-Soto/3466-McMullin-School-Rd-63020/home/80018695', 'https://www.redfin.com/MO/Hillsboro/1-Rhett-Butler-Dr-63050/home/187363700', 'https://www.redfin.com/MO/De-Soto/221-W-Miller-St-63020/home/80021026', 'https://www.redfin.com/MO/De-Soto/620-W-Miller-St-63020/home/80021815', 'https://www.redfin.com/MO/De-Soto/885-Stone-Gate-Dr-63020/home/162784091', 'https://www.redfin.com/MO/Byrnes-Mill/3204-Echo-Lake-Dr-63025/home/79957262', 'https://www.redfin.com/MO/Meramec/Osage-Rdg-63051/home/79088124', 'https://www.redfin.com/MO/De-Soto/12635-Valley-Vue-Ln-63020/home/79958601', 'https://www.redfin.com/MO/Arnold/2907-Strawberry-Ridge-Dr-63010/home/173648159', 'https://www.redfin.com/MO/Festus/11610-Gamel-Cemetery-Rd-63028/home/80011616', 'https://www.redfin.com/MO/De-Soto/206-E-Clement-St-63020/home/62698385', 'https://www.redfin.com/MO/De-Soto/1516-N-Main-St-63020/home/80009452', 'https://www.redfin.com/MO/Meramec/2-Fox-Run-Dr-63025/home/188665736', 'https://www.redfin.com/MO/Eureka/3523-Hawthorne-Ridge-Dr-63025/home/62779937', 'https://www.redfin.com/MO/Festus/945-S-2nd-St-63028/home/188204534', 'https://www.redfin.com/MO/Dittmer/7800-Huskeys-Valhala-Vly-63023/home/80006086', 'https://www.redfin.com/MO/Festus/1913-Lobo-Dr-63028/home/162833268', 'https://www.redfin.com/MO/Hillsboro/1647-Cedar-Park-Rd-63050/home/62700047', 'https://www.redfin.com/MO/Cedar-Hill/6631-Veterans-Dr-63016/home/79984414', 'https://www.redfin.com/MO/High-Ridge-Township/Mikel-Ln-63049/home/187639930', 'https://www.redfin.com/MO/Herculaneum/100-Regency-Ct-63048/home/170451872', 'https://www.redfin.com/MO/Imperial-Township/3127-White-Pine-Dr-63052/home/186158933', 'https://www.redfin.com/MO/Crystal-City/207-Virginia-Ave-63019/home/80013841', 'https://www.redfin.com/MO/House-Springs/Lots-25-High-Ridge-MNR-63051/home/174970974', 'https://www.redfin.com/MO/Valles-Mines/5260-US-Highway-67-63087/home/80019231', 'https://www.redfin.com/MO/Festus/709-Brenda-Ct-63028/home/187574088', 'https://www.redfin.com/MO/Cedar-Hill/7507-Scott-Dr-63016/home/79987981', 'https://www.redfin.com/MO/Arnold/748-Vera-Dr-63010/home/79964091', 'https://www.redfin.com/MO/Dittmer/10124-Kelemen-Farms-W-63023/home/162830014', 'https://www.redfin.com/MO/Cedar-Hill/8375-Brouk-Dr-63016/home/80005213', 'https://www.redfin.com/MO/House-Springs/W-Four-Ridge-Rd-63051/home/175321300', 'https://www.redfin.com/MO/Hillsboro/106-Redbud-Ln-63050/home/80006469', 'https://www.redfin.com/MO/Joachim-Township/Lake-Virginia-Dr-63028/home/148163602', 'https://www.redfin.com/MO/Hillsboro/4431-Whitehead-Rd-63050/home/79956705', 'https://www.redfin.com/MO/Arnold/18-Hickory-Ct-63010/home/79967880', 'https://www.redfin.com/MO/De-Soto/1637-Brandywine-Dr-63020/home/162831069', 'https://www.redfin.com/MO/High-Ridge/2149-Linnus-Dr-63049/home/188866966', 'https://www.redfin.com/MO/Imperial/113-Long-Oaks-Dr-63052/home/173648865', 'https://www.redfin.com/MO/De-Soto/102-E-Lakeview-Dr-63020/home/80023066', 'https://www.redfin.com/MO/Barnhart/2000-Marble-Springs-Rd-63012/home/80000653', 'https://www.redfin.com/MO/De-Soto/821-N-3rd-St-63020/home/80019867', 'https://www.redfin.com/MO/De-Soto/201-E-Lakeview-Dr-63020/home/188183911', 'https://www.redfin.com/MO/Cedar-Hill/8365-Graham-Rd-63016/home/79984482', 'https://www.redfin.com/MO/Imperial/916-Walnut-Point-Dr-63052/home/186159016', 'https://www.redfin.com/MO/De-Soto/3002-Papin-Rd-63020/home/62703784', 'https://www.redfin.com/MO/Valle-Township/Concord-Dr-63020/home/62775038', 'https://www.redfin.com/MO/Dittmer/State-Road-Ww-63023/home/145403871', 'https://www.redfin.com/MO/Hillsboro/10069-Waterford-Dr-63050/home/162674686', 'https://www.redfin.com/MO/Eureka/2487-Windswept-Farms-Dr-63025/home/170450488', 'https://www.redfin.com/MO/Imperial/4801-Little-Fox-Ct-63052/home/79988878', 'https://www.redfin.com/MO/High-Ridge/2920-Raw-Wind-Dr-63049/home/62768078', 'https://www.redfin.com/MO/De-Soto/650-College-Heights-Rd-63020/home/80022004', 'https://www.redfin.com/MO/Festus/15050-State-Road-T-63028/home/80017604', 'https://www.redfin.com/MO/Festus/10915-Mapaville-Hematite-Rd-63028/home/188862205', 'https://www.redfin.com/MO/Hillsboro/Unknown-Unknown/home/183723546', 'https://www.redfin.com/MO/Dittmer/9581-Rainbow-Acres-63023/home/188819764', 'https://www.redfin.com/MO/Meramec/508-Kit-Fox-Ct-63025/home/188756971', 'https://www.redfin.com/MO/Valle-Township/232-Saratoga-Dr-63020/home/176122190', 'https://www.redfin.com/MO/Cedar-Hill/8000-State-Road-B-63016/home/80005257', 'https://www.redfin.com/MO/Festus/511-Warne-St-63028/home/62717054', 'https://www.redfin.com/MO/Imperial/184-Bentley-Ct-E-63052/home/171082632', 'https://www.redfin.com/MO/Pevely/1153-Riesling-Ln-63070/home/79957710', 'https://www.redfin.com/MO/De-Soto/14234-Oak-63020/home/188608852', 'https://www.redfin.com/MO/House-Springs/Hillcrest-Dr-63051/home/174997656', 'https://www.redfin.com/MO/De-Soto/6237-Barrel-Spring-Trl-63020/home/188533829', 'https://www.redfin.com/MO/Hillsboro/5953-Peachtree-Dr-63050/home/80005057', 'https://www.redfin.com/MO/De-Soto/4132-Ridge-Dr-63020/home/80019665', 'https://www.redfin.com/MO/Dittmer/10991-Blackhawk-Ln-63023/home/80006888', 'https://www.redfin.com/MO/Barnhart/8351-Swyers-Platz-Rd-63012/home/80000594', 'https://www.redfin.com/MO/Festus/7-Grey-Wolf-Cir-63028/home/162753180', 'https://www.redfin.com/MO/Imperial/4915-Mahaw-Dr-63052/home/79976824', 'https://www.redfin.com/MO/Festus/1513-Timber-Wolf-Dr-63028/home/162753202', 'https://www.redfin.com/MO/Festus/1950-Erin-Dr-63028/home/80017057', 'https://www.redfin.com/MO/Hillsboro/6250-Beverly-Ct-63050/home/64750482', 'https://www.redfin.com/MO/High-Ridge-Township/Davis-Dr-63049/home/174704124', 'https://www.redfin.com/MO/Eureka/2434-Windswept-Farms-Dr-63025/home/170450409', 'https://www.redfin.com/MO/Herculaneum/947-Providence-Way-63048/home/79958234', 'https://www.redfin.com/MO/Hillsboro/9537-E-Vista-Dr-63050/home/80004763', 'https://www.redfin.com/MO/Dittmer/9090-Ridge-Rd-63023/home/80005892', 'https://www.redfin.com/MO/De-Soto/2671-Lee-Pyle-Rd-63020/home/79958739', 'https://www.redfin.com/MO/Cedar-Hill/6353-Valerie-Cir-63016/home/79987444', 'https://www.redfin.com/MO/Festus/1509-Timber-Wolf-Dr-63028/home/162753199', 'https://www.redfin.com/MO/Festus/614-Woodrow-Ave-63028/home/80014791', 'https://www.redfin.com/MO/Dittmer/8490-Hickory-Ln-63023/home/63126977', 'https://www.redfin.com/MO/Fenton/717-Beverly-Ann-Dr-63026/home/176546793', 'https://www.redfin.com/MO/Dittmer/311-Cheshire-63023/home/109850480', 'https://www.redfin.com/MO/Arnold/4004-Sunny-Brook-Dr-63010/home/79993626', 'https://www.redfin.com/MO/Hillsboro/4665-Liberty-School-Rd-63050/home/80009908', 'https://www.redfin.com/MO/Barnhart/8533-Forrest-Acres-63012/home/80000698', 'https://www.redfin.com/MO/Herculaneum/Augusta-Providence-63048/home/187457729', 'https://www.redfin.com/MO/De-Soto/1704-Hickory-Hills-Dr-63020/home/80021403', 'https://www.redfin.com/MO/Dittmer/Dittmer-Ridge-Rd-63023/home/113869512', 'https://www.redfin.com/MO/Festus/3511-Buttermilk-Dr-63028/home/144080655', 'https://www.redfin.com/MO/Cedar-Hill/7345-Woodland-Dr-63016/home/188867223', 'https://www.redfin.com/MO/Crystal-City/16-Darby-Ln-63019/home/62696747', 'https://www.redfin.com/MO/Pacific/2346-State-Road-F-63069/home/62765818', 'https://www.redfin.com/MO/House-Springs/5916-Brookside-Pl-63051/home/162691745', 'https://www.redfin.com/MO/Byrnes-Mill/3275-Echo-Lake-Dr-63025/home/144623473', 'https://www.redfin.com/MO/DeSoto/2265-W-Tomahawk-Trl-63020/home/80019254', 'https://www.redfin.com/MO/Hillsboro/9634-Greenview-Ct-63050/home/162829035', 'https://www.redfin.com/MO/De-Soto/3401-Flucom-Rd-63020/home/80018601', 'https://www.redfin.com/MO/Arnold/Undisclosed-address-63010/home/79975360', 'https://www.redfin.com/MO/Hillsboro/State-Road-B-Unknown/home/186089410', 'https://www.redfin.com/MO/Festus/14244-Dry-Fork-Rd-63028/home/79955230', 'https://www.redfin.com/MO/De-Soto/820-Berry-Dr-63020/home/188695779', 'https://www.redfin.com/MO/Eureka/2-Aspen-at-Polo-Grounds-Unknown/home/187665393', 'https://www.redfin.com/MO/Imperial/3518-Butler-Valley-Dr-63052/home/187684989', 'https://www.redfin.com/MO/Arnold/880-Barwood-Dr-63010/home/79965017', 'https://www.redfin.com/MO/Hillsboro/9837-Ridgecrest-Dr-63050/home/188787118', 'https://www.redfin.com/MO/Arnold/638-Jeffco-Blvd-63010/home/79963780', 'https://www.redfin.com/MO/Meramec/30-Rustic-Hl-63069/home/188192345', 'https://www.redfin.com/MO/Eureka/416-Parkview-LN-Unknown/home/188740647', 'https://www.redfin.com/MO/De-Soto/13827-Vineland-Rd-63020/home/80022063', 'https://www.redfin.com/MO/Hillsboro/8327-Marty-Martin-Rd-63050/home/79955083', 'https://www.redfin.com/MO/High-Ridge/3351-John-Swaller-Rd-63049/home/188464665', 'https://www.redfin.com/MO/Hillsboro/4680-Liberty-School-Rd-63050/unit-1/home/176720051', 'https://www.redfin.com/MO/Festus/727-Moore-St-63028/home/80014118', 'https://www.redfin.com/MO/Fenton/6-Rain-Dr-63026/home/79970940', 'https://www.redfin.com/MO/Festus/1013-Scenic-Dr-63028/home/80014313', 'https://www.redfin.com/MO/Festus/1415-Aberdeen-63028/home/80026400', 'https://www.redfin.com/MO/Festus/Savanna-Place-Dr-63028/home/177942236', 'https://www.redfin.com/MO/Eureka/2179-Windswept-Farms-Dr-63025/home/170450646', 'https://www.redfin.com/MO/Barnhart/0-Highway-61-67-63012/home/186362432'}, 'Platte-County': {'https://www.redfin.com/MO/Parkville/8410-NW-Highridge-Rd-64152/home/106298087', 'https://www.redfin.com/MO/Kansas-City/12338-N-Shannon-Ave-64163/home/184619776', 'https://www.redfin.com/MO/Platte-City/17815-NW-128th-St-64079/home/104496106', 'https://www.redfin.com/MO/Kansas-City/8315-NW-90th-St-64153/home/184444383', 'https://www.redfin.com/MO/Riverside/Riverside/Monterey/home/188399926', 'https://www.redfin.com/MO/Kansas-City/1911-NE-114th-St-64155/home/144025817', 'https://www.redfin.com/MO/Weatherby-Lake/Lot-53-N-A-64152/home/176165537', 'https://www.redfin.com/MO/Kansas-City/6460-NW-70th-St-64151/home/106304188', 'https://www.redfin.com/MO/Parkville/13430-Terrace-Park-Dr-64152/home/183697505', 'https://www.redfin.com/MO/Parkville/5765-NW-Barn-Hill-Rd-64152/home/168291443', 'https://www.redfin.com/MO/Parkville/5860-S-National-Dr-64152/home/106392700', 'https://www.redfin.com/MO/Parkville/8655-NW-74th-Ter-64152/home/186970992', 'https://www.redfin.com/MO/Kansas-City/10405-N-Fisk-Ave-64154/home/102851071', 'https://www.redfin.com/MO/Kansas-City/13890-NW-75th-St-64152/home/186037013', 'https://www.redfin.com/MO/Weatherby-Lake/Lot-56-N-A-64152/home/176164044', 'https://www.redfin.com/MO/Kansas-City/Kansas-City/Morgan/home/188383430', 'https://www.redfin.com/MO/Kansas-City/TBD-Terrace-64164/home/180722983', 'https://www.redfin.com/MO/Parkville/E-13th-St-64152/home/176160962', 'https://www.redfin.com/MO/Parkville/5870-Chateau-Ct-64152/home/103211554', 'https://www.redfin.com/MO/Parkville/14982-Thousand-Oaks-Pl-64152/home/183697292', 'https://www.redfin.com/MO/Kansas-City/1816-NW-92nd-Ter-64155/home/106286773', 'https://www.redfin.com/MO/Platte-City/17620-NW-128th-St-64079/home/106283452', 'https://www.redfin.com/MO/Riverside/4809-NW-Northwood-Rd-64150/home/103212116', 'https://www.redfin.com/MO/Kansas-City/3413-NW-77th-Ter-64151/home/185816628', 'https://www.redfin.com/MO/Kansas-City/Kansas-City/Hadley/home/188408213', 'https://www.redfin.com/MO/Riverside/4807-NW-Homestead-Rd-64150/home/188136886', 'https://www.redfin.com/MO/Parkville/10003-NW-Blum-Rd-64152/home/106391483', 'https://www.redfin.com/MO/Kansas-City/8362-NW-Barrybrooke-Dr-64151/home/102884717', 'https://www.redfin.com/MO/Weston/34510-Iatan-Rd-64098/home/106395285', 'https://www.redfin.com/MO/Kansas-City/5624-N-Ames-Ave-64151/home/106394945', 'https://www.redfin.com/MO/Kansas-City/4709-NW-70th-Ct-64151/home/183397580', 'https://www.redfin.com/MO/Weatherby-Lake/Lot-47-N-A-64152/home/176165221', 'https://www.redfin.com/MO/Kansas-City/6769-Praire-Ln-64152/home/177775782', 'https://www.redfin.com/MO/Parkville/13426-Terrace-Park-Dr-64152/home/183697197', 'https://www.redfin.com/MO/Parkville/7195-NW-Forest-Lakes-Dr-64152/home/173059203', 'https://www.redfin.com/MO/Kansas-City/9800-N-Revere-Ave-64154/home/102838920', 'https://www.redfin.com/MO/Platte-City/12610-NW-Bittersweet-Dr-64079/home/183920115', 'https://www.redfin.com/MO/Edgerton/204-Perrin-St-64444/home/102873897', 'https://www.redfin.com/MO/Kansas-City/12233-N-Pomona-Ave-64163/home/188201158', 'https://www.redfin.com/MO/Platte-City/14725-Todd-Creek-Rd-64079/home/106396998', 'https://www.redfin.com/MO/Platte-City/Unknown-64079/home/109832769', 'https://www.redfin.com/MO/Riverside/Riverside/Fairfield/home/188420914', 'https://www.redfin.com/MO/Kansas-City/13450-Terrace-Park-Dr-64152/home/186136852', 'https://www.redfin.com/MO/Kansas-City/9400-NW-86th-St-64153/home/102856898', 'https://www.redfin.com/MO/Parkville/14110-NW-63rd-St-64152/home/102885908', 'https://www.redfin.com/MO/Riverside/2551-NW-Riverview-Dr-64150/home/176464966', 'https://www.redfin.com/MO/Kansas-City/1724-NW-107th-Ter-64155/home/182379512', 'https://www.redfin.com/MO/Parkville/13675-NW-72nd-St-64152/home/170389439', 'https://www.redfin.com/MO/Kansas-City/12330-N-Shannon-Ave-64163/home/177771624', 'https://www.redfin.com/MO/Kansas-City/10741-N-Bell-St-64155/home/188578502', 'https://www.redfin.com/MO/Weatherby-Lake/10006-NW-75th-St-64152/home/106397971', 'https://www.redfin.com/MO/Kansas-City/9407-N-Gower-Ave-64154/home/102863823', 'https://www.redfin.com/MO/Unknown/Street-64152/home/144352424', 'https://www.redfin.com/MO/Kansas-City/NW-Lingley-Dr-64152/home/184682198', 'https://www.redfin.com/MO/Kansas-City/Kansas-City/Oakmont/home/188390973', 'https://www.redfin.com/MO/Kansas-City/Kansas-City/Birch/home/188397200', 'https://www.redfin.com/MO/Kansas-City/6216-NW-59th-Ter-64151/home/185827082', 'https://www.redfin.com/MO/Parkville/8001-NW-Timbercrest-Way-64152/home/109839342', 'https://www.redfin.com/MO/Platte-City/28000-Oberdiek-Ln-64079/home/106295835', 'https://www.redfin.com/MO/Kansas-City/10726-N-Bell-St-64155/home/188578875', 'https://www.redfin.com/MO/Riverside/2210-NW-Palisades-Dr-64150/home/181390786', 'https://www.redfin.com/MO/Kansas-City/9302-NW-76th-Ter-64152/home/103847694', 'https://www.redfin.com/MO/Kansas-City/Kansas-City/Oakwood/home/188420601', 'https://www.redfin.com/MO/Kansas-City/Kansas-City/Brookridge-II/home/188395049', 'https://www.redfin.com/MO/Kansas-City/5001-NW-62nd-St-64151/home/106391475', 'https://www.redfin.com/MO/Kansas-City/4809-NW-Woody-Creek-Ln-64151/home/102859610', 'https://www.redfin.com/MO/Weatherby-Lake/Lot-54-N-A-64152/home/176165515', 'https://www.redfin.com/MO/Kansas-City/9427-N-Adrian-Ave-64154/home/185643750', 'https://www.redfin.com/MO/Weston-Township/10-Acs-Dye-Store-Rd-64098/home/184891101', 'https://www.redfin.com/MO/Kansas-City/7475-N-Lamar-Dr-64152/home/186127748', 'https://www.redfin.com/MO/Kansas-City/19245-NW-MO-45-Hwy-64153/home/163223675', 'https://www.redfin.com/MO/Weston/24495-Hardesty-Ln-64098/home/106292911', 'https://www.redfin.com/MO/Unknown/60-acs-Dye-Store-Rd-64098/home/188217492', 'https://www.redfin.com/MO/Kansas-City/4212-NW-65th-St-64151/home/109830725', 'https://www.redfin.com/MO/Kansas-City/5602-NW-Klamm-Dr-64151/home/102862109', 'https://www.redfin.com/MO/Parkville/Lot-28-NW-River-Hills-Dr-64152/home/171510621', 'https://www.redfin.com/MO/Kansas-City/5908-NW-104th-Ter-64154/home/102872735', 'https://www.redfin.com/MO/Parkville/5899-Oak-Crk-Ct-64152/home/177916670', 'https://www.redfin.com/MO/Kansas-City/10408-N-Congress-Ave-64153/home/102883978', 'https://www.redfin.com/MO/Weston/Lot2A-Unknown/home/183115919', 'https://www.redfin.com/MO/Kansas-City/2617-NW-84th-Pl-64154/home/186314783', 'https://www.redfin.com/MO/Parkville/13620-Cherry-Bark-Ct-64152/home/177917081', 'https://www.redfin.com/MO/Weatherby-Lake/Lot-48-N-A-64152/home/176163430', 'https://www.redfin.com/MO/Kansas-City/918-Norton-Ave-64127/home/93131604', 'https://www.redfin.com/MO/Platte-City/12565-Oak-Point-Dr-64079/home/106394859', 'https://www.redfin.com/MO/Kansas-City/Kansas-City/Monterey-Reverse/home/188422687', 'https://www.redfin.com/MO/Kansas-City/14310-NW-Robinhood-Ln-64164/home/106270113', 'https://www.redfin.com/MO/Weatherby-Lake/Lot-141-147-Lot-170-N-a-64152/home/171510503', 'https://www.redfin.com/MO/Kansas-City/8905-N-Hull-Ave-64154/home/106391898', 'https://www.redfin.com/MO/Kansas-City/6105-NW-58th-St-64151/home/173470249', 'https://www.redfin.com/MO/Platte-City/Platte-City/Azalea-Gold/home/188375749', 'https://www.redfin.com/MO/Kansas-City/6761-Praire-Ln-64152/home/177775781', 'https://www.redfin.com/MO/Kansas-City/9504-N-Amoret-Ave-64154/unit-9504/home/188421720', 'https://www.redfin.com/MO/Parkville/7190-NW-Clore-Dr-64152/home/177875316', 'https://www.redfin.com/MO/Kansas-City/8660-NW-74th-Ter-64152/home/177627619', 'https://www.redfin.com/MO/Kansas-City/128th-St-64164/home/183056384', 'https://www.redfin.com/MO/Kansas-City/Kansas-City/Valentino/home/188377763', 'https://www.redfin.com/MO/Parkville/Lot-46-NW-River-Hills-Dr-64152/home/171510591', 'https://www.redfin.com/MO/Dearborn/603-Harrington-St-64439/home/106291517', 'https://www.redfin.com/MO/Parkville/6532-Ridge-Rd-64152/home/177696482', 'https://www.redfin.com/MO/Kansas-City/13845-NW-72nd-St-64152/home/177775797', 'https://www.redfin.com/MO/Platte-City/13641-Cherry-Bark-CT-64079/home/188034945', 'https://www.redfin.com/MO/Kansas-City/11112-N-Jefferson-St-64155/home/78268520', 'https://www.redfin.com/MO/Edgerton/18355-Highway-B-64444/home/106278955', 'https://www.redfin.com/MO/Kansas-City/Kansas-City/Monterey-Grande/home/188388877', 'https://www.redfin.com/MO/Kansas-City/9012-N-Chatham-Ave-64154/home/106272153', 'https://www.redfin.com/MO/Platte-City/Platte-City/Ivy/home/188392458', 'https://www.redfin.com/MO/Weatherby-Lake/Lot-27-N-A-64152/home/176165475', 'https://www.redfin.com/MO/Parkville/14209-NW-74th-St-64152/home/102864018', 'https://www.redfin.com/MO/Kansas-City/10636-N-Bell-St-64155/home/188581739', 'https://www.redfin.com/MO/Kansas-City/7730-NW-123rd-Ct-64163/home/185154540', 'https://www.redfin.com/MO/Parkville/6006-Missouri-9-64152/home/186124782', 'https://www.redfin.com/MO/Platte-City/12625-NW-Larkspur-Ln-64079/home/185538123', 'https://www.redfin.com/MO/Weatherby-Lake/Lot-25-N-A-64152/home/176165369', 'https://www.redfin.com/MO/Kansas-City/5929-N-Mattox-Rd-64151/home/102873828', 'https://www.redfin.com/MO/Kansas-City/1207-NE-80th-Ter-64118/home/78257062', 'https://www.redfin.com/MO/Kansas-City/5308-N-Michigan-Ave-64118/home/102867003', 'https://www.redfin.com/MO/Parkville/9871-Promenade-Dr-64152/home/109831545', 'https://www.redfin.com/MO/Platte-City/Platte-City/Gunnison/home/188404615', 'https://www.redfin.com/MO/Platte-City/115-W-Mill-St-64079/home/106396093', 'https://www.redfin.com/MO/Parkville/6540-Ridge-Rd-64152/home/103212872', 'https://www.redfin.com/MO/Kansas-City/6127-NW-104th-Ter-64154/home/102852631', 'https://www.redfin.com/MO/Riverside/5150-NW-47-Ter-64150/home/186052994', 'https://www.redfin.com/MO/Platte-City/126-Broken-Bridge-Ln-64079/home/106295818', 'https://www.redfin.com/MO/Kansas-City/8707-NW-Green-Hls-Rd-64154/home/109833430', 'https://www.redfin.com/MO/Riverside/5058-NW-Messina-Ct-64150/home/105494093', 'https://www.redfin.com/MO/Dearborn/12-Sandi-Cir-64439/home/106310670', 'https://www.redfin.com/MO/Parkville/Lot-49-NW-River-Hills-Dr-64152/home/171510592', 'https://www.redfin.com/MO/Platte-City/Platte-City/Azalea-Gold/home/188387090', 'https://www.redfin.com/MO/Kansas-City/4921-NW-70th-Ter-64151/home/187228563', 'https://www.redfin.com/MO/Weatherby-Lake/Lot-42-N-A-64152/home/176164916', 'https://www.redfin.com/MO/Kansas-City/7031-N-Anita-Ave-64151/home/145604044', 'https://www.redfin.com/MO/Kansas-City/Kansas-City/Serafina-Plan/home/188415176', 'https://www.redfin.com/MO/Smithville/4080-Carter-Dr-64089/home/106265367', 'https://www.redfin.com/MO/Kansas-City/7730-NW-123rd-Ct-64163/home/177771610', 'https://www.redfin.com/MO/Weatherby-Lake/Lot-20-N-A-64152/home/176161833', 'https://www.redfin.com/MO/Kansas-City/7420-N-Lamar-Dr-64152/home/184711500', 'https://www.redfin.com/MO/Kansas-City/8112-NW-89th-Ter-64153/home/181254161', 'https://www.redfin.com/MO/Kansas-City/7743-NW-123-Ter-64163/home/184027922', 'https://www.redfin.com/MO/Weatherby-Lake/Lot-46-N-A-64152/home/176165162', 'https://www.redfin.com/MO/Platte-City/Platte-City/Silverton/home/188391062', 'https://www.redfin.com/MO/Kansas-City/12354-N-Shannon-Ave-64163/home/176439789', 'https://www.redfin.com/MO/Kansas-City/7460-N-Lamar-Dr-64152/home/184711709', 'https://www.redfin.com/MO/Kansas-City/5433-NW-70th-St-64151/home/106298048', 'https://www.redfin.com/MO/Parkville/14755-NW-67th-St-64152/home/106302236', 'https://www.redfin.com/MO/Kansas-City/5720-NW-Barn-Hill-Rd-64152/home/168291467', 'https://www.redfin.com/MO/Weston/307-Washington-St-64098/home/102838455', 'https://www.redfin.com/MO/Lake-Waukomis/NW-62nd-Ter-64151/home/186320994', 'https://www.redfin.com/MO/Parkville/13479-Terrace-Park-Dr-64152/home/188182784', 'https://www.redfin.com/MO/Kansas-City/6914-N-Fisk-Ave-64151/home/106291270', 'https://www.redfin.com/MO/Kansas-City/8609-NW-85th-Ter-64153/home/106397199', 'https://www.redfin.com/MO/Kansas-City/Lot-106-N-Green-Hills-Rd-64154/unit-4001/home/188416019', 'https://www.redfin.com/MO/Kansas-City/7060-NW-Forest-Lakes-Dr-64152/home/184080957', 'https://www.redfin.com/MO/Platte-City/12750-N-Champanel-Way-64079/home/187633196', 'https://www.redfin.com/MO/Kansas-City/6101-N-Mattox-Rd-64151/home/102360545', 'https://www.redfin.com/MO/Unknown/NW-Moore-Rd-64153/home/188585443', 'https://www.redfin.com/MO/Platte-City/2405-Windmill-Dr-64079/home/187755689', 'https://www.redfin.com/MO/Kansas-City/10706-N-Bell-St-64155/home/188583100', 'https://www.redfin.com/MO/Platte-City/16325-NW-123rd-St-64079/home/181388085', 'https://www.redfin.com/MO/Weatherby-Lake/13626-Prairie-Creek-PL-64152/home/177917534', 'https://www.redfin.com/MO/Kansas-City/7811-NW-Dalton-Ct-64151/home/102857852', 'https://www.redfin.com/MO/Kansas-City/3925-NW-95th-Ter-64154/home/178985658', 'https://www.redfin.com/MO/Platte-City/Platte-City/Azalea/home/188416104', 'https://www.redfin.com/MO/Parkville/NW-58th-Ter-64152/home/185145894', 'https://www.redfin.com/MO/Kansas-City/6605-NW-107th-Ct-64154/home/176908386', 'https://www.redfin.com/MO/Platte-City/15265-Knighton-Ave-64079/home/186854672', 'https://www.redfin.com/MO/Parkville/6512-N-National-Dr-64152/home/102853252', 'https://www.redfin.com/MO/Kansas-City/8695-NW-74th-Ter-64152/home/143346468', 'https://www.redfin.com/MO/Riverside/2330-NW-Scenic-View-Dr-64150/home/184717158', 'https://www.redfin.com/MO/Dearborn/208-Maple-Leaf-St-64439/home/102860700', 'https://www.redfin.com/MO/Platte-City/12815-NW-145th-St-64079/home/106304298', 'https://www.redfin.com/MO/Green-Township/Tract-1-Singleton-Branch-Rd-64439/home/176359237', 'https://www.redfin.com/MO/Kansas-City/NW-Old-Tiffany-Springs-Rd-64154/home/184145665', 'https://www.redfin.com/MO/Kansas-City/2800-Independence-Ave-64124/home/182391199', 'https://www.redfin.com/MO/Platte-City/Platte-City/Telluride/home/188384745', 'https://www.redfin.com/MO/Kansas-City/Kansas-City/Carina-Grande/home/188414415', 'https://www.redfin.com/MO/Kansas-City/Kansas-City/Cypress-BRAND-NEW/home/188375842', 'https://www.redfin.com/MO/Kansas-City/Kansas-City/Bronson/home/188573817', 'https://www.redfin.com/MO/Weston/22355-County-Road-P-64098/home/106306963', 'https://www.redfin.com/MO/Kansas-City/6820-N-Fisk-Ave-64151/home/106291138', 'https://www.redfin.com/MO/Kansas-City/2714-NW-84th-Ter-64154/home/186312758', 'https://www.redfin.com/MO/Riverside/Riverside/Sonoma/home/188377266', 'https://www.redfin.com/MO/Kansas-City/Kansas-City/Madison/home/188398941', 'https://www.redfin.com/MO/Kansas-City/5609-NW-93rd-St-64154/home/102875088', 'https://www.redfin.com/MO/Parkville/5828-NW-Hickory-Pl-64152/home/106298539', 'https://www.redfin.com/MO/Kansas-City/2625-NW-84th-Pl-64154/home/186314454', 'https://www.redfin.com/MO/Parkville/16048-Ryan-CIR-64152/home/188176956', 'https://www.redfin.com/MO/Parkville/11th-St-64152/home/176160928', 'https://www.redfin.com/MO/Platte-City/17360-NW-127th-St-64079/home/109831695', 'https://www.redfin.com/MO/Kansas-City/1729-NW-107th-Ter-64155/home/182379514', 'https://www.redfin.com/MO/Kansas-City/Kansas-City/Azalea-Gold/home/188425366', 'https://www.redfin.com/MO/Parkville/5700-Thousand-Oaks-Dr-64152/home/166961705', 'https://www.redfin.com/MO/Parkville/5818-Trailridge-Dr-64152/home/106283431', 'https://www.redfin.com/MO/Weston/29455-Countryside-Rd-64098/home/185577268', 'https://www.redfin.com/MO/Kansas-City/7962-NW-76-Pl-64152/home/183294068', 'https://www.redfin.com/MO/Weston/21970-Lamar-Rd-64098/home/106302047', 'https://www.redfin.com/MO/Kansas-City/600-E-8th-St-64106/unit-7T/home/93062815', 'https://www.redfin.com/MO/Parkville/11113-NW-55th-St-64152/home/102887184', 'https://www.redfin.com/MO/Kansas-City/4917-NW-70th-Ter-64151/home/187234321', 'https://www.redfin.com/MO/Kansas-City/4211-NW-75th-St-64151/home/106278463', 'https://www.redfin.com/MO/Weatherby-Lake/Lot-44-N-A-64152/home/176165718', 'https://www.redfin.com/MO/Kansas-City/10718-N-Bell-St-64155/home/184670645', 'https://www.redfin.com/MO/Platte-City/16655-NW-124th-St-64079/home/185243339', 'https://www.redfin.com/MO/Kansas-City/6348-NW-49th-St-64151/home/106281464', 'https://www.redfin.com/MO/Parkville/13446-Terrace-Park-Dr-64152/home/187610310', 'https://www.redfin.com/MO/Weston/20113-Cider-Ct-64098/home/177770033', 'https://www.redfin.com/MO/Kansas-City/Kansas-City/Lancaster/home/188409179', 'https://www.redfin.com/MO/Kansas-City/6911-NW-Searcy-Dr-64152/home/106392971', 'https://www.redfin.com/MO/Platte-City/12655-NW-Larkspur-Ln-64079/home/186374786', 'https://www.redfin.com/MO/Kansas-City/11119-N-Hull-Ave-64154/home/185892996', 'https://www.redfin.com/MO/Kansas-City/4003-NW-95th-Ter-64154/home/186044511', 'https://www.redfin.com/MO/Kansas-City/7409-N-Amoret-Ave-64151/home/106291384', 'https://www.redfin.com/MO/Parkville/Ridge-Rd-64152/home/187208042', 'https://www.redfin.com/MO/Weatherby-Lake/Lot-37-N-A-64152/home/176164453', 'https://www.redfin.com/MO/Kansas-City/Kansas-City/The-Brentwood/home/188379116', 'https://www.redfin.com/MO/Kansas-City/8518-N-McDonald-Ave-64153/home/106270014', 'https://www.redfin.com/MO/Kansas-City/Kansas-City/Laguna-Reverse/home/188412639', 'https://www.redfin.com/MO/Kansas-City/4808-NW-70th-Ct-64151/home/188182140', 'https://www.redfin.com/MO/Kansas-City/4913-NW-70th-Ter-64151/home/186853159', 'https://www.redfin.com/MO/Parkville/6001-Julian-Dr-64152/home/78209731', 'https://www.redfin.com/MO/Kansas-City/Kansas-City/Oakwood/home/188384759', 'https://www.redfin.com/MO/Parkville/16020-Ryan-CIR-64152/home/187079851', 'https://www.redfin.com/MO/Platte-City/1-S-371-HWY-64018/home/175725956', 'https://www.redfin.com/MO/Kansas-City/7055-Yulcih-Ct-64152/home/188182438', 'https://www.redfin.com/MO/Kansas-City/10620-N-Bell-St-64155/home/184896822', 'https://www.redfin.com/MO/Kansas-City/7470-N-Lamar-Dr-64152/home/184711768', 'https://www.redfin.com/MO/Weatherby-Lake/NW-Barry-Rd-64153/home/174235641', 'https://www.redfin.com/MO/Weatherby-Lake/Lot-26-N-A-64152/home/176165387', 'https://www.redfin.com/MO/Platte-Woods/5900-NW-Redhaw-Ln-64151/home/106297901', 'https://www.redfin.com/MO/Kansas-City/7551-N-Gower-64151/home/188800863', 'https://www.redfin.com/MO/Kansas-City/Kansas-City/Palisades/home/188421502', 'https://www.redfin.com/MO/Kansas-City/7440-N-Lamar-Dr-64152/home/184711523', 'https://www.redfin.com/MO/Parkville/7012-N-Winan-Ave-64152/home/106298477', 'https://www.redfin.com/MO/Parkville/7044-Glenn-Ln-64152/home/103212111', 'https://www.redfin.com/MO/Parkville/16041-Ryan-CIR-64152/home/187683828', 'https://www.redfin.com/MO/Weatherby-Lake/Lot-43-N-A-64152/home/176165197', 'https://www.redfin.com/MO/Weatherby-Lake/Lot-5-N-A-64152/home/176156822', 'https://www.redfin.com/MO/Kansas-City/Kansas-City/Willow/home/188388233', 'https://www.redfin.com/MO/Kansas-City/Kansas-City/Linden/home/188573940', 'https://www.redfin.com/MO/Riverside/5111-NW-Northwood-Rd-64150/home/106392188', 'https://www.redfin.com/MO/Kansas-City/4008-NW-97th-St-64154/home/186504412', 'https://www.redfin.com/MO/Platte-City/16345-NW-123rd-St-64079/home/181945169', 'https://www.redfin.com/MO/Riverside/Riverside/Danbury/home/188376595', 'https://www.redfin.com/MO/Kansas-City/Kansas-City/Timberland/home/188416605', 'https://www.redfin.com/MO/Dearborn/105-S-July-St-64439/home/102842121', 'https://www.redfin.com/MO/Kansas-City/10624-N-Bell-St-64155/home/188178903', 'https://www.redfin.com/MO/Weston/29345-Countryside-Rd-64098/home/168285561', 'https://www.redfin.com/MO/Kansas-City/5401-NW-Waukomis-Dr-64151/home/106274040', 'https://www.redfin.com/MO/Weatherby-Lake/Lot-51-N-A-64152/home/176163880', 'https://www.redfin.com/MO/Weatherby-Lake/Lot-21-N-a-64152/home/171286924', 'https://www.redfin.com/MO/Kansas-City/5852-S-National-Dr-64152/home/147791853', 'https://www.redfin.com/MO/Kansas-City/4427-NW-64th-Ter-64151/home/102870124', 'https://www.redfin.com/MO/Parkville/Lot-27-NW-River-Hills-Dr-64152/home/171421306', 'https://www.redfin.com/MO/Kansas-City/5906-NW-Hutson-Rd-64151/home/106278431', 'https://www.redfin.com/MO/Platte-City/Platte-City/Ivy/home/188410688', 'https://www.redfin.com/MO/Platte-City/12680-NW-Bittersweet-Dr-64079/home/182001541', 'https://www.redfin.com/MO/Parkville/5858-S-National-Dr-64152/home/106286742', 'https://www.redfin.com/MO/Platte-City/16275-NW-123rd-St-64079/home/181388087', 'https://www.redfin.com/MO/Parkville/Lot-9-N-A-64152/home/176222057', 'https://www.redfin.com/MO/Platte-City/12690-NW-Bittersweet-Dr-64079/home/188069373', 'https://www.redfin.com/MO/Kansas-City/8715-NW-74th-Ter-64152/home/178657224', 'https://www.redfin.com/MO/Kansas-City/9454-N-Amoret-Ave-64154/home/184254839', 'https://www.redfin.com/MO/Kansas-City/Kansas-City/Ivy/home/188389063', 'https://www.redfin.com/MO/Edgerton/5345-Mount-Zion-Rd-64444/home/106310439', 'https://www.redfin.com/MO/Kansas-City/10312-N-Lucerne-Ave-64154/home/78209168', 'https://www.redfin.com/MO/Kansas-City/9504-N-Amoret-Ave-64154/home/185741261', 'https://www.redfin.com/MO/Weston/34355-Iatan-Rd-64098/home/186395414', 'https://www.redfin.com/MO/Kansas-City/Kansas-City/Stanton/home/188385222', 'https://www.redfin.com/MO/Platte-City/Platte-City/Monarch/home/188408861', 'https://www.redfin.com/MO/Platte-City/308-Aller-St-64079/home/106295784', 'https://www.redfin.com/MO/Weatherby-Lake/Lot-19-N-A-64152/home/176161703', 'https://www.redfin.com/MO/Kansas-City/9458-N-Amoret-Ave-64154/home/184351869', 'https://www.redfin.com/MO/Kansas-City/Kansas-City/Gunnison/home/188405945', 'https://www.redfin.com/MO/Kansas-City/7812-N-Revere-Dr-64151/home/106276403', 'https://www.redfin.com/MO/Kansas-City/7004-NW-79th-Ter-64152/home/106306540', 'https://www.redfin.com/MO/Kansas-City/Kansas-City/Larkspur/home/188415350', 'https://www.redfin.com/MO/Kansas-City/Kansas-City/Ridgewood/home/188410278', 'https://www.redfin.com/MO/Camden-Point/19990-Interurban-Rd-64018/home/106293041', 'https://www.redfin.com/MO/Weatherby-Lake/7814-NW-Scenic-Dr-64152/home/106391234', 'https://www.redfin.com/MO/Kansas-City/4804-NW-71st-St-64151/home/105631268', 'https://www.redfin.com/MO/Kansas-City/8108-NW-89th-Ter-64153/home/187610650', 'https://www.redfin.com/MO/Kansas-City/8920-N-Tipton-Ave-64153/home/108444998', 'https://www.redfin.com/MO/Weston/17908-Sunset-Dr-64098/home/109830697', 'https://www.redfin.com/MO/Kansas-City/7850-N-Kirkwood-Ave-64151/home/148135029', 'https://www.redfin.com/MO/Kansas-City/13357-Silverleaf-Ct-64152/home/181401527', 'https://www.redfin.com/MO/Platte-City/Platte-City/Azalea/home/188398723', 'https://www.redfin.com/MO/Kansas-City/1775-NW-53rd-St-64118/home/106313416', 'https://www.redfin.com/MO/Kansas-City/8204-NW-89th-Ter-64153/home/178641011', 'https://www.redfin.com/MO/Platte-City/100-Rader-Ave-64079/home/106394009', 'https://www.redfin.com/MO/Riverside/5007-NW-Woodside-Dr-64150/home/78208937', 'https://www.redfin.com/MO/Kansas-City/7538-N-Gower-Ave-64151/home/186514044', 'https://www.redfin.com/MO/Kansas-City/6300-NW-Huonker-Rd-64151/home/104013992', 'https://www.redfin.com/MO/Platte-City/Platte-City/Larkspur/home/188406249', 'https://www.redfin.com/MO/Kansas-City/7465-N-Lamar-Dr-64152/home/186127857', 'https://www.redfin.com/MO/Parkville/Lot-35-N-A-64152/home/176164311', 'https://www.redfin.com/MO/Kansas-City/6700-NW-105th-St-64154/home/173468811', 'https://www.redfin.com/MO/Platte-City/13774-Post-Oak-Ln-64079/home/102906733', 'https://www.redfin.com/MO/Kansas-City/14310-NW-Robinhood-N-A-64164/home/187609360', 'https://www.redfin.com/MO/Kansas-City/N-Robinhood-Ln-64164/home/134097391', 'https://www.redfin.com/MO/Parkville/16111-Giorgia-St-64152/home/177775712', 'https://www.redfin.com/MO/Kansas-City/7485-N-Lamar-Dr-64152/home/186127390', 'https://www.redfin.com/MO/Kansas-City/Kansas-City/Hampton-IV/home/188383034', 'https://www.redfin.com/MO/Kansas-City/7422-N-Strathbury-Ave-64151/home/106272100', 'https://www.redfin.com/MO/Kansas-City/8737-NW-82nd-St-64152/home/106396947', 'https://www.redfin.com/MO/Platte-City/16590-NW-124th-St-64079/home/188184975', 'https://www.redfin.com/MO/Weatherby-Lake/Unknown-64152/home/176271653', 'https://www.redfin.com/MO/Kansas-City/10608-N-Bell-St-64155/home/181868370', 'https://www.redfin.com/MO/Kansas-City/8213-N-Overland-Dr-64151/home/106393068', 'https://www.redfin.com/MO/Parkville/5810-NW-Barn-Hill-Rd-64152/home/168291496', 'https://www.redfin.com/MO/Parkville/6201-S-National-Dr-64152/home/102877551', 'https://www.redfin.com/MO/Kansas-City/10632-N-Bell-St-64155/home/179993991', 'https://www.redfin.com/MO/Parkville/Lot-3-Riverchase-Ln-64151/home/183587427', 'https://www.redfin.com/MO/Weatherby-Lake/7529-NW-Kerns-Dr-64152/home/102881450', 'https://www.redfin.com/MO/Weatherby-Lake/Lot-40-N-A-64152/home/176164616', 'https://www.redfin.com/MO/Kansas-City/Kansas-City/The-Laguna/home/188419843', 'https://www.redfin.com/MO/Kansas-City/634-NE-100th-St-64155/home/110236707', 'https://www.redfin.com/MO/Parkville/Lot-23-NW-River-Hills-Dr-64152/home/171510805', 'https://www.redfin.com/MO/Weston/18420-Middle-Rd-64098/home/177770070', 'https://www.redfin.com/MO/Kansas-City/2701-NW-68th-St-64151/home/102843893', 'https://www.redfin.com/MO/Kansas-City/Kansas-City/Redbud/home/188574170', 'https://www.redfin.com/MO/Riverside/4130-Palisades-Pt-64150/home/169582483', 'https://www.redfin.com/MO/Parkville/5505-NW-Fox-Run-Dr-64152/home/106302088', 'https://www.redfin.com/MO/Kansas-City/9500-N-Amoret-Ave-64154/unit-9500/home/188378196', 'https://www.redfin.com/MO/Parkville/Lot-65-NW-River-Hills-Dr-64152/home/171510462', 'https://www.redfin.com/MO/Weatherby-Lake/Lot-41-N-A-64152/home/176164811', 'https://www.redfin.com/MO/Parkville/Lot-29-NW-River-Hills-Dr-64152/home/171510590', 'https://www.redfin.com/MO/Kansas-City/7450-N-Lamar-Dr-64152/home/184711529', 'https://www.redfin.com/MO/Weston-Township/20-Acs-Dye-Store-Rd-64098/home/184898324'}, 'Lincoln-County': {'https://www.redfin.com/MO/Moscow-Mills/10-Linda-Ln-63362/home/78196515', 'https://www.redfin.com/MO/Troy/Troy/Sienna/home/188571624', 'https://www.redfin.com/MO/Moscow-Mills/521-Birchwood-Dr-63362/home/187608298', 'https://www.redfin.com/MO/Troy/Troy/Princeton/home/188571400', 'https://www.redfin.com/MO/Troy/0-Cheatham-Rd-63379/home/184409322', 'https://www.redfin.com/MO/Troy/449-Shady-Trail-Dr-63379/home/176221291', 'https://www.redfin.com/MO/Elsberry/6-Lakeside-Dr-63343/home/78189855', 'https://www.redfin.com/MO/Silex/222-Hickory-St-63377/home/187245182', 'https://www.redfin.com/MO/Moscow-Mills/501-Birchwood-Dr-63362/home/187608388', 'https://www.redfin.com/MO/Winfield/60-Pillsbury-Rd-63389/home/185282387', 'https://www.redfin.com/MO/Troy/10-Stone-Bridge-Dr-Unknown/home/182483624', 'https://www.redfin.com/MO/Moscow-Mills/428-Gerber-Dr-63362/home/109513254', 'https://www.redfin.com/MO/Troy/105-Merz-Meadows-Dr-63379/home/182102350', 'https://www.redfin.com/MO/Silex/Undisclosed-address-63377/home/106253500', 'https://www.redfin.com/MO/Troy/Sand-Run-Rd-Unknown/home/188817138', 'https://www.redfin.com/MO/Moscow-Mills/1577-Driftwood-LN-Unknown/home/187608596', 'https://www.redfin.com/MO/Moscow-Mills/Moscow-Mills/Laurel-III/home/188269867', 'https://www.redfin.com/MO/Elsberry/61-Highway-61-N-63343/home/184115037', 'https://www.redfin.com/MO/Moscow-Mills/2330-Carter-Rd-63362/home/78192949', 'https://www.redfin.com/MO/Old-Monroe/604-Saint-James-Ct-63369/home/176731412', 'https://www.redfin.com/MO/Moscow-Mills/Moscow-Mills/The-Spruce/home/188397294', 'https://www.redfin.com/MO/Old-Monroe/0-State-Highway-C-63369/home/187370848', 'https://www.redfin.com/MO/Troy/124-Wildflower-Ln-63379/home/143344128', 'https://www.redfin.com/MO/Winfield/Lot-1-Hecker-Hills-DR-63389/home/188579195', 'https://www.redfin.com/MO/Moscow-Mills/3079-Creek-Rd-63362/home/78203145', 'https://www.redfin.com/MO/Moscow-Mills/Moscow-Mills/The-Blossom/home/188393329', 'https://www.redfin.com/MO/Moscow-Mills/Hickory-majestic-Lakes-Unknown/home/188034635', 'https://www.redfin.com/MO/Foley/0-Blackmore-Rd-63347/home/186185205', 'https://www.redfin.com/MO/Wright-City/2010-Wolf-Pen-Hollow-Ln-63390/home/179976303', 'https://www.redfin.com/MO/Moscow-Mills/0-Holly-DR-63382/home/181818565', 'https://www.redfin.com/MO/Elsberry/Deer-Run-Rd-63343/home/78193704', 'https://www.redfin.com/MO/Troy/416-Meadow-Spring-Dr-63379/home/62778057', 'https://www.redfin.com/MO/Troy/Troy/Tremont/home/188570863', 'https://www.redfin.com/MO/Troy/Troy/Hartford/home/188574061', 'https://www.redfin.com/MO/Elsberry/407-N-2nd-St-63343/unit-411/home/78199289', 'https://www.redfin.com/MO/Troy/30-Citori-Ct-63379/home/78205995', 'https://www.redfin.com/MO/Hawk-Point/Harmony-Ln-63349/home/181791094', 'https://www.redfin.com/MO/Winfield/Lot-2-Hecker-Hills-DR-63389/home/188579385', 'https://www.redfin.com/MO/Troy/109-Half-Mile-Ln-63379/home/78195890', 'https://www.redfin.com/MO/Moscow-Mills/Wayne-Dr-63362/home/78204297', 'https://www.redfin.com/MO/Wright-City/2575-County-Farm-Rd-63390/home/183632571', 'https://www.redfin.com/MO/Troy/Troy/Canterbury/home/188838526', 'https://www.redfin.com/MO/Troy/209-John-Unknown/home/187607314', 'https://www.redfin.com/MO/Troy/71-Westborough-Dr-63379/home/174040964', 'https://www.redfin.com/MO/Troy/191-Clark-Dr-63379/home/62756490', 'https://www.redfin.com/MO/Troy/5-Benjamin-Ct-63379/home/101652389', 'https://www.redfin.com/MO/Troy/31-Abby-Ln-63379/home/109169518', 'https://www.redfin.com/MO/Troy/131-Turkey-Ridge-Ct-63379/home/78190981', 'https://www.redfin.com/MO/Moscow-Mills/20-Bel-Air-Dr-63362/home/78197716', 'https://www.redfin.com/MO/Moscow-Mills/Moscow-Mills/The-Holly/home/188392034', 'https://www.redfin.com/MO/Elsberry/43-Shawnee-Ln-63343/home/78190377', 'https://www.redfin.com/MO/Union-Township/Eagle-Watch-Dr-63377/home/178674730', 'https://www.redfin.com/MO/Troy/Troy/Rochester/home/188572490', 'https://www.redfin.com/MO/Fountain-N-Lakes/Frodo-Dr-63362/home/181918625', 'https://www.redfin.com/MO/Hawk-Point/4607-W-Highway-47-63349/home/78196976', 'https://www.redfin.com/MO/Winfield/137-Colton-Jesse-Dr-63389/home/176220940', 'https://www.redfin.com/MO/Troy/1195-Main-St-63379/home/78208560', 'https://www.redfin.com/MO/Moscow-Mills/Hwy-Mm-63362/home/109511899', 'https://www.redfin.com/MO/Troy/Troy/Barkley/home/188573001', 'https://www.redfin.com/MO/Moscow-Mills/507-Clarks-Xing-63362/home/188095998', 'https://www.redfin.com/MO/Moscow-Mills/0-S-Chantilly-RD-63362/home/187195729', 'https://www.redfin.com/MO/Foley/362-Blackmore-Rd-63347/home/186185207', 'https://www.redfin.com/MO/Moscow-Mills/Moscow-Mills/Olive-I/home/188266043', 'https://www.redfin.com/MO/Hawk-Point/63-Parc-Forest-Trl-63349/home/69157021', 'https://www.redfin.com/MO/Troy/632-Meadowgreen-Dr-63379/home/67632794', 'https://www.redfin.com/MO/Eolia/131-N-Corner-Stone-Church-Rd-63344/home/78190399', 'https://www.redfin.com/MO/Wright-City/204-Jabin-Farm-Ct-63390/home/147383056', 'https://www.redfin.com/MO/Elsberry/30-Green-Valley-Dr-63343/home/78207671', 'https://www.redfin.com/MO/Foley/528-Fox-Run-Rd-63347/home/78207645', 'https://www.redfin.com/MO/Troy/231-Box-Car-Dr-63379/home/171798133', 'https://www.redfin.com/MO/Moscow-Mills/0-Beach-Cir-63362/home/182872290', 'https://www.redfin.com/MO/Troy/34-Pebblestone-Ct-63379/home/78203353', 'https://www.redfin.com/MO/Troy/10-Woods-Fort-Ct-63379/home/109513148', 'https://www.redfin.com/MO/Troy/Undisclosed-address-63379/home/182659315', 'https://www.redfin.com/MO/Old-Monroe/Hwy-Oo-63369/home/78208448', 'https://www.redfin.com/MO/Hurricane-Township/Norton-Woods-Rd-63343/home/62769505', 'https://www.redfin.com/MO/Moscow-Mills/100-Eagle-Fork-Dr-63362/home/182104365', 'https://www.redfin.com/MO/Moscow-Mills/1584-Driftwood-LN-Unknown/home/187608594', 'https://www.redfin.com/MO/Moscow-Mills/3-Hammerstone-Ct-63362/home/78192386', 'https://www.redfin.com/MO/Winfield/N-Hwy-W-lot-7-63389/home/185380450', 'https://www.redfin.com/MO/Elsberry/198-Mad-River-Ln-63343/home/78199672', 'https://www.redfin.com/MO/Silex/171-Falcon-Pointe-Dr-63377/home/78200920', 'https://www.redfin.com/MO/Winfield/0-8th-St-63389/home/188581126', 'https://www.redfin.com/MO/Troy/65-Chinkapin-Ct-63379/home/78203746', 'https://www.redfin.com/MO/Moscow-Mills/2-Majestic-Ln-63362/home/182620050', 'https://www.redfin.com/MO/Elsberry/717-Lincoln-St-63343/home/78199236', 'https://www.redfin.com/MO/Moscow-Mills/40-Genevieve-Ln-63362/home/188099113', 'https://www.redfin.com/MO/Troy/45-Brussels-Valley-Dr-63379/home/78189941', 'https://www.redfin.com/MO/Silex/0-Ratermann-Rd-63377/home/184608441', 'https://www.redfin.com/MO/Troy/2267-Hubbard-Ct-63379/home/146677715', 'https://www.redfin.com/MO/Moscow-Mills/Moscow-Mills/The-Linden/home/188420073', 'https://www.redfin.com/MO/Winfield/2261-E-Highway-47-63389/home/78200638', 'https://www.redfin.com/MO/Moscow-Mills/W-2nd-St-63362/home/78199130', 'https://www.redfin.com/MO/Troy/6070-Saddle-Ridge-Rd-63379/home/78204030', 'https://www.redfin.com/MO/Hawk-Point/Unknown-63349/home/146698812', 'https://www.redfin.com/MO/Troy/115-Foxwoods-Ct-63379/home/78208300', 'https://www.redfin.com/MO/Troy/172-Sugar-Creek-Dr-63379/home/147646705', 'https://www.redfin.com/MO/Troy/261-Gobbler-Dr-63379/home/78192730', 'https://www.redfin.com/MO/Elsberry/Kick-A-Poo-Rd-63343/home/78189136', 'https://www.redfin.com/MO/Troy/100-Snow-Hill-Ln-63379/home/78190240', 'https://www.redfin.com/MO/Hurricane-Township/State-Highway-NN-63343/home/188441106', 'https://www.redfin.com/MO/Troy/2190-Highway-47-W-63379/home/62769835', 'https://www.redfin.com/MO/Troy/10-Snyder-Rd-63379/home/188536631', 'https://www.redfin.com/MO/Winfield/40-Lake-Bend-Dr-63389/home/172690935', 'https://www.redfin.com/MO/Troy/180-Sugar-Creek-Dr-63379/home/186088705', 'https://www.redfin.com/MO/Moscow-Mills/Moscow-Mills/Laurel-II/home/188269599', 'https://www.redfin.com/MO/Moscow-Mills/Moscow-Mills/The-Magnolia/home/188381646', 'https://www.redfin.com/MO/Troy/1-Park-Hills-Pkwy-63379/home/185136356', 'https://www.redfin.com/MO/Moscow-Mills/25-Queen-Rebecca-Way-63362/home/78192972', 'https://www.redfin.com/MO/Old-Monroe/617-Saint-James-Ct-63369/home/176731068', 'https://www.redfin.com/MO/Moscow-Mills/Moscow-Mills/The-Hawthorn/home/188399692', 'https://www.redfin.com/MO/Troy/330-Shumard-Oak-Dr-63379/home/62778132', 'https://www.redfin.com/MO/Foley/1091-McIntosh-Hill-Rd-63347/home/174576829', 'https://www.redfin.com/MO/Troy/41-Sugar-Creek-Ct-63379/home/109168892', 'https://www.redfin.com/MO/Troy/409-Hardy-Rd-63379/home/78190797', 'https://www.redfin.com/MO/Moscow-Mills/0-Hampel-Rd-63362/home/185368976', 'https://www.redfin.com/MO/Silex/181-Saratoga-Ln-63377/home/62774944', 'https://www.redfin.com/MO/Elsberry/Hwy-B-63343/home/182669828', 'https://www.redfin.com/MO/Elsberry/815-N-7th-St-63343/home/78200026', 'https://www.redfin.com/MO/Moscow-Mills/Majestic-Ln-63362/home/180784214', 'https://www.redfin.com/MO/Truxton/167-Main-St-63381/home/78192139', 'https://www.redfin.com/MO/Old-Monroe/609-Saint-James-Ct-63369/home/178146747', 'https://www.redfin.com/MO/Moscow-Mills/Moscow-Mills/The-Ash/home/188421682', 'https://www.redfin.com/MO/Troy/Undisclosed-address-63379/home/78194819', 'https://www.redfin.com/MO/Troy/0-Pear-Tree-Rd-63379/home/186372961', 'https://www.redfin.com/MO/Foley/210-Jenna-Lee-Dr-63347/home/174652356', 'https://www.redfin.com/MO/Troy/Boulder-Falls-Ln-63379/home/188220584', 'https://www.redfin.com/MO/Winfield/Lot-3-Hecker-Hills-DR-63389/home/188579424', 'https://www.redfin.com/MO/Old-Monroe/0-Brevator-Rd-63369/home/188322225', 'https://www.redfin.com/MO/Troy/Troy/Savoy/home/188571679', 'https://www.redfin.com/MO/Moscow-Mills/120-Pear-Ct-63362/home/78207528', 'https://www.redfin.com/MO/Troy/311-Boone-St-63379/home/78203553', 'https://www.redfin.com/MO/Troy/430-Glen-Ct-63379/home/78192463', 'https://www.redfin.com/MO/Troy/51-Hollyhock-Dr-63379/home/106242736', 'https://www.redfin.com/MO/Eolia/981-Highway-F-63344/home/69378256', 'https://www.redfin.com/MO/Elsberry/510-Bailey-Ave-63343/home/78193980', 'https://www.redfin.com/MO/Hawk-Point/576-W-Lincoln-St-63349/home/188609805', 'https://www.redfin.com/MO/Moscow-Mills/Moscow-Mills/Hickory/home/188297194', 'https://www.redfin.com/MO/Bedford-Township/Westborough-Dr-63379/home/144905428', 'https://www.redfin.com/MO/Troy/105-Snyder-Rd-63379/home/78205514', 'https://www.redfin.com/MO/Troy/171-Beach-Ann-Dr-63379/home/78197676', 'https://www.redfin.com/MO/Troy/135-Merz-Meadows-Dr-63379/home/182102354', 'https://www.redfin.com/MO/Silex/Eagles-Watch-Dr-63377/home/106256057', 'https://www.redfin.com/MO/Old-Monroe/613-Saint-James-Ct-63369/home/182104501', 'https://www.redfin.com/MO/Foley/1101-McIntosh-Hill-Rd-63347/home/78201240', 'https://www.redfin.com/MO/Wright-City/1834-County-Farm-Rd-63390/home/182103831', 'https://www.redfin.com/MO/Hawk-Point/20-Summers-Dr-63349/home/186128155', 'https://www.redfin.com/MO/Moscow-Mills/Moscow-Mills/Olive-II/home/188266701', 'https://www.redfin.com/MO/Old-Monroe/2941-State-Highway-C-63369/home/188374980', 'https://www.redfin.com/MO/Troy/891-Glen-Eagle-Dr-63379/home/78205033', 'https://www.redfin.com/MO/Troy/51-Glen-Meadows-Dr-63379/home/78192417', 'https://www.redfin.com/MO/Silex/421-Piepers-Corner-Rd-63377/home/188478069', 'https://www.redfin.com/MO/Silex/191-Falcon-Pointe-Dr-63377/home/78194404', 'https://www.redfin.com/MO/Moscow-Mills/Moscow-Mills/Sequoia/home/188520278', 'https://www.redfin.com/MO/Hawk-Point/80-Summers-Dr-63349/home/106246066', 'https://www.redfin.com/MO/Moscow-Mills/504-Clark-s-Xing-63362/home/188772843', 'https://www.redfin.com/MO/Moscow-Mills/Moscow-Mills/The-Douglas/home/188400446', 'https://www.redfin.com/MO/Wright-City/1543-Bell-Rd-63390/home/183632608', 'https://www.redfin.com/MO/Silex/6-Hwy-H-63377/home/185193091', 'https://www.redfin.com/MO/Troy/1223-Mulberry-Ct-63379/home/62741500', 'https://www.redfin.com/MO/Troy/802-S-Ridge-Rd-63379/home/78201738', 'https://www.redfin.com/MO/Troy/10-Devin-Dr-63379/home/62700098', 'https://www.redfin.com/MO/Moscow-Mills/Moscow-Mills/Olive-lll/home/188408591', 'https://www.redfin.com/MO/Troy/525-Hickory-Knoll-Dr-63379/home/143344163', 'https://www.redfin.com/MO/Troy/23-Gallant-Fox-Dr-63379/home/106260629', 'https://www.redfin.com/MO/Troy/10-Gallant-Fox-Dr-63379/home/106257888', 'https://www.redfin.com/MO/Troy/247-Carrington-Blvd-63379/home/78204512', 'https://www.redfin.com/MO/Troy/285-Gobbler-Dr-63379/home/78192152', 'https://www.redfin.com/MO/Troy/189-Rockport-Dr-63379/home/106237801', 'https://www.redfin.com/MO/Troy/204-Rio-Grande-Ct-63379/home/178428332', 'https://www.redfin.com/MO/Moscow-Mills/151-Majestic-Lakes-Blvd-63362/home/78207572', 'https://www.redfin.com/MO/Foley/947-Missouri-79-63347/home/187392841', 'https://www.redfin.com/MO/Winfield/171-Wilder-Wilderness-Trl-63389/home/176723718', 'https://www.redfin.com/MO/Troy/42-Snyder-Rd-63379/home/188557808', 'https://www.redfin.com/MO/Troy/Troy/Westbrook/home/188571605', 'https://www.redfin.com/MO/Winfield/Lot-6-Hecker-Hills-DR-63389/home/188580719', 'https://www.redfin.com/MO/Troy/217-Rio-Grande-Ct-63379/home/186244272', 'https://www.redfin.com/MO/Troy/1649-Sand-Run-Rd-63379/home/109829382', 'https://www.redfin.com/MO/Winfield/31-Red-Ridge-Dr-63389/home/78202385', 'https://www.redfin.com/MO/Troy/136-Wabash-Way-63379/home/146420223', 'https://www.redfin.com/MO/Elsberry/400-Tammy-Dr-63343/home/69360978', 'https://www.redfin.com/MO/Troy/1-Hartford-Summit-Park-HLS-Unknown/home/185137221', 'https://www.redfin.com/MO/Troy/325-Shumard-Oak-Dr-63379/home/78203743', 'https://www.redfin.com/MO/Wright-City/23-Fox-Run-Dr-63390/home/78204183', 'https://www.redfin.com/MO/Elsberry/5-Taylor-Ln-63343/home/182102404', 'https://www.redfin.com/MO/Troy/637-N-Lincoln-Dr-63379/home/78196254', 'https://www.redfin.com/MO/Foley/278-Fox-Run-Rd-63347/home/78200226', 'https://www.redfin.com/MO/Winfield/231-Jonas-Lane-Ct-63389/home/172691166', 'https://www.redfin.com/MO/Moscow-Mills/Moscow-Mills/The-Lilac/home/188419150', 'https://www.redfin.com/MO/Moscow-Mills/115-Elm-Tree-Rd-63362/home/78206506', 'https://www.redfin.com/MO/Clark-Township/Majestic-Lakes-Blvd-63362/home/112267818', 'https://www.redfin.com/MO/Warrenton/134-Westview-Dr-63383/home/78189425', 'https://www.redfin.com/MO/Winfield/Lot-7-Hecker-Hills-DR-63389/home/188581079', 'https://www.redfin.com/MO/Old-Monroe/512-Saint-John-Ln-63369/home/182104504', 'https://www.redfin.com/MO/Winfield/31-Colton-Jesse-Dr-63389/home/78195574', 'https://www.redfin.com/MO/Troy/9-Westborough-Dr-63379/home/182005072', 'https://www.redfin.com/MO/Moscow-Mills/Moscow-Mills/Acorn/home/187332885', 'https://www.redfin.com/MO/Winfield/Lot-4-Hecker-Hills-DR-63389/home/188579509', 'https://www.redfin.com/MO/Moscow-Mills/109-Bluewater-Ln-63362/home/62710698', 'https://www.redfin.com/MO/Moscow-Mills/131-W-Front-St-63362/home/78206198', 'https://www.redfin.com/MO/Troy/Troy/Rockport/home/188572069', 'https://www.redfin.com/MO/Troy/1246-Marigold-Ct-63379/home/106230825', 'https://www.redfin.com/MO/Winfield/Lot-5-Hecker-Hills-DR-63389/home/188579754', 'https://www.redfin.com/MO/Wright-City/1598-Highway-J-63390/home/78207058', 'https://www.redfin.com/MO/Elsberry/598-N-River-Rd-63343/home/78200967', 'https://www.redfin.com/MO/Clark-Township/Majestic-Lakes-Ct-63362/home/188515444', 'https://www.redfin.com/MO/Foley/95-Falstaff-Rd-63347/home/78200471', 'https://www.redfin.com/MO/Troy/1-Rockport-Summit-at-Park-HL-Unknown/home/185296589'}, 'Franklin-County': {'https://www.redfin.com/MO/Sullivan/S-Service-Rd-E-63080/home/80086418', 'https://www.redfin.com/MO/Washington/2112-Kuenzel-Dr-63090/home/62779619', 'https://www.redfin.com/MO/St-Clair/3-Gratzer-LN-63077/home/187871848', 'https://www.redfin.com/MO/Union/504-Hambro-Ave-63084/home/80063325', 'https://www.redfin.com/MO/Washington/807-W-5th-St-63090/home/62772194', 'https://www.redfin.com/MO/Washington/308-Fair-St-63090/home/80050297', 'https://www.redfin.com/MO/Villa-Ridge/900-Osage-Villa-Ct-63089/home/148340565', 'https://www.redfin.com/MO/Villa-Ridge/904-Osage-Villa-Ct-63089/home/148340563', 'https://www.redfin.com/MO/Leslie/233-S-Melody-Dr-63056/home/62686642', 'https://www.redfin.com/MO/Washington/7-Rabbit-Trail-Dr-63090/home/80053863', 'https://www.redfin.com/MO/Pacific/2-Ashford-at-West-LK-63069/home/183210994', 'https://www.redfin.com/MO/Union/32-Timber-Dr-63084/home/144208234', 'https://www.redfin.com/MO/Union/Union/St-James/home/188412789', 'https://www.redfin.com/MO/Washington/2994-Halls-Green-Dr-63090/home/168273832', 'https://www.redfin.com/MO/Catawissa/Nike-Base-Rd-63015/home/80075010', 'https://www.redfin.com/MO/Catawissa/1010-Cedar-St-63015/home/80075478', 'https://www.redfin.com/MO/Union/62-Hickory-Cir-63084/home/80039339', 'https://www.redfin.com/MO/Catawissa/525-Micah-Rd-63015/home/80096836', 'https://www.redfin.com/MO/Villa-Ridge/937-Osage-Villa-Ct-63089/home/148340570', 'https://www.redfin.com/MO/Sullivan/108-S-Fork-Dr-63080/home/80094869', 'https://www.redfin.com/MO/Union/469-Eve-Estates-Dr-63084/home/80045916', 'https://www.redfin.com/MO/Union/17-Somerfield-Dr-63084/home/80044222', 'https://www.redfin.com/MO/Sullivan/541-E-Vine-St-63080/home/187684320', 'https://www.redfin.com/MO/Saint-Clair/2347-Highway-K-63077/home/80090464', 'https://www.redfin.com/MO/Pacific/0-Nike-Base-Rd-41-8-Acres-63069/home/181312475', 'https://www.redfin.com/MO/Union/Union/Montauk/home/188415662', 'https://www.redfin.com/MO/Union/8-Brittany-Dail-Dr-63084/home/62740881', 'https://www.redfin.com/MO/Leslie/51-Unknown/home/180767030', 'https://www.redfin.com/MO/St-Clair/Unknown-63077/home/174146469', 'https://www.redfin.com/MO/Catawissa/8-State-Road-Hh-63015/home/187890262', 'https://www.redfin.com/MO/Beaufort/Unknown-Unknown/home/187827534', 'https://www.redfin.com/MO/Pacific/Pacific/Ashford/home/188418367', 'https://www.redfin.com/MO/Union/670-Lindsey-Dr-63084/home/80096487', 'https://www.redfin.com/MO/Washington/63-Peyton-s-PL-Unknown/unit-63/home/188212377', 'https://www.redfin.com/MO/Union/7733-Meadow-View-Cir-63084/home/62757753', 'https://www.redfin.com/MO/Saint-Clair/2675-N-Service-Rd-W-63077/home/80088326', 'https://www.redfin.com/MO/Unknown/Old-Highway-50-W-63037/home/149658880', 'https://www.redfin.com/MO/Pacific/Phelan-Rd-63069/home/112800158', 'https://www.redfin.com/MO/Washington/4370-Saint-Anns-Rd-63090/home/80055529', 'https://www.redfin.com/MO/Villa-Ridge/652-Oak-Crossing-Dr-63089/home/62774533', 'https://www.redfin.com/MO/Union/1017-Hawk-Ridge-Dr-63084/home/103461008', 'https://www.redfin.com/MO/Union/200-S-Ridge-Ct-63084/home/80044803', 'https://www.redfin.com/MO/Washington/302-Watermill-Dr-63090/home/173414893', 'https://www.redfin.com/MO/Saint-Clair/1031-Gravois-Rd-63077/home/80082283', 'https://www.redfin.com/MO/Washington/54-Ellerslie-WAY-Unknown/unit-54-CKF/home/188325394', 'https://www.redfin.com/MO/Villa-Ridge/931-Osage-Villa-Ct-63089/home/148340569', 'https://www.redfin.com/MO/Leslie/26-Graham-Dr-63056/home/181160653', 'https://www.redfin.com/MO/Saint-Clair/410-Lilac-Ln-63077/home/80086969', 'https://www.redfin.com/MO/Pacific/144-Winter-Wheat-Trl-63069/home/169377078', 'https://www.redfin.com/MO/Pacific/12-Brush-Creek-Dr-63069/home/187686806', 'https://www.redfin.com/MO/Saint-Clair/125-W-Springfield-Rd-63077/home/80081107', 'https://www.redfin.com/MO/Saint-Clair/1463-Lazy-K-Rd-63077/home/80078585', 'https://www.redfin.com/MO/Saint-Clair/15-Briegleb-St-63077/home/62737702', 'https://www.redfin.com/MO/Washington/305-Williams-St-63090/home/80050798', 'https://www.redfin.com/MO/Washington/568-Mill-Creek-Ln-63090/home/80042289', 'https://www.redfin.com/MO/Union/500-W-End-Ave-63084/home/80064530', 'https://www.redfin.com/MO/Saint-Clair/395-N-Lay-Ave-63077/home/80080827', 'https://www.redfin.com/MO/St-Johns-Township/428-Cloverleaf-Dr-63090/home/186643620', 'https://www.redfin.com/MO/Washington/2303-Crewe-CT-Unknown/unit-48/home/186794499', 'https://www.redfin.com/MO/Washington/2487-Highway-a-63090/home/80055121', 'https://www.redfin.com/MO/New-Haven/114-Arizona-St-63068/home/80047193', 'https://www.redfin.com/MO/Union/181-Tanglewood-Rd-63084/home/75642714', 'https://www.redfin.com/MO/Saint-Clair/566-Mulligan-Ct-63077/home/144208474', 'https://www.redfin.com/MO/Villa-Ridge/Rainbow-Lake-ESTS-63089/home/161463814', 'https://www.redfin.com/MO/Sullivan/1181-Elmont-Rd-63080/home/80094548', 'https://www.redfin.com/MO/Sullivan/Buck-Ct-63080/home/80041557', 'https://www.redfin.com/MO/Pacific/1405-Birch-St-63069/home/62732301', 'https://www.redfin.com/MO/Villa-Ridge/278-Bridgewater-Hill-Dr-63089/home/80040698', 'https://www.redfin.com/MO/Pacific/2040-Park-Dr-63069/home/80071423', 'https://www.redfin.com/MO/Leslie/Peters-Ford-Rd-63056/home/80083177', 'https://www.redfin.com/MO/Beaufort/2902-Hwy-50-63013/home/188647841', 'https://www.redfin.com/MO/Washington/416-Cedar-St-63090/home/80051244', 'https://www.redfin.com/MO/Lyon-Township/Kappelmann-Rd-63013/home/175475348', 'https://www.redfin.com/MO/Saint-Clair/1160-Sycamore-Ln-63077/home/80081763', 'https://www.redfin.com/MO/Washington/712-Ridgeview-Dr-63090/home/80051583', 'https://www.redfin.com/MO/Union/332-Hickory-Field-Ct-63084/home/183176204', 'https://www.redfin.com/MO/Union/1052-Vardon-Meadows-Dr-63084/home/185704553', 'https://www.redfin.com/MO/Villa-Ridge/1-Jeaneta-LN-63089/home/187337116', 'https://www.redfin.com/MO/Union/2-Ashford-at-St-Andrews-MNRS-63084/home/183700950', 'https://www.redfin.com/MO/Villa-Ridge/664-Oak-Crossing-Dr-63089/home/62774534', 'https://www.redfin.com/MO/Robertsville/462-Calvey-View-Ct-63072/home/80043049', 'https://www.redfin.com/MO/Pacific/1668-Missouri-Ave-63069/home/80072621', 'https://www.redfin.com/MO/Pacific/3958-Highway-NN-63069/home/80074099', 'https://www.redfin.com/MO/New-Haven/807-Maupin-Ave-63068/home/80047051', 'https://www.redfin.com/MO/Pacific/65-Cedar-Ledge-Dr-63069/home/80072702', 'https://www.redfin.com/MO/Union/Union/Aspen-II/home/188401788', 'https://www.redfin.com/MO/Pacific/2240-Old-Gray-Summit-Rd-63069/home/80073084', 'https://www.redfin.com/MO/Saint-Clair/1278-Gravois-Rd-63077/home/80089142', 'https://www.redfin.com/MO/Washington/35-Matthias-CT-Unknown/unit-35-SB/home/188446824', 'https://www.redfin.com/MO/Pacific/Pacific/Aspen/home/188398264', 'https://www.redfin.com/MO/Gerald/426-S-Cedar-St-63037/home/80083945', 'https://www.redfin.com/MO/Saint-Clair/525-Arbor-Ln-63077/home/63482548', 'https://www.redfin.com/MO/Pacific/2-Ashford-at-Brush-CRK-63069/home/184907151', 'https://www.redfin.com/MO/Leslie/S-Lake-Dr-63056/home/80083452', 'https://www.redfin.com/MO/Labadie/209-Sherry-Rd-63055/home/62732518', 'https://www.redfin.com/MO/Sullivan/0-S-Olive-St-63080/home/187684652', 'https://www.redfin.com/MO/Leslie/Evergreen-Loop-63056/home/183178659', 'https://www.redfin.com/MO/Union/2-Montauk-at-St-Andrews-CMNS-63084/home/184907203', 'https://www.redfin.com/MO/Union/2-Sterling-at-St-Andrews-MNRS-63084/home/187347992', 'https://www.redfin.com/MO/Pacific/Pacific/Ashford/home/188424758', 'https://www.redfin.com/MO/Catawissa/7-State-Road-Hh-63015/home/187890228', 'https://www.redfin.com/MO/Pacific/Phelan-Farm-Rd-63069/home/80073276', 'https://www.redfin.com/MO/Sullivan/910-Oak-Pass-Ln-63080/home/80097425', 'https://www.redfin.com/MO/Washington/681-Ming-Lake-Dr-63090/home/80098321', 'https://www.redfin.com/MO/Union/1304-Prairie-Dell-Rd-63084/home/69045359', 'https://www.redfin.com/MO/Pacific/2-Berwick-at-West-LK-63069/home/183209407', 'https://www.redfin.com/MO/New-Haven/304-Heritage-Valley-Dr-63068/home/80043965', 'https://www.redfin.com/MO/Washington/604-Hancock-St-63090/home/80052380', 'https://www.redfin.com/MO/Union/2-St-James-at-St-Andrews-63084/home/185426914', 'https://www.redfin.com/MO/Grubville/108-Old-Creek-Rd-63041/home/80092138', 'https://www.redfin.com/MO/Union/1013-Braid-Trail-Dr-63084/home/187444674', 'https://www.redfin.com/MO/Catawissa/4150-S-Shore-Dr-63015/home/80075402', 'https://www.redfin.com/MO/Labadie/105-Waterford-Dr-63055/home/80049464', 'https://www.redfin.com/MO/Villa-Ridge/844-Destiny-Dr-63089/home/62774543', 'https://www.redfin.com/MO/Union/1929-Big-Valley-Dr-63084/home/80063265', 'https://www.redfin.com/MO/Union/802-Atlantic-DR-63084/home/180300801', 'https://www.redfin.com/MO/Catawissa/529-Grand-Loop-63015/home/80074735', 'https://www.redfin.com/MO/Gerald/Walnut-St-63037/home/80083910', 'https://www.redfin.com/MO/Washington/174-Cedar-Berry-Dr-63090/home/80042221', 'https://www.redfin.com/MO/Gerald/5946-Highway-50-63037/home/80084224', 'https://www.redfin.com/MO/Gray-Summit/1-Highway-Mm-63039/home/171550583', 'https://www.redfin.com/MO/Berger/Spreckelmeyer-Rd-63014/home/80046740', 'https://www.redfin.com/MO/New-Haven/3836-Highway-E-63068/home/80057392', 'https://www.redfin.com/MO/Union/1004-Vardon-Meadows-Dr-63084/home/185702858', 'https://www.redfin.com/MO/Union/7003-Highway-Aj-63084/home/80059608', 'https://www.redfin.com/MO/Washington/8-Stone-Bridge-CT-Unknown/unit-8-SB/home/188535283', 'https://www.redfin.com/MO/Washington/33-Matthias-CT-Unknown/unit-33-SB/home/188368440', 'https://www.redfin.com/MO/Pacific/2-Lake-Circle-Dr-63069/home/183823728', 'https://www.redfin.com/MO/Beaufort/Fox-Creek-Rd-63013/home/80082564', 'https://www.redfin.com/MO/Union/975-Fairway-Dr-63084/home/112789581', 'https://www.redfin.com/MO/Villa-Ridge/676-Oak-Crossing-Dr-63089/home/62774535', 'https://www.redfin.com/MO/Pacific/2016-Las-Brisas-Ln-63069/home/80071763', 'https://www.redfin.com/MO/Labadie/867-Lakeway-Dr-63055/home/187581362', 'https://www.redfin.com/MO/Catawissa/3846-Oak-Hill-Dr-63015/home/80074991', 'https://www.redfin.com/MO/Robertsville/Finney-Pl-63072/home/80076352', 'https://www.redfin.com/MO/Villa-Ridge/894-Destiny-Dr-63089/home/62689918', 'https://www.redfin.com/MO/Pacific/41-Brush-Creek-Dr-63069/home/188044982', 'https://www.redfin.com/MO/Pacific/2-Royal-II-at-West-LK-63069/home/183210182', 'https://www.redfin.com/MO/Saint-Clair/256-Thunderbird-Dr-63077/home/80089372', 'https://www.redfin.com/MO/Grubville/8186-Highway-FF-63041/home/80091995', 'https://www.redfin.com/MO/Saint-Clair/299-Condor-63077/home/80089384', 'https://www.redfin.com/MO/New-Haven/1015-Miller-St-63068/home/80047083', 'https://www.redfin.com/MO/Villa-Ridge/181-Rainbow-Lake-Dr-63089/home/101620487', 'https://www.redfin.com/MO/Washington/4322-Saint-Anns-Rd-63090/home/183938941', 'https://www.redfin.com/MO/St-Clair/111-Stone-Ledge-DR-63077/home/184773276', 'https://www.redfin.com/MO/Stanton/1437-Springfiled-Loop-63079/home/80086392', 'https://www.redfin.com/MO/Gerald/325-W-Grandview-Ave-63037/home/62712955', 'https://www.redfin.com/MO/Pacific/1592-Westlake-Cir-63069/home/80042799', 'https://www.redfin.com/MO/Union/507-S-Oak-St-63084/home/80065226', 'https://www.redfin.com/MO/Labadie/66-Owl-Creek-Ln-63055/home/80048352', 'https://www.redfin.com/MO/Pacific/2-Royal-II-at-Brush-CRK-63069/home/184907142', 'https://www.redfin.com/MO/Saint-Clair/1245-Hedge-Ave-63077/home/80080172', 'https://www.redfin.com/MO/Catawissa/9-State-Road-Hh-63015/home/187890323', 'https://www.redfin.com/MO/Gerald/119-W-6th-St-63037/home/80083925', 'https://www.redfin.com/MO/Washington/2234-Weber-Heights-Dr-63090/home/183180604', 'https://www.redfin.com/MO/Pacific/1624-Westlake-Cir-63069/home/80042802', 'https://www.redfin.com/MO/Union/658-Lindsey-Dr-63084/home/80098670', 'https://www.redfin.com/MO/Grubville/591-Fox-Ln-63041/home/80091938', 'https://www.redfin.com/MO/Pacific/2-Brush-Creek-Dr-63069/home/182720791', 'https://www.redfin.com/MO/Sullivan/327-Beeman-St-63080/home/80095493', 'https://www.redfin.com/MO/Union/104-Vista-Vallarta-Dr-63084/home/80044586', 'https://www.redfin.com/MO/Washington/70-Rabbit-Trail-Dr-63090/home/112789584', 'https://www.redfin.com/MO/Pacific/1608-Meade-Ct-63069/home/80042728', 'https://www.redfin.com/MO/Pacific/Pacific/Aspen-II/home/188385539', 'https://www.redfin.com/MO/Union/Union/Royal-II/home/188394785', 'https://www.redfin.com/MO/Villa-Ridge/912-Osage-Villa-Ct-63089/home/148340559', 'https://www.redfin.com/MO/Union/247-S-Ridge-Ct-63084/home/80044814', 'https://www.redfin.com/MO/Washington/68-Peyston-s-PL-Unknown/unit-68/home/187374756', 'https://www.redfin.com/MO/Pacific/Pacific/Berwick/home/188418967', 'https://www.redfin.com/MO/Pacific/1-Hogan-Rd-Unknown/home/187818833', 'https://www.redfin.com/MO/Saint-Clair/1327-Country-Air-Dr-63077/home/80087431', 'https://www.redfin.com/MO/Union/656-Sunset-Farms-Trl-63084/home/80079761', 'https://www.redfin.com/MO/Sullivan/230-Highway-W-63080/home/80085885', 'https://www.redfin.com/MO/Catawissa/Hwy-Hh-63015/home/80075492', 'https://www.redfin.com/MO/Saint-Albans/243-Saint-Andrews-Dr-63073/home/80047909', 'https://www.redfin.com/MO/Union/1002-Vardon-Meadows-DR-63084/home/185740450', 'https://www.redfin.com/MO/Beaufort/591-Wildwood-Rd-63013/home/80082069', 'https://www.redfin.com/MO/Pacific/Pacific/Royal-II/home/188388613', 'https://www.redfin.com/MO/Union/1031-Vardon-Meadows-Dr-63084/home/185704430', 'https://www.redfin.com/MO/Leslie/7960-Highway-CC-63056/home/62673455', 'https://www.redfin.com/MO/Washington/28-Matthias-CT-Unknown/unit-28-SB/home/188436743', 'https://www.redfin.com/MO/Sullivan/635-Elizabeth-St-63080/home/80094105', 'https://www.redfin.com/MO/Pacific/96-Lamar-Pkwy-63069/home/186197023', 'https://www.redfin.com/MO/Catawissa/6-State-Road-Hh-63015/home/187890176', 'https://www.redfin.com/MO/Gerald/319-Mildred-St-63037/home/80083884', 'https://www.redfin.com/MO/Robertsville/449-Calvey-View-Ct-63072/home/80043056', 'https://www.redfin.com/MO/Villa-Ridge/Oak-Leaf-CT-63089/home/188647760', 'https://www.redfin.com/MO/Saint-Albans/728-Saint-Albans-Spring-Rd-63073/home/80098384', 'https://www.redfin.com/MO/Sullivan/1072-Shady-Ln-63080/home/80096133', 'https://www.redfin.com/MO/Catawissa/1039-Cherry-Ln-63015/home/80075469', 'https://www.redfin.com/MO/Union/1008-Braid-Trail-DR-63084/home/185702926', 'https://www.redfin.com/MO/Gerald/5515-Highway-50-63037/home/80058709', 'https://www.redfin.com/MO/Pacific/1829-Ridge-Ln-63069/home/80071526', 'https://www.redfin.com/MO/Pacific/136-Winter-Wheat-Trl-63069/home/169377082', 'https://www.redfin.com/MO/Pacific/13-Brush-Creek-Dr-63069/home/187444518', 'https://www.redfin.com/MO/Washington/26-Matthias-CT-Unknown/unit-26-SB/home/188446893', 'https://www.redfin.com/MO/Union/146-Vista-Vallarta-Dr-63084/home/80044541', 'https://www.redfin.com/MO/Union/675-Lindsey-Dr-63084/home/80096582', 'https://www.redfin.com/MO/Union/1832-Old-Highway-50-W-63084/home/80039267', 'https://www.redfin.com/MO/Union/Union/Maple/home/188416766', 'https://www.redfin.com/MO/Union/637-Bay-Hill-Blvd-63084/home/80097035', 'https://www.redfin.com/MO/Pacific/1617-Lake-Meade-Dr-63069/home/80042776', 'https://www.redfin.com/MO/Union/S-Lincoln-Ave-63084/home/80065704', 'https://www.redfin.com/MO/Pacific/Pacific/Aspen/home/188380624', 'https://www.redfin.com/MO/Lonedell/103-Monty-Ln-63060/home/80092528', 'https://www.redfin.com/MO/Washington/2609-Deutsch-Crest-Dr-63090/home/80045656', 'https://www.redfin.com/MO/Pacific/407-E-Walnut-St-63069/home/62712470', 'https://www.redfin.com/MO/Pacific/2159-Judith-Cir-63069/home/80071399', 'https://www.redfin.com/MO/Labadie/150-Skyview-Ln-63055/home/185390078', 'https://www.redfin.com/MO/Union/305-Park-Place-Dr-63084/home/177877113', 'https://www.redfin.com/MO/Washington/317-E-5th-St-63090/home/80050618', 'https://www.redfin.com/MO/Union-Township/Scarlet-Oak-Loop-63089/home/188647662', 'https://www.redfin.com/MO/Sullivan/696-Monte-Vista-Dr-63080/home/186933421', 'https://www.redfin.com/MO/Villa-Ridge/Saint-Louis-Rock-Rd-63089/home/112800291', 'https://www.redfin.com/MO/Union/2-Somerfield-Dr-63084/home/80044470', 'https://www.redfin.com/MO/St-Clair/Crescent-Lake-Rd-63077/home/137003782', 'https://www.redfin.com/MO/Union/405-Mark-Twain-Loop-63084/home/62776237', 'https://www.redfin.com/MO/Gerald/8743-Champion-City-Rd-63037/home/80084259', 'https://www.redfin.com/MO/Villa-Ridge/891-Destiny-Dr-63089/home/80044268', 'https://www.redfin.com/MO/Saint-Clair/2161-Gravois-Rd-63077/home/62724159', 'https://www.redfin.com/MO/Pacific/3759-Amy-Ln-63069/home/80074114', 'https://www.redfin.com/MO/Union/Union/Summerfield/home/188420736', 'https://www.redfin.com/MO/Saint-Clair/955-Clay-St-63077/home/80081251', 'https://www.redfin.com/MO/Sullivan/132-Elmont-Rd-63080/home/80095103', 'https://www.redfin.com/MO/Pacific/Pacific/Berwick/home/188401564', 'https://www.redfin.com/MO/Sullivan/867-W-Springfield-Rd-63080/home/80095327', 'https://www.redfin.com/MO/Pacific/2-Aspen-at-West-LK-63069/home/183823764', 'https://www.redfin.com/MO/Pacific/2-Aspen-at-Brush-CRK-63069/home/187295122', 'https://www.redfin.com/MO/Union/311-Park-Place-Dr-63084/home/177877143', 'https://www.redfin.com/MO/Villa-Ridge/201-Arborview-Dr-63089/home/62728272', 'https://www.redfin.com/MO/Pacific/Pacific/Maple/home/188396427', 'https://www.redfin.com/MO/Villa-Ridge/854-Destiny-Dr-63089/home/62774541', 'https://www.redfin.com/MO/New-Haven/322-Ben-Ct-63068/home/80043954', 'https://www.redfin.com/MO/Pacific/386-Longview-Meadows-Dr-63069/home/178299478', 'https://www.redfin.com/MO/Gerald/Old-Highway-50-tract-2-63037/home/186073098', 'https://www.redfin.com/MO/Villa-Ridge/600-Carolee-Ct-63089/home/80069418', 'https://www.redfin.com/MO/Villa-Ridge/Highway-At-63089/home/80068637', 'https://www.redfin.com/MO/Villa-Ridge/215-217-Cedar-Valley-Dr-63089/home/184826345', 'https://www.redfin.com/MO/Washington/227-Cedar-Berry-Dr-63090/home/80042229', 'https://www.redfin.com/MO/Saint-Clair/25-W-Oak-St-63077/home/80080772', 'https://www.redfin.com/MO/Washington/958-Prairie-View-Ct-63090/home/80039873', 'https://www.redfin.com/MO/Union/115-Schupp-Ln-63084/home/80066373', 'https://www.redfin.com/MO/Pacific/2-Berwick-at-Brush-CRK-63069/home/186266004', 'https://www.redfin.com/MO/Union/199-Vondera-Ave-63084/home/112800315', 'https://www.redfin.com/MO/Washington/214-Cedar-Berry-Dr-63090/home/80042231', 'https://www.redfin.com/MO/Union/118-Saw-Mill-Rd-63084/home/80063842', 'https://www.redfin.com/MO/Washington/2795-Moon-Crest-Ct-63090/home/169369125', 'https://www.redfin.com/MO/Union/213-S-Ridge-Ct-63084/home/80044942', 'https://www.redfin.com/MO/Villa-Ridge/888-Destiny-Dr-63089/home/62774539', 'https://www.redfin.com/MO/Saint-Albans/1055-Wings-Rd-63073/home/62778891', 'https://www.redfin.com/MO/Union/535-Overlook-Dr-63084/home/80040352', 'https://www.redfin.com/MO/Union/Union/Sterling/home/188387869', 'https://www.redfin.com/MO/Villa-Ridge/433-Legacy-Ln-63089/home/112800573', 'https://www.redfin.com/MO/Saint-Clair/845-Walton-St-63077/home/64789567', 'https://www.redfin.com/MO/Sullivan/Monte-Vista-Dr-63080/home/80041605', 'https://www.redfin.com/MO/Washington/175-Cedar-Berry-Dr-63090/home/80042196', 'https://www.redfin.com/MO/Sullivan/420-Watson-Rd-63080/home/80094019', 'https://www.redfin.com/MO/Boles-Township/2-Hennessey-Ln-63069/home/167118029', 'https://www.redfin.com/MO/Villa-Ridge/Jeanetta-63089/home/187383188', 'https://www.redfin.com/MO/Saint-Clair/265-W-Springfield-Rd-63077/home/80081126', 'https://www.redfin.com/MO/Robertsville/306-Hayfield-Dr-63072/home/62725482', 'https://www.redfin.com/MO/Pacific/Pacific/Royal-II/home/188376763', 'https://www.redfin.com/MO/Union/630-Fairway-Dr-63084/home/80099043', 'https://www.redfin.com/MO/New-Haven/3929-Lakeshore-Dr-63068/home/62754584', 'https://www.redfin.com/MO/Union/2-Aspen-at-St-Andrews-MNRS-63084/home/183700982', 'https://www.redfin.com/MO/Union/1629-Penny-Ln-63084/home/80069601', 'https://www.redfin.com/MO/Saint-Clair/1867-Whispering-Oaks-Dr-63077/home/80089230', 'https://www.redfin.com/MO/Villa-Ridge/907-Osage-Villa-Ct-63089/home/148340566', 'https://www.redfin.com/MO/Villa-Ridge/914-Osage-Villa-Ct-63089/home/148340558', 'https://www.redfin.com/MO/Pacific/25-Brush-Creek-Dr-63069/home/188045271', 'https://www.redfin.com/MO/Sullivan/601-Lakeview-St-63080/home/80095068', 'https://www.redfin.com/MO/Union/14-Valley-Dr-63084/home/80065112', 'https://www.redfin.com/MO/Washington/6-E-Front-St-63090/home/188688157', 'https://www.redfin.com/MO/Villa-Ridge/236-Scarlet-Oak-Loop-63089/home/62774530', 'https://www.redfin.com/MO/Washington/34-Matthias-LN-Unknown/unit-34-SBH/home/188446662', 'https://www.redfin.com/MO/St-Johns-Township/11111-Lakeside-Dr-63090/home/174947137', 'https://www.redfin.com/MO/Villa-Ridge/902-Osage-Villa-Ct-63089/home/148340564', 'https://www.redfin.com/MO/Pacific/1146-Tahoe-Pl-63069/home/187231896', 'https://www.redfin.com/MO/Beaufort/2370-Lutheran-Church-Rd-63013/home/80058036', 'https://www.redfin.com/MO/Union/2-Aspen-II-at-St-Andrews-MNRS-63084/home/184907206', 'https://www.redfin.com/MO/Catawissa/3604-Wayside-Dr-63015/home/80074188', 'https://www.redfin.com/MO/Pacific/202-Apache-Dr-63069/home/80069730', 'https://www.redfin.com/MO/Sullivan/630-N-And-South-Rd-63080/home/62673865', 'https://www.redfin.com/MO/Union/492-Mark-Twain-Loop-63084/home/80061373', 'https://www.redfin.com/MO/Labadie/Boles-Rd-63055/home/80049142', 'https://www.redfin.com/MO/Union/Union/Ashford/home/188411288', 'https://www.redfin.com/MO/Pacific/3476-Bassett-Rd-63069/home/80048285', 'https://www.redfin.com/MO/Pacific/3780-Sunset-Dr-63069/home/80073770', 'https://www.redfin.com/MO/Washington/3315-Highway-185-63090/home/80055547', 'https://www.redfin.com/MO/Villa-Ridge/7-York-Ln-63089/home/80068354', 'https://www.redfin.com/MO/Union/2-Saint-Andrews-Dr-63084/home/183699459', 'https://www.redfin.com/MO/Catawissa/Highway-O-63015/home/188204814', 'https://www.redfin.com/MO/Villa-Ridge/2829-Robertsville-Rd-63089/home/188118541', 'https://www.redfin.com/MO/Beaufort/3659-Highway-EE-63013/home/80081964', 'https://www.redfin.com/MO/Sullivan/295-Cedar-Breeze-Dr-63080/home/80095549', 'https://www.redfin.com/MO/Washington/2273-Bellars-Ln-63090/home/80045930', 'https://www.redfin.com/MO/New-Haven/302-Heritage-Valley-Dr-63068/home/80043964', 'https://www.redfin.com/MO/Pacific/Pacific/Sterling/home/188421723', 'https://www.redfin.com/MO/Union/2275-Myrick-Mnr-63084/home/62743945', 'https://www.redfin.com/MO/Saint-Clair/263-Solidarity-Farms-Dr-63077/home/80099010', 'https://www.redfin.com/MO/Washington/419-Ridge-Meadow-Ln-63090/home/62697588', 'https://www.redfin.com/MO/Villa-Ridge/924-Osage-Villa-Ct-63089/home/148340553', 'https://www.redfin.com/MO/Gerald/Shotwell-Rd-63037/home/80082884', 'https://www.redfin.com/MO/St-Clair/5768-Dry-Branch-Rd-63077/home/188558297', 'https://www.redfin.com/MO/Washington/325-Waverly-Ct-63090/unit-31-SJM/home/185992485', 'https://www.redfin.com/MO/Gerald/4215-Highway-C-63037/home/80058073', 'https://www.redfin.com/MO/Washington/17-Matthias-PL-Unknown/unit-17-SBH/home/188446802', 'https://www.redfin.com/MO/Saint-Clair/1561-W-Springfield-Rd-63077/home/80088076', 'https://www.redfin.com/MO/Washington/9-Stone-Bridge-CT-Unknown/unit-9-SB/home/188514904', 'https://www.redfin.com/MO/Pacific/3698-Bassett-Rd-63069/home/80048328', 'https://www.redfin.com/MO/Saint-Clair/130-E-Oak-St-63077/home/80081497', 'https://www.redfin.com/MO/Pacific/Pacific/Sterling/home/188390637', 'https://www.redfin.com/MO/St-Clair/0-N-Service-Rd-E-63077/home/185670240', 'https://www.redfin.com/MO/Villa-Ridge/908-Osage-Villa-Ct-63089/home/148340561', 'https://www.redfin.com/MO/Catawissa/2391-Nike-Base-Rd-63015/home/178298030', 'https://www.redfin.com/MO/Robertsville/455-Calvey-View-Ct-63072/home/80043054', 'https://www.redfin.com/MO/Washington/6736-Highway-YY-63090/home/62763572', 'https://www.redfin.com/MO/Robertsville/467-Calvey-View-Ct-63072/home/80043055', 'https://www.redfin.com/MO/Union/Happy-Sac-Rd-63084/home/80079893', 'https://www.redfin.com/MO/Villa-Ridge/864-Destiny-Dr-63089/home/62774540', 'https://www.redfin.com/MO/Union/Union/Aspen/home/188407232', 'https://www.redfin.com/MO/Gray-Summit/488-Roberts-St-63039/home/80073235', 'https://www.redfin.com/MO/Sullivan/Peachtree-Ln-63080/home/62776149', 'https://www.redfin.com/MO/Gerald/8370-Champion-City-Rd-63037/home/80084181', 'https://www.redfin.com/MO/Saint-Clair/517-Wildwood-Estates-Ln-63077/home/80088558', 'https://www.redfin.com/MO/Pacific/Pacific/Aspen-II/home/188415346', 'https://www.redfin.com/MO/Saint-Albans/656-Morel-Ct-63073/home/80095818', 'https://www.redfin.com/MO/New-Haven/110-Arizona-St-63068/home/80047191', 'https://www.redfin.com/MO/Gerald/Woods-63037/home/80083872', 'https://www.redfin.com/MO/Union/2-Royal-II-at-St-Andrews-MNRS-63084/home/183700949', 'https://www.redfin.com/MO/New-Haven/Highway-100-63068/home/80047630', 'https://www.redfin.com/MO/Washington/301-W-Front-St-63090/home/103461478', 'https://www.redfin.com/MO/Labadie/733-Lewis-and-Clark-Dr-63055/home/62769943', 'https://www.redfin.com/MO/Saint-Clair/1728-Highway-47-63077/home/80088622', 'https://www.redfin.com/MO/Pacific/107-Apache-Dr-63069/home/80069833', 'https://www.redfin.com/MO/Union/Union/Berwick/home/188403538', 'https://www.redfin.com/MO/Washington/2303-E-5th-St-63090/home/80052624', 'https://www.redfin.com/MO/St-Clair/2-Gratzer-LN-63077/home/187871872', 'https://www.redfin.com/MO/St-Clair/119-Stone-Ledge-DR-63077/home/188177015', 'https://www.redfin.com/MO/Pacific/2-Hogan-Rd-Unknown/home/185341582', 'https://www.redfin.com/MO/Union/633-Lindsey-Dr-63084/home/80039407', 'https://www.redfin.com/MO/Pacific/Pacific/Maple/home/188386264', 'https://www.redfin.com/MO/Union/2-Berwick-at-St-Andrews-MNRS-63084/home/186271163', 'https://www.redfin.com/MO/Robertsville/450-Calvey-View-Ct-63072/home/80043051', 'https://www.redfin.com/MO/Union/509-E-Park-Ave-63084/home/80063424', 'https://www.redfin.com/MO/Pacific/117-Winter-Wheat-Trl-63069/home/169377064', 'https://www.redfin.com/MO/Washington/169-Summer-Hill-Ln-63090/home/187818839', 'https://www.redfin.com/MO/Saint-Albans/982-Cedars-Valley-Rd-63073/home/80039768', 'https://www.redfin.com/MO/Union/509-S-Washington-Ave-63084/home/80065776', 'https://www.redfin.com/MO/Calvey-Township/14-Womble-Dr-63015/home/186139340', 'https://www.redfin.com/MO/Union/508-Stonebrook-Dr-63084/home/80041736', 'https://www.redfin.com/MO/Villa-Ridge/4400-Ridgefield-Dr-63089/home/80067047', 'https://www.redfin.com/MO/Union/12-Circle-Dr-63084/home/80063942', 'https://www.redfin.com/MO/Sullivan/Maple-St-63080/home/182122363', 'https://www.redfin.com/MO/St-Clair/109-Stone-Ledge-DR-63077/home/184772656', 'https://www.redfin.com/MO/Washington/English-Crest-Dr-63090/home/160736446', 'https://www.redfin.com/MO/Union/2395-Camp-Mo-Val-Rd-63084/home/80079674', 'https://www.redfin.com/MO/Washington/2903-Shirley-Close-Rd-63090/home/168273836', 'https://www.redfin.com/MO/Union/7772-Meadow-View-Cir-63084/home/80079374', 'https://www.redfin.com/MO/Pacific/2243-Jean-Ave-63069/home/62776310'}, 'Jackson-County': {'https://www.redfin.com/MO/Kansas-City/1310-E-60th-St-64110/home/93228513', 'https://www.redfin.com/MO/Kansas-City/5901-Jackson-Ave-64130/home/93223367', 'https://www.redfin.com/MO/Independence/17020-E-43rd-St-S-64055/home/93306476', 'https://www.redfin.com/MO/Independence/906-S-Haden-St-64050/home/93115457', 'https://www.redfin.com/MO/Kansas-City/2031-Lister-Ave-64127/home/93136023', 'https://www.redfin.com/MO/Kansas-City/820-E-27th-St-64108/home/105487410', 'https://www.redfin.com/MO/Kansas-City/2637-Bales-Ave-64127/home/93134952', 'https://www.redfin.com/MO/Kansas-City/3609-E-27th-St-64127/home/93140172', 'https://www.redfin.com/MO/Grandview/6900-E-127th-Ter-64030/home/93287899', 'https://www.redfin.com/MO/Raytown/5817-Oxford-Ave-64133/home/93063506', 'https://www.redfin.com/MO/Kansas-City/1428-E-66th-St-64131/home/93228851', 'https://www.redfin.com/MO/Kansas-City/442-N-Colorado-Ave-64123/home/93086324', 'https://www.redfin.com/MO/Kansas-City/2100-E-36th-St-64109/home/93149546', 'https://www.redfin.com/MO/Independence/3113-S-Linwood-Ave-64055/home/93108542', 'https://www.redfin.com/MO/Kansas-City/8821-McElroy-Rd-64134/home/93281480', 'https://www.redfin.com/MO/Independence/13013-E-49th-Ter-S-64055/home/93186372', 'https://www.redfin.com/MO/Independence/5017-S-Cedar-Crest-Ave-64055/home/93190915', 'https://www.redfin.com/MO/Kansas-City/11513-Baltimore-Ave-64114/home/93292266', 'https://www.redfin.com/MO/Lone-Jack/13404-Woodland-Ranch-Dr-64086/home/181167960', 'https://www.redfin.com/MO/Kansas-City/2230-E-69th-Ter-64132/home/93237186', 'https://www.redfin.com/MO/Grain-Valley/505-NW-Hickory-Ridge-Dr-64029/home/93073056', 'https://www.redfin.com/MO/Lone-Jack/14609-S-Outer-Belt-Ext-64070/home/93302111', 'https://www.redfin.com/MO/Kansas-City/2816-E-40th-St-64130/home/93168656', 'https://www.redfin.com/MO/Kansas-City/904-E-42nd-St-64110/home/93153403', 'https://www.redfin.com/MO/Independence/11610-Ivanhoe-Ct-64052/home/93112324', 'https://www.redfin.com/MO/Sugar-Creek/213-S-Willow-Ave-64053/home/93092134', 'https://www.redfin.com/MO/Independence/16508-E-52nd-Terrace-Ct-S-64055/home/93191635', 'https://www.redfin.com/MO/Blue-Springs/805-SE-Major-Rd-64014/home/175113929', 'https://www.redfin.com/MO/Kansas-City/11304-Norton-Ave-64137/home/93286331', 'https://www.redfin.com/MO/Blue-Springs/805-NW-19th-St-64015/home/93194706', 'https://www.redfin.com/MO/Lees-Summit/2717-SW-Monarch-Dr-64082/home/93316149', 'https://www.redfin.com/MO/Grain-Valley/816-SW-Ridgeview-Dr-64029/home/93310586', 'https://www.redfin.com/MO/Kansas-City/4502-E-60th-St-64130/home/93223218', 'https://www.redfin.com/MO/Independence/319-N-Delaware-St-64050/home/93110819', 'https://www.redfin.com/MO/Independence/707-N-Frandsen-Rd-64050/home/93108718', 'https://www.redfin.com/MO/Raytown/9831-E-68th-Ter-64133/home/93218069', 'https://www.redfin.com/MO/Independence/3714-Blue-Ridge-Blvd-64052/home/93175933', 'https://www.redfin.com/MO/Lees-Summit/1527-SW-Arbor-Valley-Dr-64082/home/170036690', 'https://www.redfin.com/MO/Independence/1100-S-Noland-Rd-64050/home/93113809', 'https://www.redfin.com/MO/Kansas-City/423-N-Drury-Ave-64123/home/93086485', 'https://www.redfin.com/MO/Blue-Springs/558-NW-Valleybrook-Rd-64014/home/93200239', 'https://www.redfin.com/MO/Buckner/2100-N-Lake-City-Valley-Rd-64016/home/103212423', 'https://www.redfin.com/MO/Kansas-City/470-W-104th-St-64114/unit-D/home/93250532', 'https://www.redfin.com/MO/Independence/805-N-Osage-St-64050/home/93109716', 'https://www.redfin.com/MO/Sugar-Creek/11216-Felton-St-64054/home/93091195', 'https://www.redfin.com/MO/Kansas-City/4540-Appleton-Ave-64133/home/93078498', 'https://www.redfin.com/MO/Kansas-City/2428-Park-Ave-64127/home/93145464', 'https://www.redfin.com/MO/Lees-Summit/609-SW-35th-Ter-64082/home/93299392', 'https://www.redfin.com/MO/Raytown/5301-Ditzler-Ave-64133/home/93179843', 'https://www.redfin.com/MO/Kansas-City/4009-Myrtle-Ave-64130/home/93169751', 'https://www.redfin.com/MO/Oak-Grove/1601-SE-Oak-St-64075/home/93203110', 'https://www.redfin.com/MO/Kansas-City/4032-Holmes-St-64110/home/93153370', 'https://www.redfin.com/MO/Kansas-City/1400-E-66th-St-64131/home/93228825', 'https://www.redfin.com/MO/Kansas-City/3139-Elmwood-Ave-64128/home/93139803', 'https://www.redfin.com/MO/Kansas-City/1031-Fuller-Ave-64126/home/93128133', 'https://www.redfin.com/MO/Kansas-City/2525-Main-St-64108/unit-204/home/93068265', 'https://www.redfin.com/MO/Kansas-City/5917-Westridge-Rd-64133/home/93213009', 'https://www.redfin.com/MO/Kansas-City/10710-Mersington-Ave-64137/home/93285911', 'https://www.redfin.com/MO/Kansas-City/711-E-122nd-St-64146/home/93292738', 'https://www.redfin.com/MO/Kansas-City/417-E-63rd-St-64110/home/143640204', 'https://www.redfin.com/MO/Raytown/9101-E-74th-St-64133/home/93218482', 'https://www.redfin.com/MO/Grandview/13952-Falkirk-Cir-64030/home/93297120', 'https://www.redfin.com/MO/Lees-Summit/300-SW-White-Ridge-Dr-64081/home/93278872', 'https://www.redfin.com/MO/Kansas-City/13112-E-99th-St-64138/home/93260543', 'https://www.redfin.com/MO/Independence/117-N-Crescent-Ave-64053/home/93093034', 'https://www.redfin.com/MO/Kansas-City/2444-Cleveland-Ave-64127/home/93135105', 'https://www.redfin.com/MO/Kansas-City/8713-E-92nd-Pl-64138/home/93257286', 'https://www.redfin.com/MO/Kansas-City/1229-Winchester-Ave-64126/home/93129077', 'https://www.redfin.com/MO/Kansas-City/2200-E-68th-Ter-64132/home/93236929', 'https://www.redfin.com/MO/Kansas-City/9801-Grandview-Rd-64137/home/93251021', 'https://www.redfin.com/MO/Kansas-City/7211-Washington-St-64114/home/93234449', 'https://www.redfin.com/MO/Independence/1016-W-Linden-Ave-64052/home/93112035', 'https://www.redfin.com/MO/Raytown/67th-64133/home/172065899', 'https://www.redfin.com/MO/Kansas-City/4417-Virginia-Ave-64110/home/93158387', 'https://www.redfin.com/MO/Kansas-City/3625-Forest-Ave-64109/home/93150330', 'https://www.redfin.com/MO/Kansas-City/3637-Tracy-Ave-64109/home/93150360', 'https://www.redfin.com/MO/Kansas-City/5401-Paseo-Blvd-64110/home/93160869', 'https://www.redfin.com/MO/Kansas-City/5700-Euclid-Ave-64130/home/93162421', 'https://www.redfin.com/MO/Kansas-City/7205-Wabash-Ave-64132/home/93238291', 'https://www.redfin.com/MO/Kansas-City/1712-E-97th-St-64131/unit-B/home/93073997', 'https://www.redfin.com/MO/Kansas-City/3200-Lockridge-Ave-64128/home/93141036', 'https://www.redfin.com/MO/Greenwood/101-Doc-Henry-Rd-64034/home/143638239', 'https://www.redfin.com/MO/Buckner/1800-N-Lake-City-Valley-Rd-64016/home/103212026', 'https://www.redfin.com/MO/Kansas-City/5121-Paseo-Blvd-64110/home/93160372', 'https://www.redfin.com/MO/Lees-Summit/3708-NE-Chapel-Dr-64064/home/93212427', 'https://www.redfin.com/MO/Independence/16624-E-32nd-St-S-64055/home/93108307', 'https://www.redfin.com/MO/Kansas-City/719-Indiana-Ave-64124/home/93131400', 'https://www.redfin.com/MO/Independence/19003-N-Salem-Ct-64058/home/93098527', 'https://www.redfin.com/MO/Blue-Springs/8745-SW-Edgewater-Dr-64064/home/187717985', 'https://www.redfin.com/MO/Blue-Springs/3312-SW-Shadow-Glen-Dr-64015/home/93064231', 'https://www.redfin.com/MO/Kansas-City/918-Norton-Ave-64127/home/93131604', 'https://www.redfin.com/MO/Lees-Summit/204-NE-Green-St-64063/home/93273238', 'https://www.redfin.com/MO/Blue-Springs/700-SW-Southgate-Dr-64015/home/188448138', 'https://www.redfin.com/MO/Grain-Valley/1204-NW-Long-Dr-64029/home/93060765', 'https://www.redfin.com/MO/Independence/20221-E-17th-Street-Ct-N-64056/home/93303633', 'https://www.redfin.com/MO/Kansas-City/400-W-49th-Ter-64112/unit-2102/home/93305439', 'https://www.redfin.com/MO/Kansas-City/600-E-8th-St-64106/unit-5B/home/170029469', 'https://www.redfin.com/MO/Kansas-City/4605-Appleton-Ave-64133/home/188863617', 'https://www.redfin.com/MO/Kansas-City/7606-E-111th-Ter-64134/home/93280281', 'https://www.redfin.com/MO/Oak-Grove/34303-E-Spencer-Rd-64075/home/93266398', 'https://www.redfin.com/MO/Kansas-City/5103-Wabash-Ave-64130/home/93159490', 'https://www.redfin.com/MO/Kansas-City/8113-Highland-Ave-64131/home/93239727', 'https://www.redfin.com/MO/Kansas-City/3437-Holmes-St-64109/home/93148467', 'https://www.redfin.com/MO/Kansas-City/12615-Brooklyn-Ave-64146/home/93292961', 'https://www.redfin.com/MO/Grandview/14001-Ballantrae-Dr-64030/home/93297750', 'https://www.redfin.com/MO/Buckner/27200-E-Bundschu-Rd-64016/home/187736232', 'https://www.redfin.com/MO/Kansas-City/5307-Lewis-Ave-64129/home/93181202', 'https://www.redfin.com/MO/Kansas-City/4407-E-27th-St-64127/home/93139359', 'https://www.redfin.com/MO/Independence/828-N-Sioux-Ave-64056/home/93101360', 'https://www.redfin.com/MO/Lees-Summit/2006-NE-Knollbrook-St-64086/home/93268542', 'https://www.redfin.com/MO/Kansas-City/5220-Norton-Ave-64130/home/93173935', 'https://www.redfin.com/MO/Kansas-City/400-W-49th-Ter-64112/unit-2036/home/93054248', 'https://www.redfin.com/MO/Independence/19100-E-30th-Ter-S-64057/home/93106475', 'https://www.redfin.com/MO/Lake-Lotawana/22-V-St-64086/home/93268123', 'https://www.redfin.com/MO/Kansas-City/2724-Oakley-Ave-64128/home/93138795', 'https://www.redfin.com/MO/Kansas-City/11119-Herrick-Ave-64134/home/93281464', 'https://www.redfin.com/MO/Kansas-City/5639-Highland-Ave-64110/home/93161458', 'https://www.redfin.com/MO/Kansas-City/9725-Marsh-Ave-64134/home/93258350', 'https://www.redfin.com/MO/Lees-Summit/1932-SW-Merryman-Dr-64082/home/187737437', 'https://www.redfin.com/MO/Kansas-City/3215-Charlotte-St-64109/home/93082827', 'https://www.redfin.com/MO/Lees-Summit/1214-SW-Arborway-Dr-64082/home/93082089', 'https://www.redfin.com/MO/Independence/19500-E-12th-Ter-N-64056/home/93303375', 'https://www.redfin.com/MO/Kansas-City/2115-E-30th-St-64109/home/93146473', 'https://www.redfin.com/MO/Independence/18005-E-Lexington-Rd-64058/home/93098690', 'https://www.redfin.com/MO/Blue-Springs/3001-NW-Milford-Pl-64015/home/93193215', 'https://www.redfin.com/MO/Independence/4715-S-Crysler-Dr-64055/home/93186664', 'https://www.redfin.com/MO/Raytown/5100-Hardy-Ct-64133/home/93059917', 'https://www.redfin.com/MO/Kansas-City/5621-E-39th-St-64128/home/93166439', 'https://www.redfin.com/MO/Lees-Summit/512-SE-David-Rd-64082/home/182133184', 'https://www.redfin.com/MO/Grain-Valley/400-NE-Coldwater-Creek-Dr-64029/home/93078225', 'https://www.redfin.com/MO/Independence/2305-S-Hawthorne-Ave-64052/home/93122378', 'https://www.redfin.com/MO/Raytown/9002-E-72nd-Ter-64133/home/93218796', 'https://www.redfin.com/MO/Lake-Lotawana/14415-Stringtown-Dr-64086/home/187738024', 'https://www.redfin.com/MO/Grandview/14401-Saint-Andrews-Dr-64030/home/62673678', 'https://www.redfin.com/MO/Kansas-City/9218-Walnut-St-64114/home/175163016', 'https://www.redfin.com/MO/Independence/16909-E-Hart-Ave-64055/home/93189690', 'https://www.redfin.com/MO/Kansas-City/3025-Bellefontaine-Ave-64128/home/93141487', 'https://www.redfin.com/MO/Kansas-City/8036-Wabash-Ave-64132/home/93240012', 'https://www.redfin.com/MO/Kansas-City/8601-Countryshire-Ln-64138/home/103210045', 'https://www.redfin.com/MO/Kansas-City/9826-Wornall-Rd-64114/home/93247466', 'https://www.redfin.com/MO/Kansas-City/12303-Charlotte-St-64146/home/93293037', 'https://www.redfin.com/MO/Kansas-City/4440-Jarboe-St-64111/home/143651895', 'https://www.redfin.com/MO/Blue-Springs/8043-SE-5th-St-64014/home/188802573', 'https://www.redfin.com/MO/Kansas-City/5609-Kenwood-Ave-64110/home/93164202', 'https://www.redfin.com/MO/Independence/518-S-Brookside-Ave-64053/home/93092854', 'https://www.redfin.com/MO/Lees-Summit/708-SW-33rd-St-64082/home/93065189', 'https://www.redfin.com/MO/Lone-Jack/117-E-Maple-St-64070/home/93070092', 'https://www.redfin.com/MO/Kansas-City/5409-Paseo-Blvd-64110/home/93160871', 'https://www.redfin.com/MO/Lees-Summit/1295-SW-Heartwood-Dr-64081/home/93070238', 'https://www.redfin.com/MO/Kansas-City/8009-E-96th-St-64134/home/93258103', 'https://www.redfin.com/MO/Kansas-City/1204-E-84th-Ter-64131/home/93244267', 'https://www.redfin.com/MO/Kansas-City/13301-Raytown-Rd-64149/home/93298571', 'https://www.redfin.com/MO/Kansas-City/5532-College-Ave-64130/home/93174477', 'https://www.redfin.com/MO/Van-Buren-Township/Lot-18-S-Eagle-Crest-Dr-64086/home/188554554', 'https://www.redfin.com/MO/Kansas-City/5929-Central-St-64113/home/93230426', 'https://www.redfin.com/MO/Blue-Springs/411-SW-25th-St-64015/home/93195125', 'https://www.redfin.com/MO/Kansas-City/11832-E-47th-Ter-64133/home/93186468', 'https://www.redfin.com/MO/Kansas-City/805-Ditman-Ave-64125/home/93121625', 'https://www.redfin.com/MO/Lees-Summit/911-SW-Bennington-Pl-64081/home/93278430', 'https://www.redfin.com/MO/Kansas-City/503-Woodbridge-Ln-64145/home/93293808', 'https://www.redfin.com/MO/Lees-Summit/2015-SW-4th-St-64081/home/93278513', 'https://www.redfin.com/MO/Kansas-City/815-Ewing-Ave-64125/home/93126844', 'https://www.redfin.com/MO/Kansas-City/700-E-8th-St-64106/unit-5P/home/93075346', 'https://www.redfin.com/MO/Kansas-City/9222-Wyandotte-St-64114/home/93247843', 'https://www.redfin.com/MO/Kansas-City/4014-E-115th-St-64137/home/93286286', 'https://www.redfin.com/MO/Independence/21104-E-8th-St-S-64056/home/187736541', 'https://www.redfin.com/MO/Kansas-City/204-W-128th-St-64145/home/93293456', 'https://www.redfin.com/MO/Buckner/Tract-1-S-Buckner-Tarsney-Rd-64016/home/188528395', 'https://www.redfin.com/MO/Independence/2521-N-Yocum-Rd-64058/home/93084448', 'https://www.redfin.com/MO/Kansas-City/6013-Park-Ave-64130/home/93228259', 'https://www.redfin.com/MO/Kansas-City/7221-Washington-St-64114/home/93234454', 'https://www.redfin.com/MO/Kansas-City/3855-Woodland-Ave-64109/home/188560458', 'https://www.redfin.com/MO/Grandview/6807-E-138th-Ter-64030/home/93065373', 'https://www.redfin.com/MO/Blue-Springs/416-SW-Hawthorne-Ln-64014/home/187717762', 'https://www.redfin.com/MO/Kansas-City/3222-E-6th-St-64124/home/93131275', 'https://www.redfin.com/MO/Independence/1715-N-Viking-Dr-64058/home/93098631', 'https://www.redfin.com/MO/Kansas-City/4241-Norledge-Ave-64123/home/93087453', 'https://www.redfin.com/MO/Kansas-City/485-Donnelly-Ave-64125/home/93093720', 'https://www.redfin.com/MO/Kansas-City/6411-Baltimore-Ave-64113/home/93230526', 'https://www.redfin.com/MO/Independence/12001-Oak-Ridge-Rd-64052/home/93118163', 'https://www.redfin.com/MO/Kansas-City/110-E-80th-St-64114/home/93241490', 'https://www.redfin.com/MO/Kansas-City/7201-College-Ave-64132/home/93226538', 'https://www.redfin.com/MO/Grandview/12703-2nd-St-64030/home/93289218', 'https://www.redfin.com/MO/Lees-Summit/2610-NW-Bent-Tree-Cir-64081/home/93261379', 'https://www.redfin.com/MO/Blue-Springs/1108-SE-Kingscross-Rd-64014/home/93204729', 'https://www.redfin.com/MO/Kansas-City/2800-Independence-Ave-64124/home/182391199', 'https://www.redfin.com/MO/Lees-Summit/612-NE-Park-Cir-64086/home/93271183', 'https://www.redfin.com/MO/Kansas-City/1004-Tam-Oshanter-Dr-64145/home/93294053', 'https://www.redfin.com/MO/Kansas-City/229-Ward-Pkwy-64112/unit-1004-05-B/home/102846244', 'https://www.redfin.com/MO/Independence/2228-S-Hawthorne-Ave-64052/home/93122213', 'https://www.redfin.com/MO/Kansas-City/3923-Chestnut-Ave-64130/home/93168644', 'https://www.redfin.com/MO/Independence/813-N-Crysler-Ave-64050/home/93110623', 'https://www.redfin.com/MO/Independence/3138-S-Overton-Ave-64052/home/93126397', 'https://www.redfin.com/MO/Kansas-City/621-Huntington-Rd-64113/home/93231604', 'https://www.redfin.com/MO/Blue-Springs/8025-SE-5th-St-64014/home/188802548', 'https://www.redfin.com/MO/Lees-Summit/1625-SW-41st-St-64082/home/102871929', 'https://www.redfin.com/MO/Greenwood/1116-Deer-Run-Dr-64034/home/182110271', 'https://www.redfin.com/MO/Oak-Grove/817-SE-13th-St-64075/home/93202556', 'https://www.redfin.com/MO/Lees-Summit/4013-NE-Bittersweet-Dr-64064/home/93211769', 'https://www.redfin.com/MO/Kansas-City/501-Lawndale-Ave-64123/home/93089119', 'https://www.redfin.com/MO/Blue-Springs/510-NE-Leann-Dr-64014/home/93308574', 'https://www.redfin.com/MO/Raytown/9404-E-69th-St-64133/home/93217996', 'https://www.redfin.com/MO/Kansas-City/4125-McGee-St-64111/home/93152746', 'https://www.redfin.com/MO/Blue-Springs/204-SW-6th-St-64014/home/93201057', 'https://www.redfin.com/MO/Kansas-City/202-E-66th-Ter-64113/home/93230735', 'https://www.redfin.com/MO/Lees-Summit/804-SE-13th-St-64081/home/93314119', 'https://www.redfin.com/MO/Kansas-City/5337-Charlotte-St-64110/home/93162882', 'https://www.redfin.com/MO/Independence/647-N-Queen-Ridge-Ct-64056/home/93303522', 'https://www.redfin.com/MO/Lees-Summit/1523-SW-Arbor-Valley-Dr-64082/home/170036689', 'https://www.redfin.com/MO/Kansas-City/600-E-8th-St-64106/unit-7T/home/93062815', 'https://www.redfin.com/MO/Kansas-City/13213-Cherry-St-64145/home/93294470', 'https://www.redfin.com/MO/Kansas-City/2942-E-29th-St-64128/home/93141195', 'https://www.redfin.com/MO/Grandview/13212-Winchester-Ave-64030/home/93294387', 'https://www.redfin.com/MO/Independence/1228-N-Osage-St-64050/home/93096102', 'https://www.redfin.com/MO/Blue-Springs/SW-7th-Ter-64015/home/188550039', 'https://www.redfin.com/MO/Lees-Summit/1400-NE-Colbern-Rd-64086/home/93261659', 'https://www.redfin.com/MO/Blue-Springs/1215-NW-Kingston-Dr-64015/home/93192598', 'https://www.redfin.com/MO/Independence/19620-E-7th-Street-Ct-N-64056/home/93059424', 'https://www.redfin.com/MO/Kansas-City/2831-Campbell-St-64109/home/93148068', 'https://www.redfin.com/MO/Kansas-City/8115-Lydia-Ave-64131/home/93239770', 'https://www.redfin.com/MO/Kansas-City/3624-Agnes-Ave-64128/home/93168099', 'https://www.redfin.com/MO/Kansas-City/3322-Kensington-Ave-64128/home/93140022', 'https://www.redfin.com/MO/Independence/1939-Belmont-Pl-64057/home/93105153', 'https://www.redfin.com/MO/Kansas-City/4427-Holly-St-64111/home/182507744', 'https://www.redfin.com/MO/Kansas-City/7800-Brook-Ct-64139/home/93312306', 'https://www.redfin.com/MO/Independence/112-W-Sea-Ave-64050/home/93114035', 'https://www.redfin.com/MO/Blue-Springs/9009-SW-9th-St-64064/home/175600207', 'https://www.redfin.com/MO/Kansas-City/8707-E-77th-Ter-64138/home/93222897', 'https://www.redfin.com/MO/Lees-Summit/1350-NE-Colbern-Rd-64086/home/93261660', 'https://www.redfin.com/MO/Kansas-City/4105-E-107th-Ter-64137/home/93285910', 'https://www.redfin.com/MO/Lees-Summit/113-SE-Bordner-Dr-64063/home/93272012', 'https://www.redfin.com/MO/Independence/3505-S-Bowen-St-64055/home/93184417', 'https://www.redfin.com/MO/Independence/410-Dickinson-Rd-64050/home/93095659', 'https://www.redfin.com/MO/Independence/600-N-Downey-Ct-64056/home/93053299', 'https://www.redfin.com/MO/Kansas-City/2200-E-129th-St-64146/home/93293059', 'https://www.redfin.com/MO/Kansas-City/10514-E-41st-Ter-64133/home/93176180', 'https://www.redfin.com/MO/Blue-Springs/928-SW-Kingscross-Rd-64014/home/93205179', 'https://www.redfin.com/MO/Independence/1433-S-Ralston-Ave-64052/home/93119662', 'https://www.redfin.com/MO/Raytown/8620-E-84th-St-64138/home/93255675', 'https://www.redfin.com/MO/Raytown/6310-Norwood-Ct-64133/home/93311856', 'https://www.redfin.com/MO/Kansas-City/1511-E-50th-Ter-64110/home/93159134', 'https://www.redfin.com/MO/Independence/12108-Markham-Rd-64052/home/93118149', 'https://www.redfin.com/MO/Independence/21108-E-8th-St-S-64056/home/187736540', 'https://www.redfin.com/MO/Blue-Springs/525-SE-Laurel-Dr-64014/home/188802603', 'https://www.redfin.com/MO/Blue-Springs/4009-NW-Sol-Dr-64015/home/187738760', 'https://www.redfin.com/MO/Kansas-City/4311-Vermont-Ave-64133/home/93178145', 'https://www.redfin.com/MO/Oak-Grove/810-SE-14th-St-64075/home/93202489', 'https://www.redfin.com/MO/Kansas-City/4239-Chestnut-Ave-64130/home/93168922', 'https://www.redfin.com/MO/Independence/15909-E-37th-Ter-S-64055/home/93181836', 'https://www.redfin.com/MO/Raytown/8317-Harris-Ave-64138/home/93254047', 'https://www.redfin.com/MO/Kansas-City/4542-Appleton-Ave-64133/home/188863322', 'https://www.redfin.com/MO/Independence/1507-N-Holland-Ct-64056/home/93097377', 'https://www.redfin.com/MO/Kansas-City/4535-Appleton-Ave-64133/home/188864090', 'https://www.redfin.com/MO/Kansas-City/134-Belmont-Blvd-64123/home/93085849', 'https://www.redfin.com/MO/Kansas-City/4533-Appleton-Ave-64133/home/93078497', 'https://www.redfin.com/MO/Kansas-City/3404-E-107th-Ter-64137/home/93286004', 'https://www.redfin.com/MO/Kansas-City/3709-E-114th-Ter-64137/home/93286397', 'https://www.redfin.com/MO/Lees-Summit/1909-SW-River-Run-Dr-64082/home/172040034', 'https://www.redfin.com/MO/Kansas-City/313-Ord-St-64124/home/93084883', 'https://www.redfin.com/MO/Kansas-City/2926-Bales-Ave-64128/home/93140856', 'https://www.redfin.com/MO/Kansas-City/2018-Summit-St-64108/home/93143564', 'https://www.redfin.com/MO/Blue-Springs/21401-E-50th-Terrace-Ct-S-64015/home/182407889', 'https://www.redfin.com/MO/Kansas-City/600-Admiral-Blvd-64106/unit-902/home/93067884', 'https://www.redfin.com/MO/Kansas-City/4418-E-9th-St-64124/home/93129818', 'https://www.redfin.com/MO/Kansas-City/4646-Broadway-Blvd-64112/unit-4S/home/188695876', 'https://www.redfin.com/MO/Kansas-City/806-W-112th-St-64114/home/93290931', 'https://www.redfin.com/MO/Grain-Valley/1011-NE-Clear-Creek-Dr-64029/home/93075496', 'https://www.redfin.com/MO/Kansas-City/4001-Morrell-Ave-64123/home/93090373', 'https://www.redfin.com/MO/Kansas-City/10215-Cedarbrooke-Ln-64131/home/93249510', 'https://www.redfin.com/MO/Kansas-City/433-Ward-Pkwy-64112/unit-2S/home/93305509', 'https://www.redfin.com/MO/Independence/11228-E-Winner-Rd-64052/home/93120594', 'https://www.redfin.com/MO/Kansas-City/5029-Lydia-Ave-64110/home/188554865', 'https://www.redfin.com/MO/Lees-Summit/4025-SW-Homestead-Dr-64082/home/93065683', 'https://www.redfin.com/MO/Kansas-City/29-W-Bannister-Rd-64114/home/93248250', 'https://www.redfin.com/MO/Kansas-City/11500-Palmer-Ave-64134/home/93282148', 'https://www.redfin.com/MO/Independence/20400-64057/home/186196230', 'https://www.redfin.com/MO/Lone-Jack/13400-Woodland-Ranch-Dr-64086/home/187343789', 'https://www.redfin.com/MO/Kansas-City/3610-Askew-Ave-64128/home/93167166', 'https://www.redfin.com/MO/Kansas-City/8813-McElroy-Rd-64134/home/93281486', 'https://www.redfin.com/MO/Independence/19140-E-15th-St-N-64056/home/93099114', 'https://www.redfin.com/MO/Blue-Springs/2436-NW-Sunnyvale-Ct-64015/home/187738741', 'https://www.redfin.com/MO/Kansas-City/4955-Virginia-Ave-64110/home/93158806', 'https://www.redfin.com/MO/Independence/17321-E-50th-Terrace-Ct-S-64055/home/93191221', 'https://www.redfin.com/MO/Kansas-City/1630-Corrington-Ave-64126/home/93128863', 'https://www.redfin.com/MO/Independence/18803-E-18th-Ter-N-64058/home/93099525', 'https://www.redfin.com/MO/Blue-Springs/2917-NW-Chelsea-Pl-64015/home/93193579', 'https://www.redfin.com/MO/Lone-Jack/804-W-Shawhan-Pkwy-64086/home/170035741', 'https://www.redfin.com/MO/Independence/19600-E-18th-Ter-S-64057/home/93059198', 'https://www.redfin.com/MO/Blue-Springs/8741-SW-Edgewater-Dr-64064/home/187717986', 'https://www.redfin.com/MO/Lees-Summit/5504-NW-Moonlight-Meadow-Dr-64064/home/93055092', 'https://www.redfin.com/MO/Lees-Summit/1428-SW-Mission-Rd-64081/home/93277077', 'https://www.redfin.com/MO/Grain-Valley/1404-NW-Burr-Oak-Ct-64029/home/143639953', 'https://www.redfin.com/MO/Kansas-City/2735-Brooklyn-Ave-64109/home/93145898', 'https://www.redfin.com/MO/Raytown/7302-Elm-Ave-64133/home/93218826', 'https://www.redfin.com/MO/Kansas-City/4603-Appleton-Ave-64133/home/93078485', 'https://www.redfin.com/MO/Lees-Summit/4201-NE-Chapel-Manor-Dr-64064/home/180971153', 'https://www.redfin.com/MO/Kansas-City/8603-E-116th-St-64134/home/93282052', 'https://www.redfin.com/MO/Kansas-City/3811-College-Ave-64128/home/93167904', 'https://www.redfin.com/MO/Kansas-City/5424-Cleveland-Ave-64130/home/93173813', 'https://www.redfin.com/MO/Kansas-City/1306-W-21st-St-64108/home/93143912', 'https://www.redfin.com/MO/Independence/1433-S-Haden-Ct-64050/home/93305190', 'https://www.redfin.com/MO/Lake-Lotawana/12606-S-Burrows-St-64086/home/187650668', 'https://www.redfin.com/MO/Kansas-City/8715-Sycamore-Ave-64138/home/93256954', 'https://www.redfin.com/MO/Lees-Summit/303-NE-Oak-Tree-Pl-64086/home/93271262', 'https://www.redfin.com/MO/Kansas-City/4110-Anderson-Ave-64123/home/93090359', 'https://www.redfin.com/MO/Kansas-City/1804-E-60th-Ter-64130/home/93312072', 'https://www.redfin.com/MO/Buckner/109-Pacific-AVE-64016/home/188741758', 'https://www.redfin.com/MO/Lees-Summit/204-NE-Richardson-Pl-64086/home/93271089', 'https://www.redfin.com/MO/Kansas-City/4116-Roanoke-Rd-64111/home/93155100', 'https://www.redfin.com/MO/Kansas-City/11303-Spring-Valley-Rd-64134/home/93281686', 'https://www.redfin.com/MO/Kansas-City/3344-Chestnut-Ave-64128/home/93141936', 'https://www.redfin.com/MO/Kansas-City/4919-Woodland-Ave-64110/home/93159414', 'https://www.redfin.com/MO/Lees-Summit/618-NE-Fairington-Ct-64064/home/93210202', 'https://www.redfin.com/MO/Independence/415-N-Queen-Ridge-Ave-64056/home/93058818', 'https://www.redfin.com/MO/Kansas-City/4033-Garfield-Ave-64130/home/93151888', 'https://www.redfin.com/MO/Greenwood/106-17th-Ave-N-64034/home/93299698', 'https://www.redfin.com/MO/Independence/419-E-Sea-Ave-64050/home/93113425', 'https://www.redfin.com/MO/Independence/536-N-Powahatan-Dr-64056/home/93101795', 'https://www.redfin.com/MO/Van-Buren-Township/Lot-14-S-Eagle-Crest-Dr-64086/home/188575939', 'https://www.redfin.com/MO/Kansas-City/7319-E-118th-Pl-64134/home/93287074', 'https://www.redfin.com/MO/Independence/418-S-Hocker-Ave-64050/home/93110268', 'https://www.redfin.com/MO/Blue-Springs/1133-NE-Waterfield-Village-Dr-64014/home/93197585', 'https://www.redfin.com/MO/Lake-Lotawana/27015-E-Cedar-Grove-Dr-64086/home/186203837', 'https://www.redfin.com/MO/Kansas-City/8109-Highland-Ave-64131/home/93239657', 'https://www.redfin.com/MO/Kansas-City/4601-Ozark-Rd-64129/home/181040765', 'https://www.redfin.com/MO/Grandview/6211-E-127th-St-64030/home/93288408', 'https://www.redfin.com/MO/Grain-Valley/1805-NW-Pond-Ave-64029/home/93069118', 'https://www.redfin.com/MO/Kansas-City/1400-E-80th-St-64131/home/93239390', 'https://www.redfin.com/MO/Kansas-City/11301-Cleveland-Ave-64137/home/93286672', 'https://www.redfin.com/MO/Kansas-City/296-W-96th-Ter-64114/home/93248169', 'https://www.redfin.com/MO/Independence/17905-E-18th-Terrace-Ct-S-64057/home/93105433', 'https://www.redfin.com/MO/Independence/114-N-Evanston-Ave-64053/home/93093022', 'https://www.redfin.com/MO/Kansas-City/400-W-49th-Ter-64112/unit-2096/home/93305435', 'https://www.redfin.com/MO/Lees-Summit/1534-SW-Arbor-Falls-Dr-64082/home/170036697', 'https://www.redfin.com/MO/Kansas-City/419-Lawn-Ave-64124/home/93088198', 'https://www.redfin.com/MO/Independence/11204-E-40th-St-S-64052/home/93176253', 'https://www.redfin.com/MO/Kansas-City/4516-Broadway-64111/unit-3D/home/93077869', 'https://www.redfin.com/MO/Lees-Summit/2010-SW-Red-Barn-Ln-64082/home/187734951', 'https://www.redfin.com/MO/Sugar-Creek/205-N-Forest-Ave-64054/home/93097450', 'https://www.redfin.com/MO/Kansas-City/4212-E-43rd-St-64130/home/93165988', 'https://www.redfin.com/MO/Grain-Valley/8001-S-Fristoe-Rd-64029/home/93204501', 'https://www.redfin.com/MO/Independence/1829-S-Aztec-Ave-64057/home/93053852', 'https://www.redfin.com/MO/Blue-Springs/1600-SW-Rock-Creek-Dr-64015/home/93208936', 'https://www.redfin.com/MO/Kansas-City/6100-Oak-St-64113/home/93230077', 'https://www.redfin.com/MO/Kansas-City/11405-Eastern-Ave-64134/home/93280980', 'https://www.redfin.com/MO/Sugar-Creek/109-S-Willow-Ave-64053/home/93092224', 'https://www.redfin.com/MO/Kansas-City/3600-Windsor-Ave-64123/home/93089351', 'https://www.redfin.com/MO/Independence/3400-Trail-Ridge-Dr-64055/home/93116592', 'https://www.redfin.com/MO/Blue-Springs/108-NW-Summit-Dr-64014/home/93200255', 'https://www.redfin.com/MO/Lees-Summit/4494-SW-Bowsprit-Dr-64082/home/93301521'}, 'St-Louis-County': {'https://www.redfin.com/MO/Saint-Louis/156-W-Etta-Ave-63125/home/93578846', 'https://www.redfin.com/MO/Saint-Louis/5212-Hamilton-Ave-63136/home/62747043', 'https://www.redfin.com/MO/Saint-Louis/46-E-Cardigan-Dr-63135/home/93378029', 'https://www.redfin.com/MO/Maryland-Heights/12142-Autumn-Lakes-Dr-63043/home/93403954', 'https://www.redfin.com/MO/Saint-Louis/11209-Tesson-Ferry-Rd-63123/home/93583668', 'https://www.redfin.com/MO/Chesterfield/2359-Baxton-Way-63017/home/93504519', 'https://www.redfin.com/MO/Ballwin/2411-Parkmoor-Ct-63021/home/93532766', 'https://www.redfin.com/MO/Saint-Louis/6105-Margaret-Ave-63120/home/93431497', 'https://www.redfin.com/MO/Saint-Louis/8610-Rosalie-Ave-63144/home/93499631', 'https://www.redfin.com/MO/Saint-Louis/1372-Cove-Ln-63138/home/93365152', 'https://www.redfin.com/MO/Saint-Louis/200-S-Kirkwood-Rd-63122/unit-228/home/65546277', 'https://www.redfin.com/MO/Saint-Louis/10303-Schuessler-Rd-63128/home/93603806', 'https://www.redfin.com/MO/Chesterfield/14308-Conway-Meadows-Ct-E-63017/unit-102/home/93482932', 'https://www.redfin.com/MO/Ellisville/3372-Glencoe-Rd-63038/home/188495195', 'https://www.redfin.com/MO/Saint-Louis/7212-Ruddy-Ln-63133/home/93446311', 'https://www.redfin.com/MO/Saint-Louis/253-Wachtel-Ave-63125/home/62737180', 'https://www.redfin.com/MO/Saint-Louis/10501-Lilac-Ave-63137/home/93383545', 'https://www.redfin.com/MO/Saint-Louis/9547-Corregidor-Dr-63134/home/93413777', 'https://www.redfin.com/MO/Saint-Louis/12-Fordyce-Manor-Dr-63131/home/93491623', 'https://www.redfin.com/MO/Grover/2623-West-Ave-63040/home/93555893', 'https://www.redfin.com/MO/Sappington/13013-Stone-Castle-CT-63127/home/188740640', 'https://www.redfin.com/MO/Florissant/1470-Boulder-Dr-63031/home/93349977', 'https://www.redfin.com/MO/Florissant/172-Behlmann-Meadows-Way-63034/home/93319729', 'https://www.redfin.com/MO/Florissant/710-Central-Pkwy-63031/home/93338469', 'https://www.redfin.com/MO/Saint-Louis/7246-Amherst-Ave-63130/home/93469543', 'https://www.redfin.com/MO/Saint-Louis/8211-Tulane-Ave-63132/home/93460143', 'https://www.redfin.com/MO/Black-Jack/11630-Old-Halls-Ferry-Rd-63033/home/93366795', 'https://www.redfin.com/MO/Maryland-Heights/146-Cumberland-Ave-63043/home/93415659', 'https://www.redfin.com/MO/Florissant/2090-Thrush-Dr-63033/home/93346616', 'https://www.redfin.com/MO/Hazelwood/637-Coachway-Ln-63042/home/93359488', 'https://www.redfin.com/MO/Saint-Louis/10137-Hammerdale-Ln-63123/home/93582532', 'https://www.redfin.com/MO/St-Louis/1924-Marine-Terrace-Dr-63146/unit-E/home/188775341', 'https://www.redfin.com/MO/Saint-Louis/6706-Raymond-Ave-63133/home/93456270', 'https://www.redfin.com/MO/Saint-Louis/661-Clear-Brook-Dr-63122/home/93531281', 'https://www.redfin.com/MO/Florissant/2413-Riverwood-Trails-Dr-63031/home/93350741', 'https://www.redfin.com/MO/Florissant/3410-Brunswick-Dr-63033/home/93336575', 'https://www.redfin.com/MO/Ballwin/226-Lindy-Blvd-63021/home/93534466', 'https://www.redfin.com/MO/Saint-Louis/7316-Woodlawn-Colonial-Ln-63119/home/93523773', 'https://www.redfin.com/MO/Saint-Louis/8424-Korea-Dr-63130/home/93448704', 'https://www.redfin.com/MO/Saint-Louis/11553-Withersfield-Dr-63138/home/93364325', 'https://www.redfin.com/MO/Saint-Louis/3305-Calvert-Ave-63114/home/93428981', 'https://www.redfin.com/MO/Grover/17052-Manchester-Rd-63040/home/166945079', 'https://www.redfin.com/MO/Wildwood/2632-Center-Ave-63040/home/188498218', 'https://www.redfin.com/MO/Saint-Louis/1021-Diversey-Dr-63126/home/93542212', 'https://www.redfin.com/MO/Grover/17058-Manchester-Rd-63040/home/167002683', 'https://www.redfin.com/MO/Saint-Louis/4803-Laketon-Ct-63128/home/93616311', 'https://www.redfin.com/MO/Saint-Louis/287-Caroline-Ave-63122/home/93546065', 'https://www.redfin.com/MO/Saint-Louis/515-Brotherton-Ln-63135/home/93398655', 'https://www.redfin.com/MO/Saint-Louis/1018-Nana-Ln-63131/home/93514390', 'https://www.redfin.com/MO/Pacific/3952-Wildwood-View-Ct-63069/home/167003190', 'https://www.redfin.com/MO/Saint-Louis/5300-Colton-Dr-63121/home/93407910', 'https://www.redfin.com/MO/Ellisville/3340-Glencoe-Rd-63038/home/188495292', 'https://www.redfin.com/MO/Saint-Ann/11255-Saint-Damian-Dr-63074/home/93400465', 'https://www.redfin.com/MO/Saint-Louis/147-Brigadoon-Cir-63137/home/62768128', 'https://www.redfin.com/MO/Saint-Louis/421-Adrian-Dr-63137/home/93393989', 'https://www.redfin.com/MO/Grover/317-Oak-Park-Village-Dr-63040/home/93556041', 'https://www.redfin.com/MO/Florissant/11790-El-Camara-Dr-63033/home/93353302', 'https://www.redfin.com/MO/Manchester/7-Calder-Ct-63021/home/93551639', 'https://www.redfin.com/MO/Florissant/2562-Saddle-Ridge-Dr-63031/home/93342053', 'https://www.redfin.com/MO/University-City/8624-Rowland-DR-13132/home/188845427', 'https://www.redfin.com/MO/Maryland-Heights/61-Garden-Ln-63043/home/93430973', 'https://www.redfin.com/MO/Hazelwood/7571-Hazelcrest-Dr-63042/unit-F/home/93371848', 'https://www.redfin.com/MO/Wildwood/2626-Center-Ave-63040/home/188498339', 'https://www.redfin.com/MO/Florissant/1625-Summer-Run-Dr-63033/unit-32/home/93367615', 'https://www.redfin.com/MO/Saint-Louis/2805-N-Geyer-Rd-63131/home/93491370', 'https://www.redfin.com/MO/Saint-Louis/1032-Farmview-Dr-63138/home/93363051', 'https://www.redfin.com/MO/Saint-Louis/2973-Royal-Gorge-Ln-63129/home/88016913', 'https://www.redfin.com/MO/Saint-Louis/6912-Greenway-Ave-63121/home/93433800', 'https://www.redfin.com/MO/Saint-Louis/714-Ruprecht-Ave-63125/home/93570061', 'https://www.redfin.com/MO/Saint-Louis/9301-Lodge-Pole-Ln-63126/home/93562081', 'https://www.redfin.com/MO/Maryland-Heights/12161-Bennington-Pl-63043/home/93403046', 'https://www.redfin.com/MO/Saint-Louis/11-Shireford-Ln-63135/home/62691508', 'https://www.redfin.com/MO/Glencoe/3339-W-Eden-DR-63038/home/188495291', 'https://www.redfin.com/MO/Bridgeton/11931-Old-Saint-Charles-Rd-63044/home/93625438', 'https://www.redfin.com/MO/Saint-Louis/2709-Creekwood-Manor-Ln-63125/home/93589712', 'https://www.redfin.com/MO/Maryland-Heights/12438-Dawn-Hill-Dr-63043/home/93430024', 'https://www.redfin.com/MO/Saint-Louis/7149-West-Florissant-Ave-63136/home/62735528', 'https://www.redfin.com/MO/Saint-Louis/3136-Quiet-Ln-63114/home/93428539', 'https://www.redfin.com/MO/Saint-Louis/10025-Sheldon-Dr-63137/home/62727405', 'https://www.redfin.com/MO/Ballwin/437-Elm-Crossing-Ct-63021/home/93566859', 'https://www.redfin.com/MO/Saint-Louis/306-Windsor-Spring-Dr-63122/home/62756384', 'https://www.redfin.com/MO/Hazelwood/7710-Hazelcrest-Dr-63042/home/93372263', 'https://www.redfin.com/MO/Saint-Louis/9123-Bessemer-Ave-63134/home/93411506', 'https://www.redfin.com/MO/Saint-Louis/918-Forder-Rd-63129/home/93608242', 'https://www.redfin.com/MO/Ballwin/1532-Autumn-Leaf-Dr-63021/home/93566445', 'https://www.redfin.com/MO/Saint-Louis/415-Rose-Ln-63122/home/93545580', 'https://www.redfin.com/MO/Saint-Louis/1033-Wilton-Royal-Dr-63146/unit-203/home/92334359', 'https://www.redfin.com/MO/Chesterfield/1144-Deep-Forest-Dr-63005/home/93477346', 'https://www.redfin.com/MO/Saint-Louis/8424-Knollwood-Dr-63121/home/93423224', 'https://www.redfin.com/MO/Saint-Louis/3674-Weber-Rd-63125/home/93568942', 'https://www.redfin.com/MO/Saint-Louis/6257-Garfield-Ave-63134/home/93392186', 'https://www.redfin.com/MO/Saint-Louis/2339-Saint-Clair-Ave-63144/home/93498799', 'https://www.redfin.com/MO/Manchester/5-Cloverleaf-Ln-63011/home/93516544', 'https://www.redfin.com/MO/Florissant/15676-Birkemeier-Dr-63034/home/93332243', 'https://www.redfin.com/MO/Kirkwood/Emmerson-Ave-63122/home/101668133', 'https://www.redfin.com/MO/Saint-Louis/1129-Moorlands-Dr-63117/home/93487699', 'https://www.redfin.com/MO/Ellisville/1283-Polo-Lake-Dr-63021/home/93627649', 'https://www.redfin.com/MO/Florissant/2101-New-Sun-Dr-63031/home/93341500', 'https://www.redfin.com/MO/Florissant/2752-Wintergreen-Dr-63033/home/93336772', 'https://www.redfin.com/MO/Saint-Louis/7200-Cranston-Dr-63123/home/93540266', 'https://www.redfin.com/MO/Saint-Ann/10416-Saint-Robert-Ln-63074/home/93413126', 'https://www.redfin.com/MO/Saint-Louis/1079-N-Spoede-Rd-63146/home/93451212', 'https://www.redfin.com/MO/Saint-Louis/321-Carmel-Dr-63119/home/93541626', 'https://www.redfin.com/MO/Saint-Louis/359-Rauhut-Ave-63125/home/93579334', 'https://www.redfin.com/MO/Saint-Louis/6762-Wynfield-Terrace-Dr-63129/home/93623374', 'https://www.redfin.com/MO/Saint-Louis/3275-Country-Hollow-Dr-63129/home/93632209', 'https://www.redfin.com/MO/Saint-Louis/10454-Monarch-Dr-63136/home/62716480', 'https://www.redfin.com/MO/Florissant/13990-Le-Sabre-Dr-63034/home/93345795', 'https://www.redfin.com/MO/Saint-Louis/14-Forestwood-Dr-63135/home/93389291', 'https://www.redfin.com/MO/Glencoe/3107-Bouquet-Rd-63038/home/105469521', 'https://www.redfin.com/MO/Saint-Louis/10135-Cabot-Dr-63137/home/93383256', 'https://www.redfin.com/MO/Saint-Louis/410-Westhues-Way-63137/home/93382624', 'https://www.redfin.com/MO/Pacific/20-Franklin-Rd-63069/home/109084861', 'https://www.redfin.com/MO/Saint-Louis/1270-Strassner-Dr-63144/unit-3313/home/62693216', 'https://www.redfin.com/MO/St-Louis/6700-Preservation-Pkwy-63123/home/187236544', 'https://www.redfin.com/MO/Saint-Louis/10225-Lynncrest-Ct-63136/home/93388152', 'https://www.redfin.com/MO/Saint-Louis/12086-Rosemist-Dr-63138/home/93352610', 'https://www.redfin.com/MO/Saint-Louis/205-Slocum-Ave-63119/home/93510938', 'https://www.redfin.com/MO/Florissant/2473-Indiancup-Dr-63033/home/93345869', 'https://www.redfin.com/MO/Saint-Louis/1079-Purdue-Ave-63130/home/93457688', 'https://www.redfin.com/MO/Saint-Louis/9443-Page-Ave-63132/home/93449266', 'https://www.redfin.com/MO/Saint-Louis/12112-Barcelona-Ave-63138/home/62738354', 'https://www.redfin.com/MO/Saint-Louis/2424-Remington-Ln-63144/home/62711116', 'https://www.redfin.com/MO/Saint-Louis/441-Lancashire-Rd-63137/home/93384185', 'https://www.redfin.com/MO/Saint-Louis/12418-Big-Bend-Rd-63122/home/93546451', 'https://www.redfin.com/MO/Saint-Louis/8337-Washington-St-63114/home/93448678', 'https://www.redfin.com/MO/Saint-Louis/10455-Dandridge-Dr-63123/home/93583598', 'https://www.redfin.com/MO/Saint-Louis/6765-Kenwood-Dr-63121/home/93419037', 'https://www.redfin.com/MO/Florissant/1966-Hungerford-Dr-63031/home/93342079', 'https://www.redfin.com/MO/Saint-Ann/3431-Saint-Donald-Ln-63074/home/93411878', 'https://www.redfin.com/MO/Saint-Louis/10221-Alpena-Dr-63126/home/93585739', 'https://www.redfin.com/MO/Saint-Louis/6950-Plymouth-Ave-63130/home/93459136', 'https://www.redfin.com/MO/Saint-Louis/658-Coeur-de-Royale-Dr-63141/unit-D/home/93464613', 'https://www.redfin.com/MO/Hazelwood/515-Saratoga-Ln-63042/home/93372924', 'https://www.redfin.com/MO/Saint-Louis/11118-Whispering-Oaks-Dr-63136/home/93365348', 'https://www.redfin.com/MO/Maryland-Heights/2719-Beverly-Dr-63043/home/62739676', 'https://www.redfin.com/MO/Hazelwood/7499-Hazelcrest-Dr-63042/unit-F/home/93371932', 'https://www.redfin.com/MO/Saint-Louis/1041-N-Clay-Ave-63122/unit-A3/home/93512354', 'https://www.redfin.com/MO/Saint-Louis/2511-Senator-Ct-63125/unit-H/home/93581731', 'https://www.redfin.com/MO/Saint-Louis/8811-Lynwood-Pl-63136/home/93625429', 'https://www.redfin.com/MO/Hazelwood/7334-Boellner-Dr-63042/home/93369147', 'https://www.redfin.com/MO/Chesterfield/14176-Woods-Mill-Cove-Dr-63017/home/93474054', 'https://www.redfin.com/MO/Kirkwood/608-E-Monroe-Ave-63122/home/175765461', 'https://www.redfin.com/MO/Florissant/2900-Holiday-Hill-Dr-63033/home/63658360', 'https://www.redfin.com/MO/Black-Jack/11623-Carolview-Dr-63033/home/93366809', 'https://www.redfin.com/MO/Florissant/6501-Farm-Pond-Ct-63033/home/93353397', 'https://www.redfin.com/MO/Saint-Louis/1718-Redbird-Cv-63144/home/93488590', 'https://www.redfin.com/MO/Saint-Louis/1206-Astoria-Dr-63137/home/93394867', 'https://www.redfin.com/MO/Saint-Louis/221-Midway-Ave-63122/home/93543962', 'https://www.redfin.com/MO/Florissant/3475-Saint-Catherine-St-63033/home/93355468', 'https://www.redfin.com/MO/Saint-Louis/7021-Robbins-Ave-63133/home/93446234', 'https://www.redfin.com/MO/Saint-Louis/9415-Cote-Brilliante-Ave-63114/home/93438726', 'https://www.redfin.com/MO/Florissant/3523-Monsols-Dr-63034/home/93337002', 'https://www.redfin.com/MO/Saint-Louis/7452-Chandler-Ave-63136/home/93405959', 'https://www.redfin.com/MO/Saint-Louis/2015-Spanish-Dr-63144/home/93488881', 'https://www.redfin.com/MO/Fenton/854-San-Sebastian-Dr-63026/home/62744422', 'https://www.redfin.com/MO/Saint-Louis/8901-White-Ave-63144/home/93499044', 'https://www.redfin.com/MO/Florissant/1950-Thunderbird-Ave-63033/home/93346950', 'https://www.redfin.com/MO/Saint-Louis/55-Crestwood-Dr-63105/home/93477580', 'https://www.redfin.com/MO/Saint-Louis/825-Alexandra-Ave-63122/home/93513062', 'https://www.redfin.com/MO/Saint-Louis/9436-Theodosia-Ave-63114/home/93438340', 'https://www.redfin.com/MO/Saint-Louis/11-Ladue-Ct-63141/home/62707209', 'https://www.redfin.com/MO/Saint-Louis/6817-Thurston-Ave-63134/home/62718139', 'https://www.redfin.com/MO/Saint-Louis/10010-Valley-Dr-63137/home/93382847', 'https://www.redfin.com/MO/Florissant/15475-Jost-Main-St-63034/home/93319765', 'https://www.redfin.com/MO/Saint-Louis/1142-Dammert-Ave-63125/home/93581267', 'https://www.redfin.com/MO/Chesterfield/14747-Schoettler-Grove-Ct-63017/home/108529218', 'https://www.redfin.com/MO/Florissant/1425-Estes-Dr-63031/home/93350041', 'https://www.redfin.com/MO/Ellisville/61-Vesper-Dr-63011/home/93520760', 'https://www.redfin.com/MO/Fenton/1268-Woodridge-Trails-Dr-63026/home/93588165', 'https://www.redfin.com/MO/Saint-Louis/6966-Colonial-Woods-Dr-63129/unit-64/home/93602239', 'https://www.redfin.com/MO/Affton/34-Barclay-Preserve-63123/home/186486997', 'https://www.redfin.com/MO/Saint-Louis/9723-Scottdale-Dr-63136/home/93386852', 'https://www.redfin.com/MO/Affton/48-Hamilton-glencarefree-preserve-63123/home/187852381', 'https://www.redfin.com/MO/Saint-Louis/544-Delprice-Ct-63124/home/93472158', 'https://www.redfin.com/MO/Florissant/14852-Verdun-Estates-Dr-63034/home/93332625', 'https://www.redfin.com/MO/Saint-Louis/10532-Druid-Dr-63137/home/93374692', 'https://www.redfin.com/MO/Pacific/19024-Old-Wild-Turkey-Ln-63069/home/80167992', 'https://www.redfin.com/MO/Saint-Louis/4928-Tiemann-Ave-63123/home/74785752', 'https://www.redfin.com/MO/Florissant/1775-Deborah-Dr-63031/home/87378033', 'https://www.redfin.com/MO/Pacific/3907-Hencken-Rd-63069/home/167014795', 'https://www.redfin.com/MO/Sappington/9328-Vandervoort-Ct-63126/home/188859788', 'https://www.redfin.com/MO/Saint-Louis/4340-Kensington-Manor-Dr-63128/home/93629381', 'https://www.redfin.com/MO/Saint-Louis/9017-S-Broadway-63125/home/93579671', 'https://www.redfin.com/MO/Saint-Louis/10400-Count-Dr-63136/home/93375177', 'https://www.redfin.com/MO/Saint-Louis/10314-Dorenshire-Ct-63128/home/93594127', 'https://www.redfin.com/MO/Saint-Louis/2628-Carousel-Dr-63125/home/62762847', 'https://www.redfin.com/MO/Saint-Louis/7926-Aldershot-Dr-63123/home/93541211', 'https://www.redfin.com/MO/Ellisville/3355-Glencoe-Rd-63038/home/188495216', 'https://www.redfin.com/MO/Saint-Louis/3226-W-Tennyson-Ave-63114/home/93428238', 'https://www.redfin.com/MO/Saint-Louis/12-Beverly-Dr-63132/home/93461718', 'https://www.redfin.com/MO/Saint-Louis/4841-Marchwood-Dr-63128/home/93610567', 'https://www.redfin.com/MO/Saint-Louis/7911-Elton-St-63123/home/93560017', 'https://www.redfin.com/MO/Florissant/42-Florval-Dr-63031/home/93346507', 'https://www.redfin.com/MO/Florissant/120-Chateau-Dr-63031/home/93369349', 'https://www.redfin.com/MO/Saint-Louis/10426-Fourwinds-Ct-63114/home/93440082', 'https://www.redfin.com/MO/Saint-Louis/4105-Oreon-Ave-63121/home/93434198', 'https://www.redfin.com/MO/Saint-Ann/10504-Saint-Francis-Ln-63074/home/93414185', 'https://www.redfin.com/MO/Grover/2418-Eatherton-Rd-63040/home/62777712', 'https://www.redfin.com/MO/Florissant/2843-Park-New-York-Dr-63031/home/93339594', 'https://www.redfin.com/MO/Saint-Louis/8646-Spoon-Dr-63132/home/93460474', 'https://www.redfin.com/MO/Saint-Louis/11712-Westham-Dr-63131/home/93491316', 'https://www.redfin.com/MO/Florissant/2245-Windsor-Dr-63033/home/93347916', 'https://www.redfin.com/MO/Kirkwood/402-Lee-Ave-63122/home/93545616', 'https://www.redfin.com/MO/Saint-Louis/4413-Eminence-Ave-63134/home/93411446', 'https://www.redfin.com/MO/Saint-Louis/9218-Outerbelt-Ct-63121/home/93426646', 'https://www.redfin.com/MO/Saint-Louis/816-N-Elm-Ave-63119/home/93509726', 'https://www.redfin.com/MO/Saint-Louis/1508-Swallow-Dr-63144/home/93489060', 'https://www.redfin.com/MO/Affton/16-Barclay-Preserve-63123/home/186035954', 'https://www.redfin.com/MO/Kirkwood/200-S-Kirkwood-Rd-63122/unit-207/home/93324930', 'https://www.redfin.com/MO/Saint-Louis/526-Sarah-Ln-63141/unit-14/home/93464901', 'https://www.redfin.com/MO/Saint-Louis/1241-Strassner-Dr-63144/unit-1207/home/79094315', 'https://www.redfin.com/MO/Saint-Louis/624-Science-Hill-Dr-63137/home/93382120', 'https://www.redfin.com/MO/Saint-Louis/5633-Sunbury-Ave-63136/home/93405425', 'https://www.redfin.com/MO/Saint-Louis/11271-Sherwood-Oak-Ct-63146/home/93451831', 'https://www.redfin.com/MO/Saint-Louis/228-Waller-Ave-63125/home/93568700', 'https://www.redfin.com/MO/Saint-Louis/9162-Harold-Dr-63134/home/93409877', 'https://www.redfin.com/MO/Saint-Louis/276-Elmdale-Dr-63135/home/93397990', 'https://www.redfin.com/MO/Florissant/3095-Wellington-Dr-63033/home/93338932', 'https://www.redfin.com/MO/Saint-Louis/214-Freeman-Dr-63129/home/93612817', 'https://www.redfin.com/MO/Manchester/13-Hassam-Ct-63021/home/93533652', 'https://www.redfin.com/MO/Florissant/6879-Finchdale-Ct-63033/home/93344184', 'https://www.redfin.com/MO/Saint-Louis/4906-Mattis-Rd-63128/home/93603024', 'https://www.redfin.com/MO/Saint-Louis/12804-Meadowdale-Dr-63138/home/93342749', 'https://www.redfin.com/MO/Wildwood/3851-Allenton-Rd-63069/home/93578485', 'https://www.redfin.com/MO/Saint-Louis/9115-Clarion-Dr-63136/home/62698294', 'https://www.redfin.com/MO/Saint-Louis/9524-Dorisann-Ct-63123/home/93571478', 'https://www.redfin.com/MO/Ellisville/120-Vega-Dr-63011/home/93521821', 'https://www.redfin.com/MO/Saint-Louis/5758-Jennings-Station-Rd-63136/home/93421489', 'https://www.redfin.com/MO/Saint-Louis/2117-McLaran-Ave-63136/home/93406815', 'https://www.redfin.com/MO/Maryland-Heights/25-Bernie-Cir-63043/home/93430436', 'https://www.redfin.com/MO/Black-Jack/12484-Jerries-Ln-63033/home/93343173', 'https://www.redfin.com/MO/Saint-Louis/1334-Coolidge-Dr-63132/home/93447315', 'https://www.redfin.com/MO/Saint-Louis/9062-W-Swan-Cir-63144/home/62717798', 'https://www.redfin.com/MO/Saint-Louis/908-Oge-Ave-63131/home/93516000', 'https://www.redfin.com/MO/Kirkwood/439-Lee-Ave-63122/home/93545665', 'https://www.redfin.com/MO/Florissant/4369-Vandals-Dr-63033/home/93367038', 'https://www.redfin.com/MO/Saint-Louis/4501-Von-Talge-Meadows-Ct-63128/home/93601347', 'https://www.redfin.com/MO/Ellisville/3366-Glencoe-Rd-63038/home/188495431', 'https://www.redfin.com/MO/Florissant/1505-Bay-Meadows-Dr-63033/home/93356773', 'https://www.redfin.com/MO/St-Louis/7406-Shadow-Point-Dr-63129/home/188756957', 'https://www.redfin.com/MO/Saint-Louis/1117-Arbor-Creek-Dr-63122/unit-2B/home/93321815', 'https://www.redfin.com/MO/Saint-Louis/6909-Edison-Ave-63121/home/93433789', 'https://www.redfin.com/MO/Saint-Louis/5906-Stephanie-Green-Ct-63129/home/93328131', 'https://www.redfin.com/MO/Saint-Louis/11709-Casa-Grande-Dr-63146/unit-D/home/93441190', 'https://www.redfin.com/MO/Fenton/118-Humble-Ct-63026/home/93588838', 'https://www.redfin.com/MO/Saint-Louis/2335-Woodson-Rd-63114/home/93439800', 'https://www.redfin.com/MO/Eureka/806-Top-Notch-Ln-63025/home/62721497', 'https://www.redfin.com/MO/Florissant/2910-Churchill-Dr-63033/home/70100925', 'https://www.redfin.com/MO/Saint-Louis/9206-Castle-Ragh-Ct-63132/home/93461908', 'https://www.redfin.com/MO/Florissant/664-Materdie-Ln-63031/unit-101/home/93325532', 'https://www.redfin.com/MO/University-City/6360-Washington-Ave-63130/home/93467638', 'https://www.redfin.com/MO/Saint-Ann/3537-Saint-Joachim-Ln-63074/home/93412082', 'https://www.redfin.com/MO/Hazelwood/7475-Hazelcrest-Dr-63042/home/93372041', 'https://www.redfin.com/MO/Florissant/5-Crookham-Ct-63033/home/93343743', 'https://www.redfin.com/MO/Ballwin/2343-Hidden-Meadow-Ln-63021/home/93516298', 'https://www.redfin.com/MO/Saint-Louis/9229-Saddlebrook-Dr-63126/home/93576294', 'https://www.redfin.com/MO/Saint-Louis/24-Chaminade-Dr-63141/home/93626933', 'https://www.redfin.com/MO/Florissant/2420-Greenbriar-Dr-63033/home/93336485', 'https://www.redfin.com/MO/Saint-Louis/5340-Kirkland-Dr-63121/home/93408004', 'https://www.redfin.com/MO/Florissant/2350-Martin-Dr-63033/home/93346949', 'https://www.redfin.com/MO/Saint-Ann/10441-Saint-Ann-Ln-63074/home/93429520', 'https://www.redfin.com/MO/Saint-Louis/6465-Evergreen-Blvd-63134/home/93391753', 'https://www.redfin.com/MO/Manchester/450-Ava-Renee-Dr-63021/home/174355337', 'https://www.redfin.com/MO/Saint-Louis/4616-Idecker-Dr-63129/home/93608117', 'https://www.redfin.com/MO/Manchester/1144-Hobbs-Mill-Dr-63021/home/93549541', 'https://www.redfin.com/MO/Ballwin/383-Dietrich-Rd-63021/home/62701916', 'https://www.redfin.com/MO/Saint-Louis/2537-Grayford-Walk-63129/home/62726021', 'https://www.redfin.com/MO/Saint-Louis/8806-Argyle-Ave-63114/home/93424628', 'https://www.redfin.com/MO/Ballwin/239-Cedar-Trail-Dr-63011/home/93503935', 'https://www.redfin.com/MO/Saint-Louis/2817-Blackforest-Dr-63129/home/142968881', 'https://www.redfin.com/MO/Saint-Louis/2416-Charlack-Ave-63114/home/62695200', 'https://www.redfin.com/MO/Florissant/130-Ruth-Dr-63031/home/93348995', 'https://www.redfin.com/MO/Saint-Louis/1616-High-School-Dr-63144/home/93496817', 'https://www.redfin.com/MO/Manchester/732-Winding-Bend-Ln-63021/home/93547516', 'https://www.redfin.com/MO/Manchester/220-Creve-Coeur-Ave-63011/home/93516442', 'https://www.redfin.com/MO/Florissant/250-Humes-Ln-63031/home/93347213', 'https://www.redfin.com/MO/Saint-Louis/110-Woodridge-Rd-63122/home/93513302', 'https://www.redfin.com/MO/Saint-Louis/141-Wiegel-Dr-63135/home/93397503', 'https://www.redfin.com/MO/Saint-Louis/8268-Glen-Echo-Dr-63121/home/93423339', 'https://www.redfin.com/MO/Saint-Louis/8850-S-Laclede-Station-Rd-63123/home/93560723', 'https://www.redfin.com/MO/Saint-Louis/604-Ashmont-Dr-63132/home/93461524', 'https://www.redfin.com/MO/Pacific/6275-Horneker-Rd-63069/home/188753149', 'https://www.redfin.com/MO/Saint-Louis/11612-Holly-Walk-Dr-63146/home/93441142', 'https://www.redfin.com/MO/Saint-Louis/821-Sanders-Pl-63126/home/93542493', 'https://www.redfin.com/MO/Saint-Louis/5644-Duchesne-Parque-Dr-63128/home/93616800', 'https://www.redfin.com/MO/Saint-Louis/24-S-Iola-Dr-63119/home/93527290', 'https://www.redfin.com/MO/Saint-Louis/10258-Driver-Ave-63114/home/62722507', 'https://www.redfin.com/MO/Saint-Louis/2501-Rigsby-Dr-63136/home/93365419', 'https://www.redfin.com/MO/Saint-Louis/5356-Bermuda-Dr-63121/home/93408061', 'https://www.redfin.com/MO/Saint-Louis/4524-Firelight-Dr-63129/home/93608334', 'https://www.redfin.com/MO/Florissant/2360-Cherry-Ln-63033/home/93358344', 'https://www.redfin.com/MO/Saint-Louis/734-Champeix-Ln-63141/home/62758467', 'https://www.redfin.com/MO/Saint-Louis/1115-Reale-Ave-63138/home/93363116', 'https://www.redfin.com/MO/Florissant/3604-Candlewyck-Club-Dr-63034/unit-B/home/93337035', 'https://www.redfin.com/MO/Saint-Louis/8034-Joel-Ave-63123/home/93559968', 'https://www.redfin.com/MO/Saint-Louis/5976-Shortleaf-Ct-63128/home/93615214', 'https://www.redfin.com/MO/Saint-Louis/2100-Telegraph-Rd-63125/home/93591642', 'https://www.redfin.com/MO/Florissant/14432-Gravelle-Ln-63034/home/93337055', 'https://www.redfin.com/MO/Florissant/14826-94th-Ave-63034/home/93332902', 'https://www.redfin.com/MO/Saint-Louis/9521-Yaffbury-Ln-63123/home/93582605', 'https://www.redfin.com/MO/Saint-Ann/4049-Ashby-Rd-63074/home/93399830', 'https://www.redfin.com/MO/Saint-Louis/2518-Oakland-Ave-63143/home/93497302', 'https://www.redfin.com/MO/Saint-Louis/7836-Atherstone-Dr-63121/home/93407981', 'https://www.redfin.com/MO/Saint-Louis/10559-Homestead-Ave-63114/home/93429158', 'https://www.redfin.com/MO/Saint-Louis/10427-Viscount-Dr-63136/home/93374746', 'https://www.redfin.com/MO/Saint-Louis/9700-Sterling-Pl-63123/home/93572983', 'https://www.redfin.com/MO/Florissant/1125-Edna-Dr-63031/home/93349476', 'https://www.redfin.com/MO/Affton/50-Franklin-glencarefree-Preserve-63123/home/186486728', 'https://www.redfin.com/MO/Saint-Louis/1153-Watts-Ave-63130/home/93458709', 'https://www.redfin.com/MO/Saint-Louis/2832-Blackforest-Dr-63129/unit-D/home/93618323', 'https://www.redfin.com/MO/Saint-Louis/9851-Tiffany-Square-Pkwy-63123/home/93585140', 'https://www.redfin.com/MO/Saint-Louis/7546-Becker-Rd-63129/home/93623478', 'https://www.redfin.com/MO/Saint-Ann/3532-Wismer-Rd-63074/home/93412510', 'https://www.redfin.com/MO/Florissant/31-New-Hope-Ct-63033/home/62721774', 'https://www.redfin.com/MO/Saint-Louis/190-Monteith-Cir-63137/home/93374052', 'https://www.redfin.com/MO/Saint-Louis/10548-Williamsfield-Dr-63135/home/93376391', 'https://www.redfin.com/MO/Chesterfield/13495-Coliseum-Dr-63017/home/62704710', 'https://www.redfin.com/MO/Saint-Louis/9411-Oakwood-Manor-Ln-63126/home/93585969', 'https://www.redfin.com/MO/Saint-Louis/11-Zinzer-Ct-63123/home/93574367', 'https://www.redfin.com/MO/Saint-Louis/2328-Rockdale-Ave-63121/home/93435213', 'https://www.redfin.com/MO/Saint-Louis/918-Wachtel-Ave-63125/home/93581388', 'https://www.redfin.com/MO/Maryland-Heights/11829-Longmont-Dr-63043/home/93416205', 'https://www.redfin.com/MO/Florissant/33-Saint-Celeste-Dr-63031/home/93346357', 'https://www.redfin.com/MO/Eureka/608-Cerny-Ave-63025/home/62762075', 'https://www.redfin.com/MO/Black-Jack/4960-Kennewick-Dr-63033/home/93354938', 'https://www.redfin.com/MO/Saint-Louis/5251-Hodiamont-Ave-63136/home/93419819', 'https://www.redfin.com/MO/Maryland-Heights/11814-Longmont-Dr-63043/home/62700787', 'https://www.redfin.com/MO/Chesterfield/14934-Greenberry-Hill-Ct-63017/home/93492804', 'https://www.redfin.com/MO/Saint-Louis/2947-Shores-Dr-63125/home/93592327', 'https://www.redfin.com/MO/Saint-Louis/8800-Blewett-Ave-63136/home/93407280', 'https://www.redfin.com/MO/Saint-Louis/1969-Park-Ln-63136/home/93404503', 'https://www.redfin.com/MO/Saint-Louis/5-Cady-Dr-63135/home/93379801', 'https://www.redfin.com/MO/Hazelwood/5334-Ville-Maria-Ln-63042/home/93373524', 'https://www.redfin.com/MO/Saint-Louis/221-La-Motte-Ln-63135/home/93389052', 'https://www.redfin.com/MO/Saint-Louis/11055-Perham-Dr-63136/home/93365969', 'https://www.redfin.com/MO/Chesterfield/1113-Horse-Run-Ct-63005/home/93485571', 'https://www.redfin.com/MO/Affton/27-Barclay-Preserve-63123/home/186485925', 'https://www.redfin.com/MO/Saint-Louis/1057-Mersey-Bend-Dr-63129/unit-B/home/93600075', 'https://www.redfin.com/MO/Valley-Park/406-Marshall-Rd-63088/home/93576905', 'https://www.redfin.com/MO/Saint-Louis/122-E-Jackson-Rd-63119/home/93524928', 'https://www.redfin.com/MO/Saint-Louis/6993-Woodrow-Ave-63121/home/93433154', 'https://www.redfin.com/MO/Chesterfield/200-Ambridge-Ct-63017/unit-203/home/93474072', 'https://www.redfin.com/MO/Manchester/1726-Connemara-Dr-63021/home/93547365', 'https://www.redfin.com/MO/Saint-Louis/10228-Viscount-Dr-63136/home/93385513', 'https://www.redfin.com/MO/Saint-Louis/5433-Fletcher-St-63136/home/93421263', 'https://www.redfin.com/MO/Saint-Louis/9534-Baltimore-Ave-63114/home/93427310', 'https://www.redfin.com/MO/Saint-Louis/181-Anistasia-Dr-63135/home/93380307', 'https://www.redfin.com/MO/St-Louis/1927-Simba-Cir-63125/home/188756905', 'https://www.redfin.com/MO/Saint-Louis/9703-Holtwood-Rd-63114/home/93426852'}, 'Greene-County': {'https://www.redfin.com/MO/Springfield/829-W-Elm-St-65806/home/132698341', 'https://www.redfin.com/MO/Springfield/1437-N-Forest-Ave-65802/home/133107565', 'https://www.redfin.com/MO/Springfield/3647-W-Broadmoor-St-65807/home/133346345', 'https://www.redfin.com/MO/Springfield/904-E-Smith-St-65803/home/133394224', 'https://www.redfin.com/MO/Strafford/6176-N-Farm-Road-215-65757/home/133033811', 'https://www.redfin.com/MO/Republic/1721-E-Furlough-Dr-65738/home/133701044', 'https://www.redfin.com/MO/Springfield/Lot-2-N-Penny-Ln-65803/home/184510648', 'https://www.redfin.com/MO/Battlefield/5801-S-Cloverdale-Ln-65619/home/133432353', 'https://www.redfin.com/MO/Republic/123-S-Dennis-Ave-65738/home/132945538', 'https://www.redfin.com/MO/Republic/625-W-Christine-Ln-65738/home/133195009', 'https://www.redfin.com/MO/Springfield/3971-N-Sheedy-Ave-65803/home/133016489', 'https://www.redfin.com/MO/Springfield/3066-E-Southern-Hills-Blvd-65804/home/133586234', 'https://www.redfin.com/MO/Springfield/2825-W-Oxbow-Ln-65810/home/133475473', 'https://www.redfin.com/MO/Republic/2138-E-Will-St-65738/home/183147659', 'https://www.redfin.com/MO/Springfield/835-S-McCann-Ave-65804/home/188501224', 'https://www.redfin.com/MO/Springfield/1501-W-Florida-St-65803/home/133545024', 'https://www.redfin.com/MO/Springfield/5505-E-Wild-Horse-Dr-65802/home/188500676', 'https://www.redfin.com/MO/Billings/5973-S-Farm-Road-57-65610/home/133746568', 'https://www.redfin.com/MO/Republic/3950-Wilson-s-Creek-Blvd-65619/home/188846376', 'https://www.redfin.com/MO/Springfield/2138-W-High-St-65803/home/132911073', 'https://www.redfin.com/MO/Willard/475-Osage-St-65781/home/188585486', 'https://www.redfin.com/MO/Springfield/2126-W-Atlantic-St-65803/home/133865467', 'https://www.redfin.com/MO/Springfield/3215-W-Madison-St-65802/home/133593953', 'https://www.redfin.com/MO/Springfield/2549-E-Old-Ivy-St-65804/home/133682767', 'https://www.redfin.com/MO/Springfield/4236-N-Haven-St-65803/home/133706233', 'https://www.redfin.com/MO/Springfield/5737-S-Lakeview-Ter-65810/home/132984992', 'https://www.redfin.com/MO/Springfield/2345-W-Westview-St-65807/home/132798240', 'https://www.redfin.com/MO/Republic/1202-N-Douglas-Dr-65738/home/188814184', 'https://www.redfin.com/MO/Springfield/N-Eldon-Ave-65803/home/133472739', 'https://www.redfin.com/MO/Springfield/1210-S-Ferguson-Ave-65807/home/132698669', 'https://www.redfin.com/MO/Springfield/2007-N-Riva-Ridge-Ct-65802/home/187851790', 'https://www.redfin.com/MO/Fair-Grove/293-W-Foxtrot-Cir-65648/home/133755563', 'https://www.redfin.com/MO/Springfield/3208-W-Olive-St-65802/home/133540556', 'https://www.redfin.com/MO/Springfield/1078-E-Commercial-St-65803/home/133025285', 'https://www.redfin.com/MO/Fair-Grove/7885-N-Farm-Road-193-65648/home/133569398', 'https://www.redfin.com/MO/Springfield/3376-W-Roxbury-St-65807/home/132996343', 'https://www.redfin.com/MO/Springfield/720-W-Mount-Vernon-St-65806/home/132762869', 'https://www.redfin.com/MO/Springfield/3925-S-Jefferson-Ave-65807/unit-7/home/132981246', 'https://www.redfin.com/MO/Republic/1254-S-Antietam-Rd-65738/home/187852296', 'https://www.redfin.com/MO/Brookline/5404-S-Farm-Road-115-65619/home/133467901', 'https://www.redfin.com/MO/Springfield/1611-E-Nora-St-65803/home/133515091', 'https://www.redfin.com/MO/Ozark/2309-Fi-Anna-Ln-65721/home/133880975', 'https://www.redfin.com/MO/Republic/1347-S-Natchez-Rd-65738/home/133423223', 'https://www.redfin.com/MO/Springfield/5250-E-Crown-Park-Ln-65809/home/172924217', 'https://www.redfin.com/MO/Springfield/3634-S-Cottage-Ave-65807/home/132979054', 'https://www.redfin.com/MO/Springfield/1516-S-Kimbrough-Ave-65807/home/133744924', 'https://www.redfin.com/MO/Springfield/2800-W-Elm-St-65802/home/133328064', 'https://www.redfin.com/MO/Springfield/3132-W-College-St-65802/home/133270225', 'https://www.redfin.com/MO/Springfield/609-W-Dale-St-65803/home/188718617', 'https://www.redfin.com/MO/Republic/221-N-Harmon-Ave-65738/home/133786038', 'https://www.redfin.com/MO/Springfield/3707-S-Colgate-Ave-65807/home/132804617', 'https://www.redfin.com/MO/Republic/2861-E-Bradford-St-65738/unit-87/home/188835482', 'https://www.redfin.com/MO/Springfield/2099-N-Riva-Ridge-Ct-65802/home/188718121', 'https://www.redfin.com/MO/Springfield/1227-W-Sage-CT-65810/home/188776073', 'https://www.redfin.com/MO/Springfield/2517-W-Water-St-65802/home/132945565', 'https://www.redfin.com/MO/Republic/915-Gettysburg-Loop-65738/home/187851738', 'https://www.redfin.com/MO/Springfield/5156-N-Missouri-Oak-Trl-65803/home/133807905', 'https://www.redfin.com/MO/Springfield/2316-N-Fort-Ave-65803/home/133833363', 'https://www.redfin.com/MO/Springfield/1847-S-Roanoke-Ave-65807/home/188547637', 'https://www.redfin.com/MO/Springfield/2127-W-Wall-St-65802/home/133733774', 'https://www.redfin.com/MO/Springfield/3119-S-Newton-Ave-65807/home/133788445', 'https://www.redfin.com/MO/Springfield/4823-E-Eastmoor-St-65809/home/133655779', 'https://www.redfin.com/MO/Republic/1084-S-Cumberland-Ave-65738/home/168297228', 'https://www.redfin.com/MO/Springfield/2034-W-Division-St-65802/home/133631278', 'https://www.redfin.com/MO/Pleasant-Hope/846-W-CC-65725/home/134003133', 'https://www.redfin.com/MO/Ash-Grove/14151-W-Farm-Road-56-65604/home/132817844', 'https://www.redfin.com/MO/Springfield/924-E-Hill-St-65803/home/132923346', 'https://www.redfin.com/MO/Springfield/2650-W-Brower-St-65802/home/133778242', 'https://www.redfin.com/MO/Springfield/311-S-Hampton-Ave-65806/home/179979904', 'https://www.redfin.com/MO/Springfield/1620-S-New-Ave-65807/home/133521475', 'https://www.redfin.com/MO/Republic/1130-N-Douglas-Dr-65738/home/188583417', 'https://www.redfin.com/MO/Springfield/Lot-2-E-Woodhue-St-65802/home/187479415', 'https://www.redfin.com/MO/Republic/2841-E-Bradford-St-65738/unit-85/home/188835430', 'https://www.redfin.com/MO/Springfield/2419-W-Twin-Lakes-Dr-65803/home/176269921', 'https://www.redfin.com/MO/Battlefield/4548-S-Ridgeview-Ave-65619/home/133740910', 'https://www.redfin.com/MO/Walnut-Grove/6783-N-Farm-Road-69-65770/home/134003386', 'https://www.redfin.com/MO/Springfield/2719-W-Walnut-St-65802/home/133270035', 'https://www.redfin.com/MO/Republic/1809-E-Vicksburg-Psge-65738/home/183147640', 'https://www.redfin.com/MO/Springfield/915-N-Kansas-Expy-65802/home/133718534', 'https://www.redfin.com/MO/Springfield/1246-E-Cambridge-St-65804/home/133727899', 'https://www.redfin.com/MO/Springfield/1750-W-Bennett-St-65807/unit-7b/home/188846723', 'https://www.redfin.com/MO/Springfield/3334-W-State-St-65802/home/133162899', 'https://www.redfin.com/MO/Springfield/1166-S-Broadview-Ave-65802/home/188382901', 'https://www.redfin.com/MO/Springfield/1117-W-Division-St-65803/home/133656678', 'https://www.redfin.com/MO/Springfield/5620-S-Fremont-Ave-65804/home/133794172', 'https://www.redfin.com/MO/Springfield/3226-W-Madison-St-65802/home/133738072', 'https://www.redfin.com/MO/Springfield/2044-N-Broadway-Ave-65803/home/133370332', 'https://www.redfin.com/MO/Springfield/1010-E-Pacific-St-65803/home/133545402', 'https://www.redfin.com/MO/Springfield/1722-W-Webster-St-65802/home/132727235', 'https://www.redfin.com/MO/Republic/213-E-Lapis-Ave-65738/home/133067296', 'https://www.redfin.com/MO/Springfield/2541-S-Overhill-Ave-65807/home/133694614', 'https://www.redfin.com/MO/Springfield/2764-W-Allen-Dr-65810/home/133675082', 'https://www.redfin.com/MO/Springfield/5705-S-Castlebay-Dr-65809/home/133887291', 'https://www.redfin.com/MO/Springfield/921-S-Fairway-Ave-65802/home/132869591', 'https://www.redfin.com/MO/Springfield/2244-S-Delaware-Ave-65804/home/188784347', 'https://www.redfin.com/MO/Springfield/2128-N-Nettleton-Ave-65803/home/133259370', 'https://www.redfin.com/MO/Springfield/3838-W-Parkridge-Cir-65802/home/133020864', 'https://www.redfin.com/MO/Springfield/700-N-Farm-Road-193-65802/home/133755636', 'https://www.redfin.com/MO/Springfield/3454-S-Ashley-Ct-65809/home/133192558', 'https://www.redfin.com/MO/Springfield/521-E-Cherokee-St-65807/home/188548170', 'https://www.redfin.com/MO/Springfield/4973-W-Silo-Hills-Dr-65802/home/188594938', 'https://www.redfin.com/MO/Springfield/6232-S-Riverbend-Rd-65810/home/133814385', 'https://www.redfin.com/MO/Republic/2821-E-Bradford-St-65738/unit-83/home/188835355', 'https://www.redfin.com/MO/Springfield/1919-N-Grant-Ave-65803/home/132912234', 'https://www.redfin.com/MO/Springfield/831-S-McCann-Ave-65804/home/182439326', 'https://www.redfin.com/MO/Springfield/3450-S-Geri-Ct-65807/home/132715800', 'https://www.redfin.com/MO/Fair-Grove/35-W-Saddle-Club-Rd-65648/home/133209195', 'https://www.redfin.com/MO/Springfield/708-W-Webster-St-65802/home/133107297', 'https://www.redfin.com/MO/Springfield/2014-N-Park-Ave-65803/home/133627288', 'https://www.redfin.com/MO/Springfield/1608-N-Main-Ave-65803/home/132872924', 'https://www.redfin.com/MO/Springfield/5982-S-Holland-Ave-65810/home/188717064', 'https://www.redfin.com/MO/Springfield/4865-S-Burrows-Ave-65810/home/188715516', 'https://www.redfin.com/MO/Springfield/821-E-McClernon-St-65803/home/133798799', 'https://www.redfin.com/MO/Springfield/2316-W-Nichols-St-65802/home/133736521', 'https://www.redfin.com/MO/Springfield/1618-A-B-W-Scott-St-65802/home/188862991', 'https://www.redfin.com/MO/Battlefield/5807-S-Cloverdale-Ln-65619/home/133784942', 'https://www.redfin.com/MO/Springfield/1653-S-Ferguson-Ave-65807/home/133663866', 'https://www.redfin.com/MO/Strafford/618-W-Bluegrass-Rd-65757/home/133908470', 'https://www.redfin.com/MO/Springfield/764-S-Mulberry-Ln-65809/home/133362239', 'https://www.redfin.com/MO/Republic/1190-N-Douglas-Dr-65738/home/188814352', 'https://www.redfin.com/MO/Republic/2833-E-Bradford-St-65738/unit-84/home/188835354', 'https://www.redfin.com/MO/Ash-Grove/106-W-College-St-65604/home/132814041', 'https://www.redfin.com/MO/Springfield/627-S-Grandview-Ave-65802/home/133239979', 'https://www.redfin.com/MO/Springfield/3238-W-Latoka-St-65807/home/132941380', 'https://www.redfin.com/MO/Springfield/1923-S-Franklin-Ave-65807/home/133809947', 'https://www.redfin.com/MO/Springfield/3207-S-Westwood-Ave-65807/home/132984240', 'https://www.redfin.com/MO/Springfield/2136-N-Oakland-Ave-65803/home/133868998', 'https://www.redfin.com/MO/Springfield/1854-S-Oakmont-Ave-65809/home/132861303', 'https://www.redfin.com/MO/Springfield/1228-S-Pennsylvania-Ave-65807/home/133609328', 'https://www.redfin.com/MO/Springfield/1222-N-Warren-Ave-65802/home/133778181', 'https://www.redfin.com/MO/Republic/143-E-Cowling-ST-Unknown/home/188814186', 'https://www.redfin.com/MO/Springfield/1271-S-Broadview-Ave-65802/home/188578527', 'https://www.redfin.com/MO/Fair-Grove/N-Quail-Ridge-Ln-65648/home/133573431', 'https://www.redfin.com/MO/Republic/3900-E-Appledore-Ct-65738/home/188500813', 'https://www.redfin.com/MO/Republic/131-E-Cowling-ST-Unknown/home/188813939', 'https://www.redfin.com/MO/Springfield/1425-W-Poplar-St-65802/home/133668438', 'https://www.redfin.com/MO/Springfield/W-Farm-Road-144-65802/home/132788507', 'https://www.redfin.com/MO/Springfield/1415-E-Florida-St-65803/home/132855329', 'https://www.redfin.com/MO/Republic/303-W-Mill-St-65738/home/133544241', 'https://www.redfin.com/MO/Springfield/4350-E-Misty-Woods-St-65809/home/133257406', 'https://www.redfin.com/MO/Republic/6567-Stock-ST-65738/unit-7/home/187516467', 'https://www.redfin.com/MO/Springfield/2022-S-Regal-Ct-65807/home/169423389', 'https://www.redfin.com/MO/Springfield/1628-E-Grand-St-65804/home/133850739', 'https://www.redfin.com/MO/Springfield/5817-W-Alexa-Ln-65802/home/133338649', 'https://www.redfin.com/MO/Springfield/Lot-3-E-Woodhue-St-65802/home/187478591', 'https://www.redfin.com/MO/Ash-Grove/13498-W-Farm-Road-44-65604/home/133095150', 'https://www.redfin.com/MO/Springfield/1131-W-Pacific-St-65803/home/132979993', 'https://www.redfin.com/MO/Springfield/1960-E-Meadow-Dr-65804/home/133313047', 'https://www.redfin.com/MO/Springfield/944-W-Central-St-65802/home/132882110', 'https://www.redfin.com/MO/Springfield/1708-E-Walnut-St-65802/home/133890726', 'https://www.redfin.com/MO/Springfield/1215-W-University-St-65807/home/133640103', 'https://www.redfin.com/MO/Springfield/966-S-Carriage-Ave-65809/home/133447862', 'https://www.redfin.com/MO/Springfield/1120-S-Glenn-Ave-65802/home/188514781', 'https://www.redfin.com/MO/Republic/531-W-Grace-St-65738/home/147357366', 'https://www.redfin.com/MO/Springfield/5279-W-Farm-Road-156-65802/home/133543824', 'https://www.redfin.com/MO/Springfield/2757-W-Roxbury-St-65807/home/132978718', 'https://www.redfin.com/MO/Springfield/3497-S-Parkmont-Ct-65807/home/133051580', 'https://www.redfin.com/MO/Willard/809-Hoffman-Hls-Blvd-65781/home/188717850', 'https://www.redfin.com/MO/Springfield/1254-W-Livingston-St-65803/home/133541254', 'https://www.redfin.com/MO/Springfield/2716-S-Grant-Ave-65807/home/133734917', 'https://www.redfin.com/MO/Springfield/1698-S-Eastland-St-65802/home/133275573', 'https://www.redfin.com/MO/Springfield/3234-S-Danbury-Ave-65807/home/133179114', 'https://www.redfin.com/MO/Springfield/1902-E-Meadow-Dr-65804/home/133381303', 'https://www.redfin.com/MO/Republic/1262-S-Sicily-Ct-65738/home/133905093', 'https://www.redfin.com/MO/Springfield/1706-W-Olive-St-65802/home/133835479', 'https://www.redfin.com/MO/Springfield/853-N-Grapevine-Rd-65802/home/133434894', 'https://www.redfin.com/MO/Springfield/1114-W-College-St-65806/home/133397547', 'https://www.redfin.com/MO/Springfield/1657-E-Commercial-St-65803/home/133818664', 'https://www.redfin.com/MO/Walnut-Grove/8387-N-State-Highway-123-65770/home/133816343', 'https://www.redfin.com/MO/Springfield/1698-E-Dale-St-65803/home/132755485', 'https://www.redfin.com/MO/Springfield/6063-S-Riverbend-Rd-65810/home/133497171', 'https://www.redfin.com/MO/Republic/6567-Stock-ST-65738/unit-4-7/home/187515994', 'https://www.redfin.com/MO/Springfield/4064-W-Leisa-St-65807/home/132772178', 'https://www.redfin.com/MO/Springfield/2725-S-Dollison-Ave-65807/home/188667180', 'https://www.redfin.com/MO/Republic/6542-Lock-LN-Unknown/unit-4/home/187516468', 'https://www.redfin.com/MO/Springfield/3155-S-Valley-View-Ave-65804/home/133128883', 'https://www.redfin.com/MO/Republic/1166-N-Douglas-Dr-65738/home/188814353', 'https://www.redfin.com/MO/Springfield/1417-N-Forest-Ave-65802/home/133163620', 'https://www.redfin.com/MO/Springfield/1006-W-Morningside-St-65807/home/132768469', 'https://www.redfin.com/MO/Republic/S-Farm-Road-101-65738/home/132731253', 'https://www.redfin.com/MO/Republic/2873-E-Bradford-St-65738/unit-88/home/188835432', 'https://www.redfin.com/MO/Springfield/2215-N-Bolivar-Rd-65803/home/133612773', 'https://www.redfin.com/MO/Springfield/2356-E-Cherryvale-St-65804/home/133030603', 'https://www.redfin.com/MO/Springfield/896-N-Pearson-Ct-65802/home/133891818', 'https://www.redfin.com/MO/Springfield/1032-E-Cherokee-St-65807/home/133109947', 'https://www.redfin.com/MO/Springfield/1525-S-Missouri-Ave-65807/home/133282163', 'https://www.redfin.com/MO/Springfield/856-E-Farm-Road-80-65803/home/133193531', 'https://www.redfin.com/MO/Springfield/6323-E-Roberts-Ln-65802/home/176267177', 'https://www.redfin.com/MO/Springfield/620-S-Weaver-Ct-65806/home/133778492', 'https://www.redfin.com/MO/Springfield/804-E-Canterbury-St-65810/home/133729241', 'https://www.redfin.com/MO/Springfield/3959-N-Dysart-Ave-65803/home/133578714', 'https://www.redfin.com/MO/Springfield/1149-S-Broadview-Ave-65802/home/188377333', 'https://www.redfin.com/MO/Springfield/Lot-26-S-Mumford-Ct-65802/home/187478201', 'https://www.redfin.com/MO/Springfield/1423-E-Buena-Vista-St-65804/home/133805120', 'https://www.redfin.com/MO/Springfield/820-S-McCann-Ave-65804/home/132841984', 'https://www.redfin.com/MO/Rogersville/9839-E-Farm-Road-170-65742/home/188547782', 'https://www.redfin.com/MO/Republic/S-Farm-Road-99-65738/home/179898824', 'https://www.redfin.com/MO/Republic/157-E-Cowling-ST-Unknown/home/188813888', 'https://www.redfin.com/MO/Springfield/700-E-Delmar-St-65807/home/133072087', 'https://www.redfin.com/MO/Fair-Grove/10678-N-Farm-Road-183-65648/home/133773187', 'https://www.redfin.com/MO/Strafford/1943-N-Vineyard-Pl-65757/home/172919487', 'https://www.redfin.com/MO/Springfield/1926-W-Elm-St-65806/home/132928499', 'https://www.redfin.com/MO/Republic/1447-N-Lyon-Ave-65738/home/183146750', 'https://www.redfin.com/MO/Springfield/3141-E-Raynell-St-65804/unit-G/home/188701367', 'https://www.redfin.com/MO/Strafford/1530-NE-Rdg-65757/home/180034250', 'https://www.redfin.com/MO/Springfield/1926-S-Broadway-Ave-65807/home/133883746', 'https://www.redfin.com/MO/Republic/307-E-Primrose-Ln-65738/home/132767426', 'https://www.redfin.com/MO/Springfield/4376-N-Shirley-Ave-65803/home/133337111', 'https://www.redfin.com/MO/Springfield/1508-S-Bedford-Rd-65809/home/133747828', 'https://www.redfin.com/MO/Springfield/3935-S-Clay-Ave-65807/home/133745025', 'https://www.redfin.com/MO/Springfield/717-S-Grant-Ave-65806/home/133840468', 'https://www.redfin.com/MO/Springfield/3714-W-Rosebrier-St-65807/home/133081869', 'https://www.redfin.com/MO/Springfield/1462-S-Catalina-Ave-65804/home/133614802', 'https://www.redfin.com/MO/Springfield/1012-S-New-Ave-65807/home/133458783', 'https://www.redfin.com/MO/Republic/505-S-Michelle-Ave-65738/home/179897948', 'https://www.redfin.com/MO/Springfield/223-N-Westport-Ave-65802/home/132803055', 'https://www.redfin.com/MO/Springfield/2758-W-Grayrock-Dr-65810/home/133182706', 'https://www.redfin.com/MO/Springfield/611-S-Fort-Ave-65806/home/132712296', 'https://www.redfin.com/MO/Springfield/3164-E-Latoka-St-65804/home/133615809', 'https://www.redfin.com/MO/Springfield/3952-N-Courtney-Cir-65803/home/133628699', 'https://www.redfin.com/MO/Springfield/557-S-Prince-Ln-65802/home/132842700', 'https://www.redfin.com/MO/Springfield/3242-S-Kimbrough-Ave-65807/home/133177218', 'https://www.redfin.com/MO/Republic/1154-N-Douglas-Dr-65738/home/188814187', 'https://www.redfin.com/MO/Springfield/4483-E-Pearson-Meadow-Dr-65802/home/133408055', 'https://www.redfin.com/MO/Republic/2118-E-Will-St-65738/home/183147660', 'https://www.redfin.com/MO/Springfield/1448-N-Prospect-Ave-65802/home/132851999', 'https://www.redfin.com/MO/Willard/416-S-Main-65781/home/188560279', 'https://www.redfin.com/MO/Springfield/2032-S-Brighton-Dr-65804/home/132886799', 'https://www.redfin.com/MO/Walnut-Grove/11595-N-Archer-Ln-65770/home/133566138', 'https://www.redfin.com/MO/Springfield/2012-N-Riva-Ridge-Ct-65802/home/188124167', 'https://www.redfin.com/MO/Springfield/2638-W-Katella-Ln-65807/home/132980229', 'https://www.redfin.com/MO/Springfield/1154-S-Broadview-Ave-65802/home/188391674', 'https://www.redfin.com/MO/Willard/9597-W-US-Highway-160-65781/home/132810610', 'https://www.redfin.com/MO/Springfield/4654-S-Farm-Road-135-65810/home/133870560', 'https://www.redfin.com/MO/Springfield/760-S-Main-Ave-65806/home/133449885', 'https://www.redfin.com/MO/Strafford/6180-E-Farm-Road-112-65757/home/132832121', 'https://www.redfin.com/MO/Battlefield/5721-Cloverdale-Ln-65619/home/188864441', 'https://www.redfin.com/MO/Springfield/2010-S-Regal-Ct-65807/home/169423390', 'https://www.redfin.com/MO/Republic/117-E-Cowling-ST-Unknown/home/188813849', 'https://www.redfin.com/MO/Springfield/1364-E-Doubletree-Ln-65810/home/188706984', 'https://www.redfin.com/MO/Republic/1290-S-Antietam-Rd-65738/home/183147840', 'https://www.redfin.com/MO/Willard/213-South-St-65781/home/133209125', 'https://www.redfin.com/MO/Springfield/2952-N-Ohara-Ave-65803/home/188564476', 'https://www.redfin.com/MO/Springfield/1610-A-B-W-Scott-St-65802/home/188862985', 'https://www.redfin.com/MO/Springfield/4731-S-Sedgewick-Terrace-Ct-65810/home/133041697', 'https://www.redfin.com/MO/Springfield/920-E-Walnut-St-65806/home/180017801', 'https://www.redfin.com/MO/Springfield/1223-W-State-St-65806/home/133692226', 'https://www.redfin.com/MO/Springfield/N-Farm-Road-141-65803/home/133055394', 'https://www.redfin.com/MO/Fair-Grove/3689-E-Farm-Road-6-65648/home/133571765', 'https://www.redfin.com/MO/Springfield/444-S-Duke-Ave-65802/home/133452649', 'https://www.redfin.com/MO/Springfield/1129-W-Gaslight-Dr-65810/home/188578708', 'https://www.redfin.com/MO/Springfield/3905-S-Tolliver-Ave-65807/home/133462240', 'https://www.redfin.com/MO/Springfield/1315-E-Elm-St-65802/home/188581377', 'https://www.redfin.com/MO/Springfield/1018-S-Thelma-Ave-65807/home/133726492', 'https://www.redfin.com/MO/Springfield/3628-S-Sulgrove-Ave-65804/home/133795698', 'https://www.redfin.com/MO/Republic/1129-S-Gettysburg-Loop-65738/home/183147670', 'https://www.redfin.com/MO/Springfield/615-S-Douglas-Ave-65806/home/133108656', 'https://www.redfin.com/MO/Springfield/1956-E-High-St-65803/home/132756818', 'https://www.redfin.com/MO/Springfield/707-S-Warren-Ave-65802/home/132985420', 'https://www.redfin.com/MO/Springfield/4452-E-Larkwood-Dr-65802/home/183141527', 'https://www.redfin.com/MO/Springfield/728-E-Walnut-St-65806/home/177827433', 'https://www.redfin.com/MO/Springfield/4328-N-Shirley-Ave-65803/home/133066000', 'https://www.redfin.com/MO/Springfield/1608-W-Lynn-St-65802/home/133756382', 'https://www.redfin.com/MO/Springfield/Tbd-W-Farm-Road-106-65803/home/179897762', 'https://www.redfin.com/MO/Springfield/1036-S-Crutcher-Ave-65804/home/132889576', 'https://www.redfin.com/MO/Willard/113-Hughes-Rd-65781/home/132828888', 'https://www.redfin.com/MO/Springfield/3041-W-Camino-Alto-St-65810/home/133768892', 'https://www.redfin.com/MO/Springfield/5398-Applewood-St-65802/home/133529419', 'https://www.redfin.com/MO/Springfield/1516-W-Lynn-St-65802/home/133491611', 'https://www.redfin.com/MO/Springfield/4612-S-Turnberry-Ave-65810/home/133312691', 'https://www.redfin.com/MO/Springfield/4474-E-Larkwood-Dr-65802/home/183141526', 'https://www.redfin.com/MO/Springfield/3421-W-Laurel-Cir-65807/home/133113261', 'https://www.redfin.com/MO/Springfield/5449-S-Woodcliffe-Dr-65804/home/133014180', 'https://www.redfin.com/MO/Springfield/1248-S-Fremont-Ave-65804/home/133461532', 'https://www.redfin.com/MO/Springfield/4857-S-Burrows-Ave-65810/home/188715514', 'https://www.redfin.com/MO/Springfield/2960-W-State-St-65802/home/143742362', 'https://www.redfin.com/MO/Springfield/3400-W-Page-St-65802/home/133265248', 'https://www.redfin.com/MO/Springfield/1083-S-Ferguson-Ave-65807/home/133607946', 'https://www.redfin.com/MO/Ash-Grove/E-Murray-St-65604/home/133441479', 'https://www.redfin.com/MO/Republic/122-S-West-Ave-65738/home/133664331', 'https://www.redfin.com/MO/Springfield/1108-W-Swan-St-65807/home/133868754', 'https://www.redfin.com/MO/Pleasant-Hope/9410-N-Spring-Valley-Dr-65725/home/132747106', 'https://www.redfin.com/MO/Springfield/727-S-Warren-Ave-65802/home/132985463', 'https://www.redfin.com/MO/Rogersville/837-S-Woodland-Hills-Ave-65742/home/188848010', 'https://www.redfin.com/MO/Springfield/816-S-Fort-Ave-65806/home/133497141', 'https://www.redfin.com/MO/Springfield/908-W-Florida-St-65803/home/133781749', 'https://www.redfin.com/MO/Battlefield/4542-W-Bull-Run-Battle-St-65619/home/133770737', 'https://www.redfin.com/MO/Springfield/1110-W-Pacific-St-65803/home/132878522', 'https://www.redfin.com/MO/Springfield/4325-E-State-Highway-AA-65803/home/133600337', 'https://www.redfin.com/MO/Springfield/5937-S-Clay-Ave-65810/home/188715952', 'https://www.redfin.com/MO/Springfield/4469-E-Kenwood-Dr-65802/home/183141533', 'https://www.redfin.com/MO/Springfield/2145-E-Regency-Pl-65804/home/188865953', 'https://www.redfin.com/MO/Springfield/1825-N-Burton-Ave-65803/home/133673019', 'https://www.redfin.com/MO/Springfield/2202-N-Ramsey-Ave-65803/home/133773640', 'https://www.redfin.com/MO/Ash-Grove/W-Farm-Road-28-65604/home/187843966', 'https://www.redfin.com/MO/Rogersville/7372-E-State-Highway-D-Unknown/home/188754913', 'https://www.redfin.com/MO/Springfield/1611-S-Farm-Road-199-65809/home/188851017', 'https://www.redfin.com/MO/Bois-D-Arc/10841-W-Farm-Road-124-65612/home/133344871', 'https://www.redfin.com/MO/Ozark/2312-E-Ridgecrest-St-65721/home/133326438', 'https://www.redfin.com/MO/Springfield/3855-W-Olivia-St-65810/home/133345503', 'https://www.redfin.com/MO/Springfield/4083-N-Farm-Road-151-65803/home/133136756', 'https://www.redfin.com/MO/Springfield/2229-W-Glen-Gary-Ct-65810/home/179901375', 'https://www.redfin.com/MO/Fair-Grove/273-Kellen-St-65648/home/133730632', 'https://www.redfin.com/MO/Springfield/1460-E-Central-St-65802/home/132819087', 'https://www.redfin.com/MO/Springfield/1802-N-Drury-Ave-65802/home/133775768', 'https://www.redfin.com/MO/Battlefield/5713-S-Cloverdale-Ln-65619/home/169423751', 'https://www.redfin.com/MO/Springfield/1818-W-Atlantic-St-65803/home/133742047', 'https://www.redfin.com/MO/Springfield/5785-N-Farm-Road-189-65803/home/132830205', 'https://www.redfin.com/MO/Springfield/804-E-Farm-Road-80-65803/home/133126346', 'https://www.redfin.com/MO/Springfield/1201-W-Harrison-St-65806/home/132921250', 'https://www.redfin.com/MO/Springfield/1859-N-Bristol-Ave-65802/home/169419313', 'https://www.redfin.com/MO/Republic/2153-Will-ST-65738/home/181800398', 'https://www.redfin.com/MO/Springfield/3751-W-Division-St-65803/home/147357054', 'https://www.redfin.com/MO/Springfield/4859-S-Buckingham-Ln-65810/home/132999707', 'https://www.redfin.com/MO/Springfield/1935-S-Kimbrough-Ave-65807/home/133375200', 'https://www.redfin.com/MO/Springfield/703-S-Hickory-Dr-65809/home/176269523', 'https://www.redfin.com/MO/Springfield/839-N-Eagle-Ave-65802/home/133834294', 'https://www.redfin.com/MO/Rogersville/Tract-A-E-Farm-Road-174-65742/home/180034585', 'https://www.redfin.com/MO/Ozark/6320-Creeksedge-Dr-65721/unit-B/home/133905929', 'https://www.redfin.com/MO/Springfield/903-E-Gaslight-Dr-65810/home/133027954', 'https://www.redfin.com/MO/Springfield/1906-N-Golden-Ave-65802/home/133709330', 'https://www.redfin.com/MO/Springfield/3112-S-Ventura-Ave-65804/home/133030402', 'https://www.redfin.com/MO/Springfield/1417-E-McDaniel-St-65802/home/133228666', 'https://www.redfin.com/MO/Springfield/509-W-Olive-St-65806/unit-105/home/179898427', 'https://www.redfin.com/MO/Springfield/1614-A-B-W-Scott-St-65802/home/188862992', 'https://www.redfin.com/MO/Republic/W-Farm-Road-144-Unknown/home/179897074', 'https://www.redfin.com/MO/Springfield/1336-W-Tampa-St-65802/home/132908822', 'https://www.redfin.com/MO/Springfield/3139-W-Roxbury-St-65807/home/133556779', 'https://www.redfin.com/MO/Springfield/1602-A-B-W-Scott-St-65802/home/188862984', 'https://www.redfin.com/MO/Springfield/4864-E-Kingwood-Ct-65809/home/133776548', 'https://www.redfin.com/MO/Springfield/2544-W-Blackburn-Dr-65807/home/132988718', 'https://www.redfin.com/MO/Springfield/Tract-1-E-Farm-Road-132-65802/home/179898415', 'https://www.redfin.com/MO/Springfield/1125-S-Broadview-Ave-65802/home/188380029', 'https://www.redfin.com/MO/Springfield/4531-E-Farm-Road-144-65809/home/132770869', 'https://www.redfin.com/MO/Springfield/3770-N-Croswell-Ave-65803/home/132785901', 'https://www.redfin.com/MO/Springfield/1700-E-McDaniel-St-65802/home/133805863', 'https://www.redfin.com/MO/Springfield/1402-E-Meadowmere-St-65804/home/133851283', 'https://www.redfin.com/MO/Republic/1178-N-Douglas-Dr-65738/home/188583607', 'https://www.redfin.com/MO/Republic/420-N-College-Ave-65738/home/133456517', 'https://www.redfin.com/MO/Springfield/3694-N-Farm-Road-197-65803/home/163141510', 'https://www.redfin.com/MO/Willard/8890-W-Farm-Road-104-65781/home/132790000', 'https://www.redfin.com/MO/Springfield/4447-E-Kenwood-Dr-65802/home/183141532', 'https://www.redfin.com/MO/Springfield/1627-E-Cairo-St-65802/home/133144846', 'https://www.redfin.com/MO/Springfield/2247-N-Franklin-Ave-65803/home/133101761', 'https://www.redfin.com/MO/Springfield/3847-S-Homewood-St-65807/home/133288165', 'https://www.redfin.com/MO/Springfield/4464-E-Lancaster-Way-65802/home/183141545', 'https://www.redfin.com/MO/Springfield/3219-W-Village-Ln-65807/home/133888667', 'https://www.redfin.com/MO/Strafford/7472-E-Cinnabar-Ln-65757/home/133066520', 'https://www.redfin.com/MO/Springfield/1213-N-Brown-Ave-65802/home/133652565', 'https://www.redfin.com/MO/Republic/200-Brady-LN-65738/home/188753246'}, 'Cass-County': {'https://www.redfin.com/MO/Raymore/410-Woodview-Dr-64083/home/186474836', 'https://www.redfin.com/MO/Greenwood/328-N-Winnebago-Dr-64034/home/78152063', 'https://www.redfin.com/MO/Peculiar/107-N-Sivley-St-64078/home/103237806', 'https://www.redfin.com/MO/Raymore/1407-Zennor-Ct-64083/home/78167268', 'https://www.redfin.com/MO/Belton/417-W-Cambridge-Rd-64012/home/78162789', 'https://www.redfin.com/MO/Raymore/1114-Metfield-Ln-64083/home/103230813', 'https://www.redfin.com/MO/Peculiar/22901-S-Creekview-Dr-64078/home/103237863', 'https://www.redfin.com/MO/Harrisonville/26406-S-Westlake-Dr-64701/home/78155990', 'https://www.redfin.com/MO/Garden-City/89-Oak-St-64747/home/103223622', 'https://www.redfin.com/MO/Peculiar/21707-Westover-Rd-64078/home/186033391', 'https://www.redfin.com/MO/Harrisonville/Tract-3-S-Belle-Plain-Rd-64701/home/185523719', 'https://www.redfin.com/MO/Peculiar/22514-Cole-Dr-64078/home/103238896', 'https://www.redfin.com/MO/Raymore/Lot6-Municipal-Cir-64083/home/185938102', 'https://www.redfin.com/MO/Pleasant-Hill/1403-Red-Bud-Ave-64080/home/78164282', 'https://www.redfin.com/MO/Garden-City/501-Gum-St-64747/home/103225185', 'https://www.redfin.com/MO/Pleasant-Hill/707-Henley-Dr-64080/home/103229642', 'https://www.redfin.com/MO/Belton/3-Bluebonnet-Ln-64012/home/78175371', 'https://www.redfin.com/MO/Peculiar/21705-Westover-Rd-64078/home/186033257', 'https://www.redfin.com/MO/Peculiar/11806-E-231st-St-64078/home/188080138', 'https://www.redfin.com/MO/Belton/716-Connor-St-64012/home/176173606', 'https://www.redfin.com/MO/Raymore/404-N-Washington-St-64083/home/103234086', 'https://www.redfin.com/MO/Lees-Summit/215-SW-Green-Teal-St-64082/home/103222217', 'https://www.redfin.com/MO/Sherman-Township/S-Lost-Ln-64739/home/78171528', 'https://www.redfin.com/MO/Raymore/406-Woodview-Dr-64083/home/185023661', 'https://www.redfin.com/MO/Lees-Summit/4613-SW-Robinson-Dr-64083/home/103240015', 'https://www.redfin.com/MO/Drexel/0000D-S-State-Route-D-Unknown/home/185588941', 'https://www.redfin.com/MO/Peculiar/Lot-9-Granite-DR-64078/home/187969784', 'https://www.redfin.com/MO/Raymore/107-Frederick-Ln-64083/home/103232260', 'https://www.redfin.com/MO/Cleveland/S-Groh-Rd-64734/home/144347039', 'https://www.redfin.com/MO/Garden-City/Park-Ave-64747/home/103225034', 'https://www.redfin.com/MO/Raymore/1313-Cross-Creek-Dr-64083/home/103232553', 'https://www.redfin.com/MO/Harrisonville/3110-Krissy-Bnd-64701/home/103228975', 'https://www.redfin.com/MO/Peculiar/8909-E-State-Route-YY-64078/home/78177844', 'https://www.redfin.com/MO/Raymore/705-Furlong-Dr-64083/home/103236318', 'https://www.redfin.com/MO/Belton/Oak-St-64012/home/78159491', 'https://www.redfin.com/MO/Peculiar/132-East-North-St-64078/home/186128764', 'https://www.redfin.com/MO/Harrisonville/616-Oakwood-St-64701/home/78157162', 'https://www.redfin.com/MO/Peculiar/11911-E-214th-St-64078/home/103239127', 'https://www.redfin.com/MO/Pleasant-Hill/1806-Winchester-Dr-64080/home/176173478', 'https://www.redfin.com/MO/Drexel/322-N-4th-St-64742/home/78153030', 'https://www.redfin.com/MO/Raymore/Raymore/tupelo/home/188420030', 'https://www.redfin.com/MO/East-Lynne/204-S-Jefferson-N-A-64743/home/182445971', 'https://www.redfin.com/MO/Raymore/Raymore/Juliette/home/188420259', 'https://www.redfin.com/MO/Pleasant-Hill/1413-Lawndale-Ave-64080/home/78166463', 'https://www.redfin.com/MO/Raymore/Raymore/Lawrence/home/188422161', 'https://www.redfin.com/MO/Pleasant-Hill/1606-Mulberry-St-64080/home/176173459', 'https://www.redfin.com/MO/Raymore/509-Eagle-Glen-Dr-64083/home/103235871', 'https://www.redfin.com/MO/Raymore/Raymore/Sonoma/home/188467483', 'https://www.redfin.com/MO/Raymore/705-Hampstead-Dr-64083/home/176173529', 'https://www.redfin.com/MO/Pleasant-Hill/1205-Buckeye-Ln-64080/home/103229820', 'https://www.redfin.com/MO/Pleasant-Hill/Lot-107-E-State-Route-P-64080/home/185584792', 'https://www.redfin.com/MO/Raymore/1115-Branchwood-Ln-64083/home/187522448', 'https://www.redfin.com/MO/Raymore/501-W-Olive-St-64083/home/78168688', 'https://www.redfin.com/MO/East-Lynne/808-S-Colony-AVE-64743/home/187010126', 'https://www.redfin.com/MO/Raymore/1410-Zennor-Ct-64083/home/78167266', 'https://www.redfin.com/MO/Raymore/1703-W-Pelham-Path-64083/home/78168997', 'https://www.redfin.com/MO/Harrisonville/TBD-Lot-1-Dogwood-Creek-Estates-N-A-64701/home/186273019', 'https://www.redfin.com/MO/Raymore/412-Woodview-Dr-64083/home/186475056', 'https://www.redfin.com/MO/Peculiar/Lot-8-Granite-DR-64078/home/187969613', 'https://www.redfin.com/MO/Creighton/417-Windsor-Rd-64739/home/85967960', 'https://www.redfin.com/MO/Drexel/0000B-S-State-Route-D-Unknown/home/185588945', 'https://www.redfin.com/MO/Harrisonville/27225-S-Brickplant-Rd-64701/home/78156157', 'https://www.redfin.com/MO/Raymore/15524-Meadowbrook-Ct-64083/home/103232176', 'https://www.redfin.com/MO/Raymore/Raymore/Riverside-Limited-Availability/home/188407210', 'https://www.redfin.com/MO/Pleasant-Hill/1802-Foxtail-Dr-64080/home/176173486', 'https://www.redfin.com/MO/Raymore/1116-N-Madison-St-64083/home/103232619', 'https://www.redfin.com/MO/Harrisonville/1703-Blueberry-Dr-64701/home/78158936', 'https://www.redfin.com/MO/Raymore/508-Hampstead-Dr-64083/home/182720838', 'https://www.redfin.com/MO/Pleasant-Hill/Unknown-Unknown/home/185969934', 'https://www.redfin.com/MO/Harrisonville/903-Thunderbird-Dr-64701/home/78157096', 'https://www.redfin.com/MO/Raymore/1003-Redwood-Dr-64083/home/103234603', 'https://www.redfin.com/MO/Drexel/S-1st-St-64742/home/180670829', 'https://www.redfin.com/MO/Lake-Winnebago/472-N-Winnebago-Dr-64034/home/78152722', 'https://www.redfin.com/MO/Pleasant-Hill/22920-S-Staley-Mound-Rd-64080/home/78154328', 'https://www.redfin.com/MO/Garden-City/34705-E-272nd-St-64747/home/103222004', 'https://www.redfin.com/MO/Belton/16205-Spyglass-Ct-64012/home/103240421', 'https://www.redfin.com/MO/Greenwood/813-Eve-Orchid-Dr-64034/home/173618378', 'https://www.redfin.com/MO/Pleasant-Hill/Lot-108-E-State-Route-P-64080/home/185584824', 'https://www.redfin.com/MO/Raymore/1310-W-Campbell-Blvd-64083/home/78168215', 'https://www.redfin.com/MO/Belton/4901-E-215th-St-64012/home/78173786', 'https://www.redfin.com/MO/Pleasant-Hill/209-Lexington-Rd-64080/home/103230382', 'https://www.redfin.com/MO/Peculiar/11708-E-229th-St-64078/home/103237842', 'https://www.redfin.com/MO/East-Lynne/Washington-St-64743/home/185465919', 'https://www.redfin.com/MO/Harrisonville/2204-Pemberton-Dr-64701/home/78157946', 'https://www.redfin.com/MO/Raymore/245-Jenny-Ln-64083/home/78167770', 'https://www.redfin.com/MO/Pleasant-Hill/240-High-St-64080/home/78164584', 'https://www.redfin.com/MO/Raymore/511-S-Saturn-Dr-64083/home/78177175', 'https://www.redfin.com/MO/Peculiar/11408-Summerskill-Rd-64078/home/78174254', 'https://www.redfin.com/MO/Harrisonville/Tract-1-S-Belle-Plain-Rd-64701/home/185523538', 'https://www.redfin.com/MO/Harrisonville/Tract-D-S-Jefferson-Pkwy-Unknown/home/187454416', 'https://www.redfin.com/MO/Peculiar/TBD-W-1st-St-64078/home/172559258', 'https://www.redfin.com/MO/Raymore/608-Cedar-Falls-Ct-64083/home/78165054', 'https://www.redfin.com/MO/Harrisonville/27710-E-State-Route-2-64701/home/103222012', 'https://www.redfin.com/MO/Garden-City/28720-S-State-Route-7-S-64747/home/103222452', 'https://www.redfin.com/MO/Belton/17218-Monte-Verde-Dr-64012/home/78161671', 'https://www.redfin.com/MO/Belton/508-Mark-Ln-64012/home/78162289', 'https://www.redfin.com/MO/Harrisonville/25605-E-283rd-St-64701/home/103225403', 'https://www.redfin.com/MO/Archie/201-Blackberry-Cir-64725/home/103222867', 'https://www.redfin.com/MO/Raymore/Raymore/Sheffield/home/188421070', 'https://www.redfin.com/MO/Belton/65-Cove-Ct-64012/home/148338639', 'https://www.redfin.com/MO/Peculiar/821-S-Morgan-Dr-64078/home/78174031', 'https://www.redfin.com/MO/Belton/10-E-165th-St-64012/home/78159303', 'https://www.redfin.com/MO/Drexel/State-Route-A-64742/home/78153200', 'https://www.redfin.com/MO/Peculiar/600-Schug-Ave-64078/home/103239408', 'https://www.redfin.com/MO/Pleasant-Hill/906-Ingleside-Dr-64080/home/78166245', 'https://www.redfin.com/MO/Pleasant-Hill/22820-S-Bethel-Rd-64080/home/78154364', 'https://www.redfin.com/MO/Raymore/717-Moss-Creek-Dr-64083/home/103240231', 'https://www.redfin.com/MO/Raymore/312-W-Cottonwood-Dr-64083/home/103236600', 'https://www.redfin.com/MO/Peculiar/TBD-Peculiar-Dr-Unknown/home/173234776', 'https://www.redfin.com/MO/Pleasant-Hill/19204-E-State-Route-P-64080/home/103222992', 'https://www.redfin.com/MO/Peculiar/11411-Shadow-Glen-Ct-64078/home/103237714', 'https://www.redfin.com/MO/Cleveland/29600-S-State-Route-D-64734/home/78173839', 'https://www.redfin.com/MO/Belton/815-Cimmarron-Trl-64012/home/78160014', 'https://www.redfin.com/MO/Raymore-Township/Lot-54-S-Grand-Dr-64012/home/173246794', 'https://www.redfin.com/MO/Harrisonville/2205-Richmond-Dr-64701/home/186622422', 'https://www.redfin.com/MO/Raymore/1410-Kintyre-CT-64083/home/188162549', 'https://www.redfin.com/MO/Raymore/2108-Crestview-Ct-64083/home/185588922', 'https://www.redfin.com/MO/Raymore/1111-Branchwood-Ln-64083/home/187522969', 'https://www.redfin.com/MO/Raymore/Raymore/cobalt/home/188410890', 'https://www.redfin.com/MO/Archie/202-Blackberry-Cir-64725/home/103222868', 'https://www.redfin.com/MO/Raymore/408-Woodview-Dr-64083/home/185003783', 'https://www.redfin.com/MO/Belton/515-Bud-Ln-64012/home/78160497', 'https://www.redfin.com/MO/Freeman/8301-E-Whippoorwill-Hill-Dr-64746/home/78155734', 'https://www.redfin.com/MO/Peculiar/21708-Westover-Rd-64078/home/185863639', 'https://www.redfin.com/MO/Belton/119-E-South-Ave-64012/home/78163194', 'https://www.redfin.com/MO/Peculiar/21700-Westover-Rd-64078/home/186184857', 'https://www.redfin.com/MO/Pleasant-Hill/1204-Morgan-Dr-64080/home/78165982', 'https://www.redfin.com/MO/Belton/20411-S-Cleveland-Ave-64012/home/78171347', 'https://www.redfin.com/MO/Raymore/1215-Hampton-Dr-64083/home/103231181', 'https://www.redfin.com/MO/Peculiar/TBD-Nora-Dodge-Dr-64078/home/188740843', 'https://www.redfin.com/MO/Raymore/204-Elissa-Dr-64083/home/78167781', 'https://www.redfin.com/MO/Lees-Summit/215-SW-Tiller-Ct-64082/home/170218014', 'https://www.redfin.com/MO/Raymore/601-Mayberry-Ct-64083/home/103236227', 'https://www.redfin.com/MO/Raymore/411-S-Pelham-Path-64083/home/103236074', 'https://www.redfin.com/MO/Pleasant-Hill/2103-Alexandria-Ln-64080/home/78163958', 'https://www.redfin.com/MO/Lees-Summit/4511-Sw-Berkshire-Dr-64083/home/103239968', 'https://www.redfin.com/MO/Raymore/Raymore/Cardinale/home/188467590', 'https://www.redfin.com/MO/Harrisonville/28905-S-Horn-Rd-64701/home/78157878', 'https://www.redfin.com/MO/Freeman/Lot-12-Captain-Merriman-Dr-64746/home/185986850', 'https://www.redfin.com/MO/Pleasant-Hill/E-203rd-St-64080/home/78152145', 'https://www.redfin.com/MO/Belton/703-Shane-Ln-64012/home/176173563', 'https://www.redfin.com/MO/Raymore-Township/Lot-53-S-Grand-Dr-64012/home/185816438', 'https://www.redfin.com/MO/Raymore/1902-Creekview-Ln-64083/home/103235508', 'https://www.redfin.com/MO/Pleasant-Hill/1805-Woodlawn-St-64080/home/78166407', 'https://www.redfin.com/MO/Belton/810-Shane-Ln-64012/home/188184084', 'https://www.redfin.com/MO/Raymore/1506-Willow-Cir-64083/home/103235947', 'https://www.redfin.com/MO/Greenwood/222-Chippewa-Ln-64034/home/103222372', 'https://www.redfin.com/MO/Raymore/1113-Branchwood-DR-64083/home/187522787', 'https://www.redfin.com/MO/Village-of-Loch-Lloyd/401-W-Loch-Lloyd-Pkwy-64012/home/78176501', 'https://www.redfin.com/MO/Peculiar/Lot-42-43-Maple-Cir-64078/home/170219264', 'https://www.redfin.com/MO/Drexel/420-Wisteria-Ln-64742/home/187964909', 'https://www.redfin.com/MO/Peculiar/Lot-11-Granite-DR-64078/home/187968956', 'https://www.redfin.com/MO/Harrisonville/30314-S-State-Route-DD-64701/home/78156606', 'https://www.redfin.com/MO/Lees-Summit/4514-SW-Fenwick-Rd-64083/home/103239956', 'https://www.redfin.com/MO/East-Lynne/706-Pearl-St-64743/home/103223540', 'https://www.redfin.com/MO/Raymore/815-Creekmoor-Dr-64083/home/144347857', 'https://www.redfin.com/MO/Peculiar/10805-Country-Ln-64078/home/103238967', 'https://www.redfin.com/MO/Pleasant-Hill/19606-S-State-Route-291-64080/home/78154125', 'https://www.redfin.com/MO/Raymore/Raymore/Valentia-Limited-Availability/home/188421971', 'https://www.redfin.com/MO/Belton/802-S-Scott-Ave-64012/home/78160831', 'https://www.redfin.com/MO/Raymore/Raymore/Somerset/home/188420058', 'https://www.redfin.com/MO/Raymore/202-Elissa-Dr-64083/home/78167782', 'https://www.redfin.com/MO/Pleasant-Hill/1607-Richmond-Dr-64080/home/103230528', 'https://www.redfin.com/MO/Belton/415-Park-Ave-64012/home/78163152', 'https://www.redfin.com/MO/Harrisonville/21101-E-215th-St-64701/home/78161638', 'https://www.redfin.com/MO/Raymore/1402-Zennor-Ln-64083/home/186054338', 'https://www.redfin.com/MO/Greenwood/119-Teton-Rdg-64034/home/78152004', 'https://www.redfin.com/MO/Pleasant-Hill/413-MO-7-64080/home/172969754', 'https://www.redfin.com/MO/Harrisonville/1908-Hawkview-Dr-64701/home/78157934', 'https://www.redfin.com/MO/Greenwood/420-Southshore-Dr-64034/home/103222409', 'https://www.redfin.com/MO/Peculiar/21702-Westover-Rd-64078/home/186182335', 'https://www.redfin.com/MO/Cleveland/25213-S-State-Route-D-64734/home/78173984', 'https://www.redfin.com/MO/Freeman/Lot-14-Captain-Merriman-Dr-64746/home/185986844', 'https://www.redfin.com/MO/Raymore/809-S-Park-Dr-64083/home/103234500', 'https://www.redfin.com/MO/Belton/16110-Harris-Ave-64012/home/78169045', 'https://www.redfin.com/MO/Lake-Winnebago/212-Arrowhead-Dr-64034/home/78153143', 'https://www.redfin.com/MO/Harrisonville/Delmar-St-64701/home/186211192', 'https://www.redfin.com/MO/Archie/502-S-Wilson-St-64725/home/78153621', 'https://www.redfin.com/MO/Garden-City/tbd-S-Wagoner-RD-64747/home/187984127', 'https://www.redfin.com/MO/Lake-Winnebago/102-Grand-Prairie-Cir-64034/home/170218178', 'https://www.redfin.com/MO/Pleasant-Hill/815-Pine-St-64080/home/103231683', 'https://www.redfin.com/MO/Raymore/829-Cedar-Ridge-Dr-64083/home/111967264', 'https://www.redfin.com/MO/Raymore/Raymore/Sydney/home/188406644', 'https://www.redfin.com/MO/Raymore/1406-Zennor-Ct-64083/home/185583301', 'https://www.redfin.com/MO/Pleasant-Hill/Lot-105-E-State-Route-P-64080/home/185584856', 'https://www.redfin.com/MO/Peculiar/316-N-Main-St-64078/home/78174417', 'https://www.redfin.com/MO/Peculiar/24910-S-Hope-Rd-64078/home/103239354', 'https://www.redfin.com/MO/Belton/102-Nanette-St-64012/home/103227607', 'https://www.redfin.com/MO/Garden-City/251-ST-64080/home/186491780', 'https://www.redfin.com/MO/Raymore/310-Alexander-Creek-Ct-64083/home/103235379', 'https://www.redfin.com/MO/Pleasant-Hill/902-Papaw-Ln-64080/home/103229809', 'https://www.redfin.com/MO/Peculiar/Lot-4-Granite-DR-64078/home/187969975', 'https://www.redfin.com/MO/Harrisonville/24000-E-223rd-St-64701/home/186518952', 'https://www.redfin.com/MO/Harrisonville/1205-S-Independence-St-64701/home/103225776', 'https://www.redfin.com/MO/Raymore/505-Winslow-Dr-64083/home/78167388', 'https://www.redfin.com/MO/Greenwood/817-Eve-Orchid-Dr-64034/home/173618380', 'https://www.redfin.com/MO/Belton/404-N-Cleveland-Ave-64012/home/78161952', 'https://www.redfin.com/MO/Pleasant-Hill/2305-Valley-Vw-W-64080/home/78164178', 'https://www.redfin.com/MO/Freeman/905-Captain-Merriman-64746/home/174236631', 'https://www.redfin.com/MO/Lees-Summit/1026-SW-Cheshire-Dr-64083/home/103240001', 'https://www.redfin.com/MO/Belton/713-Connor-St-64012/home/176173582', 'https://www.redfin.com/MO/Raymore/1213-Lakecrest-Cir-64083/home/103240822', 'https://www.redfin.com/MO/Peculiar/21701-Westover-Rd-64078/home/185863896', 'https://www.redfin.com/MO/Raymore/2204-Crestview-Ct-64083/home/186043193', 'https://www.redfin.com/MO/Raymore/1011-Wellington-Ct-64083/home/103234192', 'https://www.redfin.com/MO/Belton/Markey-Rd-64012/home/78160277', 'https://www.redfin.com/MO/Harrisonville/22601-S-Excelsior-Rd-64701/home/103227936', 'https://www.redfin.com/MO/Belton/17244-Montgall-Dr-64012/home/78161073', 'https://www.redfin.com/MO/Lees-Summit/4705-SW-Leafwing-Cir-64082/home/103222068', 'https://www.redfin.com/MO/Lees-Summit/4629-SW-Robinson-Dr-64083/home/103240011', 'https://www.redfin.com/MO/Raymore/Raymore/Charlotte/home/188407331', 'https://www.redfin.com/MO/Harrisonville/3111-Krissy-Bnd-64701/home/103228991', 'https://www.redfin.com/MO/Camp-Branch-Township/100-S-State-Route-T-64747/home/184891949', 'https://www.redfin.com/MO/Garden-City/E-299th-St-64747/home/144346869', 'https://www.redfin.com/MO/Raymore/313-Alexander-Creek-Ct-64083/home/103235363', 'https://www.redfin.com/MO/Raymore/2203-Crestview-Pl-64083/home/185588924', 'https://www.redfin.com/MO/Peculiar/7509-E-State-Route-YY-64078/home/103239046', 'https://www.redfin.com/MO/Raymore/Raymore/Cypress/home/188426379', 'https://www.redfin.com/MO/Raymore/1233-Edwards-Cir-64083/home/78165751', 'https://www.redfin.com/MO/Raymore/1400-Newport-Ln-64083/home/78167258', 'https://www.redfin.com/MO/Lees-Summit/18307-E-155th-St-64082/home/78151997', 'https://www.redfin.com/MO/West-Line/S-Prospect-Ave-64734/home/173252160', 'https://www.redfin.com/MO/Peculiar/22601-Bailey-St-64078/home/103238891', 'https://www.redfin.com/MO/Raymore/2200-Crestview-Pl-64083/home/186043190', 'https://www.redfin.com/MO/Belton/16108-Harris-Ave-64012/home/188108685', 'https://www.redfin.com/MO/Raymore/812-Creekmoor-Pond-Ln-64083/home/103231143', 'https://www.redfin.com/MO/West-Line/301-Beard-St-64734/home/186468492', 'https://www.redfin.com/MO/Harrisonville/E-Twin-Pines-Dr-64701/home/103240316', 'https://www.redfin.com/MO/Peculiar/Lot-6-Granite-DR-64078/home/187969831', 'https://www.redfin.com/MO/Harrisonville/3212-Steel-Wheel-Dr-64701/home/103229021', 'https://www.redfin.com/MO/Pleasant-Hill/Lot-106-E-State-Route-P-64080/home/185584661', 'https://www.redfin.com/MO/Peculiar/Main-St-64078/home/78173000', 'https://www.redfin.com/MO/Creighton/S-Chandler-Rd-64739/home/78170770', 'https://www.redfin.com/MO/Greenwood/16703-S-Groll-Rd-64034/home/78152013', 'https://www.redfin.com/MO/Belton/1104-N-Scott-Ave-64012/home/78162040', 'https://www.redfin.com/MO/Belton/7807-Bel-Ray-Dr-64012/home/78170275', 'https://www.redfin.com/MO/Cleveland/Nelson-Rd-64734/home/78173876', 'https://www.redfin.com/MO/Raymore/1716-Longhorn-Ln-64083/home/78177335', 'https://www.redfin.com/MO/Harrisonville/2005-N-Lexington-St-64701/home/103229744', 'https://www.redfin.com/MO/Lees-Summit/1417-SW-Fairfax-Rd-64083/home/103240084', 'https://www.redfin.com/MO/Raymore/908-Kodiak-St-64083/home/103230865', 'https://www.redfin.com/MO/Garden-City/400-Main-St-64747/home/103225049', 'https://www.redfin.com/MO/Raymore/1012-Churchill-Cir-64083/home/170220582', 'https://www.redfin.com/MO/Raymore/Raymore/Sydney/home/188411066', 'https://www.redfin.com/MO/Harrisonville/24101-E-235th-St-64701/home/78163452', 'https://www.redfin.com/MO/Belton/37-Honeysuckle-Ln-64012/home/78175585', 'https://www.redfin.com/MO/Harrisonville/505-Sycamore-St-64701/home/78156939', 'https://www.redfin.com/MO/Raymore/325-N-Park-Dr-64083/home/78168381', 'https://www.redfin.com/MO/Raymore/817-Bridgeshire-Dr-64083/home/170220490', 'https://www.redfin.com/MO/Belton/742-Connor-St-64012/home/176173593', 'https://www.redfin.com/MO/Belton/401-Airway-Ct-64012/home/78161888', 'https://www.redfin.com/MO/Harrisonville/103-S-Commercial-St-64701/home/78158669', 'https://www.redfin.com/MO/Garden-City/104-Palm-Ln-64747/home/188610724', 'https://www.redfin.com/MO/Belton/814-Belton-Ave-64012/home/78160276', 'https://www.redfin.com/MO/Pleasant-Hill/1706-Mulberry-St-64080/home/176743256', 'https://www.redfin.com/MO/Drexel/31020-Southfork-Dr-64742/home/78155086', 'https://www.redfin.com/MO/Raymore/226-N-Washington-St-64083/home/78176804', 'https://www.redfin.com/MO/Peculiar/24200-S-Tanaine-Ln-64078/home/78177212', 'https://www.redfin.com/MO/Belton/413-Indian-Trl-64012/home/78160692', 'https://www.redfin.com/MO/Raymore/1124-Hillswick-Ln-64083/home/170220431', 'https://www.redfin.com/MO/Peculiar/21710-Westover-Rd-64078/home/188170477', 'https://www.redfin.com/MO/Peculiar/10809-E-240th-St-64078/home/78172664', 'https://www.redfin.com/MO/Garden-City/32701-E-283rd-St-64747/home/78152984', 'https://www.redfin.com/MO/Pleasant-Hill/2129-Sunset-Cir-64080/home/103231526', 'https://www.redfin.com/MO/Belton/16912-Summit-Dr-64012/home/85967931', 'https://www.redfin.com/MO/Raymore/412-N-Franklin-St-64083/home/103235620', 'https://www.redfin.com/MO/Harrisonville/1912-Hawkview-Dr-64701/home/78157933', 'https://www.redfin.com/MO/Belton/740-Connor-St-64012/home/176173594', 'https://www.redfin.com/MO/Raymore/304-S-Silver-Top-Ln-64083/home/78169321', 'https://www.redfin.com/MO/Raymore/709-S-Franklin-St-64083/home/103234466', 'https://www.redfin.com/MO/Pleasant-Hill/1220-E-188th-Ter-64080/home/78177804', 'https://www.redfin.com/MO/Peculiar/School-Rd-64078/home/78172930', 'https://www.redfin.com/MO/Belton/16111-Slater-Ave-64012/home/103236975', 'https://www.redfin.com/MO/Belton/408-E-165th-St-64012/home/78159304', 'https://www.redfin.com/MO/Belton/13-Springdale-Dr-64012/home/78177143', 'https://www.redfin.com/MO/Garden-City/809-S-Ash-St-64747/home/78153284', 'https://www.redfin.com/MO/Archie/305-S-Wilson-St-64725/home/78153513', 'https://www.redfin.com/MO/Peculiar/11703-E-239th-St-64078/home/78172273', 'https://www.redfin.com/MO/Pleasant-Hill/TBD-Street-64080/home/188695845', 'https://www.redfin.com/MO/Belton/42-Honeysuckle-Ln-64012/home/78175581', 'https://www.redfin.com/MO/Garden-City/TBD-315-RD-64747/home/188847223', 'https://www.redfin.com/MO/Creighton/605-E-2nd-St-64739/home/78171750', 'https://www.redfin.com/MO/Garden-City/26221-S-State-Route-M-64747/home/78159025', 'https://www.redfin.com/MO/VLG-LOCH-LOYD/Lot-2-Unknown-N-A-64012/home/185190162', 'https://www.redfin.com/MO/Raymore/Raymore/Newhaven/home/188417152', 'https://www.redfin.com/MO/Belton/4-Honeysuckle-Ln-64012/home/78175124', 'https://www.redfin.com/MO/Raymore/331-S-Adams-Ct-64083/home/103234471', 'https://www.redfin.com/MO/Harrisonville/1208-Lady-s-LN-64701/home/186625858', 'https://www.redfin.com/MO/Harrisonville/2403-N-State-Route-291-64701/home/78161871', 'https://www.redfin.com/MO/Raymore/201-E-Walnut-St-64083/home/103236511', 'https://www.redfin.com/MO/Harrisonville/2203-Richmond-Dr-64701/home/186620708', 'https://www.redfin.com/MO/Belton/7909-E-162nd-Ter-64012/home/78170556', 'https://www.redfin.com/MO/Harrisonville/601-S-Independence-St-64701/home/103225484', 'https://www.redfin.com/MO/Raymore/819-Bridgeshire-Dr-64083/home/170220489', 'https://www.redfin.com/MO/Belton/120-Hawthorne-Dr-64012/home/103228184', 'https://www.redfin.com/MO/Garden-City/34000-S-Evers-Rd-64747/home/78151800', 'https://www.redfin.com/MO/Lees-Summit/1030-SW-Cheshire-Dr-64083/home/103240002', 'https://www.redfin.com/MO/Peculiar/989-Sicklebar-Dr-64078/home/103239172', 'https://www.redfin.com/MO/Raymore/Raymore/Woodbridge/home/188421273', 'https://www.redfin.com/MO/Belton/904-McIntosh-Cir-64012/home/103228545', 'https://www.redfin.com/MO/Belton/717-Connor-St-64012/home/176173584', 'https://www.redfin.com/MO/Lees-Summit/434-SW-Albatross-Ct-64082/home/78152404', 'https://www.redfin.com/MO/East-Lynne/603-Colony-Ave-64743/home/78154531', 'https://www.redfin.com/MO/Belton/813-Shane-Ln-64012/home/188584556', 'https://www.redfin.com/MO/Belton/16405-Hight-Ave-64012/home/85967993', 'https://www.redfin.com/MO/Cleveland/6501-E-303rd-St-64734/home/103223963', 'https://www.redfin.com/MO/Raymore/Raymore/Woodbridge/home/188411334', 'https://www.redfin.com/MO/Greenwood/115-Teton-Rdg-64034/home/78152005', 'https://www.redfin.com/MO/Raymore/839-Creekmoor-Pond-Ln-64083/home/113810456', 'https://www.redfin.com/MO/Drexel/0000C-S-State-Route-D-Unknown/home/185588943', 'https://www.redfin.com/MO/Harrisonville/1905-Eagle-Dr-64701/home/78157951', 'https://www.redfin.com/MO/Belton/1001-N-Scott-Ave-64012/home/105501710', 'https://www.redfin.com/MO/Pleasant-Hill/117-N-Boardman-St-64080/home/78164695', 'https://www.redfin.com/MO/Peculiar/22624-Farm-Rd-64078/home/103238992', 'https://www.redfin.com/MO/Deer-Creek-Township/W-Outer-Rd-64725/home/103222891', 'https://www.redfin.com/MO/Raymore/403-Woodview-Dr-64083/home/185003674', 'https://www.redfin.com/MO/Peculiar/137-Spencer-St-64078/home/78174976', 'https://www.redfin.com/MO/Raymore/220-Pointe-Ln-64083/home/103233482', 'https://www.redfin.com/MO/Raymore/215-N-Woodson-Dr-64083/home/78168138', 'https://www.redfin.com/MO/Harrisonville/501-Sycamore-St-64701/home/78156943', 'https://www.redfin.com/MO/Pleasant-Hill/1205-Morgan-Dr-64080/home/144369805', 'https://www.redfin.com/MO/Raymore/1210-Mission-Dr-64083/home/103233721', 'https://www.redfin.com/MO/Pleasant-Hill/430-N-Independence-St-64080/home/78164379', 'https://www.redfin.com/MO/Raymore/336-W-Cottonwood-Dr-64083/home/103236588', 'https://www.redfin.com/MO/Freeman/604-E-Main-St-64746/home/78157555', 'https://www.redfin.com/MO/Harrisonville/Tract-2-S-Belle-Plain-Rd-64701/home/185523654', 'https://www.redfin.com/MO/Lees-Summit/4813-SW-Davis-Dr-64083/home/78177050', 'https://www.redfin.com/MO/Belton/9109-E-201st-St-64012/home/78165364', 'https://www.redfin.com/MO/Raymore/906-Old-Mill-Rd-64083/home/103240694', 'https://www.redfin.com/MO/Raymore/1718-Rolling-Rock-Rd-64083/home/78176914', 'https://www.redfin.com/MO/Creighton/606-N-1st-St-64739/home/78171235', 'https://www.redfin.com/MO/Raymore/13-Municipal-Cir-64083/home/178452578', 'https://www.redfin.com/MO/Raymore/12-Municipal-Cir-64083/home/103216680', 'https://www.redfin.com/MO/Garden-City/36604-E-State-Route-B-64747/home/78152938', 'https://www.redfin.com/MO/VLG-LOCH-LOYD/Holmes-Rd-64012/home/78159193', 'https://www.redfin.com/MO/Harrisonville/27425-S-Hillside-Rd-64701/home/180054494', 'https://www.redfin.com/MO/Harrisonville/1709-Stacy-Rd-64701/home/78157967', 'https://www.redfin.com/MO/Pleasant-Hill/1804-Foxtail-Dr-64080/home/176173487', 'https://www.redfin.com/MO/Greenwood/111-Teton-Rdg-64034/home/78152494', 'https://www.redfin.com/MO/Harrisonville/25818-S-State-Rte-K-64701/home/103222369', 'https://www.redfin.com/MO/Raymore/211-N-Highland-Dr-64083/home/78169921', 'https://www.redfin.com/MO/Harrisonville/603-E-South-St-64701/home/103224494', 'https://www.redfin.com/MO/Raymore/906-Kodiak-St-64083/home/103230885', 'https://www.redfin.com/MO/Garden-City/26205-S-Little-Rd-64747/home/78159075', 'https://www.redfin.com/MO/Harrisonville/Tract-1-E-299th-ST-64701/home/188241349', 'https://www.redfin.com/MO/Lees-Summit/1312-SW-Cornwall-Rd-64083/home/103239904', 'https://www.redfin.com/MO/Harrisonville/1602-Marvin-CT-64701/home/184411832', 'https://www.redfin.com/MO/Raymore/Raymore/Canterbury/home/188416883', 'https://www.redfin.com/MO/Peculiar/23002-S-Ridgeview-Dr-64078/home/188830415', 'https://www.redfin.com/MO/Raymore/314-Cold-Water-Ln-64083/home/103235495', 'https://www.redfin.com/MO/Raymore/301-E-Olive-St-64083/home/103233526', 'https://www.redfin.com/MO/Belton/7311-E-158th-St-64012/home/103235241', 'https://www.redfin.com/MO/Harrisonville/1709-Prairie-Ln-64701/home/78163645', 'https://www.redfin.com/MO/Harrisonville/204-S-Halsey-Ave-64701/home/103225763', 'https://www.redfin.com/MO/Raymore/Raymore/Monterey/home/188467906', 'https://www.redfin.com/MO/Raymore/1602-Pine-Creek-Ct-64083/home/85967930', 'https://www.redfin.com/MO/Harrisonville/1206-Lady-s-LN-64701/home/186627837', 'https://www.redfin.com/MO/Garden-City/O-Bannon-Rd-64747/home/105491611', 'https://www.redfin.com/MO/Peculiar/N-Main-St-64078/home/78174455', 'https://www.redfin.com/MO/Drexel/304-E-Bates-St-64742/home/78280164'}, 'Johnson-County': {'https://www.redfin.com/MO/Warrensburg/35-SE-250th-Rd-64093/home/77028301', 'https://www.redfin.com/MO/Warrensburg/127-Road-64093/home/185939024', 'https://www.redfin.com/MO/Warrensburg/84-SE-361st-Rd-64093/home/188851331', 'https://www.redfin.com/MO/Knob-Noster/NE-801st-Rd-65336/home/108493984', 'https://www.redfin.com/MO/Warrensburg/103-E-Young-Ave-64093/home/172558562', 'https://www.redfin.com/MO/Warrensburg/109-Deerfield-Dr-64093/home/77031072', 'https://www.redfin.com/MO/Warrensburg/711-Shotwell-St-64093/home/77031639', 'https://www.redfin.com/MO/Warrensburg/118-Deerfield-Dr-64093/home/77031076', 'https://www.redfin.com/MO/Warrensburg/1901-Redwood-Rd-64093/home/77029609', 'https://www.redfin.com/MO/Warrensburg/615-Broad-St-64093/home/77027865', 'https://www.redfin.com/MO/Leeton/425-SE-1000th-Rd-64761/home/77028477', 'https://www.redfin.com/MO/Warrensburg/424-W-Pine-St-64093/home/178674763', 'https://www.redfin.com/MO/Kingsville/1730-NW-655th-Rd-64061/home/77025016', 'https://www.redfin.com/MO/Warrensburg/36-SW-160th-RD-64093/home/185769693', 'https://www.redfin.com/MO/Warrensburg/1718-Sunset-Dr-64093/home/77029511', 'https://www.redfin.com/MO/Kingsville/182-NW-1871st-Rd-64061/home/77035076', 'https://www.redfin.com/MO/Warrensburg/412-NW-200th-Rd-64093/home/77030424', 'https://www.redfin.com/MO/Centerview/87-NW-271st-Rd-64019/home/77030775', 'https://www.redfin.com/MO/Warrensburg/1300-Manitou-Ct-64093/home/77029053', 'https://www.redfin.com/MO/Knob-Noster/LOT-6-SE-265-RD-65336/home/172558865', 'https://www.redfin.com/MO/Warrensburg/S-Maguire-St-64093/home/114017563', 'https://www.redfin.com/MO/Warrensburg/TBD-E-Young-Ave-64093/home/188516808', 'https://www.redfin.com/MO/Warrensburg/1007-Hawthorne-Blvd-64093/home/174468938', 'https://www.redfin.com/MO/Warrensburg/146-SE-225th-Rd-64093/home/144218717', 'https://www.redfin.com/MO/Holden/6-W-9th-St-64040/home/185536402', 'https://www.redfin.com/MO/Warrensburg/134-Road-64093/home/185938182', 'https://www.redfin.com/MO/Warrensburg/315-Jackson-St-64093/home/77031599', 'https://www.redfin.com/MO/Warrensburg/712-Burlington-Ln-64093/home/77033857', 'https://www.redfin.com/MO/Elk-Fork-Township/Campbell-Rd-65332/home/76799139', 'https://www.redfin.com/MO/Warrensburg/Lot-70-Quail-Trl-64093/home/186102900', 'https://www.redfin.com/MO/Warrensburg/1515-Park-Ave-64093/home/77020232', 'https://www.redfin.com/MO/Warrensburg/94-SE-370th-Rd-64093/home/77031916', 'https://www.redfin.com/MO/Warrensburg/Lot29-Hidden-Hills-Estates-N-A-64093/home/175134503', 'https://www.redfin.com/MO/Unknown/TBD-NE-500th-Rd-64093/home/178197828', 'https://www.redfin.com/MO/Holden/Lot-23-Parkwood-Estates-N-A-64040/home/186044370', 'https://www.redfin.com/MO/Leeton/Unknown-Unknown/home/180543986', 'https://www.redfin.com/MO/Knob-Noster/907-Charles-St-65336/home/109271970', 'https://www.redfin.com/MO/Holden/704-S-Market-St-64040/home/77035242', 'https://www.redfin.com/MO/Warrensburg/1009-Hawthorne-Blvd-64093/home/174469323', 'https://www.redfin.com/MO/Warrensburg/1303-Larson-Ave-64093/home/187411382', 'https://www.redfin.com/MO/Rose-Hill-Township/TBD-SW-700th-Rd-64040/home/180126477', 'https://www.redfin.com/MO/Warrensburg/131-Road-64093/home/185939138', 'https://www.redfin.com/MO/Warrensburg/1305-Kimberly-Dr-64093/home/77020063', 'https://www.redfin.com/MO/Warrensburg/Lot28-Hidden-Hills-Estates-N-A-64093/home/175134475', 'https://www.redfin.com/MO/Madison-Township/TBD-SW-295th-Rd-64040/home/174970150', 'https://www.redfin.com/MO/Warrensburg/7-SW-300th-Rd-64093/home/185424437', 'https://www.redfin.com/MO/Knob-Noster/204-W-McPherson-St-65336/home/77026036', 'https://www.redfin.com/MO/Knob-Noster/1205-SE-125-65336/home/77024824', 'https://www.redfin.com/MO/Warrensburg/900-E-Market-St-64093/home/77028921', 'https://www.redfin.com/MO/Knob-Noster/931-SE-Y-Hwy-65336/home/77037602', 'https://www.redfin.com/MO/Warrensburg/1209-Holland-Sq-64093/home/77029304', 'https://www.redfin.com/MO/Warrensburg/703-Shamrock-Ln-64093/home/77019892', 'https://www.redfin.com/MO/Centerview/548-NW-921st-Rd-64019/home/77018988', 'https://www.redfin.com/MO/Warrensburg/1204-Dustins-Way-64093/home/77026738', 'https://www.redfin.com/MO/Kingsville/1551-NW-450th-Rd-64061/home/77019076', 'https://www.redfin.com/MO/Warrensburg/87-SE-461st-Rd-64093/home/185736106', 'https://www.redfin.com/MO/Warrensburg/161-SW-11th-Rd-64093/home/181327420', 'https://www.redfin.com/MO/Warrensburg/100-Fairview-Ave-64093/home/77033063', 'https://www.redfin.com/MO/Holden/300-W-2nd-St-64040/home/77028055', 'https://www.redfin.com/MO/Windsor/1289-SE-1300-65360/home/77028585', 'https://www.redfin.com/MO/Warrensburg/67-NE-County-Road-V-64093/home/77023610', 'https://www.redfin.com/MO/Warrensburg/37-NW-150th-Rd-64093/home/185770040', 'https://www.redfin.com/MO/Leeton/TBD-SW-1250th-Rd-64761/home/187535056', 'https://www.redfin.com/MO/Kingsville/104-NW-W-Hwy-64061/home/77034820', 'https://www.redfin.com/MO/Warrensburg/91-SE-451st-Rd-64093/home/188119410', 'https://www.redfin.com/MO/Kingsville/209-NW-1771st-Rd-64061/home/77035128', 'https://www.redfin.com/MO/Warrensburg/1204-Jennies-Dr-64093/home/77031352', 'https://www.redfin.com/MO/Warrensburg/142-Road-64093/home/185937820', 'https://www.redfin.com/MO/Warrensburg/82-SE-361st-Rd-64093/home/188851291', 'https://www.redfin.com/MO/Holden/142-SW-1451st-Rd-64040/home/175906607', 'https://www.redfin.com/MO/Warrensburg/407-McGoodwin-Ave-64093/home/77033471', 'https://www.redfin.com/MO/Holden/463-SW-1351st-Rd-64040/home/77035790', 'https://www.redfin.com/MO/Holden/Lot-22-Parkwood-Estates-N-A-64040/home/186044319', 'https://www.redfin.com/MO/Warrensburg/TBD-s-NE-500th-Rd-64093/home/186198596', 'https://www.redfin.com/MO/Warrensburg/144-Road-64093/unit-B/home/186231796', 'https://www.redfin.com/MO/Warrensburg/527-SE-650th-Rd-64093/home/77037021', 'https://www.redfin.com/MO/Warrensburg/1502-Lexington-Ct-64093/home/77020528', 'https://www.redfin.com/MO/Holden/687-NW-131st-Hwy-64040/home/77022630', 'https://www.redfin.com/MO/Warrensburg/Lot8-Hidden-Hills-Estates-N-A-64093/home/175133708', 'https://www.redfin.com/MO/Warrensburg/209-SE-350th-Rd-64093/home/77036875', 'https://www.redfin.com/MO/Warrensburg/1211-Foxridge-Dr-64093/home/77020333', 'https://www.redfin.com/MO/Warrensburg/45-NE-County-Rd-E-64093/home/77025883', 'https://www.redfin.com/MO/Kingsville/1889-NW-550th-Rd-64061/home/77025525', 'https://www.redfin.com/MO/Warrensburg/23-SE-250th-Rd-64093/home/77028374', 'https://www.redfin.com/MO/Warrensburg/128-Road-64093/home/185938400', 'https://www.redfin.com/MO/Holden/200-N-Pine-St-64040/home/77028029', 'https://www.redfin.com/MO/Warrensburg/453-Willow-Ct-64093/home/186375788', 'https://www.redfin.com/MO/Warrensburg/1213-S-Maguire-St-64093/home/77021192', 'https://www.redfin.com/MO/Warrensburg/606-Fountain-Hls-64093/home/113114559', 'https://www.redfin.com/MO/Warrensburg/Lot22-Hidden-Hills-Estates-N-A-64093/home/175134250', 'https://www.redfin.com/MO/Warrensburg/Lot1-Hidden-Hills-Estates-N-A-64093/home/175133117', 'https://www.redfin.com/MO/Knob-Noster/686-SE-851-65336/home/77037523', 'https://www.redfin.com/MO/Warrensburg/958-NW-State-Route-13-64093/home/77025753', 'https://www.redfin.com/MO/Warrensburg/70-SE-451st-Rd-64093/home/180688464', 'https://www.redfin.com/MO/Holden/257-SW-1451st-Rd-64040/home/142612118', 'https://www.redfin.com/MO/Warrensburg/Highway-64093/home/144647502', 'https://www.redfin.com/MO/Warrensburg/241-SE-Missouri-13-Business-64093/home/183013176', 'https://www.redfin.com/MO/Warrensburg/103-Larkin-St-64093/home/77032176', 'https://www.redfin.com/MO/Warrensburg/65-NW-150th-Rd-64093/home/185770641', 'https://www.redfin.com/MO/Warrensburg/717-Brookside-Dr-64093/home/77019978', 'https://www.redfin.com/MO/Warrensburg/105-Hidden-Pines-Ln-64093/home/77033688', 'https://www.redfin.com/MO/Warrensburg/Lot6-Hidden-Hills-Estates-N-A-64093/home/175133543', 'https://www.redfin.com/MO/Warrensburg/300-Grover-St-64093/home/77027805', 'https://www.redfin.com/MO/Warrensburg/1301-Larson-Ave-64093/home/186759314', 'https://www.redfin.com/MO/Warrensburg/144-Road-64093/home/185937830', 'https://www.redfin.com/MO/Warrensburg/38-SW-160th-RD-64093/home/185770386', 'https://www.redfin.com/MO/Windsor/TBD-Northeast-Highway-Ww-65360/home/188696235', 'https://www.redfin.com/MO/Warrensburg/1001-Foxridge-Dr-64093/home/77020352', 'https://www.redfin.com/MO/Montserrat-Township/465-SE-90th-Rd-64093/home/188651865', 'https://www.redfin.com/MO/Holden/TBD-NW-1061st-Rd-64040/home/187404962', 'https://www.redfin.com/MO/Warrensburg/1015-Bedford-Dr-64093/home/77020103', 'https://www.redfin.com/MO/Warrensburg/1214-Holland-Sq-64093/home/77029320', 'https://www.redfin.com/MO/Holden/702-S-Clay-St-64040/home/77035267', 'https://www.redfin.com/MO/Warrensburg/1202-Nottingham-Dr-64093/home/77026787', 'https://www.redfin.com/MO/Warrensburg/216-Sellman-St-64093/home/188586956', 'https://www.redfin.com/MO/Warrensburg/72-SE-451st-Rd-64093/home/180688463', 'https://www.redfin.com/MO/Warrensburg/710-Brookside-Dr-64093/home/77019959', 'https://www.redfin.com/MO/Centerview/Unknown-Unknown/home/185152054', 'https://www.redfin.com/MO/Warrensburg/510-N-Water-St-64093/home/77031247', 'https://www.redfin.com/MO/Warrensburg/225-W-Young-St-64093/home/142312321', 'https://www.redfin.com/MO/Warrensburg/1104-Pine-Ct-64093/unit-D/home/77030093', 'https://www.redfin.com/MO/Warrensburg/916-Anderson-St-64093/home/77030498', 'https://www.redfin.com/MO/Warrensburg/1621-Essex-Dr-64093/home/77020632', 'https://www.redfin.com/MO/Warrensburg/Lot20-Hidden-Hills-Estates-N-A-64093/home/175134240', 'https://www.redfin.com/MO/Holden/580-SW-831st-Rd-64040/home/77021451', 'https://www.redfin.com/MO/Warrensburg/1203-S-Holden-St-64093/home/77033064', 'https://www.redfin.com/MO/Warrensburg/42-NW-515th-Rd-64093/home/77023689', 'https://www.redfin.com/MO/Warrensburg/Lot32-Hidden-Hills-Estates-N-A-64093/home/175134539', 'https://www.redfin.com/MO/Warrensburg/57-SW-160th-RD-64093/home/185770538', 'https://www.redfin.com/MO/Holden/Lot-7-W-9th-St-64040/home/185536473', 'https://www.redfin.com/MO/Warrensburg/132-Road-64093/home/185938262', 'https://www.redfin.com/MO/Warrensburg/132-SE-125th-Rd-64093/home/77020588', 'https://www.redfin.com/MO/Knob-Noster/200-Center-St-65336/home/77024386', 'https://www.redfin.com/MO/Knob-Noster/Highway-Unknown/home/173252467', 'https://www.redfin.com/MO/Warrensburg/Lot3-Hidden-Hills-Estates-N-A-64093/home/175133201', 'https://www.redfin.com/MO/Centerview/201-S-Main-St-64019/home/143919299', 'https://www.redfin.com/MO/Washington-Township/Lot-8-Road-65336/home/187074280', 'https://www.redfin.com/MO/Warrensburg/418-Jackson-St-64093/home/77031580', 'https://www.redfin.com/MO/Warrensburg/817-E-Gay-St-64093/home/77029148', 'https://www.redfin.com/MO/Odessa/TBD-Unknown/home/185867257', 'https://www.redfin.com/MO/Warrensburg/1239-Rich-Blvd-64093/home/187844541', 'https://www.redfin.com/MO/Warrensburg/144-Road-64093/unit-A/home/186231755', 'https://www.redfin.com/MO/Concordia/1295-NE-1050-Rd-64020/home/187349884', 'https://www.redfin.com/MO/Holden/604-NW-1501st-Rd-64040/home/77022672', 'https://www.redfin.com/MO/Warrensburg/0-SE-461st-Rd-64093/home/175563786', 'https://www.redfin.com/MO/Knob-Noster/600-Kendrick-Ln-65336/home/188103166', 'https://www.redfin.com/MO/Warrensburg/1011-Hawthorne-Blvd-64093/home/174469409', 'https://www.redfin.com/MO/Warrensburg/405-Swallow-St-64093/home/188584379', 'https://www.redfin.com/MO/Warrensburg/1414-S-Ridgeview-Dr-64093/home/174688075', 'https://www.redfin.com/MO/Holden/80-NW-1391st-Rd-64040/home/77034563', 'https://www.redfin.com/MO/Odessa/TBD-NW-820th-RD-64076/home/188203670', 'https://www.redfin.com/MO/Warrensburg/1015-Hawthorne-Blvd-64093/home/174469713', 'https://www.redfin.com/MO/Warrensburg/1007-Quincy-Dr-64093/home/77020377', 'https://www.redfin.com/MO/Kingsville/1860-NW-565th-Rd-64061/home/77025412', 'https://www.redfin.com/MO/Holden/Lot14-Golden-Eagle-Trl-64040/home/145553537', 'https://www.redfin.com/MO/Holden/306-W-5th-St-64040/home/77032036', 'https://www.redfin.com/MO/Warrensburg/951-E-Market-St-64093/home/77029585', 'https://www.redfin.com/MO/Warrensburg/1313-Fawn-Ln-64093/home/77027391', 'https://www.redfin.com/MO/Warrensburg/1013-Hawthorne-Blvd-64093/home/174469649', 'https://www.redfin.com/MO/Warrensburg/Lot18-Hidden-Hills-Estates-N-A-64093/home/175134221', 'https://www.redfin.com/MO/Warrensburg/14-SE-230th-Rd-64093/home/172601255', 'https://www.redfin.com/MO/Concordia/756-NE-1125th-Rd-64020/home/77025137', 'https://www.redfin.com/MO/Warrensburg/29-S-Ridgeview-Dr-64093/home/188078834', 'https://www.redfin.com/MO/Kingsville/1673-SW-300th-RD-64061/home/188755383', 'https://www.redfin.com/MO/Centerview/1-Missouri-58-64019/home/185153476', 'https://www.redfin.com/MO/Warrensburg/Lot34-Hidden-Hills-Estates-N-A-64093/home/175134575', 'https://www.redfin.com/MO/Warrensburg/52-SW-160th-RD-64093/home/185770305', 'https://www.redfin.com/MO/Holden/Lot18-Eagle-Crest-Dr-64040/home/146016074', 'https://www.redfin.com/MO/Warrensburg/Lot19-Hidden-Hills-Estates-N-A-64093/home/175134222', 'https://www.redfin.com/MO/Holden/562-NW-1381st-Rd-64040/home/77022436', 'https://www.redfin.com/MO/Warrensburg/682-NW-11th-Rd-64093/home/77023041', 'https://www.redfin.com/MO/Warrensburg/1302-Estates-Dr-64093/home/172600638', 'https://www.redfin.com/MO/Warrensburg/Lot14-Hidden-Hills-Estates-N-A-64093/home/175134105', 'https://www.redfin.com/MO/Knob-Noster/406-S-Monroe-Ave-65336/home/77025916', 'https://www.redfin.com/MO/Knob-Noster/604-Circle-Dr-65336/home/77024495', 'https://www.redfin.com/MO/Warrensburg/1244-Hillmann-Ln-64093/home/184615830', 'https://www.redfin.com/MO/Warrensburg/Lot37-Hidden-Hills-Estates-N-A-64093/home/175134604', 'https://www.redfin.com/MO/Holden/1012-Golden-Eagle-Cir-64040/home/172601224', 'https://www.redfin.com/MO/Kingsville/1908-NW-600th-Rd-64061/home/77022066', 'https://www.redfin.com/MO/Warrensburg/1103-Montserrat-Park-Rd-64093/home/77026598', 'https://www.redfin.com/MO/Warrensburg/506-N-Washington-Ave-64093/home/77020826', 'https://www.redfin.com/MO/Warrensburg/SE-State-Route-13-64093/home/187223224', 'https://www.redfin.com/MO/Leeton/496-SE-Highway-PP-64761/home/77028652', 'https://www.redfin.com/MO/Knob-Noster/138-SE-23-Hwy-65336/home/172600616', 'https://www.redfin.com/MO/Warrensburg/1409-S-Ridgeview-Dr-64093/home/147555013', 'https://www.redfin.com/MO/Warrensburg/125-Road-64093/home/185938785', 'https://www.redfin.com/MO/Warrensburg/142-Road-64093/unit-B/home/186231888', 'https://www.redfin.com/MO/Warrensburg/50-West-North-St-64093/home/188822824', 'https://www.redfin.com/MO/Warrensburg/1009-Walnut-Ln-64093/home/77019824', 'https://www.redfin.com/MO/Holden/808-SW-County-Road-O-64040/home/77037790', 'https://www.redfin.com/MO/Leeton/208-S-Ward-St-64761/home/187981731', 'https://www.redfin.com/MO/Holden/Lot-21-Parkwood-Estates-N-A-64040/home/186044200', 'https://www.redfin.com/MO/Warrensburg/Lot10-Hidden-Hills-Estates-N-A-64093/home/175134050', 'https://www.redfin.com/MO/Holden/272-NW-1201st-Rd-64040/home/187537065', 'https://www.redfin.com/MO/Kingsville/1675-SW-300th-RD-64061/home/187895628', 'https://www.redfin.com/MO/Knob-Noster/806-Charles-St-65336/home/186036212', 'https://www.redfin.com/MO/Warrensburg/230-NE-61st-Rd-64093/home/77026968', 'https://www.redfin.com/MO/Warrensburg/3-SW-300th-Rd-64093/home/187246212', 'https://www.redfin.com/MO/Warrensburg/Manitou-Way-Ct-64093/home/186150716', 'https://www.redfin.com/MO/Warrensburg/441-NW-21st-Rd-64093/home/77023556', 'https://www.redfin.com/MO/Holden/506-S-Clay-St-64040/home/77032061', 'https://www.redfin.com/MO/Kingsville-Township/SW-375th-Rd-64061/home/144368084', 'https://www.redfin.com/MO/Warrensburg/1403-S-Ridgeview-Dr-64093/home/170509236', 'https://www.redfin.com/MO/Warrensburg/142-Road-64093/unit-A/home/186231857', 'https://www.redfin.com/MO/Holden/352-SW-1351st-Rd-64040/home/188167622', 'https://www.redfin.com/MO/Warrensburg/1002-Deer-Run-64093/home/172601028', 'https://www.redfin.com/MO/Warrensburg/32-Timberline-Dr-64093/home/77033895', 'https://www.redfin.com/MO/Knob-Noster/602-E-McKissock-St-65336/home/77024493', 'https://www.redfin.com/MO/Warrensburg/30-Montserrat-Park-Rd-64093/home/188078779', 'https://www.redfin.com/MO/Warrensburg/1308-Sandra-Ave-64093/unit-A/home/77029226', 'https://www.redfin.com/MO/Warrensburg/1212-Nottingham-Dr-64093/home/77026784', 'https://www.redfin.com/MO/Warrensburg/212-NW-21st-Rd-64093/home/77027033', 'https://www.redfin.com/MO/Knob-Noster/S-Washington-Ave-65336/home/188135496', 'https://www.redfin.com/MO/Warrensburg/Lot31-Hidden-Hills-Estates-N-A-64093/home/175134522', 'https://www.redfin.com/MO/Leeton/795-SE-291st-Rd-64761/home/77037149', 'https://www.redfin.com/MO/Warrensburg/54-SW-160th-RD-64093/home/185769629', 'https://www.redfin.com/MO/Warrensburg/22-SW-300th-Rd-64093/home/179498956', 'https://www.redfin.com/MO/Warrensburg/123-Road-64093/home/185938711', 'https://www.redfin.com/MO/Warrensburg/317-E-Hale-Lake-Rd-64093/home/77033234', 'https://www.redfin.com/MO/Holden/207-S-Plum-St-64040/home/77034933', 'https://www.redfin.com/MO/Warrensburg/503-Fountain-Hills-Dr-64093/home/77033518', 'https://www.redfin.com/MO/Warrensburg/711-SE-251-RD-64093/home/184791494', 'https://www.redfin.com/MO/Holden/Lot-6-Golden-Eagle-Trl-64040/home/145553448', 'https://www.redfin.com/MO/Warrensburg/Lot27-Hidden-Hills-Estates-N-A-64093/home/175134381', 'https://www.redfin.com/MO/Warrensburg/1203-Hillmann-Ln-64093/home/77029384', 'https://www.redfin.com/MO/Centerview/111-NW-501st-Rd-64019/home/187996743', 'https://www.redfin.com/MO/Warrensburg/1212-Half-Day-Dr-64093/home/77026748', 'https://www.redfin.com/MO/Leeton/NE-1400th-Rd-64761/home/106434574', 'https://www.redfin.com/MO/Warrensburg/76-SE-361st-Rd-64093/home/188869995', 'https://www.redfin.com/MO/Warrensburg/404-S-Mulberry-St-64093/home/77033465', 'https://www.redfin.com/MO/Warrensburg/29-30-S-Srdgvwdr-montparkrd-DR-64093/home/180941849', 'https://www.redfin.com/MO/Warrensburg/580-SE-321st-Rd-64093/home/172601312', 'https://www.redfin.com/MO/Warrensburg/66-NW-150th-Rd-64093/home/185770745', 'https://www.redfin.com/MO/Warrensburg/1211-Aubreis-Way-64093/home/77026727', 'https://www.redfin.com/MO/Knob-Noster/602-Kendrick-Ln-65336/home/187382610', 'https://www.redfin.com/MO/Centerview/428-NW-701st-Rd-64019/home/77019384', 'https://www.redfin.com/MO/Warrensburg/831-E-Gay-St-64093/home/77029144', 'https://www.redfin.com/MO/Warrensburg/944-Ridge-Dr-64093/home/77026540', 'https://www.redfin.com/MO/Warrensburg/318-S-Main-St-64093/home/77031844', 'https://www.redfin.com/MO/Odessa/1093-NW-850th-Rd-64076/home/77019152', 'https://www.redfin.com/MO/Centerview/489-SW-601st-Rd-64019/home/187460496', 'https://www.redfin.com/MO/Warrensburg/Lot-59-60-Quail-Trl-64093/home/186103627', 'https://www.redfin.com/MO/Warrensburg/1004-Deer-Run-64093/home/172601027', 'https://www.redfin.com/MO/Warrensburg/Lot36-Hidden-Hills-Estates-N-A-64093/home/175134587', 'https://www.redfin.com/MO/Holden/TBD-50-HWY-64040/home/187583464', 'https://www.redfin.com/MO/Holden/NW-Hwy-50-64040/home/185737021', 'https://www.redfin.com/MO/Warrensburg/416-Jackson-St-64093/home/77031579', 'https://www.redfin.com/MO/Warrensburg/306-W-Market-St-64093/home/77030930', 'https://www.redfin.com/MO/Warrensburg/129-Road-64093/home/185939073', 'https://www.redfin.com/MO/Knob-Noster/395-SE-991-65336/home/142617337'}})\n"
     ]
    }
   ],
   "source": [
    "from bs4 import BeautifulSoup as BS\n",
    "import requests\n",
    "import re\n",
    "from collections import defaultdict\n",
    "\n",
    "properties = defaultdict(set)\n",
    "\n",
    "for url in missouri_county_page_links:\n",
    "    county_name = re.findall('MO/([^/]+)', url)  # key\n",
    "    text = requests.get(url, headers=req_headers).text\n",
    "    soup = BS(text, 'lxml')  # Use 'lxml' as the parser\n",
    "    county_text = soup.find('div', attrs={'id': 'results-display'})\n",
    "    all_links = [a['href'] for a in county_text('a') if a.has_attr('href')]\n",
    "    regex = r\"^/MO\"\n",
    "    for link in all_links:\n",
    "        if re.match(regex, link):\n",
    "            mlink = \"https://www.redfin.com\" + link\n",
    "            properties[county_name[0]].add(mlink)\n",
    "\n",
    "print(len(properties))\n",
    "print(properties)\n"
   ]
  },
  {
   "cell_type": "code",
   "execution_count": 129,
   "id": "618c5bcf",
   "metadata": {
    "scrolled": false
   },
   "outputs": [],
   "source": [
    "import requests\n",
    "from bs4 import BeautifulSoup as BS\n",
    "import numpy as np\n",
    "import re\n",
    "from collections import defaultdict"
   ]
  },
  {
   "cell_type": "code",
   "execution_count": 130,
   "id": "75676ac2",
   "metadata": {},
   "outputs": [],
   "source": [
    "# Creating empty lists for required parameters\n",
    "State = []\n",
    "County =[]\n",
    "City = []\n",
    "Street= []\n",
    "Zipcode = []\n",
    "Property_type = []\n",
    "Status = []\n",
    "Price = []\n",
    "Year_built = []\n",
    "Beds = []\n",
    "Bath = []\n",
    "Sqft = []\n",
    "Acre=[]\n",
    "Lot_area = []\n",
    "HOA_due = []\n",
    "School_score = []\n",
    "Walk_score = []\n",
    "Bike_score = []\n",
    "Garage_availibility = []\n",
    "Redfin_estimate = []"
   ]
  },
  {
   "cell_type": "code",
   "execution_count": 132,
   "id": "41460fa4",
   "metadata": {},
   "outputs": [],
   "source": [
    "for county in properties:   \n",
    "    \n",
    "    \n",
    "    for prop in properties[county]:  \n",
    "        \n",
    "        County.append(county)\n",
    "        \n",
    "        html_text = requests.get(prop,headers=req_headers).text\n",
    "        soup = BS(html_text,'html.parser')\n",
    "        \n",
    "        try:\n",
    "            state_value = soup.find('div',attrs={'class':'dp-subtext bp-cityStateZip'}).text.split(', ')[1].split(' ')[0]\n",
    "        except:\n",
    "            state_value = np.nan\n",
    "        State.append(state_value)\n",
    "      \n",
    "        \n",
    "        try:\n",
    "            city_value = soup.find('div',attrs={'class':'dp-subtext'}).text.split(', ')[0]\n",
    "        except:\n",
    "            city_value = np.nan\n",
    "        City.append(city_value)\n",
    "        \n",
    "    \n",
    "        try:\n",
    "            street_value = soup.find('div',attrs={'class':'street-address'}).text.split(',')[0]\n",
    "        except:\n",
    "            street_value = np.nan\n",
    "        Street.append(street_value)\n",
    "        \n",
    "     \n",
    "        try:\n",
    "            zipcode_value = soup.find('div',attrs={'class':'dp-subtext'}).text.split(', ')[-1].split(' ')[-1]\n",
    "            \n",
    "        except:\n",
    "            zipcode_value = np.nan\n",
    "        Zipcode.append(zipcode_value) \n",
    "        \n",
    "        \n",
    "        try:\n",
    "            property_value = soup.findAll('div',attrs={'class':'keyDetail font-weight-roman font-size-base'})\n",
    "            for tag in property_value:\n",
    "                if(tag.span.text == 'Property Type'):\n",
    "                    property_type_value = tag.find('span',attrs={'class':'content text-right'}).text\n",
    "        except:\n",
    "            property_type_value = np.nan\n",
    "        Property_type.append(property_type_value)  \n",
    "        \n",
    "        \n",
    "        try:\n",
    "            status_text = soup.findAll('div',attrs={'class':'keyDetail font-weight-roman font-size-base'})\n",
    "            status =''\n",
    "            for tag in status_text:\n",
    "                if(tag.span.text=='Status'):\n",
    "                    status = tag.find('span',attrs={'class':'DefinitionFlyoutLink inline-block underline clickable'})\n",
    "                    status = status_link.text if status_link else tag.find('span', attrs={'class': 'content text-right'}).text\n",
    "\n",
    "        except:\n",
    "            status=np.nan\n",
    "        Status.append(str(status))  \n",
    "        \n",
    "\n",
    "        \n",
    "        try:\n",
    "            price_value = soup.find('div',attrs={'class':'statsValue'}).text.split('$')[1]\n",
    "        except:\n",
    "            price_value = np.nan\n",
    "        Price.append(price_value)\n",
    "        \n",
    "        \n",
    "        try:\n",
    "            year_built_text = soup.findAll('div',attrs={'class':'keyDetail font-weight-roman font-size-base'})\n",
    "            year_built_value = np.nan \n",
    "            for tag in year_built_text:\n",
    "                if(tag.span.text=='Year Built'):\n",
    "                    year_built_value = int(tag.find('span',attrs={'class':'content text-right'}).text)\n",
    "        except:\n",
    "            year_built_value = np.nan\n",
    "        Year_built.append(year_built_value)\n",
    "\n",
    "        \n",
    "        try:\n",
    "            bed_value_str = soup.find('div',attrs={'data-rf-test-id':'abp-beds'}).text.split('B')[0]\n",
    "            bed_value = int(bed_value_str)\n",
    "        except:\n",
    "            bed_value=np.nan\n",
    "        Beds.append(bed_value)\n",
    "        \n",
    "        \n",
    "        try:\n",
    "            bath_value_str =soup.find('div',attrs ={'data-rf-test-id':'abp-baths'}).text.split('B')[0]\n",
    "            bath_value = float(bath_value_str)\n",
    "        except:\n",
    "            bath_value = np.nan\n",
    "        Bath.append(bath_value)\n",
    "        \n",
    "        \n",
    "        try:\n",
    "            sqft_value_str =soup.find('div',attrs ={'data-rf-test-id':'abp-sqFt'}).text.split('S')[0].replace(',','')\n",
    "            sqft_value = float(sqft_value_str)\n",
    "        except:\n",
    "            sqft_value=np.nan\n",
    "        Sqft.append(sqft_value)\n",
    "        \n",
    "        \n",
    "        try:\n",
    "            acre_value =soup.find('div',attrs ={'class':'stat-block sqft-section'}).text.split('A')[0]\n",
    "        except:\n",
    "            acre_value=np.nan\n",
    "        Acre.append(acre_value)\n",
    "        \n",
    "        \n",
    "        try:\n",
    "            lot_prop_text = soup.findAll('div',attrs={'class':'keyDetail font-weight-roman font-size-base'})\n",
    "            lot_area_value = np.nan\n",
    "            for tag in lot_prop_text:\n",
    "                if(tag.span.text=='Lot Size'):\n",
    "                    lot_area_value = tag.find('span',attrs={'class':'content text-right'}).text\n",
    "        except:\n",
    "            lot_area_value = np.nan\n",
    "        Lot_area.append(lot_area_value)\n",
    "        \n",
    "        \n",
    "        \n",
    "        try:\n",
    "            hoa_text = soup.findAll('div',attrs={'class':'keyDetail font-weight-roman font-size-base'})\n",
    "            hoa_due_value =''\n",
    "            for tag in hoa_text:\n",
    "                if(tag.span.text=='HOA Dues'):\n",
    "                    hoa_due_value = tag.find('span',attrs={'class':'content text-right'}).text\n",
    "        except:\n",
    "            hoa_due_value = np.nan\n",
    "        HOA_due.append(hoa_due_value)\n",
    "        \n",
    "        \n",
    "        \n",
    "        try:\n",
    "            school_rating = max([rating.text[0] for rating in soup.findAll('div',attrs ={'class':'gs-rating-text'})])\n",
    "        except:\n",
    "            school_rating = np.nan\n",
    "            \n",
    "        School_score.append(school_rating)        \n",
    "        \n",
    "                \n",
    "        \n",
    "        try:\n",
    "            walk_score_value = int(soup.find('div',attrs={'class':'transport-icon-and-percentage walkscore'}).text.split(' /')[0])\n",
    "        except:\n",
    "            walk_score_value = np.nan\n",
    "        Walk_score.append(walk_score_value)\n",
    "        \n",
    "        \n",
    "        \n",
    "        try:\n",
    "            bike_score_value = int(soup.find('div',attrs={'class':'transport-icon-and-percentage bikescore'}).text.split(' /')[0])\n",
    "        except:\n",
    "            bike_score_value = np.nan\n",
    "        Bike_score.append(bike_score_value)\n",
    "        \n",
    "\n",
    "        \n",
    "        try:\n",
    "            garage_aval = soup.findAll('span',attrs={'class':'entryItemContent'})\n",
    "            for tag in garage_aval:\n",
    "                if(\"Garage\" in tag.text):\n",
    "                    value = 'Yes'\n",
    "                    break\n",
    "                else:    \n",
    "                    value = 'No'\n",
    "        except:   \n",
    "             value = np.nan\n",
    "        Garage_availibility.append(value)\n",
    "        \n",
    "        \n",
    "        \n",
    "        try:\n",
    "            redfin_estimate_text = soup.findAll('div',attrs={'class':'keyDetail font-weight-roman font-size-base'})\n",
    "            redfin_estimate_value =''\n",
    "            for tag in redfin_estimate_text:\n",
    "                if(tag.span.text =='Redfin Estimate'):\n",
    "                    redfin_estimate_value = tag.find('span',attrs={'class':'content text-right'}).text.split('$')[1]\n",
    "        except:\n",
    "            redfin_estimate_value=np.nan\n",
    "        Redfin_estimate.append(redfin_estimate_value)\n",
    "        \n",
    "        \n",
    "        \n",
    "        try:\n",
    "            property_type_value = next(\n",
    "                tag.find('span', attrs={'class': 'content text-right'}).text for tag in\n",
    "                soup.findAll('div', attrs={'class': 'keyDetail font-weight-roman font-size-base'})\n",
    "                if tag.span.text == 'Property Type'\n",
    "            )\n",
    "        except StopIteration:\n",
    "            property_type_value = np.nan\n",
    "        Property_type.append(property_type_value)\n",
    "        "
   ]
  },
  {
   "cell_type": "code",
   "execution_count": null,
   "id": "2d63cfeb",
   "metadata": {},
   "outputs": [],
   "source": []
  },
  {
   "cell_type": "code",
   "execution_count": 133,
   "id": "71079f79",
   "metadata": {},
   "outputs": [
    {
     "name": "stdout",
     "output_type": "stream",
     "text": [
      "Length of State: 6627\n",
      "Length of County: 6628\n",
      "Length of City: 6627\n",
      "Length of Street: 6627\n",
      "Length of Zipcode: 6627\n",
      "Length of Property_Type: 6627\n",
      "Length of Status: 6627\n",
      "Length of Price: 6627\n",
      "Length of Year_Built: 6627\n",
      "Length of Beds: 6627\n",
      "Length of Bath: 6627\n",
      "Length of Sqft: 6627\n",
      "Length of Acre: 6627\n",
      "Length of Lot Area: 6627\n",
      "Length of HOA Due: 6627\n",
      "Length of School_rating: 6627\n",
      "Length of WalkScore: 6627\n",
      "Length of Bike_Score: 6627\n",
      "Length of Garage_availability: 6627\n"
     ]
    }
   ],
   "source": [
    "import pandas as pd\n",
    "\n",
    "# Assuming the lists State, County, City, Street, ... are already populated\n",
    "\n",
    "# Print the length of each list\n",
    "for name, lst in zip(['State', 'County', 'City', 'Street', 'Zipcode', 'Property_Type',\n",
    "                      'Status', 'Price', 'Year_Built', 'Beds', 'Bath', 'Sqft', 'Acre',\n",
    "                      'Lot Area', 'HOA Due', 'School_rating', 'WalkScore', 'Bike_Score',\n",
    "                      'Garage_availability', 'Redfin_estimate'],\n",
    "                     [State, County, City, Street, Zipcode, #Property_type,\n",
    "                      Status, Price, Year_built, Beds, Bath, Sqft, Acre,\n",
    "                      Lot_area, HOA_due, School_score, Walk_score, Bike_score,\n",
    "                      Garage_availibility, Redfin_estimate]):\n",
    "    print(f'Length of {name}: {len(lst)}')\n"
   ]
  },
  {
   "cell_type": "code",
   "execution_count": 135,
   "id": "fcb3b649",
   "metadata": {},
   "outputs": [],
   "source": [
    "# Create DataFrame\n",
    "df = pd.DataFrame(data={\n",
    "    'State': State,\n",
    "    #'County': County,\n",
    "    'City': City,\n",
    "    'Street': Street,\n",
    "    'Zipcode': Zipcode,\n",
    "    'Status': Status,\n",
    "    'Price': Price,\n",
    "    'Year_Built': Year_built,\n",
    "    'Beds': Beds,\n",
    "    'Bath': Bath,\n",
    "    'Sqft': Sqft,\n",
    "    'Acre': Acre,\n",
    "    'Lot Area': Lot_area,\n",
    "    'HOA Due': HOA_due,\n",
    "    'School_rating': School_score,\n",
    "    'WalkScore': Walk_score,\n",
    "    'Bike_Score': Bike_score,\n",
    "    'Garage_availability': Garage_availibility,\n",
    "    'Redfin_estimate': Redfin_estimate\n",
    "})"
   ]
  },
  {
   "cell_type": "code",
   "execution_count": 136,
   "id": "1e921301",
   "metadata": {},
   "outputs": [
    {
     "data": {
      "text/html": [
       "<div>\n",
       "<style scoped>\n",
       "    .dataframe tbody tr th:only-of-type {\n",
       "        vertical-align: middle;\n",
       "    }\n",
       "\n",
       "    .dataframe tbody tr th {\n",
       "        vertical-align: top;\n",
       "    }\n",
       "\n",
       "    .dataframe thead th {\n",
       "        text-align: right;\n",
       "    }\n",
       "</style>\n",
       "<table border=\"1\" class=\"dataframe\">\n",
       "  <thead>\n",
       "    <tr style=\"text-align: right;\">\n",
       "      <th></th>\n",
       "      <th>State</th>\n",
       "      <th>City</th>\n",
       "      <th>Street</th>\n",
       "      <th>Zipcode</th>\n",
       "      <th>Status</th>\n",
       "      <th>Price</th>\n",
       "      <th>Year_Built</th>\n",
       "      <th>Beds</th>\n",
       "      <th>Bath</th>\n",
       "      <th>Sqft</th>\n",
       "      <th>Acre</th>\n",
       "      <th>Lot Area</th>\n",
       "      <th>HOA Due</th>\n",
       "      <th>School_rating</th>\n",
       "      <th>WalkScore</th>\n",
       "      <th>Bike_Score</th>\n",
       "      <th>Garage_availability</th>\n",
       "      <th>Redfin_estimate</th>\n",
       "    </tr>\n",
       "  </thead>\n",
       "  <tbody>\n",
       "    <tr>\n",
       "      <th>0</th>\n",
       "      <td>MO</td>\n",
       "      <td>St Charles</td>\n",
       "      <td>1148 Hall St</td>\n",
       "      <td>63301</td>\n",
       "      <td></td>\n",
       "      <td>185,000</td>\n",
       "      <td>NaN</td>\n",
       "      <td>2.0</td>\n",
       "      <td>1.0</td>\n",
       "      <td>902.0</td>\n",
       "      <td>902Sq Ft</td>\n",
       "      <td>NaN</td>\n",
       "      <td></td>\n",
       "      <td>7</td>\n",
       "      <td>NaN</td>\n",
       "      <td>NaN</td>\n",
       "      <td>No</td>\n",
       "      <td></td>\n",
       "    </tr>\n",
       "    <tr>\n",
       "      <th>1</th>\n",
       "      <td>MO</td>\n",
       "      <td>Wentzville</td>\n",
       "      <td>402 Prairie Creek Dr</td>\n",
       "      <td>63348</td>\n",
       "      <td></td>\n",
       "      <td>329,900</td>\n",
       "      <td>NaN</td>\n",
       "      <td>3.0</td>\n",
       "      <td>2.0</td>\n",
       "      <td>1208.0</td>\n",
       "      <td>1,208Sq Ft</td>\n",
       "      <td>NaN</td>\n",
       "      <td></td>\n",
       "      <td>7</td>\n",
       "      <td>NaN</td>\n",
       "      <td>NaN</td>\n",
       "      <td>Yes</td>\n",
       "      <td></td>\n",
       "    </tr>\n",
       "    <tr>\n",
       "      <th>2</th>\n",
       "      <td>NaN</td>\n",
       "      <td>NaN</td>\n",
       "      <td>NaN</td>\n",
       "      <td>NaN</td>\n",
       "      <td></td>\n",
       "      <td>NaN</td>\n",
       "      <td>NaN</td>\n",
       "      <td>NaN</td>\n",
       "      <td>NaN</td>\n",
       "      <td>NaN</td>\n",
       "      <td>NaN</td>\n",
       "      <td>NaN</td>\n",
       "      <td></td>\n",
       "      <td>NaN</td>\n",
       "      <td>NaN</td>\n",
       "      <td>NaN</td>\n",
       "      <td>Yes</td>\n",
       "      <td></td>\n",
       "    </tr>\n",
       "    <tr>\n",
       "      <th>3</th>\n",
       "      <td>NaN</td>\n",
       "      <td>NaN</td>\n",
       "      <td>NaN</td>\n",
       "      <td>NaN</td>\n",
       "      <td></td>\n",
       "      <td>NaN</td>\n",
       "      <td>NaN</td>\n",
       "      <td>NaN</td>\n",
       "      <td>NaN</td>\n",
       "      <td>NaN</td>\n",
       "      <td>NaN</td>\n",
       "      <td>NaN</td>\n",
       "      <td></td>\n",
       "      <td>NaN</td>\n",
       "      <td>NaN</td>\n",
       "      <td>NaN</td>\n",
       "      <td>Yes</td>\n",
       "      <td></td>\n",
       "    </tr>\n",
       "    <tr>\n",
       "      <th>4</th>\n",
       "      <td>NaN</td>\n",
       "      <td>NaN</td>\n",
       "      <td>NaN</td>\n",
       "      <td>NaN</td>\n",
       "      <td></td>\n",
       "      <td>NaN</td>\n",
       "      <td>NaN</td>\n",
       "      <td>NaN</td>\n",
       "      <td>NaN</td>\n",
       "      <td>NaN</td>\n",
       "      <td>NaN</td>\n",
       "      <td>NaN</td>\n",
       "      <td></td>\n",
       "      <td>NaN</td>\n",
       "      <td>NaN</td>\n",
       "      <td>NaN</td>\n",
       "      <td>Yes</td>\n",
       "      <td></td>\n",
       "    </tr>\n",
       "    <tr>\n",
       "      <th>...</th>\n",
       "      <td>...</td>\n",
       "      <td>...</td>\n",
       "      <td>...</td>\n",
       "      <td>...</td>\n",
       "      <td>...</td>\n",
       "      <td>...</td>\n",
       "      <td>...</td>\n",
       "      <td>...</td>\n",
       "      <td>...</td>\n",
       "      <td>...</td>\n",
       "      <td>...</td>\n",
       "      <td>...</td>\n",
       "      <td>...</td>\n",
       "      <td>...</td>\n",
       "      <td>...</td>\n",
       "      <td>...</td>\n",
       "      <td>...</td>\n",
       "      <td>...</td>\n",
       "    </tr>\n",
       "    <tr>\n",
       "      <th>6622</th>\n",
       "      <td>NaN</td>\n",
       "      <td>NaN</td>\n",
       "      <td>NaN</td>\n",
       "      <td>NaN</td>\n",
       "      <td></td>\n",
       "      <td>NaN</td>\n",
       "      <td>NaN</td>\n",
       "      <td>NaN</td>\n",
       "      <td>NaN</td>\n",
       "      <td>NaN</td>\n",
       "      <td>NaN</td>\n",
       "      <td>NaN</td>\n",
       "      <td></td>\n",
       "      <td>NaN</td>\n",
       "      <td>NaN</td>\n",
       "      <td>NaN</td>\n",
       "      <td>No</td>\n",
       "      <td></td>\n",
       "    </tr>\n",
       "    <tr>\n",
       "      <th>6623</th>\n",
       "      <td>NaN</td>\n",
       "      <td>NaN</td>\n",
       "      <td>NaN</td>\n",
       "      <td>NaN</td>\n",
       "      <td></td>\n",
       "      <td>NaN</td>\n",
       "      <td>NaN</td>\n",
       "      <td>NaN</td>\n",
       "      <td>NaN</td>\n",
       "      <td>NaN</td>\n",
       "      <td>NaN</td>\n",
       "      <td>NaN</td>\n",
       "      <td></td>\n",
       "      <td>NaN</td>\n",
       "      <td>NaN</td>\n",
       "      <td>NaN</td>\n",
       "      <td>No</td>\n",
       "      <td></td>\n",
       "    </tr>\n",
       "    <tr>\n",
       "      <th>6624</th>\n",
       "      <td>NaN</td>\n",
       "      <td>NaN</td>\n",
       "      <td>NaN</td>\n",
       "      <td>NaN</td>\n",
       "      <td></td>\n",
       "      <td>NaN</td>\n",
       "      <td>NaN</td>\n",
       "      <td>NaN</td>\n",
       "      <td>NaN</td>\n",
       "      <td>NaN</td>\n",
       "      <td>NaN</td>\n",
       "      <td>NaN</td>\n",
       "      <td></td>\n",
       "      <td>NaN</td>\n",
       "      <td>NaN</td>\n",
       "      <td>NaN</td>\n",
       "      <td>No</td>\n",
       "      <td></td>\n",
       "    </tr>\n",
       "    <tr>\n",
       "      <th>6625</th>\n",
       "      <td>NaN</td>\n",
       "      <td>NaN</td>\n",
       "      <td>NaN</td>\n",
       "      <td>NaN</td>\n",
       "      <td></td>\n",
       "      <td>NaN</td>\n",
       "      <td>NaN</td>\n",
       "      <td>NaN</td>\n",
       "      <td>NaN</td>\n",
       "      <td>NaN</td>\n",
       "      <td>NaN</td>\n",
       "      <td>NaN</td>\n",
       "      <td></td>\n",
       "      <td>NaN</td>\n",
       "      <td>NaN</td>\n",
       "      <td>NaN</td>\n",
       "      <td>No</td>\n",
       "      <td></td>\n",
       "    </tr>\n",
       "    <tr>\n",
       "      <th>6626</th>\n",
       "      <td>NaN</td>\n",
       "      <td>NaN</td>\n",
       "      <td>NaN</td>\n",
       "      <td>NaN</td>\n",
       "      <td></td>\n",
       "      <td>NaN</td>\n",
       "      <td>NaN</td>\n",
       "      <td>NaN</td>\n",
       "      <td>NaN</td>\n",
       "      <td>NaN</td>\n",
       "      <td>NaN</td>\n",
       "      <td>NaN</td>\n",
       "      <td></td>\n",
       "      <td>NaN</td>\n",
       "      <td>NaN</td>\n",
       "      <td>NaN</td>\n",
       "      <td>No</td>\n",
       "      <td></td>\n",
       "    </tr>\n",
       "  </tbody>\n",
       "</table>\n",
       "<p>6627 rows × 18 columns</p>\n",
       "</div>"
      ],
      "text/plain": [
       "     State        City                Street Zipcode Status    Price  \\\n",
       "0       MO  St Charles          1148 Hall St   63301         185,000   \n",
       "1       MO  Wentzville  402 Prairie Creek Dr   63348         329,900   \n",
       "2      NaN         NaN                   NaN     NaN             NaN   \n",
       "3      NaN         NaN                   NaN     NaN             NaN   \n",
       "4      NaN         NaN                   NaN     NaN             NaN   \n",
       "...    ...         ...                   ...     ...    ...      ...   \n",
       "6622   NaN         NaN                   NaN     NaN             NaN   \n",
       "6623   NaN         NaN                   NaN     NaN             NaN   \n",
       "6624   NaN         NaN                   NaN     NaN             NaN   \n",
       "6625   NaN         NaN                   NaN     NaN             NaN   \n",
       "6626   NaN         NaN                   NaN     NaN             NaN   \n",
       "\n",
       "      Year_Built  Beds  Bath    Sqft        Acre  Lot Area HOA Due  \\\n",
       "0            NaN   2.0   1.0   902.0    902Sq Ft       NaN           \n",
       "1            NaN   3.0   2.0  1208.0  1,208Sq Ft       NaN           \n",
       "2            NaN   NaN   NaN     NaN         NaN       NaN           \n",
       "3            NaN   NaN   NaN     NaN         NaN       NaN           \n",
       "4            NaN   NaN   NaN     NaN         NaN       NaN           \n",
       "...          ...   ...   ...     ...         ...       ...     ...   \n",
       "6622         NaN   NaN   NaN     NaN         NaN       NaN           \n",
       "6623         NaN   NaN   NaN     NaN         NaN       NaN           \n",
       "6624         NaN   NaN   NaN     NaN         NaN       NaN           \n",
       "6625         NaN   NaN   NaN     NaN         NaN       NaN           \n",
       "6626         NaN   NaN   NaN     NaN         NaN       NaN           \n",
       "\n",
       "     School_rating  WalkScore  Bike_Score Garage_availability Redfin_estimate  \n",
       "0                7        NaN         NaN                  No                  \n",
       "1                7        NaN         NaN                 Yes                  \n",
       "2              NaN        NaN         NaN                 Yes                  \n",
       "3              NaN        NaN         NaN                 Yes                  \n",
       "4              NaN        NaN         NaN                 Yes                  \n",
       "...            ...        ...         ...                 ...             ...  \n",
       "6622           NaN        NaN         NaN                  No                  \n",
       "6623           NaN        NaN         NaN                  No                  \n",
       "6624           NaN        NaN         NaN                  No                  \n",
       "6625           NaN        NaN         NaN                  No                  \n",
       "6626           NaN        NaN         NaN                  No                  \n",
       "\n",
       "[6627 rows x 18 columns]"
      ]
     },
     "execution_count": 136,
     "metadata": {},
     "output_type": "execute_result"
    }
   ],
   "source": [
    "df"
   ]
  },
  {
   "cell_type": "code",
   "execution_count": null,
   "id": "e84ae9dc",
   "metadata": {},
   "outputs": [],
   "source": [
    "\"\"\"import pandas as pd\n",
    "\n",
    "# Assuming the lists State, County, City, Street, ... are already populated\n",
    "\n",
    "df = pd.DataFrame(data={\n",
    "    'State': State,\n",
    "    'County': County,\n",
    "    'City': City,\n",
    "    'Street': Street,\n",
    "    'Zipcode': Zipcode,\n",
    "    'Property_Type': Property_type,\n",
    "    'Status': Status,\n",
    "    'Price': Price,\n",
    "    'Year_Built': Year_built,\n",
    "    'Beds': Beds,\n",
    "    'Bath': Bath,\n",
    "    'Sqft': Sqft,\n",
    "    'Acre': Acre,\n",
    "    'Lot Area': Lot_area,\n",
    "    'HOA Due': HOA_due,\n",
    "    'School_rating': School_score,\n",
    "    'WalkScore': Walk_score,\n",
    "    'Bike_Score': Bike_score,\n",
    "    'Garage_availability': Garage_availibility,\n",
    "    'Redfin_estimate': Redfin_estimate\n",
    "})\n",
    "\"\"\""
   ]
  },
  {
   "cell_type": "code",
   "execution_count": null,
   "id": "5bb6e1de",
   "metadata": {},
   "outputs": [],
   "source": []
  },
  {
   "cell_type": "code",
   "execution_count": null,
   "id": "2c5996b7",
   "metadata": {},
   "outputs": [],
   "source": [
    "df=pd.DataFrame(data={'State':State,'County':County,\n",
    "                      'City':City,'Street':Street,\n",
    "                      'Zipcode':Zipcode,#'Property_Type':Property_type,\n",
    "                      'Status':Status,\n",
    "                      'Price':Price,'Year_Built':Year_built,\n",
    "                      'Beds':Beds,'Bath':Bath,'Sqft':Sqft,'Acre':Acre,\n",
    "                      'Lot Area':Lot_area,'HOA Due':HOA_due,'School_rating':School_score,\n",
    "                      'WalkScore':Walk_score,'Bike_Score':Bike_score,\n",
    "                      'Garage_availability':Garage_availibility,\n",
    "                      'Redfin_estimate':Redfin_estimate\n",
    "                      \n",
    "}) "
   ]
  },
  {
   "cell_type": "code",
   "execution_count": null,
   "id": "9d5ca1c3",
   "metadata": {},
   "outputs": [],
   "source": [
    "df"
   ]
  },
  {
   "cell_type": "code",
   "execution_count": null,
   "id": "da74783b",
   "metadata": {},
   "outputs": [],
   "source": []
  },
  {
   "cell_type": "code",
   "execution_count": null,
   "id": "bda5a299",
   "metadata": {},
   "outputs": [],
   "source": []
  },
  {
   "cell_type": "code",
   "execution_count": null,
   "id": "985bbfad",
   "metadata": {},
   "outputs": [],
   "source": []
  },
  {
   "cell_type": "code",
   "execution_count": null,
   "id": "db23b768",
   "metadata": {},
   "outputs": [],
   "source": []
  },
  {
   "cell_type": "code",
   "execution_count": 102,
   "id": "83cad70a",
   "metadata": {},
   "outputs": [],
   "source": [
    "df.to_csv('Data_before_cleaning1.csv')"
   ]
  },
  {
   "cell_type": "code",
   "execution_count": 16,
   "id": "1bd54a32",
   "metadata": {},
   "outputs": [],
   "source": [
    "#Data cleaning"
   ]
  },
  {
   "cell_type": "code",
   "execution_count": 17,
   "id": "1b9a9790",
   "metadata": {},
   "outputs": [
    {
     "data": {
      "text/plain": [
       "38"
      ]
     },
     "execution_count": 17,
     "metadata": {},
     "output_type": "execute_result"
    }
   ],
   "source": [
    "(df['Beds'].isna() & df['Bath'].isna()).sum()"
   ]
  },
  {
   "cell_type": "code",
   "execution_count": 18,
   "id": "376dae7e",
   "metadata": {},
   "outputs": [],
   "source": [
    "#If both beds and Bath have null values -> that indicates that the property is an empty land and there is no\n",
    "#built house. We will drop such rows"
   ]
  },
  {
   "cell_type": "code",
   "execution_count": 19,
   "id": "5dc2e220",
   "metadata": {},
   "outputs": [],
   "source": [
    "df = df.dropna(subset=['Beds', 'Bath'],how='all')"
   ]
  },
  {
   "cell_type": "code",
   "execution_count": 20,
   "id": "7f3d0ea7",
   "metadata": {},
   "outputs": [],
   "source": [
    "#Replacing Bike_Score null values as 0"
   ]
  },
  {
   "cell_type": "code",
   "execution_count": 21,
   "id": "9ef7c1a9",
   "metadata": {},
   "outputs": [
    {
     "name": "stderr",
     "output_type": "stream",
     "text": [
      "/Users/neenujose/opt/anaconda3/lib/python3.9/site-packages/pandas/core/generic.py:6392: SettingWithCopyWarning: \n",
      "A value is trying to be set on a copy of a slice from a DataFrame\n",
      "\n",
      "See the caveats in the documentation: https://pandas.pydata.org/pandas-docs/stable/user_guide/indexing.html#returning-a-view-versus-a-copy\n",
      "  return self._update_inplace(result)\n"
     ]
    }
   ],
   "source": [
    "df['Bike_Score'].fillna(0,inplace=True)"
   ]
  },
  {
   "cell_type": "code",
   "execution_count": 22,
   "id": "78952369",
   "metadata": {},
   "outputs": [],
   "source": [
    "#We have removed properties where both beds and baths are 0\n",
    "#To deal with remaining null values in Individual columns of Beds & Baths, we will replace it with 0 since \n",
    "#that means there is either no bedroom or not bathroom in that property"
   ]
  },
  {
   "cell_type": "code",
   "execution_count": 23,
   "id": "ad962425",
   "metadata": {},
   "outputs": [],
   "source": [
    "df['Beds'].fillna(0,inplace=True)\n",
    "df['Bath'].fillna(0,inplace=True)"
   ]
  },
  {
   "cell_type": "code",
   "execution_count": 24,
   "id": "62b0ac39",
   "metadata": {},
   "outputs": [
    {
     "data": {
      "text/plain": [
       "State                  0\n",
       "County                 0\n",
       "City                   0\n",
       "Street                 0\n",
       "Zipcode                0\n",
       "Property_Type          0\n",
       "Status                 0\n",
       "Price                  0\n",
       "Year_Built             0\n",
       "Beds                   0\n",
       "Bath                   0\n",
       "Sqft                   2\n",
       "Acre                   0\n",
       "Lot Area               0\n",
       "HOA Due                0\n",
       "School_rating          9\n",
       "WalkScore              0\n",
       "Bike_Score             0\n",
       "Garage_availability    0\n",
       "Redfin_estimate        0\n",
       "dtype: int64"
      ]
     },
     "execution_count": 24,
     "metadata": {},
     "output_type": "execute_result"
    }
   ],
   "source": [
    "df.isna().sum()"
   ]
  },
  {
   "cell_type": "code",
   "execution_count": 25,
   "id": "1ae3523c",
   "metadata": {},
   "outputs": [],
   "source": [
    "#deleting rows where sqft is not provided(null) since sqft is a part of our analysis"
   ]
  },
  {
   "cell_type": "code",
   "execution_count": 26,
   "id": "0392a207",
   "metadata": {},
   "outputs": [],
   "source": [
    "df=df.dropna(subset=['Sqft'])"
   ]
  },
  {
   "cell_type": "code",
   "execution_count": 27,
   "id": "b42141c1",
   "metadata": {},
   "outputs": [],
   "source": [
    "#Removing special characters in columns(Price, Redfin_estimate, School_rating, Year_Built, HOA Due, Lot Area ) \n",
    "#and converting datatypes into relevant datatypes"
   ]
  },
  {
   "cell_type": "code",
   "execution_count": 28,
   "id": "ecc24db0",
   "metadata": {},
   "outputs": [],
   "source": [
    "df['Price'] = df['Price'].astype(str).str.replace(',','')\n",
    "df['Price'] = df['Price'].astype(float)"
   ]
  },
  {
   "cell_type": "code",
   "execution_count": 29,
   "id": "acd8c9f1",
   "metadata": {},
   "outputs": [],
   "source": [
    "#df['Redfin_estimate'] = df['Redfin_estimate'].apply(lambda x: 0 if str(x) == ',' else x)\n",
    "df['Redfin_estimate'] = df['Redfin_estimate'].astype(str).str.replace(',','')\n",
    "df['Redfin_estimate'] = df['Redfin_estimate'].apply(lambda x: 0 if str(x) == '' else x)\n",
    "df['Redfin_estimate'].fillna(0,inplace=True)\n",
    "df['Redfin_estimate'] = df['Redfin_estimate'].astype(float)"
   ]
  },
  {
   "cell_type": "code",
   "execution_count": 30,
   "id": "56a7a0bd",
   "metadata": {},
   "outputs": [],
   "source": [
    "df['School_rating'] = df['School_rating'].apply(lambda x: 0 if str(x) == '-' else x)\n",
    "df['School_rating'].fillna(0,inplace=True)\n",
    "df['School_rating'] = df['School_rating'].astype(int)"
   ]
  },
  {
   "cell_type": "code",
   "execution_count": 31,
   "id": "7fd96e79",
   "metadata": {},
   "outputs": [],
   "source": [
    "df['Year_Built'].fillna(0,inplace=True)\n",
    "df['Year_Built'] = df['Year_Built'].astype(int)"
   ]
  },
  {
   "cell_type": "code",
   "execution_count": 32,
   "id": "9534feec",
   "metadata": {},
   "outputs": [
    {
     "name": "stderr",
     "output_type": "stream",
     "text": [
      "/var/folders/6y/5vsy8lk50_nggsg92tkybjmm0000gn/T/ipykernel_1055/586923046.py:2: FutureWarning: The default value of regex will change from True to False in a future version. In addition, single character regular expressions will *not* be treated as literal strings when regex=True.\n",
      "  df['HOA Due'] = df['HOA Due'].str.replace('$','')\n"
     ]
    }
   ],
   "source": [
    "df['HOA Due'] = df['HOA Due'].str.replace(',','')\n",
    "df['HOA Due'] = df['HOA Due'].str.replace('$','')\n",
    "df['HOA Due'] = df['HOA Due'].str.replace('/month','')\n",
    "df['HOA Due'] = df['HOA Due'].apply(lambda x: 0 if str(x) == '' else x)\n",
    "df['HOA Due'].fillna(0,inplace=True)\n",
    "df['HOA Due'] = df['HOA Due'].astype(float)"
   ]
  },
  {
   "cell_type": "code",
   "execution_count": 33,
   "id": "d203eebb",
   "metadata": {},
   "outputs": [
    {
     "name": "stderr",
     "output_type": "stream",
     "text": [
      "/var/folders/6y/5vsy8lk50_nggsg92tkybjmm0000gn/T/ipykernel_1055/224277968.py:3: FutureWarning: The default value of regex will change from True to False in a future version.\n",
      "  df['Lot Area'] = df['Lot Area'].str.replace('Sq. Ft.','')\n"
     ]
    }
   ],
   "source": [
    "df['Lot Area'].fillna(0,inplace=True)\n",
    "df['Lot Area'] = df['Lot Area'].str.replace(',','')\n",
    "df['Lot Area'] = df['Lot Area'].str.replace('Sq. Ft.','')\n",
    "df['Lot Area'] = df['Lot Area'].apply(lambda x: float(str(x)[:-6])*43560 if str(x)[-5:] == 'Acres' else (float(str(x)[:-5]) if str(x)[-4:] == 'Acre' else x))\n",
    "df['Lot Area'] = df['Lot Area'].apply(lambda x: 0 if str(x) == '' else x)\n",
    "df['Lot Area'] = df['Lot Area'].astype(float)"
   ]
  },
  {
   "cell_type": "code",
   "execution_count": null,
   "id": "ab5117c6",
   "metadata": {},
   "outputs": [],
   "source": [
    "#dropping the acre column. It was only used to identify the values where we do not have sqft"
   ]
  },
  {
   "cell_type": "code",
   "execution_count": 34,
   "id": "0eebf210",
   "metadata": {},
   "outputs": [],
   "source": [
    "df=df.drop(columns=['Acre'])"
   ]
  },
  {
   "cell_type": "code",
   "execution_count": 35,
   "id": "f11c2209",
   "metadata": {},
   "outputs": [
    {
     "data": {
      "text/html": [
       "<div>\n",
       "<style scoped>\n",
       "    .dataframe tbody tr th:only-of-type {\n",
       "        vertical-align: middle;\n",
       "    }\n",
       "\n",
       "    .dataframe tbody tr th {\n",
       "        vertical-align: top;\n",
       "    }\n",
       "\n",
       "    .dataframe thead th {\n",
       "        text-align: right;\n",
       "    }\n",
       "</style>\n",
       "<table border=\"1\" class=\"dataframe\">\n",
       "  <thead>\n",
       "    <tr style=\"text-align: right;\">\n",
       "      <th></th>\n",
       "      <th>State</th>\n",
       "      <th>County</th>\n",
       "      <th>City</th>\n",
       "      <th>Street</th>\n",
       "      <th>Zipcode</th>\n",
       "      <th>Property_Type</th>\n",
       "      <th>Status</th>\n",
       "      <th>Price</th>\n",
       "      <th>Year_Built</th>\n",
       "      <th>Beds</th>\n",
       "      <th>Bath</th>\n",
       "      <th>Sqft</th>\n",
       "      <th>Lot Area</th>\n",
       "      <th>HOA Due</th>\n",
       "      <th>School_rating</th>\n",
       "      <th>WalkScore</th>\n",
       "      <th>Bike_Score</th>\n",
       "      <th>Garage_availability</th>\n",
       "      <th>Redfin_estimate</th>\n",
       "    </tr>\n",
       "  </thead>\n",
       "  <tbody>\n",
       "    <tr>\n",
       "      <th>0</th>\n",
       "      <td>CA</td>\n",
       "      <td>Contra-Costa-County</td>\n",
       "      <td>Oakley</td>\n",
       "      <td>2537 Talaria Dr</td>\n",
       "      <td>94561</td>\n",
       "      <td>Single Family Residential</td>\n",
       "      <td>Back On Market</td>\n",
       "      <td>649999.0</td>\n",
       "      <td>2014</td>\n",
       "      <td>3.0</td>\n",
       "      <td>2.5</td>\n",
       "      <td>2279.0</td>\n",
       "      <td>6228.0</td>\n",
       "      <td>114.0</td>\n",
       "      <td>6</td>\n",
       "      <td>6</td>\n",
       "      <td>35.0</td>\n",
       "      <td>Yes</td>\n",
       "      <td>655836.0</td>\n",
       "    </tr>\n",
       "    <tr>\n",
       "      <th>1</th>\n",
       "      <td>CA</td>\n",
       "      <td>Contra-Costa-County</td>\n",
       "      <td>Pleasant Hill</td>\n",
       "      <td>66 Kathryn Dr</td>\n",
       "      <td>94523</td>\n",
       "      <td>Single Family Residential</td>\n",
       "      <td>Price Change</td>\n",
       "      <td>998000.0</td>\n",
       "      <td>1952</td>\n",
       "      <td>3.0</td>\n",
       "      <td>1.0</td>\n",
       "      <td>1315.0</td>\n",
       "      <td>6650.0</td>\n",
       "      <td>0.0</td>\n",
       "      <td>8</td>\n",
       "      <td>83</td>\n",
       "      <td>76.0</td>\n",
       "      <td>Yes</td>\n",
       "      <td>1048496.0</td>\n",
       "    </tr>\n",
       "    <tr>\n",
       "      <th>2</th>\n",
       "      <td>CA</td>\n",
       "      <td>Contra-Costa-County</td>\n",
       "      <td>San Ramon</td>\n",
       "      <td>3246 Ensenada Dr</td>\n",
       "      <td>94583</td>\n",
       "      <td>Single Family Residential</td>\n",
       "      <td>New</td>\n",
       "      <td>1395000.0</td>\n",
       "      <td>1976</td>\n",
       "      <td>4.0</td>\n",
       "      <td>2.5</td>\n",
       "      <td>1880.0</td>\n",
       "      <td>7000.0</td>\n",
       "      <td>0.0</td>\n",
       "      <td>9</td>\n",
       "      <td>26</td>\n",
       "      <td>67.0</td>\n",
       "      <td>Yes</td>\n",
       "      <td>1413765.0</td>\n",
       "    </tr>\n",
       "    <tr>\n",
       "      <th>3</th>\n",
       "      <td>CA</td>\n",
       "      <td>Contra-Costa-County</td>\n",
       "      <td>Lafayette</td>\n",
       "      <td>1845 Reliez Valley Rd</td>\n",
       "      <td>94549</td>\n",
       "      <td>Single Family Residential</td>\n",
       "      <td>Active</td>\n",
       "      <td>1848888.0</td>\n",
       "      <td>1934</td>\n",
       "      <td>5.0</td>\n",
       "      <td>3.5</td>\n",
       "      <td>2733.0</td>\n",
       "      <td>37897.2</td>\n",
       "      <td>0.0</td>\n",
       "      <td>9</td>\n",
       "      <td>4</td>\n",
       "      <td>3.0</td>\n",
       "      <td>Yes</td>\n",
       "      <td>1861281.0</td>\n",
       "    </tr>\n",
       "    <tr>\n",
       "      <th>4</th>\n",
       "      <td>CA</td>\n",
       "      <td>Contra-Costa-County</td>\n",
       "      <td>Orinda</td>\n",
       "      <td>40 Via Floreado</td>\n",
       "      <td>94563</td>\n",
       "      <td>Single Family Residential</td>\n",
       "      <td>New</td>\n",
       "      <td>2150000.0</td>\n",
       "      <td>1926</td>\n",
       "      <td>5.0</td>\n",
       "      <td>3.5</td>\n",
       "      <td>2516.0</td>\n",
       "      <td>21780.0</td>\n",
       "      <td>0.0</td>\n",
       "      <td>9</td>\n",
       "      <td>1</td>\n",
       "      <td>4.0</td>\n",
       "      <td>Yes</td>\n",
       "      <td>2152108.0</td>\n",
       "    </tr>\n",
       "    <tr>\n",
       "      <th>...</th>\n",
       "      <td>...</td>\n",
       "      <td>...</td>\n",
       "      <td>...</td>\n",
       "      <td>...</td>\n",
       "      <td>...</td>\n",
       "      <td>...</td>\n",
       "      <td>...</td>\n",
       "      <td>...</td>\n",
       "      <td>...</td>\n",
       "      <td>...</td>\n",
       "      <td>...</td>\n",
       "      <td>...</td>\n",
       "      <td>...</td>\n",
       "      <td>...</td>\n",
       "      <td>...</td>\n",
       "      <td>...</td>\n",
       "      <td>...</td>\n",
       "      <td>...</td>\n",
       "      <td>...</td>\n",
       "    </tr>\n",
       "    <tr>\n",
       "      <th>1228</th>\n",
       "      <td>CA</td>\n",
       "      <td>San-Mateo-County</td>\n",
       "      <td>REDWOOD CITY</td>\n",
       "      <td>327 G St</td>\n",
       "      <td>94063</td>\n",
       "      <td>Single Family Home</td>\n",
       "      <td>Active</td>\n",
       "      <td>1649000.0</td>\n",
       "      <td>1951</td>\n",
       "      <td>3.0</td>\n",
       "      <td>2.0</td>\n",
       "      <td>1244.0</td>\n",
       "      <td>5876.0</td>\n",
       "      <td>0.0</td>\n",
       "      <td>9</td>\n",
       "      <td>65</td>\n",
       "      <td>81.0</td>\n",
       "      <td>Yes</td>\n",
       "      <td>1674965.0</td>\n",
       "    </tr>\n",
       "    <tr>\n",
       "      <th>1229</th>\n",
       "      <td>CA</td>\n",
       "      <td>San-Mateo-County</td>\n",
       "      <td>HILLSBOROUGH</td>\n",
       "      <td>5 Jewell Pl</td>\n",
       "      <td>94010</td>\n",
       "      <td>Single Family Home</td>\n",
       "      <td>Active</td>\n",
       "      <td>4888000.0</td>\n",
       "      <td>1965</td>\n",
       "      <td>3.0</td>\n",
       "      <td>3.0</td>\n",
       "      <td>2890.0</td>\n",
       "      <td>27007.2</td>\n",
       "      <td>0.0</td>\n",
       "      <td>9</td>\n",
       "      <td>1</td>\n",
       "      <td>2.0</td>\n",
       "      <td>Yes</td>\n",
       "      <td>4889102.0</td>\n",
       "    </tr>\n",
       "    <tr>\n",
       "      <th>1230</th>\n",
       "      <td>CA</td>\n",
       "      <td>San-Mateo-County</td>\n",
       "      <td>BELMONT</td>\n",
       "      <td>3322 Plateau Dr</td>\n",
       "      <td>94002</td>\n",
       "      <td>Single Family Home</td>\n",
       "      <td>Active</td>\n",
       "      <td>2488000.0</td>\n",
       "      <td>1966</td>\n",
       "      <td>6.0</td>\n",
       "      <td>3.0</td>\n",
       "      <td>2240.0</td>\n",
       "      <td>10290.0</td>\n",
       "      <td>0.0</td>\n",
       "      <td>9</td>\n",
       "      <td>9</td>\n",
       "      <td>19.0</td>\n",
       "      <td>Yes</td>\n",
       "      <td>2463021.0</td>\n",
       "    </tr>\n",
       "    <tr>\n",
       "      <th>1231</th>\n",
       "      <td>CA</td>\n",
       "      <td>San-Mateo-County</td>\n",
       "      <td>San Mateo</td>\n",
       "      <td>102 Waters Park Cir</td>\n",
       "      <td>94403</td>\n",
       "      <td>Townhouse</td>\n",
       "      <td>New</td>\n",
       "      <td>1463917.0</td>\n",
       "      <td>2021</td>\n",
       "      <td>2.0</td>\n",
       "      <td>2.5</td>\n",
       "      <td>1602.0</td>\n",
       "      <td>10290.0</td>\n",
       "      <td>350.0</td>\n",
       "      <td>7</td>\n",
       "      <td>48</td>\n",
       "      <td>75.0</td>\n",
       "      <td>Yes</td>\n",
       "      <td>1462581.0</td>\n",
       "    </tr>\n",
       "    <tr>\n",
       "      <th>1232</th>\n",
       "      <td>CA</td>\n",
       "      <td>San-Mateo-County</td>\n",
       "      <td>FOSTER CITY</td>\n",
       "      <td>1032 Sanderling St</td>\n",
       "      <td>94404</td>\n",
       "      <td>Single Family Home</td>\n",
       "      <td>Active</td>\n",
       "      <td>1798000.0</td>\n",
       "      <td>1965</td>\n",
       "      <td>4.0</td>\n",
       "      <td>3.0</td>\n",
       "      <td>2450.0</td>\n",
       "      <td>5700.0</td>\n",
       "      <td>0.0</td>\n",
       "      <td>7</td>\n",
       "      <td>38</td>\n",
       "      <td>68.0</td>\n",
       "      <td>Yes</td>\n",
       "      <td>1841263.0</td>\n",
       "    </tr>\n",
       "  </tbody>\n",
       "</table>\n",
       "<p>1193 rows × 19 columns</p>\n",
       "</div>"
      ],
      "text/plain": [
       "     State               County           City                 Street Zipcode  \\\n",
       "0       CA  Contra-Costa-County         Oakley        2537 Talaria Dr   94561   \n",
       "1       CA  Contra-Costa-County  Pleasant Hill          66 Kathryn Dr   94523   \n",
       "2       CA  Contra-Costa-County      San Ramon       3246 Ensenada Dr   94583   \n",
       "3       CA  Contra-Costa-County      Lafayette  1845 Reliez Valley Rd   94549   \n",
       "4       CA  Contra-Costa-County         Orinda        40 Via Floreado   94563   \n",
       "...    ...                  ...            ...                    ...     ...   \n",
       "1228    CA     San-Mateo-County   REDWOOD CITY               327 G St   94063   \n",
       "1229    CA     San-Mateo-County   HILLSBOROUGH            5 Jewell Pl   94010   \n",
       "1230    CA     San-Mateo-County        BELMONT        3322 Plateau Dr   94002   \n",
       "1231    CA     San-Mateo-County      San Mateo    102 Waters Park Cir   94403   \n",
       "1232    CA     San-Mateo-County    FOSTER CITY     1032 Sanderling St   94404   \n",
       "\n",
       "                  Property_Type          Status      Price  Year_Built  Beds  \\\n",
       "0     Single Family Residential  Back On Market   649999.0        2014   3.0   \n",
       "1     Single Family Residential    Price Change   998000.0        1952   3.0   \n",
       "2     Single Family Residential             New  1395000.0        1976   4.0   \n",
       "3     Single Family Residential          Active  1848888.0        1934   5.0   \n",
       "4     Single Family Residential             New  2150000.0        1926   5.0   \n",
       "...                         ...             ...        ...         ...   ...   \n",
       "1228         Single Family Home          Active  1649000.0        1951   3.0   \n",
       "1229         Single Family Home          Active  4888000.0        1965   3.0   \n",
       "1230         Single Family Home          Active  2488000.0        1966   6.0   \n",
       "1231                  Townhouse             New  1463917.0        2021   2.0   \n",
       "1232         Single Family Home          Active  1798000.0        1965   4.0   \n",
       "\n",
       "      Bath    Sqft  Lot Area  HOA Due  School_rating  WalkScore  Bike_Score  \\\n",
       "0      2.5  2279.0    6228.0    114.0              6          6        35.0   \n",
       "1      1.0  1315.0    6650.0      0.0              8         83        76.0   \n",
       "2      2.5  1880.0    7000.0      0.0              9         26        67.0   \n",
       "3      3.5  2733.0   37897.2      0.0              9          4         3.0   \n",
       "4      3.5  2516.0   21780.0      0.0              9          1         4.0   \n",
       "...    ...     ...       ...      ...            ...        ...         ...   \n",
       "1228   2.0  1244.0    5876.0      0.0              9         65        81.0   \n",
       "1229   3.0  2890.0   27007.2      0.0              9          1         2.0   \n",
       "1230   3.0  2240.0   10290.0      0.0              9          9        19.0   \n",
       "1231   2.5  1602.0   10290.0    350.0              7         48        75.0   \n",
       "1232   3.0  2450.0    5700.0      0.0              7         38        68.0   \n",
       "\n",
       "     Garage_availability  Redfin_estimate  \n",
       "0                    Yes         655836.0  \n",
       "1                    Yes        1048496.0  \n",
       "2                    Yes        1413765.0  \n",
       "3                    Yes        1861281.0  \n",
       "4                    Yes        2152108.0  \n",
       "...                  ...              ...  \n",
       "1228                 Yes        1674965.0  \n",
       "1229                 Yes        4889102.0  \n",
       "1230                 Yes        2463021.0  \n",
       "1231                 Yes        1462581.0  \n",
       "1232                 Yes        1841263.0  \n",
       "\n",
       "[1193 rows x 19 columns]"
      ]
     },
     "execution_count": 35,
     "metadata": {},
     "output_type": "execute_result"
    }
   ],
   "source": [
    "df"
   ]
  },
  {
   "cell_type": "code",
   "execution_count": 36,
   "id": "c1aa60c6",
   "metadata": {},
   "outputs": [],
   "source": [
    "df=df.reset_index()"
   ]
  },
  {
   "cell_type": "code",
   "execution_count": 37,
   "id": "96927fec",
   "metadata": {},
   "outputs": [],
   "source": [
    "df=df.drop(columns=['index'])"
   ]
  },
  {
   "cell_type": "code",
   "execution_count": 38,
   "id": "08e27042",
   "metadata": {},
   "outputs": [
    {
     "data": {
      "text/plain": [
       "State                   object\n",
       "County                  object\n",
       "City                    object\n",
       "Street                  object\n",
       "Zipcode                 object\n",
       "Property_Type           object\n",
       "Status                  object\n",
       "Price                  float64\n",
       "Year_Built               int64\n",
       "Beds                   float64\n",
       "Bath                   float64\n",
       "Sqft                   float64\n",
       "Lot Area               float64\n",
       "HOA Due                float64\n",
       "School_rating            int64\n",
       "WalkScore                int64\n",
       "Bike_Score             float64\n",
       "Garage_availability     object\n",
       "Redfin_estimate        float64\n",
       "dtype: object"
      ]
     },
     "execution_count": 38,
     "metadata": {},
     "output_type": "execute_result"
    }
   ],
   "source": [
    "df.dtypes"
   ]
  },
  {
   "cell_type": "code",
   "execution_count": 39,
   "id": "b3158554",
   "metadata": {},
   "outputs": [],
   "source": [
    "#Normalization"
   ]
  },
  {
   "cell_type": "code",
   "execution_count": 40,
   "id": "ac9f8540",
   "metadata": {},
   "outputs": [],
   "source": [
    "df['Street']=df['Street'].apply(lambda x:x[0]+x[1:].lower())"
   ]
  },
  {
   "cell_type": "code",
   "execution_count": 41,
   "id": "a942314b",
   "metadata": {},
   "outputs": [],
   "source": [
    "df['City']=df['City'].apply(lambda x:x[0]+x[1:].lower())"
   ]
  },
  {
   "cell_type": "code",
   "execution_count": 42,
   "id": "c23d5a0d",
   "metadata": {},
   "outputs": [],
   "source": [
    "df['State']=df['State'].apply(lambda x:x[0]+x[1:].lower())"
   ]
  },
  {
   "cell_type": "code",
   "execution_count": 43,
   "id": "4f950789",
   "metadata": {},
   "outputs": [],
   "source": [
    "df['Property_Type']=df['Property_Type'].apply(lambda x:x[0]+x[1:].lower())"
   ]
  },
  {
   "cell_type": "code",
   "execution_count": 44,
   "id": "055b2b4a",
   "metadata": {},
   "outputs": [],
   "source": [
    "df['Status']=df['Status'].apply(lambda x:x[0]+x[1:].lower())"
   ]
  },
  {
   "cell_type": "code",
   "execution_count": 45,
   "id": "ceee1e4c",
   "metadata": {},
   "outputs": [],
   "source": [
    "df['Garage_availability']=df['Garage_availability'].apply(lambda x:x[0]+x[1:].lower())"
   ]
  },
  {
   "cell_type": "code",
   "execution_count": 46,
   "id": "88fca7a3",
   "metadata": {},
   "outputs": [],
   "source": [
    "df['County']=df['County'].apply(lambda x:x[0]+x[1:].lower())"
   ]
  },
  {
   "cell_type": "code",
   "execution_count": 47,
   "id": "818bf405",
   "metadata": {},
   "outputs": [
    {
     "data": {
      "text/html": [
       "<div>\n",
       "<style scoped>\n",
       "    .dataframe tbody tr th:only-of-type {\n",
       "        vertical-align: middle;\n",
       "    }\n",
       "\n",
       "    .dataframe tbody tr th {\n",
       "        vertical-align: top;\n",
       "    }\n",
       "\n",
       "    .dataframe thead th {\n",
       "        text-align: right;\n",
       "    }\n",
       "</style>\n",
       "<table border=\"1\" class=\"dataframe\">\n",
       "  <thead>\n",
       "    <tr style=\"text-align: right;\">\n",
       "      <th></th>\n",
       "      <th>State</th>\n",
       "      <th>County</th>\n",
       "      <th>City</th>\n",
       "      <th>Street</th>\n",
       "      <th>Zipcode</th>\n",
       "      <th>Property_Type</th>\n",
       "      <th>Status</th>\n",
       "      <th>Price</th>\n",
       "      <th>Year_Built</th>\n",
       "      <th>Beds</th>\n",
       "      <th>Bath</th>\n",
       "      <th>Sqft</th>\n",
       "      <th>Lot Area</th>\n",
       "      <th>HOA Due</th>\n",
       "      <th>School_rating</th>\n",
       "      <th>WalkScore</th>\n",
       "      <th>Bike_Score</th>\n",
       "      <th>Garage_availability</th>\n",
       "      <th>Redfin_estimate</th>\n",
       "    </tr>\n",
       "  </thead>\n",
       "  <tbody>\n",
       "    <tr>\n",
       "      <th>0</th>\n",
       "      <td>Ca</td>\n",
       "      <td>Contra-costa-county</td>\n",
       "      <td>Oakley</td>\n",
       "      <td>2537 talaria dr</td>\n",
       "      <td>94561</td>\n",
       "      <td>Single family residential</td>\n",
       "      <td>Back on market</td>\n",
       "      <td>649999.0</td>\n",
       "      <td>2014</td>\n",
       "      <td>3.0</td>\n",
       "      <td>2.5</td>\n",
       "      <td>2279.0</td>\n",
       "      <td>6228.0</td>\n",
       "      <td>114.0</td>\n",
       "      <td>6</td>\n",
       "      <td>6</td>\n",
       "      <td>35.0</td>\n",
       "      <td>Yes</td>\n",
       "      <td>655836.0</td>\n",
       "    </tr>\n",
       "    <tr>\n",
       "      <th>1</th>\n",
       "      <td>Ca</td>\n",
       "      <td>Contra-costa-county</td>\n",
       "      <td>Pleasant hill</td>\n",
       "      <td>66 kathryn dr</td>\n",
       "      <td>94523</td>\n",
       "      <td>Single family residential</td>\n",
       "      <td>Price change</td>\n",
       "      <td>998000.0</td>\n",
       "      <td>1952</td>\n",
       "      <td>3.0</td>\n",
       "      <td>1.0</td>\n",
       "      <td>1315.0</td>\n",
       "      <td>6650.0</td>\n",
       "      <td>0.0</td>\n",
       "      <td>8</td>\n",
       "      <td>83</td>\n",
       "      <td>76.0</td>\n",
       "      <td>Yes</td>\n",
       "      <td>1048496.0</td>\n",
       "    </tr>\n",
       "    <tr>\n",
       "      <th>2</th>\n",
       "      <td>Ca</td>\n",
       "      <td>Contra-costa-county</td>\n",
       "      <td>San ramon</td>\n",
       "      <td>3246 ensenada dr</td>\n",
       "      <td>94583</td>\n",
       "      <td>Single family residential</td>\n",
       "      <td>New</td>\n",
       "      <td>1395000.0</td>\n",
       "      <td>1976</td>\n",
       "      <td>4.0</td>\n",
       "      <td>2.5</td>\n",
       "      <td>1880.0</td>\n",
       "      <td>7000.0</td>\n",
       "      <td>0.0</td>\n",
       "      <td>9</td>\n",
       "      <td>26</td>\n",
       "      <td>67.0</td>\n",
       "      <td>Yes</td>\n",
       "      <td>1413765.0</td>\n",
       "    </tr>\n",
       "    <tr>\n",
       "      <th>3</th>\n",
       "      <td>Ca</td>\n",
       "      <td>Contra-costa-county</td>\n",
       "      <td>Lafayette</td>\n",
       "      <td>1845 reliez valley rd</td>\n",
       "      <td>94549</td>\n",
       "      <td>Single family residential</td>\n",
       "      <td>Active</td>\n",
       "      <td>1848888.0</td>\n",
       "      <td>1934</td>\n",
       "      <td>5.0</td>\n",
       "      <td>3.5</td>\n",
       "      <td>2733.0</td>\n",
       "      <td>37897.2</td>\n",
       "      <td>0.0</td>\n",
       "      <td>9</td>\n",
       "      <td>4</td>\n",
       "      <td>3.0</td>\n",
       "      <td>Yes</td>\n",
       "      <td>1861281.0</td>\n",
       "    </tr>\n",
       "    <tr>\n",
       "      <th>4</th>\n",
       "      <td>Ca</td>\n",
       "      <td>Contra-costa-county</td>\n",
       "      <td>Orinda</td>\n",
       "      <td>40 via floreado</td>\n",
       "      <td>94563</td>\n",
       "      <td>Single family residential</td>\n",
       "      <td>New</td>\n",
       "      <td>2150000.0</td>\n",
       "      <td>1926</td>\n",
       "      <td>5.0</td>\n",
       "      <td>3.5</td>\n",
       "      <td>2516.0</td>\n",
       "      <td>21780.0</td>\n",
       "      <td>0.0</td>\n",
       "      <td>9</td>\n",
       "      <td>1</td>\n",
       "      <td>4.0</td>\n",
       "      <td>Yes</td>\n",
       "      <td>2152108.0</td>\n",
       "    </tr>\n",
       "    <tr>\n",
       "      <th>...</th>\n",
       "      <td>...</td>\n",
       "      <td>...</td>\n",
       "      <td>...</td>\n",
       "      <td>...</td>\n",
       "      <td>...</td>\n",
       "      <td>...</td>\n",
       "      <td>...</td>\n",
       "      <td>...</td>\n",
       "      <td>...</td>\n",
       "      <td>...</td>\n",
       "      <td>...</td>\n",
       "      <td>...</td>\n",
       "      <td>...</td>\n",
       "      <td>...</td>\n",
       "      <td>...</td>\n",
       "      <td>...</td>\n",
       "      <td>...</td>\n",
       "      <td>...</td>\n",
       "      <td>...</td>\n",
       "    </tr>\n",
       "    <tr>\n",
       "      <th>1188</th>\n",
       "      <td>Ca</td>\n",
       "      <td>San-mateo-county</td>\n",
       "      <td>Redwood city</td>\n",
       "      <td>327 g st</td>\n",
       "      <td>94063</td>\n",
       "      <td>Single family home</td>\n",
       "      <td>Active</td>\n",
       "      <td>1649000.0</td>\n",
       "      <td>1951</td>\n",
       "      <td>3.0</td>\n",
       "      <td>2.0</td>\n",
       "      <td>1244.0</td>\n",
       "      <td>5876.0</td>\n",
       "      <td>0.0</td>\n",
       "      <td>9</td>\n",
       "      <td>65</td>\n",
       "      <td>81.0</td>\n",
       "      <td>Yes</td>\n",
       "      <td>1674965.0</td>\n",
       "    </tr>\n",
       "    <tr>\n",
       "      <th>1189</th>\n",
       "      <td>Ca</td>\n",
       "      <td>San-mateo-county</td>\n",
       "      <td>Hillsborough</td>\n",
       "      <td>5 jewell pl</td>\n",
       "      <td>94010</td>\n",
       "      <td>Single family home</td>\n",
       "      <td>Active</td>\n",
       "      <td>4888000.0</td>\n",
       "      <td>1965</td>\n",
       "      <td>3.0</td>\n",
       "      <td>3.0</td>\n",
       "      <td>2890.0</td>\n",
       "      <td>27007.2</td>\n",
       "      <td>0.0</td>\n",
       "      <td>9</td>\n",
       "      <td>1</td>\n",
       "      <td>2.0</td>\n",
       "      <td>Yes</td>\n",
       "      <td>4889102.0</td>\n",
       "    </tr>\n",
       "    <tr>\n",
       "      <th>1190</th>\n",
       "      <td>Ca</td>\n",
       "      <td>San-mateo-county</td>\n",
       "      <td>Belmont</td>\n",
       "      <td>3322 plateau dr</td>\n",
       "      <td>94002</td>\n",
       "      <td>Single family home</td>\n",
       "      <td>Active</td>\n",
       "      <td>2488000.0</td>\n",
       "      <td>1966</td>\n",
       "      <td>6.0</td>\n",
       "      <td>3.0</td>\n",
       "      <td>2240.0</td>\n",
       "      <td>10290.0</td>\n",
       "      <td>0.0</td>\n",
       "      <td>9</td>\n",
       "      <td>9</td>\n",
       "      <td>19.0</td>\n",
       "      <td>Yes</td>\n",
       "      <td>2463021.0</td>\n",
       "    </tr>\n",
       "    <tr>\n",
       "      <th>1191</th>\n",
       "      <td>Ca</td>\n",
       "      <td>San-mateo-county</td>\n",
       "      <td>San mateo</td>\n",
       "      <td>102 waters park cir</td>\n",
       "      <td>94403</td>\n",
       "      <td>Townhouse</td>\n",
       "      <td>New</td>\n",
       "      <td>1463917.0</td>\n",
       "      <td>2021</td>\n",
       "      <td>2.0</td>\n",
       "      <td>2.5</td>\n",
       "      <td>1602.0</td>\n",
       "      <td>10290.0</td>\n",
       "      <td>350.0</td>\n",
       "      <td>7</td>\n",
       "      <td>48</td>\n",
       "      <td>75.0</td>\n",
       "      <td>Yes</td>\n",
       "      <td>1462581.0</td>\n",
       "    </tr>\n",
       "    <tr>\n",
       "      <th>1192</th>\n",
       "      <td>Ca</td>\n",
       "      <td>San-mateo-county</td>\n",
       "      <td>Foster city</td>\n",
       "      <td>1032 sanderling st</td>\n",
       "      <td>94404</td>\n",
       "      <td>Single family home</td>\n",
       "      <td>Active</td>\n",
       "      <td>1798000.0</td>\n",
       "      <td>1965</td>\n",
       "      <td>4.0</td>\n",
       "      <td>3.0</td>\n",
       "      <td>2450.0</td>\n",
       "      <td>5700.0</td>\n",
       "      <td>0.0</td>\n",
       "      <td>7</td>\n",
       "      <td>38</td>\n",
       "      <td>68.0</td>\n",
       "      <td>Yes</td>\n",
       "      <td>1841263.0</td>\n",
       "    </tr>\n",
       "  </tbody>\n",
       "</table>\n",
       "<p>1193 rows × 19 columns</p>\n",
       "</div>"
      ],
      "text/plain": [
       "     State               County           City                 Street Zipcode  \\\n",
       "0       Ca  Contra-costa-county         Oakley        2537 talaria dr   94561   \n",
       "1       Ca  Contra-costa-county  Pleasant hill          66 kathryn dr   94523   \n",
       "2       Ca  Contra-costa-county      San ramon       3246 ensenada dr   94583   \n",
       "3       Ca  Contra-costa-county      Lafayette  1845 reliez valley rd   94549   \n",
       "4       Ca  Contra-costa-county         Orinda        40 via floreado   94563   \n",
       "...    ...                  ...            ...                    ...     ...   \n",
       "1188    Ca     San-mateo-county   Redwood city               327 g st   94063   \n",
       "1189    Ca     San-mateo-county   Hillsborough            5 jewell pl   94010   \n",
       "1190    Ca     San-mateo-county        Belmont        3322 plateau dr   94002   \n",
       "1191    Ca     San-mateo-county      San mateo    102 waters park cir   94403   \n",
       "1192    Ca     San-mateo-county    Foster city     1032 sanderling st   94404   \n",
       "\n",
       "                  Property_Type          Status      Price  Year_Built  Beds  \\\n",
       "0     Single family residential  Back on market   649999.0        2014   3.0   \n",
       "1     Single family residential    Price change   998000.0        1952   3.0   \n",
       "2     Single family residential             New  1395000.0        1976   4.0   \n",
       "3     Single family residential          Active  1848888.0        1934   5.0   \n",
       "4     Single family residential             New  2150000.0        1926   5.0   \n",
       "...                         ...             ...        ...         ...   ...   \n",
       "1188         Single family home          Active  1649000.0        1951   3.0   \n",
       "1189         Single family home          Active  4888000.0        1965   3.0   \n",
       "1190         Single family home          Active  2488000.0        1966   6.0   \n",
       "1191                  Townhouse             New  1463917.0        2021   2.0   \n",
       "1192         Single family home          Active  1798000.0        1965   4.0   \n",
       "\n",
       "      Bath    Sqft  Lot Area  HOA Due  School_rating  WalkScore  Bike_Score  \\\n",
       "0      2.5  2279.0    6228.0    114.0              6          6        35.0   \n",
       "1      1.0  1315.0    6650.0      0.0              8         83        76.0   \n",
       "2      2.5  1880.0    7000.0      0.0              9         26        67.0   \n",
       "3      3.5  2733.0   37897.2      0.0              9          4         3.0   \n",
       "4      3.5  2516.0   21780.0      0.0              9          1         4.0   \n",
       "...    ...     ...       ...      ...            ...        ...         ...   \n",
       "1188   2.0  1244.0    5876.0      0.0              9         65        81.0   \n",
       "1189   3.0  2890.0   27007.2      0.0              9          1         2.0   \n",
       "1190   3.0  2240.0   10290.0      0.0              9          9        19.0   \n",
       "1191   2.5  1602.0   10290.0    350.0              7         48        75.0   \n",
       "1192   3.0  2450.0    5700.0      0.0              7         38        68.0   \n",
       "\n",
       "     Garage_availability  Redfin_estimate  \n",
       "0                    Yes         655836.0  \n",
       "1                    Yes        1048496.0  \n",
       "2                    Yes        1413765.0  \n",
       "3                    Yes        1861281.0  \n",
       "4                    Yes        2152108.0  \n",
       "...                  ...              ...  \n",
       "1188                 Yes        1674965.0  \n",
       "1189                 Yes        4889102.0  \n",
       "1190                 Yes        2463021.0  \n",
       "1191                 Yes        1462581.0  \n",
       "1192                 Yes        1841263.0  \n",
       "\n",
       "[1193 rows x 19 columns]"
      ]
     },
     "execution_count": 47,
     "metadata": {},
     "output_type": "execute_result"
    }
   ],
   "source": [
    "df"
   ]
  },
  {
   "cell_type": "code",
   "execution_count": null,
   "id": "348ff953",
   "metadata": {},
   "outputs": [],
   "source": [
    "#Removing Duplicates"
   ]
  },
  {
   "cell_type": "code",
   "execution_count": 48,
   "id": "db5288fe",
   "metadata": {},
   "outputs": [
    {
     "data": {
      "text/plain": [
       "False    1193\n",
       "dtype: int64"
      ]
     },
     "execution_count": 48,
     "metadata": {},
     "output_type": "execute_result"
    }
   ],
   "source": [
    "df.duplicated().value_counts()"
   ]
  },
  {
   "cell_type": "code",
   "execution_count": 49,
   "id": "3daff326",
   "metadata": {},
   "outputs": [],
   "source": [
    "df=df.drop_duplicates()"
   ]
  },
  {
   "cell_type": "code",
   "execution_count": 50,
   "id": "969321e6",
   "metadata": {},
   "outputs": [
    {
     "data": {
      "text/html": [
       "<div>\n",
       "<style scoped>\n",
       "    .dataframe tbody tr th:only-of-type {\n",
       "        vertical-align: middle;\n",
       "    }\n",
       "\n",
       "    .dataframe tbody tr th {\n",
       "        vertical-align: top;\n",
       "    }\n",
       "\n",
       "    .dataframe thead th {\n",
       "        text-align: right;\n",
       "    }\n",
       "</style>\n",
       "<table border=\"1\" class=\"dataframe\">\n",
       "  <thead>\n",
       "    <tr style=\"text-align: right;\">\n",
       "      <th></th>\n",
       "      <th>State</th>\n",
       "      <th>County</th>\n",
       "      <th>City</th>\n",
       "      <th>Street</th>\n",
       "      <th>Zipcode</th>\n",
       "      <th>Property_Type</th>\n",
       "      <th>Status</th>\n",
       "      <th>Price</th>\n",
       "      <th>Year_Built</th>\n",
       "      <th>Beds</th>\n",
       "      <th>Bath</th>\n",
       "      <th>Sqft</th>\n",
       "      <th>Lot Area</th>\n",
       "      <th>HOA Due</th>\n",
       "      <th>School_rating</th>\n",
       "      <th>WalkScore</th>\n",
       "      <th>Bike_Score</th>\n",
       "      <th>Garage_availability</th>\n",
       "      <th>Redfin_estimate</th>\n",
       "    </tr>\n",
       "  </thead>\n",
       "  <tbody>\n",
       "    <tr>\n",
       "      <th>0</th>\n",
       "      <td>Ca</td>\n",
       "      <td>Contra-costa-county</td>\n",
       "      <td>Oakley</td>\n",
       "      <td>2537 talaria dr</td>\n",
       "      <td>94561</td>\n",
       "      <td>Single family residential</td>\n",
       "      <td>Back on market</td>\n",
       "      <td>649999.0</td>\n",
       "      <td>2014</td>\n",
       "      <td>3.0</td>\n",
       "      <td>2.5</td>\n",
       "      <td>2279.0</td>\n",
       "      <td>6228.0</td>\n",
       "      <td>114.0</td>\n",
       "      <td>6</td>\n",
       "      <td>6</td>\n",
       "      <td>35.0</td>\n",
       "      <td>Yes</td>\n",
       "      <td>655836.0</td>\n",
       "    </tr>\n",
       "    <tr>\n",
       "      <th>1</th>\n",
       "      <td>Ca</td>\n",
       "      <td>Contra-costa-county</td>\n",
       "      <td>Pleasant hill</td>\n",
       "      <td>66 kathryn dr</td>\n",
       "      <td>94523</td>\n",
       "      <td>Single family residential</td>\n",
       "      <td>Price change</td>\n",
       "      <td>998000.0</td>\n",
       "      <td>1952</td>\n",
       "      <td>3.0</td>\n",
       "      <td>1.0</td>\n",
       "      <td>1315.0</td>\n",
       "      <td>6650.0</td>\n",
       "      <td>0.0</td>\n",
       "      <td>8</td>\n",
       "      <td>83</td>\n",
       "      <td>76.0</td>\n",
       "      <td>Yes</td>\n",
       "      <td>1048496.0</td>\n",
       "    </tr>\n",
       "    <tr>\n",
       "      <th>2</th>\n",
       "      <td>Ca</td>\n",
       "      <td>Contra-costa-county</td>\n",
       "      <td>San ramon</td>\n",
       "      <td>3246 ensenada dr</td>\n",
       "      <td>94583</td>\n",
       "      <td>Single family residential</td>\n",
       "      <td>New</td>\n",
       "      <td>1395000.0</td>\n",
       "      <td>1976</td>\n",
       "      <td>4.0</td>\n",
       "      <td>2.5</td>\n",
       "      <td>1880.0</td>\n",
       "      <td>7000.0</td>\n",
       "      <td>0.0</td>\n",
       "      <td>9</td>\n",
       "      <td>26</td>\n",
       "      <td>67.0</td>\n",
       "      <td>Yes</td>\n",
       "      <td>1413765.0</td>\n",
       "    </tr>\n",
       "    <tr>\n",
       "      <th>3</th>\n",
       "      <td>Ca</td>\n",
       "      <td>Contra-costa-county</td>\n",
       "      <td>Lafayette</td>\n",
       "      <td>1845 reliez valley rd</td>\n",
       "      <td>94549</td>\n",
       "      <td>Single family residential</td>\n",
       "      <td>Active</td>\n",
       "      <td>1848888.0</td>\n",
       "      <td>1934</td>\n",
       "      <td>5.0</td>\n",
       "      <td>3.5</td>\n",
       "      <td>2733.0</td>\n",
       "      <td>37897.2</td>\n",
       "      <td>0.0</td>\n",
       "      <td>9</td>\n",
       "      <td>4</td>\n",
       "      <td>3.0</td>\n",
       "      <td>Yes</td>\n",
       "      <td>1861281.0</td>\n",
       "    </tr>\n",
       "    <tr>\n",
       "      <th>4</th>\n",
       "      <td>Ca</td>\n",
       "      <td>Contra-costa-county</td>\n",
       "      <td>Orinda</td>\n",
       "      <td>40 via floreado</td>\n",
       "      <td>94563</td>\n",
       "      <td>Single family residential</td>\n",
       "      <td>New</td>\n",
       "      <td>2150000.0</td>\n",
       "      <td>1926</td>\n",
       "      <td>5.0</td>\n",
       "      <td>3.5</td>\n",
       "      <td>2516.0</td>\n",
       "      <td>21780.0</td>\n",
       "      <td>0.0</td>\n",
       "      <td>9</td>\n",
       "      <td>1</td>\n",
       "      <td>4.0</td>\n",
       "      <td>Yes</td>\n",
       "      <td>2152108.0</td>\n",
       "    </tr>\n",
       "    <tr>\n",
       "      <th>...</th>\n",
       "      <td>...</td>\n",
       "      <td>...</td>\n",
       "      <td>...</td>\n",
       "      <td>...</td>\n",
       "      <td>...</td>\n",
       "      <td>...</td>\n",
       "      <td>...</td>\n",
       "      <td>...</td>\n",
       "      <td>...</td>\n",
       "      <td>...</td>\n",
       "      <td>...</td>\n",
       "      <td>...</td>\n",
       "      <td>...</td>\n",
       "      <td>...</td>\n",
       "      <td>...</td>\n",
       "      <td>...</td>\n",
       "      <td>...</td>\n",
       "      <td>...</td>\n",
       "      <td>...</td>\n",
       "    </tr>\n",
       "    <tr>\n",
       "      <th>1188</th>\n",
       "      <td>Ca</td>\n",
       "      <td>San-mateo-county</td>\n",
       "      <td>Redwood city</td>\n",
       "      <td>327 g st</td>\n",
       "      <td>94063</td>\n",
       "      <td>Single family home</td>\n",
       "      <td>Active</td>\n",
       "      <td>1649000.0</td>\n",
       "      <td>1951</td>\n",
       "      <td>3.0</td>\n",
       "      <td>2.0</td>\n",
       "      <td>1244.0</td>\n",
       "      <td>5876.0</td>\n",
       "      <td>0.0</td>\n",
       "      <td>9</td>\n",
       "      <td>65</td>\n",
       "      <td>81.0</td>\n",
       "      <td>Yes</td>\n",
       "      <td>1674965.0</td>\n",
       "    </tr>\n",
       "    <tr>\n",
       "      <th>1189</th>\n",
       "      <td>Ca</td>\n",
       "      <td>San-mateo-county</td>\n",
       "      <td>Hillsborough</td>\n",
       "      <td>5 jewell pl</td>\n",
       "      <td>94010</td>\n",
       "      <td>Single family home</td>\n",
       "      <td>Active</td>\n",
       "      <td>4888000.0</td>\n",
       "      <td>1965</td>\n",
       "      <td>3.0</td>\n",
       "      <td>3.0</td>\n",
       "      <td>2890.0</td>\n",
       "      <td>27007.2</td>\n",
       "      <td>0.0</td>\n",
       "      <td>9</td>\n",
       "      <td>1</td>\n",
       "      <td>2.0</td>\n",
       "      <td>Yes</td>\n",
       "      <td>4889102.0</td>\n",
       "    </tr>\n",
       "    <tr>\n",
       "      <th>1190</th>\n",
       "      <td>Ca</td>\n",
       "      <td>San-mateo-county</td>\n",
       "      <td>Belmont</td>\n",
       "      <td>3322 plateau dr</td>\n",
       "      <td>94002</td>\n",
       "      <td>Single family home</td>\n",
       "      <td>Active</td>\n",
       "      <td>2488000.0</td>\n",
       "      <td>1966</td>\n",
       "      <td>6.0</td>\n",
       "      <td>3.0</td>\n",
       "      <td>2240.0</td>\n",
       "      <td>10290.0</td>\n",
       "      <td>0.0</td>\n",
       "      <td>9</td>\n",
       "      <td>9</td>\n",
       "      <td>19.0</td>\n",
       "      <td>Yes</td>\n",
       "      <td>2463021.0</td>\n",
       "    </tr>\n",
       "    <tr>\n",
       "      <th>1191</th>\n",
       "      <td>Ca</td>\n",
       "      <td>San-mateo-county</td>\n",
       "      <td>San mateo</td>\n",
       "      <td>102 waters park cir</td>\n",
       "      <td>94403</td>\n",
       "      <td>Townhouse</td>\n",
       "      <td>New</td>\n",
       "      <td>1463917.0</td>\n",
       "      <td>2021</td>\n",
       "      <td>2.0</td>\n",
       "      <td>2.5</td>\n",
       "      <td>1602.0</td>\n",
       "      <td>10290.0</td>\n",
       "      <td>350.0</td>\n",
       "      <td>7</td>\n",
       "      <td>48</td>\n",
       "      <td>75.0</td>\n",
       "      <td>Yes</td>\n",
       "      <td>1462581.0</td>\n",
       "    </tr>\n",
       "    <tr>\n",
       "      <th>1192</th>\n",
       "      <td>Ca</td>\n",
       "      <td>San-mateo-county</td>\n",
       "      <td>Foster city</td>\n",
       "      <td>1032 sanderling st</td>\n",
       "      <td>94404</td>\n",
       "      <td>Single family home</td>\n",
       "      <td>Active</td>\n",
       "      <td>1798000.0</td>\n",
       "      <td>1965</td>\n",
       "      <td>4.0</td>\n",
       "      <td>3.0</td>\n",
       "      <td>2450.0</td>\n",
       "      <td>5700.0</td>\n",
       "      <td>0.0</td>\n",
       "      <td>7</td>\n",
       "      <td>38</td>\n",
       "      <td>68.0</td>\n",
       "      <td>Yes</td>\n",
       "      <td>1841263.0</td>\n",
       "    </tr>\n",
       "  </tbody>\n",
       "</table>\n",
       "<p>1193 rows × 19 columns</p>\n",
       "</div>"
      ],
      "text/plain": [
       "     State               County           City                 Street Zipcode  \\\n",
       "0       Ca  Contra-costa-county         Oakley        2537 talaria dr   94561   \n",
       "1       Ca  Contra-costa-county  Pleasant hill          66 kathryn dr   94523   \n",
       "2       Ca  Contra-costa-county      San ramon       3246 ensenada dr   94583   \n",
       "3       Ca  Contra-costa-county      Lafayette  1845 reliez valley rd   94549   \n",
       "4       Ca  Contra-costa-county         Orinda        40 via floreado   94563   \n",
       "...    ...                  ...            ...                    ...     ...   \n",
       "1188    Ca     San-mateo-county   Redwood city               327 g st   94063   \n",
       "1189    Ca     San-mateo-county   Hillsborough            5 jewell pl   94010   \n",
       "1190    Ca     San-mateo-county        Belmont        3322 plateau dr   94002   \n",
       "1191    Ca     San-mateo-county      San mateo    102 waters park cir   94403   \n",
       "1192    Ca     San-mateo-county    Foster city     1032 sanderling st   94404   \n",
       "\n",
       "                  Property_Type          Status      Price  Year_Built  Beds  \\\n",
       "0     Single family residential  Back on market   649999.0        2014   3.0   \n",
       "1     Single family residential    Price change   998000.0        1952   3.0   \n",
       "2     Single family residential             New  1395000.0        1976   4.0   \n",
       "3     Single family residential          Active  1848888.0        1934   5.0   \n",
       "4     Single family residential             New  2150000.0        1926   5.0   \n",
       "...                         ...             ...        ...         ...   ...   \n",
       "1188         Single family home          Active  1649000.0        1951   3.0   \n",
       "1189         Single family home          Active  4888000.0        1965   3.0   \n",
       "1190         Single family home          Active  2488000.0        1966   6.0   \n",
       "1191                  Townhouse             New  1463917.0        2021   2.0   \n",
       "1192         Single family home          Active  1798000.0        1965   4.0   \n",
       "\n",
       "      Bath    Sqft  Lot Area  HOA Due  School_rating  WalkScore  Bike_Score  \\\n",
       "0      2.5  2279.0    6228.0    114.0              6          6        35.0   \n",
       "1      1.0  1315.0    6650.0      0.0              8         83        76.0   \n",
       "2      2.5  1880.0    7000.0      0.0              9         26        67.0   \n",
       "3      3.5  2733.0   37897.2      0.0              9          4         3.0   \n",
       "4      3.5  2516.0   21780.0      0.0              9          1         4.0   \n",
       "...    ...     ...       ...      ...            ...        ...         ...   \n",
       "1188   2.0  1244.0    5876.0      0.0              9         65        81.0   \n",
       "1189   3.0  2890.0   27007.2      0.0              9          1         2.0   \n",
       "1190   3.0  2240.0   10290.0      0.0              9          9        19.0   \n",
       "1191   2.5  1602.0   10290.0    350.0              7         48        75.0   \n",
       "1192   3.0  2450.0    5700.0      0.0              7         38        68.0   \n",
       "\n",
       "     Garage_availability  Redfin_estimate  \n",
       "0                    Yes         655836.0  \n",
       "1                    Yes        1048496.0  \n",
       "2                    Yes        1413765.0  \n",
       "3                    Yes        1861281.0  \n",
       "4                    Yes        2152108.0  \n",
       "...                  ...              ...  \n",
       "1188                 Yes        1674965.0  \n",
       "1189                 Yes        4889102.0  \n",
       "1190                 Yes        2463021.0  \n",
       "1191                 Yes        1462581.0  \n",
       "1192                 Yes        1841263.0  \n",
       "\n",
       "[1193 rows x 19 columns]"
      ]
     },
     "execution_count": 50,
     "metadata": {},
     "output_type": "execute_result"
    }
   ],
   "source": [
    "df"
   ]
  },
  {
   "cell_type": "code",
   "execution_count": 51,
   "id": "bde7052c",
   "metadata": {},
   "outputs": [
    {
     "data": {
      "text/plain": [
       "Price               115.210649\n",
       "Year_Built           -0.428832\n",
       "Beds                  4.093592\n",
       "Bath                  4.434679\n",
       "Sqft                 17.545597\n",
       "Lot Area           1034.096255\n",
       "HOA Due             106.361076\n",
       "School_rating         0.067668\n",
       "WalkScore            -1.205246\n",
       "Bike_Score           -0.412292\n",
       "Redfin_estimate     115.757196\n",
       "dtype: float64"
      ]
     },
     "execution_count": 51,
     "metadata": {},
     "output_type": "execute_result"
    }
   ],
   "source": [
    "df.kurt(numeric_only=True)"
   ]
  },
  {
   "cell_type": "code",
   "execution_count": 52,
   "id": "35632212",
   "metadata": {},
   "outputs": [
    {
     "data": {
      "text/plain": [
       "count    1.193000e+03\n",
       "mean     1.493836e+06\n",
       "std      1.690104e+06\n",
       "min      9.000000e+04\n",
       "25%      7.000000e+05\n",
       "50%      1.048888e+06\n",
       "75%      1.795000e+06\n",
       "max      3.195000e+07\n",
       "Name: Price, dtype: float64"
      ]
     },
     "execution_count": 52,
     "metadata": {},
     "output_type": "execute_result"
    }
   ],
   "source": [
    "df['Price'].describe()"
   ]
  },
  {
   "cell_type": "code",
   "execution_count": 53,
   "id": "f1f8b05d",
   "metadata": {},
   "outputs": [
    {
     "data": {
      "text/plain": [
       "count    1193.000000\n",
       "mean        3.279966\n",
       "std         1.256023\n",
       "min         0.000000\n",
       "25%         2.000000\n",
       "50%         3.000000\n",
       "75%         4.000000\n",
       "max        13.000000\n",
       "Name: Beds, dtype: float64"
      ]
     },
     "execution_count": 53,
     "metadata": {},
     "output_type": "execute_result"
    }
   ],
   "source": [
    "df['Beds'].describe()"
   ]
  },
  {
   "cell_type": "code",
   "execution_count": 54,
   "id": "68ed6b90",
   "metadata": {},
   "outputs": [
    {
     "data": {
      "text/plain": [
       "count    1193.000000\n",
       "mean        2.381391\n",
       "std         1.072055\n",
       "min         0.000000\n",
       "25%         2.000000\n",
       "50%         2.000000\n",
       "75%         3.000000\n",
       "max         9.000000\n",
       "Name: Bath, dtype: float64"
      ]
     },
     "execution_count": 54,
     "metadata": {},
     "output_type": "execute_result"
    }
   ],
   "source": [
    "df['Bath'].describe()"
   ]
  },
  {
   "cell_type": "code",
   "execution_count": 55,
   "id": "58394c2f",
   "metadata": {},
   "outputs": [
    {
     "data": {
      "text/plain": [
       "count     1193.000000\n",
       "mean      1969.083822\n",
       "std       1181.828598\n",
       "min        375.000000\n",
       "25%       1204.000000\n",
       "50%       1705.000000\n",
       "75%       2406.000000\n",
       "max      13825.000000\n",
       "Name: Sqft, dtype: float64"
      ]
     },
     "execution_count": 55,
     "metadata": {},
     "output_type": "execute_result"
    }
   ],
   "source": [
    "df['Sqft'].describe()"
   ]
  },
  {
   "cell_type": "code",
   "execution_count": 56,
   "id": "ece635ed",
   "metadata": {},
   "outputs": [
    {
     "data": {
      "text/plain": [
       "count    1193.000000\n",
       "mean      158.766974\n",
       "std       405.493186\n",
       "min         0.000000\n",
       "25%         0.000000\n",
       "50%         0.000000\n",
       "75%       214.000000\n",
       "max      6545.000000\n",
       "Name: HOA Due, dtype: float64"
      ]
     },
     "execution_count": 56,
     "metadata": {},
     "output_type": "execute_result"
    }
   ],
   "source": [
    "df['HOA Due'].describe()"
   ]
  },
  {
   "cell_type": "code",
   "execution_count": 57,
   "id": "511cb659",
   "metadata": {},
   "outputs": [
    {
     "data": {
      "text/plain": [
       "count    1.193000e+03\n",
       "mean     4.005982e+04\n",
       "std      5.922061e+05\n",
       "min      1.000000e+00\n",
       "25%      4.794000e+03\n",
       "50%      6.400000e+03\n",
       "75%      1.000000e+04\n",
       "max      1.975010e+07\n",
       "Name: Lot Area, dtype: float64"
      ]
     },
     "execution_count": 57,
     "metadata": {},
     "output_type": "execute_result"
    }
   ],
   "source": [
    "df['Lot Area'].describe()"
   ]
  },
  {
   "cell_type": "code",
   "execution_count": 58,
   "id": "32b2c706",
   "metadata": {},
   "outputs": [
    {
     "data": {
      "text/plain": [
       "count    1.193000e+03\n",
       "mean     1.356406e+06\n",
       "std      1.590475e+06\n",
       "min      0.000000e+00\n",
       "25%      6.263230e+05\n",
       "50%      9.692350e+05\n",
       "75%      1.674965e+06\n",
       "max      3.078192e+07\n",
       "Name: Redfin_estimate, dtype: float64"
      ]
     },
     "execution_count": 58,
     "metadata": {},
     "output_type": "execute_result"
    }
   ],
   "source": [
    "df['Redfin_estimate'].describe()"
   ]
  },
  {
   "cell_type": "code",
   "execution_count": null,
   "id": "5a3e42cd",
   "metadata": {},
   "outputs": [],
   "source": [
    "#Detecting Outliers"
   ]
  },
  {
   "cell_type": "code",
   "execution_count": 59,
   "id": "53f461d6",
   "metadata": {},
   "outputs": [
    {
     "data": {
      "text/plain": [
       "<AxesSubplot:xlabel='Price'>"
      ]
     },
     "execution_count": 59,
     "metadata": {},
     "output_type": "execute_result"
    },
    {
     "data": {
      "image/png": "[encoded data removed]",
      "text/plain": [
       "<Figure size 432x288 with 1 Axes>"
      ]
     },
     "metadata": {
      "needs_background": "light"
     },
     "output_type": "display_data"
    }
   ],
   "source": [
    "sns.boxplot(x=df['Price'])"
   ]
  },
  {
   "cell_type": "code",
   "execution_count": 60,
   "id": "ed43cd70",
   "metadata": {},
   "outputs": [
    {
     "data": {
      "text/plain": [
       "<AxesSubplot:xlabel='Beds'>"
      ]
     },
     "execution_count": 60,
     "metadata": {},
     "output_type": "execute_result"
    },
    {
     "data": {
      "image/png": "[encoded data removed]",
      "text/plain": [
       "<Figure size 432x288 with 1 Axes>"
      ]
     },
     "metadata": {
      "needs_background": "light"
     },
     "output_type": "display_data"
    }
   ],
   "source": [
    "sns.boxplot(x=df['Beds'])"
   ]
  },
  {
   "cell_type": "code",
   "execution_count": 61,
   "id": "bb436096",
   "metadata": {},
   "outputs": [
    {
     "data": {
      "text/plain": [
       "<AxesSubplot:xlabel='Bath'>"
      ]
     },
     "execution_count": 61,
     "metadata": {},
     "output_type": "execute_result"
    },
    {
     "data": {
      "image/png": "[encoded data removed]",
      "text/plain": [
       "<Figure size 432x288 with 1 Axes>"
      ]
     },
     "metadata": {
      "needs_background": "light"
     },
     "output_type": "display_data"
    }
   ],
   "source": [
    "sns.boxplot(x=df['Bath'])"
   ]
  },
  {
   "cell_type": "code",
   "execution_count": 62,
   "id": "58b96bf2",
   "metadata": {},
   "outputs": [
    {
     "data": {
      "text/plain": [
       "<AxesSubplot:xlabel='Sqft'>"
      ]
     },
     "execution_count": 62,
     "metadata": {},
     "output_type": "execute_result"
    },
    {
     "data": {
      "image/png": "[encoded data removed]",
      "text/plain": [
       "<Figure size 432x288 with 1 Axes>"
      ]
     },
     "metadata": {
      "needs_background": "light"
     },
     "output_type": "display_data"
    }
   ],
   "source": [
    "sns.boxplot(x=df['Sqft'])"
   ]
  },
  {
   "cell_type": "code",
   "execution_count": 63,
   "id": "ec7c6728",
   "metadata": {},
   "outputs": [
    {
     "data": {
      "text/plain": [
       "<AxesSubplot:xlabel='HOA Due'>"
      ]
     },
     "execution_count": 63,
     "metadata": {},
     "output_type": "execute_result"
    },
    {
     "data": {
      "image/png": "[encoded data removed]",
      "text/plain": [
       "<Figure size 432x288 with 1 Axes>"
      ]
     },
     "metadata": {
      "needs_background": "light"
     },
     "output_type": "display_data"
    }
   ],
   "source": [
    "sns.boxplot(x=df['HOA Due'])"
   ]
  },
  {
   "cell_type": "code",
   "execution_count": 64,
   "id": "eaf7dba3",
   "metadata": {},
   "outputs": [
    {
     "data": {
      "text/plain": [
       "<AxesSubplot:xlabel='Lot Area'>"
      ]
     },
     "execution_count": 64,
     "metadata": {},
     "output_type": "execute_result"
    },
    {
     "data": {
      "image/png": "[encoded data removed]",
      "text/plain": [
       "<Figure size 432x288 with 1 Axes>"
      ]
     },
     "metadata": {
      "needs_background": "light"
     },
     "output_type": "display_data"
    }
   ],
   "source": [
    "sns.boxplot(x=df['Lot Area'])"
   ]
  },
  {
   "cell_type": "code",
   "execution_count": 65,
   "id": "c3e7eec8",
   "metadata": {},
   "outputs": [
    {
     "data": {
      "text/plain": [
       "<AxesSubplot:xlabel='Redfin_estimate'>"
      ]
     },
     "execution_count": 65,
     "metadata": {},
     "output_type": "execute_result"
    },
    {
     "data": {
      "image/png": "[encoded data removed]",
      "text/plain": [
       "<Figure size 432x288 with 1 Axes>"
      ]
     },
     "metadata": {
      "needs_background": "light"
     },
     "output_type": "display_data"
    }
   ],
   "source": [
    "sns.boxplot(x=df['Redfin_estimate'])"
   ]
  },
  {
   "cell_type": "code",
   "execution_count": 66,
   "id": "8eb60ab5",
   "metadata": {},
   "outputs": [
    {
     "data": {
      "text/plain": [
       "1095000.0"
      ]
     },
     "execution_count": 66,
     "metadata": {},
     "output_type": "execute_result"
    }
   ],
   "source": [
    "Q1_Price = df['Price'].quantile(0.25)\n",
    "Q3_Price = df['Price'].quantile(0.75)\n",
    "IQR_Price = Q3_Price - Q1_Price\n",
    "IQR_Price"
   ]
  },
  {
   "cell_type": "code",
   "execution_count": 67,
   "id": "ee4dcd27",
   "metadata": {},
   "outputs": [
    {
     "data": {
      "text/plain": [
       "2.0"
      ]
     },
     "execution_count": 67,
     "metadata": {},
     "output_type": "execute_result"
    }
   ],
   "source": [
    "Q1_Beds = df['Beds'].quantile(0.25)\n",
    "Q3_Beds = df['Beds'].quantile(0.75)\n",
    "IQR_Beds = Q3_Beds - Q1_Beds\n",
    "IQR_Beds"
   ]
  },
  {
   "cell_type": "code",
   "execution_count": 68,
   "id": "05af9973",
   "metadata": {},
   "outputs": [
    {
     "data": {
      "text/plain": [
       "1.0"
      ]
     },
     "execution_count": 68,
     "metadata": {},
     "output_type": "execute_result"
    }
   ],
   "source": [
    "Q1_Bath = df['Bath'].quantile(0.25)\n",
    "Q3_Bath = df['Bath'].quantile(0.75)\n",
    "IQR_Bath = Q3_Bath - Q1_Bath\n",
    "IQR_Bath"
   ]
  },
  {
   "cell_type": "code",
   "execution_count": 69,
   "id": "fd080ba0",
   "metadata": {},
   "outputs": [
    {
     "data": {
      "text/plain": [
       "1202.0"
      ]
     },
     "execution_count": 69,
     "metadata": {},
     "output_type": "execute_result"
    }
   ],
   "source": [
    "Q1_Sqft = df['Sqft'].quantile(0.25)\n",
    "Q3_Sqft = df['Sqft'].quantile(0.75)\n",
    "IQR_Sqft = Q3_Sqft - Q1_Sqft\n",
    "IQR_Sqft"
   ]
  },
  {
   "cell_type": "code",
   "execution_count": 70,
   "id": "c28e83c9",
   "metadata": {},
   "outputs": [
    {
     "data": {
      "text/plain": [
       "214.0"
      ]
     },
     "execution_count": 70,
     "metadata": {},
     "output_type": "execute_result"
    }
   ],
   "source": [
    "Q1_HOA = df['HOA Due'].quantile(0.25)\n",
    "Q3_HOA = df['HOA Due'].quantile(0.75)\n",
    "IQR_HOA = Q3_HOA - Q1_HOA\n",
    "IQR_HOA"
   ]
  },
  {
   "cell_type": "code",
   "execution_count": 71,
   "id": "9522026b",
   "metadata": {},
   "outputs": [
    {
     "data": {
      "text/plain": [
       "5206.0"
      ]
     },
     "execution_count": 71,
     "metadata": {},
     "output_type": "execute_result"
    }
   ],
   "source": [
    "Q1_LotArea = df['Lot Area'].quantile(0.25)\n",
    "Q3_LotArea = df['Lot Area'].quantile(0.75)\n",
    "IQR_LotArea = Q3_LotArea - Q1_LotArea\n",
    "IQR_LotArea"
   ]
  },
  {
   "cell_type": "code",
   "execution_count": 72,
   "id": "81b3e04d",
   "metadata": {},
   "outputs": [
    {
     "data": {
      "text/plain": [
       "1048642.0"
      ]
     },
     "execution_count": 72,
     "metadata": {},
     "output_type": "execute_result"
    }
   ],
   "source": [
    "Q1_RedfinEstimate = df['Redfin_estimate'].quantile(0.25)\n",
    "Q3_RedfinEstimate = df['Redfin_estimate'].quantile(0.75)\n",
    "IQR_RedfinEstimate = Q3_RedfinEstimate - Q1_RedfinEstimate\n",
    "IQR_RedfinEstimate"
   ]
  },
  {
   "cell_type": "code",
   "execution_count": 73,
   "id": "c7bb49bb",
   "metadata": {},
   "outputs": [],
   "source": [
    "df['Price'] = df['Price'][~((df['Price'] < (Q1_Price - 1.5 * IQR_Price)) |(df['Price'] > \n",
    "                                                                           (Q3_Price + 1.5 * IQR_Price)))]"
   ]
  },
  {
   "cell_type": "code",
   "execution_count": 74,
   "id": "b304ee8c",
   "metadata": {},
   "outputs": [],
   "source": [
    "df['Beds'] = df['Beds'][~((df['Beds'] < (Q1_Beds - 1.5 * IQR_Beds)) |(df['Beds'] > \n",
    "                                                                           (Q3_Beds + 1.5 * IQR_Beds)))]"
   ]
  },
  {
   "cell_type": "code",
   "execution_count": 75,
   "id": "f59b2b27",
   "metadata": {},
   "outputs": [],
   "source": [
    "df['Bath'] = df['Bath'][~((df['Bath'] < (Q1_Bath - 1.5 * IQR_Bath)) |(df['Bath'] > \n",
    "                                                                           (Q3_Bath + 1.5 * IQR_Bath)))]"
   ]
  },
  {
   "cell_type": "code",
   "execution_count": 76,
   "id": "dc7172b5",
   "metadata": {},
   "outputs": [],
   "source": [
    "df['Sqft'] = df['Sqft'][~((df['Sqft'] < (Q1_Sqft - 1.5 * IQR_Sqft)) |(df['Sqft'] > \n",
    "                                                                           (Q3_Sqft + 1.5 * IQR_Sqft)))]"
   ]
  },
  {
   "cell_type": "code",
   "execution_count": 77,
   "id": "55b6aaef",
   "metadata": {},
   "outputs": [],
   "source": [
    "df['HOA Due'] = df['HOA Due'][~((df['HOA Due'] < (Q1_HOA - 1.5 * IQR_HOA)) |(df['HOA Due'] > \n",
    "                                                                           (Q3_HOA + 1.5 * IQR_HOA)))]"
   ]
  },
  {
   "cell_type": "code",
   "execution_count": 78,
   "id": "5e7d25ab",
   "metadata": {},
   "outputs": [],
   "source": [
    "df['Lot Area'] = df['Lot Area'][~((df['Lot Area'] < (Q1_LotArea - 1.5 * IQR_LotArea)) |(df['Lot Area'] > \n",
    "                                                                           (Q3_LotArea + 1.5 * IQR_LotArea)))]"
   ]
  },
  {
   "cell_type": "code",
   "execution_count": 79,
   "id": "3e55c705",
   "metadata": {},
   "outputs": [],
   "source": [
    "df['Redfin_estimate'] = df['Redfin_estimate'][~((df['Redfin_estimate'] < (Q1_RedfinEstimate - 1.5 * IQR_RedfinEstimate)) |(df['Redfin_estimate'] > \n",
    "                                                                           (Q3_RedfinEstimate + 1.5 * IQR_RedfinEstimate)))]"
   ]
  },
  {
   "cell_type": "code",
   "execution_count": 80,
   "id": "71e618a8",
   "metadata": {},
   "outputs": [
    {
     "data": {
      "text/plain": [
       "State                    0\n",
       "County                   0\n",
       "City                     0\n",
       "Street                   0\n",
       "Zipcode                  0\n",
       "Property_Type            0\n",
       "Status                   0\n",
       "Price                   71\n",
       "Year_Built               0\n",
       "Beds                    11\n",
       "Bath                    35\n",
       "Sqft                    49\n",
       "Lot Area               161\n",
       "HOA Due                107\n",
       "School_rating            0\n",
       "WalkScore                0\n",
       "Bike_Score               0\n",
       "Garage_availability      0\n",
       "Redfin_estimate         77\n",
       "dtype: int64"
      ]
     },
     "execution_count": 80,
     "metadata": {},
     "output_type": "execute_result"
    }
   ],
   "source": [
    "df.isna().sum() #number of outliers removed"
   ]
  },
  {
   "cell_type": "code",
   "execution_count": 81,
   "id": "ec75f6f8",
   "metadata": {},
   "outputs": [
    {
     "data": {
      "text/html": [
       "<div>\n",
       "<style scoped>\n",
       "    .dataframe tbody tr th:only-of-type {\n",
       "        vertical-align: middle;\n",
       "    }\n",
       "\n",
       "    .dataframe tbody tr th {\n",
       "        vertical-align: top;\n",
       "    }\n",
       "\n",
       "    .dataframe thead th {\n",
       "        text-align: right;\n",
       "    }\n",
       "</style>\n",
       "<table border=\"1\" class=\"dataframe\">\n",
       "  <thead>\n",
       "    <tr style=\"text-align: right;\">\n",
       "      <th></th>\n",
       "      <th>State</th>\n",
       "      <th>County</th>\n",
       "      <th>City</th>\n",
       "      <th>Street</th>\n",
       "      <th>Zipcode</th>\n",
       "      <th>Property_Type</th>\n",
       "      <th>Status</th>\n",
       "      <th>Price</th>\n",
       "      <th>Year_Built</th>\n",
       "      <th>Beds</th>\n",
       "      <th>Bath</th>\n",
       "      <th>Sqft</th>\n",
       "      <th>Lot Area</th>\n",
       "      <th>HOA Due</th>\n",
       "      <th>School_rating</th>\n",
       "      <th>WalkScore</th>\n",
       "      <th>Bike_Score</th>\n",
       "      <th>Garage_availability</th>\n",
       "      <th>Redfin_estimate</th>\n",
       "    </tr>\n",
       "  </thead>\n",
       "  <tbody>\n",
       "    <tr>\n",
       "      <th>0</th>\n",
       "      <td>Ca</td>\n",
       "      <td>Contra-costa-county</td>\n",
       "      <td>Oakley</td>\n",
       "      <td>2537 talaria dr</td>\n",
       "      <td>94561</td>\n",
       "      <td>Single family residential</td>\n",
       "      <td>Back on market</td>\n",
       "      <td>649999.0</td>\n",
       "      <td>2014</td>\n",
       "      <td>3.0</td>\n",
       "      <td>2.5</td>\n",
       "      <td>2279.0</td>\n",
       "      <td>6228.0</td>\n",
       "      <td>114.0</td>\n",
       "      <td>6</td>\n",
       "      <td>6</td>\n",
       "      <td>35.0</td>\n",
       "      <td>Yes</td>\n",
       "      <td>655836.0</td>\n",
       "    </tr>\n",
       "    <tr>\n",
       "      <th>1</th>\n",
       "      <td>Ca</td>\n",
       "      <td>Contra-costa-county</td>\n",
       "      <td>Pleasant hill</td>\n",
       "      <td>66 kathryn dr</td>\n",
       "      <td>94523</td>\n",
       "      <td>Single family residential</td>\n",
       "      <td>Price change</td>\n",
       "      <td>998000.0</td>\n",
       "      <td>1952</td>\n",
       "      <td>3.0</td>\n",
       "      <td>1.0</td>\n",
       "      <td>1315.0</td>\n",
       "      <td>6650.0</td>\n",
       "      <td>0.0</td>\n",
       "      <td>8</td>\n",
       "      <td>83</td>\n",
       "      <td>76.0</td>\n",
       "      <td>Yes</td>\n",
       "      <td>1048496.0</td>\n",
       "    </tr>\n",
       "    <tr>\n",
       "      <th>2</th>\n",
       "      <td>Ca</td>\n",
       "      <td>Contra-costa-county</td>\n",
       "      <td>San ramon</td>\n",
       "      <td>3246 ensenada dr</td>\n",
       "      <td>94583</td>\n",
       "      <td>Single family residential</td>\n",
       "      <td>New</td>\n",
       "      <td>1395000.0</td>\n",
       "      <td>1976</td>\n",
       "      <td>4.0</td>\n",
       "      <td>2.5</td>\n",
       "      <td>1880.0</td>\n",
       "      <td>7000.0</td>\n",
       "      <td>0.0</td>\n",
       "      <td>9</td>\n",
       "      <td>26</td>\n",
       "      <td>67.0</td>\n",
       "      <td>Yes</td>\n",
       "      <td>1413765.0</td>\n",
       "    </tr>\n",
       "    <tr>\n",
       "      <th>5</th>\n",
       "      <td>Ca</td>\n",
       "      <td>Contra-costa-county</td>\n",
       "      <td>Rodeo</td>\n",
       "      <td>30 london ln</td>\n",
       "      <td>94572</td>\n",
       "      <td>Single family residential</td>\n",
       "      <td>New</td>\n",
       "      <td>1249000.0</td>\n",
       "      <td>2022</td>\n",
       "      <td>4.0</td>\n",
       "      <td>3.5</td>\n",
       "      <td>2996.0</td>\n",
       "      <td>4850.0</td>\n",
       "      <td>0.0</td>\n",
       "      <td>0</td>\n",
       "      <td>4</td>\n",
       "      <td>8.0</td>\n",
       "      <td>Yes</td>\n",
       "      <td>0.0</td>\n",
       "    </tr>\n",
       "    <tr>\n",
       "      <th>7</th>\n",
       "      <td>Ca</td>\n",
       "      <td>Contra-costa-county</td>\n",
       "      <td>Pittsburg</td>\n",
       "      <td>153 shannon</td>\n",
       "      <td>94565</td>\n",
       "      <td>Mobile/manufactured home</td>\n",
       "      <td>Active</td>\n",
       "      <td>159900.0</td>\n",
       "      <td>2022</td>\n",
       "      <td>2.0</td>\n",
       "      <td>1.0</td>\n",
       "      <td>720.0</td>\n",
       "      <td>8760.0</td>\n",
       "      <td>0.0</td>\n",
       "      <td>5</td>\n",
       "      <td>7</td>\n",
       "      <td>30.0</td>\n",
       "      <td>Yes</td>\n",
       "      <td>160645.0</td>\n",
       "    </tr>\n",
       "    <tr>\n",
       "      <th>...</th>\n",
       "      <td>...</td>\n",
       "      <td>...</td>\n",
       "      <td>...</td>\n",
       "      <td>...</td>\n",
       "      <td>...</td>\n",
       "      <td>...</td>\n",
       "      <td>...</td>\n",
       "      <td>...</td>\n",
       "      <td>...</td>\n",
       "      <td>...</td>\n",
       "      <td>...</td>\n",
       "      <td>...</td>\n",
       "      <td>...</td>\n",
       "      <td>...</td>\n",
       "      <td>...</td>\n",
       "      <td>...</td>\n",
       "      <td>...</td>\n",
       "      <td>...</td>\n",
       "      <td>...</td>\n",
       "    </tr>\n",
       "    <tr>\n",
       "      <th>1185</th>\n",
       "      <td>Ca</td>\n",
       "      <td>San-mateo-county</td>\n",
       "      <td>East palo alto</td>\n",
       "      <td>332 azalia dr</td>\n",
       "      <td>94303</td>\n",
       "      <td>Single family home</td>\n",
       "      <td>Active</td>\n",
       "      <td>1100000.0</td>\n",
       "      <td>1951</td>\n",
       "      <td>3.0</td>\n",
       "      <td>2.0</td>\n",
       "      <td>1130.0</td>\n",
       "      <td>5000.0</td>\n",
       "      <td>0.0</td>\n",
       "      <td>7</td>\n",
       "      <td>47</td>\n",
       "      <td>76.0</td>\n",
       "      <td>Yes</td>\n",
       "      <td>1098562.0</td>\n",
       "    </tr>\n",
       "    <tr>\n",
       "      <th>1188</th>\n",
       "      <td>Ca</td>\n",
       "      <td>San-mateo-county</td>\n",
       "      <td>Redwood city</td>\n",
       "      <td>327 g st</td>\n",
       "      <td>94063</td>\n",
       "      <td>Single family home</td>\n",
       "      <td>Active</td>\n",
       "      <td>1649000.0</td>\n",
       "      <td>1951</td>\n",
       "      <td>3.0</td>\n",
       "      <td>2.0</td>\n",
       "      <td>1244.0</td>\n",
       "      <td>5876.0</td>\n",
       "      <td>0.0</td>\n",
       "      <td>9</td>\n",
       "      <td>65</td>\n",
       "      <td>81.0</td>\n",
       "      <td>Yes</td>\n",
       "      <td>1674965.0</td>\n",
       "    </tr>\n",
       "    <tr>\n",
       "      <th>1190</th>\n",
       "      <td>Ca</td>\n",
       "      <td>San-mateo-county</td>\n",
       "      <td>Belmont</td>\n",
       "      <td>3322 plateau dr</td>\n",
       "      <td>94002</td>\n",
       "      <td>Single family home</td>\n",
       "      <td>Active</td>\n",
       "      <td>2488000.0</td>\n",
       "      <td>1966</td>\n",
       "      <td>6.0</td>\n",
       "      <td>3.0</td>\n",
       "      <td>2240.0</td>\n",
       "      <td>10290.0</td>\n",
       "      <td>0.0</td>\n",
       "      <td>9</td>\n",
       "      <td>9</td>\n",
       "      <td>19.0</td>\n",
       "      <td>Yes</td>\n",
       "      <td>2463021.0</td>\n",
       "    </tr>\n",
       "    <tr>\n",
       "      <th>1191</th>\n",
       "      <td>Ca</td>\n",
       "      <td>San-mateo-county</td>\n",
       "      <td>San mateo</td>\n",
       "      <td>102 waters park cir</td>\n",
       "      <td>94403</td>\n",
       "      <td>Townhouse</td>\n",
       "      <td>New</td>\n",
       "      <td>1463917.0</td>\n",
       "      <td>2021</td>\n",
       "      <td>2.0</td>\n",
       "      <td>2.5</td>\n",
       "      <td>1602.0</td>\n",
       "      <td>10290.0</td>\n",
       "      <td>350.0</td>\n",
       "      <td>7</td>\n",
       "      <td>48</td>\n",
       "      <td>75.0</td>\n",
       "      <td>Yes</td>\n",
       "      <td>1462581.0</td>\n",
       "    </tr>\n",
       "    <tr>\n",
       "      <th>1192</th>\n",
       "      <td>Ca</td>\n",
       "      <td>San-mateo-county</td>\n",
       "      <td>Foster city</td>\n",
       "      <td>1032 sanderling st</td>\n",
       "      <td>94404</td>\n",
       "      <td>Single family home</td>\n",
       "      <td>Active</td>\n",
       "      <td>1798000.0</td>\n",
       "      <td>1965</td>\n",
       "      <td>4.0</td>\n",
       "      <td>3.0</td>\n",
       "      <td>2450.0</td>\n",
       "      <td>5700.0</td>\n",
       "      <td>0.0</td>\n",
       "      <td>7</td>\n",
       "      <td>38</td>\n",
       "      <td>68.0</td>\n",
       "      <td>Yes</td>\n",
       "      <td>1841263.0</td>\n",
       "    </tr>\n",
       "  </tbody>\n",
       "</table>\n",
       "<p>886 rows × 19 columns</p>\n",
       "</div>"
      ],
      "text/plain": [
       "     State               County            City               Street Zipcode  \\\n",
       "0       Ca  Contra-costa-county          Oakley      2537 talaria dr   94561   \n",
       "1       Ca  Contra-costa-county   Pleasant hill        66 kathryn dr   94523   \n",
       "2       Ca  Contra-costa-county       San ramon     3246 ensenada dr   94583   \n",
       "5       Ca  Contra-costa-county           Rodeo         30 london ln   94572   \n",
       "7       Ca  Contra-costa-county       Pittsburg          153 shannon   94565   \n",
       "...    ...                  ...             ...                  ...     ...   \n",
       "1185    Ca     San-mateo-county  East palo alto        332 azalia dr   94303   \n",
       "1188    Ca     San-mateo-county    Redwood city             327 g st   94063   \n",
       "1190    Ca     San-mateo-county         Belmont      3322 plateau dr   94002   \n",
       "1191    Ca     San-mateo-county       San mateo  102 waters park cir   94403   \n",
       "1192    Ca     San-mateo-county     Foster city   1032 sanderling st   94404   \n",
       "\n",
       "                  Property_Type          Status      Price  Year_Built  Beds  \\\n",
       "0     Single family residential  Back on market   649999.0        2014   3.0   \n",
       "1     Single family residential    Price change   998000.0        1952   3.0   \n",
       "2     Single family residential             New  1395000.0        1976   4.0   \n",
       "5     Single family residential             New  1249000.0        2022   4.0   \n",
       "7      Mobile/manufactured home          Active   159900.0        2022   2.0   \n",
       "...                         ...             ...        ...         ...   ...   \n",
       "1185         Single family home          Active  1100000.0        1951   3.0   \n",
       "1188         Single family home          Active  1649000.0        1951   3.0   \n",
       "1190         Single family home          Active  2488000.0        1966   6.0   \n",
       "1191                  Townhouse             New  1463917.0        2021   2.0   \n",
       "1192         Single family home          Active  1798000.0        1965   4.0   \n",
       "\n",
       "      Bath    Sqft  Lot Area  HOA Due  School_rating  WalkScore  Bike_Score  \\\n",
       "0      2.5  2279.0    6228.0    114.0              6          6        35.0   \n",
       "1      1.0  1315.0    6650.0      0.0              8         83        76.0   \n",
       "2      2.5  1880.0    7000.0      0.0              9         26        67.0   \n",
       "5      3.5  2996.0    4850.0      0.0              0          4         8.0   \n",
       "7      1.0   720.0    8760.0      0.0              5          7        30.0   \n",
       "...    ...     ...       ...      ...            ...        ...         ...   \n",
       "1185   2.0  1130.0    5000.0      0.0              7         47        76.0   \n",
       "1188   2.0  1244.0    5876.0      0.0              9         65        81.0   \n",
       "1190   3.0  2240.0   10290.0      0.0              9          9        19.0   \n",
       "1191   2.5  1602.0   10290.0    350.0              7         48        75.0   \n",
       "1192   3.0  2450.0    5700.0      0.0              7         38        68.0   \n",
       "\n",
       "     Garage_availability  Redfin_estimate  \n",
       "0                    Yes         655836.0  \n",
       "1                    Yes        1048496.0  \n",
       "2                    Yes        1413765.0  \n",
       "5                    Yes              0.0  \n",
       "7                    Yes         160645.0  \n",
       "...                  ...              ...  \n",
       "1185                 Yes        1098562.0  \n",
       "1188                 Yes        1674965.0  \n",
       "1190                 Yes        2463021.0  \n",
       "1191                 Yes        1462581.0  \n",
       "1192                 Yes        1841263.0  \n",
       "\n",
       "[886 rows x 19 columns]"
      ]
     },
     "execution_count": 81,
     "metadata": {},
     "output_type": "execute_result"
    }
   ],
   "source": [
    "df = df.dropna() #removing the null values. The outliers were removed and replaced by null values\n",
    "df"
   ]
  },
  {
   "cell_type": "code",
   "execution_count": null,
   "id": "b325d876",
   "metadata": {},
   "outputs": [],
   "source": [
    "#Boxplot after removing outliers"
   ]
  },
  {
   "cell_type": "code",
   "execution_count": 82,
   "id": "0c32ffe4",
   "metadata": {},
   "outputs": [
    {
     "data": {
      "text/plain": [
       "<AxesSubplot:xlabel='Price'>"
      ]
     },
     "execution_count": 82,
     "metadata": {},
     "output_type": "execute_result"
    },
    {
     "data": {
      "image/png": "[encoded data removed]",
      "text/plain": [
       "<Figure size 432x288 with 1 Axes>"
      ]
     },
     "metadata": {
      "needs_background": "light"
     },
     "output_type": "display_data"
    }
   ],
   "source": [
    "sns.boxplot(x=df['Price'])"
   ]
  },
  {
   "cell_type": "code",
   "execution_count": 83,
   "id": "9f052d65",
   "metadata": {},
   "outputs": [
    {
     "data": {
      "text/plain": [
       "<AxesSubplot:xlabel='Beds'>"
      ]
     },
     "execution_count": 83,
     "metadata": {},
     "output_type": "execute_result"
    },
    {
     "data": {
      "image/png": "[encoded data removed]",
      "text/plain": [
       "<Figure size 432x288 with 1 Axes>"
      ]
     },
     "metadata": {
      "needs_background": "light"
     },
     "output_type": "display_data"
    }
   ],
   "source": [
    "sns.boxplot(x=df['Beds'])"
   ]
  },
  {
   "cell_type": "code",
   "execution_count": 84,
   "id": "140d8c69",
   "metadata": {},
   "outputs": [
    {
     "data": {
      "text/plain": [
       "<AxesSubplot:xlabel='Bath'>"
      ]
     },
     "execution_count": 84,
     "metadata": {},
     "output_type": "execute_result"
    },
    {
     "data": {
      "image/png": "[encoded data removed]",
      "text/plain": [
       "<Figure size 432x288 with 1 Axes>"
      ]
     },
     "metadata": {
      "needs_background": "light"
     },
     "output_type": "display_data"
    }
   ],
   "source": [
    "sns.boxplot(x=df['Bath'])"
   ]
  },
  {
   "cell_type": "code",
   "execution_count": 85,
   "id": "f5515697",
   "metadata": {},
   "outputs": [
    {
     "data": {
      "text/plain": [
       "<AxesSubplot:xlabel='Sqft'>"
      ]
     },
     "execution_count": 85,
     "metadata": {},
     "output_type": "execute_result"
    },
    {
     "data": {
      "image/png": "[encoded data removed]",
      "text/plain": [
       "<Figure size 432x288 with 1 Axes>"
      ]
     },
     "metadata": {
      "needs_background": "light"
     },
     "output_type": "display_data"
    }
   ],
   "source": [
    "sns.boxplot(x=df['Sqft'])"
   ]
  },
  {
   "cell_type": "code",
   "execution_count": 86,
   "id": "784e7bf9",
   "metadata": {},
   "outputs": [
    {
     "data": {
      "text/plain": [
       "<AxesSubplot:xlabel='HOA Due'>"
      ]
     },
     "execution_count": 86,
     "metadata": {},
     "output_type": "execute_result"
    },
    {
     "data": {
      "image/png": "[encoded data removed]",
      "text/plain": [
       "<Figure size 432x288 with 1 Axes>"
      ]
     },
     "metadata": {
      "needs_background": "light"
     },
     "output_type": "display_data"
    }
   ],
   "source": [
    "sns.boxplot(x=df['HOA Due'])"
   ]
  },
  {
   "cell_type": "code",
   "execution_count": 87,
   "id": "ce374cfc",
   "metadata": {},
   "outputs": [
    {
     "data": {
      "text/plain": [
       "<AxesSubplot:xlabel='Lot Area'>"
      ]
     },
     "execution_count": 87,
     "metadata": {},
     "output_type": "execute_result"
    },
    {
     "data": {
      "image/png": "[encoded data removed]",
      "text/plain": [
       "<Figure size 432x288 with 1 Axes>"
      ]
     },
     "metadata": {
      "needs_background": "light"
     },
     "output_type": "display_data"
    }
   ],
   "source": [
    "sns.boxplot(x=df['Lot Area'])"
   ]
  },
  {
   "cell_type": "code",
   "execution_count": 88,
   "id": "c2f84328",
   "metadata": {},
   "outputs": [
    {
     "data": {
      "text/plain": [
       "<AxesSubplot:xlabel='Redfin_estimate'>"
      ]
     },
     "execution_count": 88,
     "metadata": {},
     "output_type": "execute_result"
    },
    {
     "data": {
      "image/png": "[encoded data removed]",
      "text/plain": [
       "<Figure size 432x288 with 1 Axes>"
      ]
     },
     "metadata": {
      "needs_background": "light"
     },
     "output_type": "display_data"
    }
   ],
   "source": [
    "sns.boxplot(x=df['Redfin_estimate'])"
   ]
  },
  {
   "cell_type": "code",
   "execution_count": 89,
   "id": "f0f8e914",
   "metadata": {},
   "outputs": [],
   "source": [
    "#Exporting to csv"
   ]
  },
  {
   "cell_type": "code",
   "execution_count": 90,
   "id": "2c03ecfd",
   "metadata": {},
   "outputs": [],
   "source": [
    "df.to_csv('Dataset_AfterDataCleaningFinal.csv',index=False)"
   ]
  },
  {
   "cell_type": "code",
   "execution_count": 91,
   "id": "e781b942",
   "metadata": {},
   "outputs": [
    {
     "data": {
      "text/html": [
       "<div>\n",
       "<style scoped>\n",
       "    .dataframe tbody tr th:only-of-type {\n",
       "        vertical-align: middle;\n",
       "    }\n",
       "\n",
       "    .dataframe tbody tr th {\n",
       "        vertical-align: top;\n",
       "    }\n",
       "\n",
       "    .dataframe thead th {\n",
       "        text-align: right;\n",
       "    }\n",
       "</style>\n",
       "<table border=\"1\" class=\"dataframe\">\n",
       "  <thead>\n",
       "    <tr style=\"text-align: right;\">\n",
       "      <th></th>\n",
       "      <th>State</th>\n",
       "      <th>County</th>\n",
       "      <th>City</th>\n",
       "      <th>Street</th>\n",
       "      <th>Zipcode</th>\n",
       "      <th>Property_Type</th>\n",
       "      <th>Status</th>\n",
       "      <th>Price</th>\n",
       "      <th>Year_Built</th>\n",
       "      <th>Beds</th>\n",
       "      <th>Bath</th>\n",
       "      <th>Sqft</th>\n",
       "      <th>Lot Area</th>\n",
       "      <th>HOA Due</th>\n",
       "      <th>School_rating</th>\n",
       "      <th>WalkScore</th>\n",
       "      <th>Bike_Score</th>\n",
       "      <th>Garage_availability</th>\n",
       "      <th>Redfin_estimate</th>\n",
       "    </tr>\n",
       "  </thead>\n",
       "  <tbody>\n",
       "    <tr>\n",
       "      <th>0</th>\n",
       "      <td>Ca</td>\n",
       "      <td>Contra-costa-county</td>\n",
       "      <td>Oakley</td>\n",
       "      <td>2537 talaria dr</td>\n",
       "      <td>94561</td>\n",
       "      <td>Single family residential</td>\n",
       "      <td>Back on market</td>\n",
       "      <td>649999.0</td>\n",
       "      <td>2014</td>\n",
       "      <td>3.0</td>\n",
       "      <td>2.5</td>\n",
       "      <td>2279.0</td>\n",
       "      <td>6228.0</td>\n",
       "      <td>114.0</td>\n",
       "      <td>6</td>\n",
       "      <td>6</td>\n",
       "      <td>35.0</td>\n",
       "      <td>Yes</td>\n",
       "      <td>655836.0</td>\n",
       "    </tr>\n",
       "    <tr>\n",
       "      <th>1</th>\n",
       "      <td>Ca</td>\n",
       "      <td>Contra-costa-county</td>\n",
       "      <td>Pleasant hill</td>\n",
       "      <td>66 kathryn dr</td>\n",
       "      <td>94523</td>\n",
       "      <td>Single family residential</td>\n",
       "      <td>Price change</td>\n",
       "      <td>998000.0</td>\n",
       "      <td>1952</td>\n",
       "      <td>3.0</td>\n",
       "      <td>1.0</td>\n",
       "      <td>1315.0</td>\n",
       "      <td>6650.0</td>\n",
       "      <td>0.0</td>\n",
       "      <td>8</td>\n",
       "      <td>83</td>\n",
       "      <td>76.0</td>\n",
       "      <td>Yes</td>\n",
       "      <td>1048496.0</td>\n",
       "    </tr>\n",
       "    <tr>\n",
       "      <th>2</th>\n",
       "      <td>Ca</td>\n",
       "      <td>Contra-costa-county</td>\n",
       "      <td>San ramon</td>\n",
       "      <td>3246 ensenada dr</td>\n",
       "      <td>94583</td>\n",
       "      <td>Single family residential</td>\n",
       "      <td>New</td>\n",
       "      <td>1395000.0</td>\n",
       "      <td>1976</td>\n",
       "      <td>4.0</td>\n",
       "      <td>2.5</td>\n",
       "      <td>1880.0</td>\n",
       "      <td>7000.0</td>\n",
       "      <td>0.0</td>\n",
       "      <td>9</td>\n",
       "      <td>26</td>\n",
       "      <td>67.0</td>\n",
       "      <td>Yes</td>\n",
       "      <td>1413765.0</td>\n",
       "    </tr>\n",
       "    <tr>\n",
       "      <th>5</th>\n",
       "      <td>Ca</td>\n",
       "      <td>Contra-costa-county</td>\n",
       "      <td>Rodeo</td>\n",
       "      <td>30 london ln</td>\n",
       "      <td>94572</td>\n",
       "      <td>Single family residential</td>\n",
       "      <td>New</td>\n",
       "      <td>1249000.0</td>\n",
       "      <td>2022</td>\n",
       "      <td>4.0</td>\n",
       "      <td>3.5</td>\n",
       "      <td>2996.0</td>\n",
       "      <td>4850.0</td>\n",
       "      <td>0.0</td>\n",
       "      <td>0</td>\n",
       "      <td>4</td>\n",
       "      <td>8.0</td>\n",
       "      <td>Yes</td>\n",
       "      <td>0.0</td>\n",
       "    </tr>\n",
       "    <tr>\n",
       "      <th>7</th>\n",
       "      <td>Ca</td>\n",
       "      <td>Contra-costa-county</td>\n",
       "      <td>Pittsburg</td>\n",
       "      <td>153 shannon</td>\n",
       "      <td>94565</td>\n",
       "      <td>Mobile/manufactured home</td>\n",
       "      <td>Active</td>\n",
       "      <td>159900.0</td>\n",
       "      <td>2022</td>\n",
       "      <td>2.0</td>\n",
       "      <td>1.0</td>\n",
       "      <td>720.0</td>\n",
       "      <td>8760.0</td>\n",
       "      <td>0.0</td>\n",
       "      <td>5</td>\n",
       "      <td>7</td>\n",
       "      <td>30.0</td>\n",
       "      <td>Yes</td>\n",
       "      <td>160645.0</td>\n",
       "    </tr>\n",
       "    <tr>\n",
       "      <th>...</th>\n",
       "      <td>...</td>\n",
       "      <td>...</td>\n",
       "      <td>...</td>\n",
       "      <td>...</td>\n",
       "      <td>...</td>\n",
       "      <td>...</td>\n",
       "      <td>...</td>\n",
       "      <td>...</td>\n",
       "      <td>...</td>\n",
       "      <td>...</td>\n",
       "      <td>...</td>\n",
       "      <td>...</td>\n",
       "      <td>...</td>\n",
       "      <td>...</td>\n",
       "      <td>...</td>\n",
       "      <td>...</td>\n",
       "      <td>...</td>\n",
       "      <td>...</td>\n",
       "      <td>...</td>\n",
       "    </tr>\n",
       "    <tr>\n",
       "      <th>1185</th>\n",
       "      <td>Ca</td>\n",
       "      <td>San-mateo-county</td>\n",
       "      <td>East palo alto</td>\n",
       "      <td>332 azalia dr</td>\n",
       "      <td>94303</td>\n",
       "      <td>Single family home</td>\n",
       "      <td>Active</td>\n",
       "      <td>1100000.0</td>\n",
       "      <td>1951</td>\n",
       "      <td>3.0</td>\n",
       "      <td>2.0</td>\n",
       "      <td>1130.0</td>\n",
       "      <td>5000.0</td>\n",
       "      <td>0.0</td>\n",
       "      <td>7</td>\n",
       "      <td>47</td>\n",
       "      <td>76.0</td>\n",
       "      <td>Yes</td>\n",
       "      <td>1098562.0</td>\n",
       "    </tr>\n",
       "    <tr>\n",
       "      <th>1188</th>\n",
       "      <td>Ca</td>\n",
       "      <td>San-mateo-county</td>\n",
       "      <td>Redwood city</td>\n",
       "      <td>327 g st</td>\n",
       "      <td>94063</td>\n",
       "      <td>Single family home</td>\n",
       "      <td>Active</td>\n",
       "      <td>1649000.0</td>\n",
       "      <td>1951</td>\n",
       "      <td>3.0</td>\n",
       "      <td>2.0</td>\n",
       "      <td>1244.0</td>\n",
       "      <td>5876.0</td>\n",
       "      <td>0.0</td>\n",
       "      <td>9</td>\n",
       "      <td>65</td>\n",
       "      <td>81.0</td>\n",
       "      <td>Yes</td>\n",
       "      <td>1674965.0</td>\n",
       "    </tr>\n",
       "    <tr>\n",
       "      <th>1190</th>\n",
       "      <td>Ca</td>\n",
       "      <td>San-mateo-county</td>\n",
       "      <td>Belmont</td>\n",
       "      <td>3322 plateau dr</td>\n",
       "      <td>94002</td>\n",
       "      <td>Single family home</td>\n",
       "      <td>Active</td>\n",
       "      <td>2488000.0</td>\n",
       "      <td>1966</td>\n",
       "      <td>6.0</td>\n",
       "      <td>3.0</td>\n",
       "      <td>2240.0</td>\n",
       "      <td>10290.0</td>\n",
       "      <td>0.0</td>\n",
       "      <td>9</td>\n",
       "      <td>9</td>\n",
       "      <td>19.0</td>\n",
       "      <td>Yes</td>\n",
       "      <td>2463021.0</td>\n",
       "    </tr>\n",
       "    <tr>\n",
       "      <th>1191</th>\n",
       "      <td>Ca</td>\n",
       "      <td>San-mateo-county</td>\n",
       "      <td>San mateo</td>\n",
       "      <td>102 waters park cir</td>\n",
       "      <td>94403</td>\n",
       "      <td>Townhouse</td>\n",
       "      <td>New</td>\n",
       "      <td>1463917.0</td>\n",
       "      <td>2021</td>\n",
       "      <td>2.0</td>\n",
       "      <td>2.5</td>\n",
       "      <td>1602.0</td>\n",
       "      <td>10290.0</td>\n",
       "      <td>350.0</td>\n",
       "      <td>7</td>\n",
       "      <td>48</td>\n",
       "      <td>75.0</td>\n",
       "      <td>Yes</td>\n",
       "      <td>1462581.0</td>\n",
       "    </tr>\n",
       "    <tr>\n",
       "      <th>1192</th>\n",
       "      <td>Ca</td>\n",
       "      <td>San-mateo-county</td>\n",
       "      <td>Foster city</td>\n",
       "      <td>1032 sanderling st</td>\n",
       "      <td>94404</td>\n",
       "      <td>Single family home</td>\n",
       "      <td>Active</td>\n",
       "      <td>1798000.0</td>\n",
       "      <td>1965</td>\n",
       "      <td>4.0</td>\n",
       "      <td>3.0</td>\n",
       "      <td>2450.0</td>\n",
       "      <td>5700.0</td>\n",
       "      <td>0.0</td>\n",
       "      <td>7</td>\n",
       "      <td>38</td>\n",
       "      <td>68.0</td>\n",
       "      <td>Yes</td>\n",
       "      <td>1841263.0</td>\n",
       "    </tr>\n",
       "  </tbody>\n",
       "</table>\n",
       "<p>886 rows × 19 columns</p>\n",
       "</div>"
      ],
      "text/plain": [
       "     State               County            City               Street Zipcode  \\\n",
       "0       Ca  Contra-costa-county          Oakley      2537 talaria dr   94561   \n",
       "1       Ca  Contra-costa-county   Pleasant hill        66 kathryn dr   94523   \n",
       "2       Ca  Contra-costa-county       San ramon     3246 ensenada dr   94583   \n",
       "5       Ca  Contra-costa-county           Rodeo         30 london ln   94572   \n",
       "7       Ca  Contra-costa-county       Pittsburg          153 shannon   94565   \n",
       "...    ...                  ...             ...                  ...     ...   \n",
       "1185    Ca     San-mateo-county  East palo alto        332 azalia dr   94303   \n",
       "1188    Ca     San-mateo-county    Redwood city             327 g st   94063   \n",
       "1190    Ca     San-mateo-county         Belmont      3322 plateau dr   94002   \n",
       "1191    Ca     San-mateo-county       San mateo  102 waters park cir   94403   \n",
       "1192    Ca     San-mateo-county     Foster city   1032 sanderling st   94404   \n",
       "\n",
       "                  Property_Type          Status      Price  Year_Built  Beds  \\\n",
       "0     Single family residential  Back on market   649999.0        2014   3.0   \n",
       "1     Single family residential    Price change   998000.0        1952   3.0   \n",
       "2     Single family residential             New  1395000.0        1976   4.0   \n",
       "5     Single family residential             New  1249000.0        2022   4.0   \n",
       "7      Mobile/manufactured home          Active   159900.0        2022   2.0   \n",
       "...                         ...             ...        ...         ...   ...   \n",
       "1185         Single family home          Active  1100000.0        1951   3.0   \n",
       "1188         Single family home          Active  1649000.0        1951   3.0   \n",
       "1190         Single family home          Active  2488000.0        1966   6.0   \n",
       "1191                  Townhouse             New  1463917.0        2021   2.0   \n",
       "1192         Single family home          Active  1798000.0        1965   4.0   \n",
       "\n",
       "      Bath    Sqft  Lot Area  HOA Due  School_rating  WalkScore  Bike_Score  \\\n",
       "0      2.5  2279.0    6228.0    114.0              6          6        35.0   \n",
       "1      1.0  1315.0    6650.0      0.0              8         83        76.0   \n",
       "2      2.5  1880.0    7000.0      0.0              9         26        67.0   \n",
       "5      3.5  2996.0    4850.0      0.0              0          4         8.0   \n",
       "7      1.0   720.0    8760.0      0.0              5          7        30.0   \n",
       "...    ...     ...       ...      ...            ...        ...         ...   \n",
       "1185   2.0  1130.0    5000.0      0.0              7         47        76.0   \n",
       "1188   2.0  1244.0    5876.0      0.0              9         65        81.0   \n",
       "1190   3.0  2240.0   10290.0      0.0              9          9        19.0   \n",
       "1191   2.5  1602.0   10290.0    350.0              7         48        75.0   \n",
       "1192   3.0  2450.0    5700.0      0.0              7         38        68.0   \n",
       "\n",
       "     Garage_availability  Redfin_estimate  \n",
       "0                    Yes         655836.0  \n",
       "1                    Yes        1048496.0  \n",
       "2                    Yes        1413765.0  \n",
       "5                    Yes              0.0  \n",
       "7                    Yes         160645.0  \n",
       "...                  ...              ...  \n",
       "1185                 Yes        1098562.0  \n",
       "1188                 Yes        1674965.0  \n",
       "1190                 Yes        2463021.0  \n",
       "1191                 Yes        1462581.0  \n",
       "1192                 Yes        1841263.0  \n",
       "\n",
       "[886 rows x 19 columns]"
      ]
     },
     "execution_count": 91,
     "metadata": {},
     "output_type": "execute_result"
    }
   ],
   "source": [
    "df"
   ]
  },
  {
   "cell_type": "code",
   "execution_count": null,
   "id": "8c0615a1",
   "metadata": {},
   "outputs": [],
   "source": []
  }
 ],
 "metadata": {
  "kernelspec": {
   "display_name": "Python 3 (ipykernel)",
   "language": "python",
   "name": "python3"
  },
  "language_info": {
   "codemirror_mode": {
    "name": "ipython",
    "version": 3
   },
   "file_extension": ".py",
   "mimetype": "text/x-python",
   "name": "python",
   "nbconvert_exporter": "python",
   "pygments_lexer": "ipython3",
   "version": "3.10.9"
  }
 },
 "nbformat": 4,
 "nbformat_minor": 5
}
